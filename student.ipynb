{
 "cells": [
  {
   "cell_type": "markdown",
   "metadata": {},
   "source": [
    "## Final Project Submission\n",
    "\n",
    "Please fill out:\n",
    "* Student name: James Benedito\n",
    "* Student pace: Part Time\n",
    "* Instructor name: Morgan Jones"
   ]
  },
  {
   "cell_type": "markdown",
   "metadata": {},
   "source": [
    "## Introduction\n",
    "\n",
    "When purchasing a house, everyone has their non-negotiables. Some people want a big kitchen or backyard. Others may want a basement or 'x' amount of bathrooms. In this Jupyter notebook, I will explore the different variables that impact a home's value. The information in this analysis will be applicable to homeowners who are interested in selling their house, but want to perform renovations on it to increase its market value."
   ]
  },
  {
   "cell_type": "markdown",
   "metadata": {},
   "source": [
    "## Business Problem\n",
    "\n",
    "King County is a county located in Washington state with a population of approximately 2.2 million people, according to the 2022 US Census. As of 2021, the median household income is about $106,000 (https://www.census.gov/quickfacts/kingcountywashington).\n",
    "\n",
    "A theoretical real estate company in King County has a group of clients looking to sell their homes. They want to be informed and know the factors that increase a house's value; that way, they're aware of the types of renovations to focus on before putting their houses on the market. My data analysis will bring light to the variables that are most impactful to a home's sale price in King County and will thus inform this company and their clients on the types of renovations they should target."
   ]
  },
  {
   "cell_type": "markdown",
   "metadata": {},
   "source": [
    "## Goal\n",
    "\n",
    "My goal is to come up with concrete suggestions based on a multiple linear regression analysis. The final linear regression model will include the variables that are most impactful to a house's sale price, which will serve as the dependent variable of interest throughout the entire exploration process. In other words, the independent variables in my final model will be those that are the best predictors of a house's sale price (the dependent variable). "
   ]
  },
  {
   "cell_type": "markdown",
   "metadata": {},
   "source": [
    "## Dataset\n",
    "\n",
    "The dataset I am using for the analysis is <b>kc_house_data.csv</b>. This dataset includes data on houses in King County, which is where the clients are located."
   ]
  },
  {
   "cell_type": "markdown",
   "metadata": {},
   "source": [
    "## Data Exploration\n",
    "\n",
    "I will begin by exploring the dataset, using the <b>.head()</b> method to visualize the first five rows in a table format. Furthermore, I will use the <b>.info()</b> and <b>.describe()</b> methods to get a better understanding of the overall dataset."
   ]
  },
  {
   "cell_type": "code",
   "execution_count": 1,
   "metadata": {},
   "outputs": [],
   "source": [
    "# importing relevant packages\n",
    "import matplotlib.pyplot as plt\n",
    "import numpy as np\n",
    "import pandas as pd\n",
    "import scipy.stats as stats\n",
    "import seaborn as sns\n",
    "import statsmodels.api as sm\n",
    "%matplotlib inline"
   ]
  },
  {
   "cell_type": "code",
   "execution_count": 2,
   "metadata": {
    "scrolled": true
   },
   "outputs": [
    {
     "data": {
      "text/html": [
       "<div>\n",
       "<style scoped>\n",
       "    .dataframe tbody tr th:only-of-type {\n",
       "        vertical-align: middle;\n",
       "    }\n",
       "\n",
       "    .dataframe tbody tr th {\n",
       "        vertical-align: top;\n",
       "    }\n",
       "\n",
       "    .dataframe thead th {\n",
       "        text-align: right;\n",
       "    }\n",
       "</style>\n",
       "<table border=\"1\" class=\"dataframe\">\n",
       "  <thead>\n",
       "    <tr style=\"text-align: right;\">\n",
       "      <th></th>\n",
       "      <th>id</th>\n",
       "      <th>date</th>\n",
       "      <th>price</th>\n",
       "      <th>bedrooms</th>\n",
       "      <th>bathrooms</th>\n",
       "      <th>sqft_living</th>\n",
       "      <th>sqft_lot</th>\n",
       "      <th>floors</th>\n",
       "      <th>waterfront</th>\n",
       "      <th>greenbelt</th>\n",
       "      <th>...</th>\n",
       "      <th>sewer_system</th>\n",
       "      <th>sqft_above</th>\n",
       "      <th>sqft_basement</th>\n",
       "      <th>sqft_garage</th>\n",
       "      <th>sqft_patio</th>\n",
       "      <th>yr_built</th>\n",
       "      <th>yr_renovated</th>\n",
       "      <th>address</th>\n",
       "      <th>lat</th>\n",
       "      <th>long</th>\n",
       "    </tr>\n",
       "  </thead>\n",
       "  <tbody>\n",
       "    <tr>\n",
       "      <th>0</th>\n",
       "      <td>7399300360</td>\n",
       "      <td>5/24/2022</td>\n",
       "      <td>675000.0</td>\n",
       "      <td>4</td>\n",
       "      <td>1.0</td>\n",
       "      <td>1180</td>\n",
       "      <td>7140</td>\n",
       "      <td>1.0</td>\n",
       "      <td>NO</td>\n",
       "      <td>NO</td>\n",
       "      <td>...</td>\n",
       "      <td>PUBLIC</td>\n",
       "      <td>1180</td>\n",
       "      <td>0</td>\n",
       "      <td>0</td>\n",
       "      <td>40</td>\n",
       "      <td>1969</td>\n",
       "      <td>0</td>\n",
       "      <td>2102 Southeast 21st Court, Renton, Washington ...</td>\n",
       "      <td>47.461975</td>\n",
       "      <td>-122.19052</td>\n",
       "    </tr>\n",
       "    <tr>\n",
       "      <th>1</th>\n",
       "      <td>8910500230</td>\n",
       "      <td>12/13/2021</td>\n",
       "      <td>920000.0</td>\n",
       "      <td>5</td>\n",
       "      <td>2.5</td>\n",
       "      <td>2770</td>\n",
       "      <td>6703</td>\n",
       "      <td>1.0</td>\n",
       "      <td>NO</td>\n",
       "      <td>NO</td>\n",
       "      <td>...</td>\n",
       "      <td>PUBLIC</td>\n",
       "      <td>1570</td>\n",
       "      <td>1570</td>\n",
       "      <td>0</td>\n",
       "      <td>240</td>\n",
       "      <td>1950</td>\n",
       "      <td>0</td>\n",
       "      <td>11231 Greenwood Avenue North, Seattle, Washing...</td>\n",
       "      <td>47.711525</td>\n",
       "      <td>-122.35591</td>\n",
       "    </tr>\n",
       "    <tr>\n",
       "      <th>2</th>\n",
       "      <td>1180000275</td>\n",
       "      <td>9/29/2021</td>\n",
       "      <td>311000.0</td>\n",
       "      <td>6</td>\n",
       "      <td>2.0</td>\n",
       "      <td>2880</td>\n",
       "      <td>6156</td>\n",
       "      <td>1.0</td>\n",
       "      <td>NO</td>\n",
       "      <td>NO</td>\n",
       "      <td>...</td>\n",
       "      <td>PUBLIC</td>\n",
       "      <td>1580</td>\n",
       "      <td>1580</td>\n",
       "      <td>0</td>\n",
       "      <td>0</td>\n",
       "      <td>1956</td>\n",
       "      <td>0</td>\n",
       "      <td>8504 South 113th Street, Seattle, Washington 9...</td>\n",
       "      <td>47.502045</td>\n",
       "      <td>-122.22520</td>\n",
       "    </tr>\n",
       "    <tr>\n",
       "      <th>3</th>\n",
       "      <td>1604601802</td>\n",
       "      <td>12/14/2021</td>\n",
       "      <td>775000.0</td>\n",
       "      <td>3</td>\n",
       "      <td>3.0</td>\n",
       "      <td>2160</td>\n",
       "      <td>1400</td>\n",
       "      <td>2.0</td>\n",
       "      <td>NO</td>\n",
       "      <td>NO</td>\n",
       "      <td>...</td>\n",
       "      <td>PUBLIC</td>\n",
       "      <td>1090</td>\n",
       "      <td>1070</td>\n",
       "      <td>200</td>\n",
       "      <td>270</td>\n",
       "      <td>2010</td>\n",
       "      <td>0</td>\n",
       "      <td>4079 Letitia Avenue South, Seattle, Washington...</td>\n",
       "      <td>47.566110</td>\n",
       "      <td>-122.29020</td>\n",
       "    </tr>\n",
       "    <tr>\n",
       "      <th>4</th>\n",
       "      <td>8562780790</td>\n",
       "      <td>8/24/2021</td>\n",
       "      <td>592500.0</td>\n",
       "      <td>2</td>\n",
       "      <td>2.0</td>\n",
       "      <td>1120</td>\n",
       "      <td>758</td>\n",
       "      <td>2.0</td>\n",
       "      <td>NO</td>\n",
       "      <td>NO</td>\n",
       "      <td>...</td>\n",
       "      <td>PUBLIC</td>\n",
       "      <td>1120</td>\n",
       "      <td>550</td>\n",
       "      <td>550</td>\n",
       "      <td>30</td>\n",
       "      <td>2012</td>\n",
       "      <td>0</td>\n",
       "      <td>2193 Northwest Talus Drive, Issaquah, Washingt...</td>\n",
       "      <td>47.532470</td>\n",
       "      <td>-122.07188</td>\n",
       "    </tr>\n",
       "  </tbody>\n",
       "</table>\n",
       "<p>5 rows × 25 columns</p>\n",
       "</div>"
      ],
      "text/plain": [
       "           id        date     price  bedrooms  bathrooms  sqft_living  \\\n",
       "0  7399300360   5/24/2022  675000.0         4        1.0         1180   \n",
       "1  8910500230  12/13/2021  920000.0         5        2.5         2770   \n",
       "2  1180000275   9/29/2021  311000.0         6        2.0         2880   \n",
       "3  1604601802  12/14/2021  775000.0         3        3.0         2160   \n",
       "4  8562780790   8/24/2021  592500.0         2        2.0         1120   \n",
       "\n",
       "   sqft_lot  floors waterfront greenbelt  ... sewer_system sqft_above  \\\n",
       "0      7140     1.0         NO        NO  ...       PUBLIC       1180   \n",
       "1      6703     1.0         NO        NO  ...       PUBLIC       1570   \n",
       "2      6156     1.0         NO        NO  ...       PUBLIC       1580   \n",
       "3      1400     2.0         NO        NO  ...       PUBLIC       1090   \n",
       "4       758     2.0         NO        NO  ...       PUBLIC       1120   \n",
       "\n",
       "  sqft_basement sqft_garage sqft_patio yr_built  yr_renovated  \\\n",
       "0             0           0         40     1969             0   \n",
       "1          1570           0        240     1950             0   \n",
       "2          1580           0          0     1956             0   \n",
       "3          1070         200        270     2010             0   \n",
       "4           550         550         30     2012             0   \n",
       "\n",
       "                                             address        lat       long  \n",
       "0  2102 Southeast 21st Court, Renton, Washington ...  47.461975 -122.19052  \n",
       "1  11231 Greenwood Avenue North, Seattle, Washing...  47.711525 -122.35591  \n",
       "2  8504 South 113th Street, Seattle, Washington 9...  47.502045 -122.22520  \n",
       "3  4079 Letitia Avenue South, Seattle, Washington...  47.566110 -122.29020  \n",
       "4  2193 Northwest Talus Drive, Issaquah, Washingt...  47.532470 -122.07188  \n",
       "\n",
       "[5 rows x 25 columns]"
      ]
     },
     "execution_count": 2,
     "metadata": {},
     "output_type": "execute_result"
    }
   ],
   "source": [
    "# reading data through pandas\n",
    "house_data = pd.read_csv('data\\\\kc_house_data.csv')\n",
    "house_data.head()"
   ]
  },
  {
   "cell_type": "code",
   "execution_count": 3,
   "metadata": {},
   "outputs": [
    {
     "name": "stdout",
     "output_type": "stream",
     "text": [
      "<class 'pandas.core.frame.DataFrame'>\n",
      "RangeIndex: 30155 entries, 0 to 30154\n",
      "Data columns (total 25 columns):\n",
      " #   Column         Non-Null Count  Dtype  \n",
      "---  ------         --------------  -----  \n",
      " 0   id             30155 non-null  int64  \n",
      " 1   date           30155 non-null  object \n",
      " 2   price          30155 non-null  float64\n",
      " 3   bedrooms       30155 non-null  int64  \n",
      " 4   bathrooms      30155 non-null  float64\n",
      " 5   sqft_living    30155 non-null  int64  \n",
      " 6   sqft_lot       30155 non-null  int64  \n",
      " 7   floors         30155 non-null  float64\n",
      " 8   waterfront     30155 non-null  object \n",
      " 9   greenbelt      30155 non-null  object \n",
      " 10  nuisance       30155 non-null  object \n",
      " 11  view           30155 non-null  object \n",
      " 12  condition      30155 non-null  object \n",
      " 13  grade          30155 non-null  object \n",
      " 14  heat_source    30123 non-null  object \n",
      " 15  sewer_system   30141 non-null  object \n",
      " 16  sqft_above     30155 non-null  int64  \n",
      " 17  sqft_basement  30155 non-null  int64  \n",
      " 18  sqft_garage    30155 non-null  int64  \n",
      " 19  sqft_patio     30155 non-null  int64  \n",
      " 20  yr_built       30155 non-null  int64  \n",
      " 21  yr_renovated   30155 non-null  int64  \n",
      " 22  address        30155 non-null  object \n",
      " 23  lat            30155 non-null  float64\n",
      " 24  long           30155 non-null  float64\n",
      "dtypes: float64(5), int64(10), object(10)\n",
      "memory usage: 5.8+ MB\n"
     ]
    }
   ],
   "source": [
    "# initial exploration of the dataset\n",
    "house_data.info()"
   ]
  },
  {
   "cell_type": "markdown",
   "metadata": {},
   "source": [
    "From the <b>.info()</b> method, we see that there are 25 columns and over 30,000 entries in the dataset. The <b>heat_source</b> and <b>sewer_system</b> columns have missing values. In terms of dtype, the dataset contains a mix of integers, float values, and objects (strings). "
   ]
  },
  {
   "cell_type": "code",
   "execution_count": 4,
   "metadata": {},
   "outputs": [
    {
     "data": {
      "text/html": [
       "<div>\n",
       "<style scoped>\n",
       "    .dataframe tbody tr th:only-of-type {\n",
       "        vertical-align: middle;\n",
       "    }\n",
       "\n",
       "    .dataframe tbody tr th {\n",
       "        vertical-align: top;\n",
       "    }\n",
       "\n",
       "    .dataframe thead th {\n",
       "        text-align: right;\n",
       "    }\n",
       "</style>\n",
       "<table border=\"1\" class=\"dataframe\">\n",
       "  <thead>\n",
       "    <tr style=\"text-align: right;\">\n",
       "      <th></th>\n",
       "      <th>id</th>\n",
       "      <th>price</th>\n",
       "      <th>bedrooms</th>\n",
       "      <th>bathrooms</th>\n",
       "      <th>sqft_living</th>\n",
       "      <th>sqft_lot</th>\n",
       "      <th>floors</th>\n",
       "      <th>sqft_above</th>\n",
       "      <th>sqft_basement</th>\n",
       "      <th>sqft_garage</th>\n",
       "      <th>sqft_patio</th>\n",
       "      <th>yr_built</th>\n",
       "      <th>yr_renovated</th>\n",
       "      <th>lat</th>\n",
       "      <th>long</th>\n",
       "    </tr>\n",
       "  </thead>\n",
       "  <tbody>\n",
       "    <tr>\n",
       "      <th>count</th>\n",
       "      <td>3.015500e+04</td>\n",
       "      <td>3.015500e+04</td>\n",
       "      <td>30155.000000</td>\n",
       "      <td>30155.000000</td>\n",
       "      <td>30155.000000</td>\n",
       "      <td>3.015500e+04</td>\n",
       "      <td>30155.000000</td>\n",
       "      <td>30155.000000</td>\n",
       "      <td>30155.000000</td>\n",
       "      <td>30155.000000</td>\n",
       "      <td>30155.000000</td>\n",
       "      <td>30155.000000</td>\n",
       "      <td>30155.000000</td>\n",
       "      <td>30155.000000</td>\n",
       "      <td>30155.000000</td>\n",
       "    </tr>\n",
       "    <tr>\n",
       "      <th>mean</th>\n",
       "      <td>4.538104e+09</td>\n",
       "      <td>1.108536e+06</td>\n",
       "      <td>3.413530</td>\n",
       "      <td>2.334737</td>\n",
       "      <td>2112.424739</td>\n",
       "      <td>1.672360e+04</td>\n",
       "      <td>1.543492</td>\n",
       "      <td>1809.826098</td>\n",
       "      <td>476.039396</td>\n",
       "      <td>330.211142</td>\n",
       "      <td>217.412038</td>\n",
       "      <td>1975.163953</td>\n",
       "      <td>90.922301</td>\n",
       "      <td>47.328076</td>\n",
       "      <td>-121.317397</td>\n",
       "    </tr>\n",
       "    <tr>\n",
       "      <th>std</th>\n",
       "      <td>2.882587e+09</td>\n",
       "      <td>8.963857e+05</td>\n",
       "      <td>0.981612</td>\n",
       "      <td>0.889556</td>\n",
       "      <td>974.044318</td>\n",
       "      <td>6.038260e+04</td>\n",
       "      <td>0.567717</td>\n",
       "      <td>878.306131</td>\n",
       "      <td>579.631302</td>\n",
       "      <td>285.770536</td>\n",
       "      <td>245.302792</td>\n",
       "      <td>32.067362</td>\n",
       "      <td>416.473038</td>\n",
       "      <td>1.434005</td>\n",
       "      <td>5.725475</td>\n",
       "    </tr>\n",
       "    <tr>\n",
       "      <th>min</th>\n",
       "      <td>1.000055e+06</td>\n",
       "      <td>2.736000e+04</td>\n",
       "      <td>0.000000</td>\n",
       "      <td>0.000000</td>\n",
       "      <td>3.000000</td>\n",
       "      <td>4.020000e+02</td>\n",
       "      <td>1.000000</td>\n",
       "      <td>2.000000</td>\n",
       "      <td>0.000000</td>\n",
       "      <td>0.000000</td>\n",
       "      <td>0.000000</td>\n",
       "      <td>1900.000000</td>\n",
       "      <td>0.000000</td>\n",
       "      <td>21.274240</td>\n",
       "      <td>-157.791480</td>\n",
       "    </tr>\n",
       "    <tr>\n",
       "      <th>25%</th>\n",
       "      <td>2.064175e+09</td>\n",
       "      <td>6.480000e+05</td>\n",
       "      <td>3.000000</td>\n",
       "      <td>2.000000</td>\n",
       "      <td>1420.000000</td>\n",
       "      <td>4.850000e+03</td>\n",
       "      <td>1.000000</td>\n",
       "      <td>1180.000000</td>\n",
       "      <td>0.000000</td>\n",
       "      <td>0.000000</td>\n",
       "      <td>40.000000</td>\n",
       "      <td>1953.000000</td>\n",
       "      <td>0.000000</td>\n",
       "      <td>47.405320</td>\n",
       "      <td>-122.326045</td>\n",
       "    </tr>\n",
       "    <tr>\n",
       "      <th>50%</th>\n",
       "      <td>3.874011e+09</td>\n",
       "      <td>8.600000e+05</td>\n",
       "      <td>3.000000</td>\n",
       "      <td>2.500000</td>\n",
       "      <td>1920.000000</td>\n",
       "      <td>7.480000e+03</td>\n",
       "      <td>1.500000</td>\n",
       "      <td>1560.000000</td>\n",
       "      <td>0.000000</td>\n",
       "      <td>400.000000</td>\n",
       "      <td>150.000000</td>\n",
       "      <td>1977.000000</td>\n",
       "      <td>0.000000</td>\n",
       "      <td>47.551380</td>\n",
       "      <td>-122.225585</td>\n",
       "    </tr>\n",
       "    <tr>\n",
       "      <th>75%</th>\n",
       "      <td>7.287100e+09</td>\n",
       "      <td>1.300000e+06</td>\n",
       "      <td>4.000000</td>\n",
       "      <td>3.000000</td>\n",
       "      <td>2619.500000</td>\n",
       "      <td>1.057900e+04</td>\n",
       "      <td>2.000000</td>\n",
       "      <td>2270.000000</td>\n",
       "      <td>940.000000</td>\n",
       "      <td>510.000000</td>\n",
       "      <td>320.000000</td>\n",
       "      <td>2003.000000</td>\n",
       "      <td>0.000000</td>\n",
       "      <td>47.669913</td>\n",
       "      <td>-122.116205</td>\n",
       "    </tr>\n",
       "    <tr>\n",
       "      <th>max</th>\n",
       "      <td>9.904000e+09</td>\n",
       "      <td>3.075000e+07</td>\n",
       "      <td>13.000000</td>\n",
       "      <td>10.500000</td>\n",
       "      <td>15360.000000</td>\n",
       "      <td>3.253932e+06</td>\n",
       "      <td>4.000000</td>\n",
       "      <td>12660.000000</td>\n",
       "      <td>8020.000000</td>\n",
       "      <td>3580.000000</td>\n",
       "      <td>4370.000000</td>\n",
       "      <td>2022.000000</td>\n",
       "      <td>2022.000000</td>\n",
       "      <td>64.824070</td>\n",
       "      <td>-70.074340</td>\n",
       "    </tr>\n",
       "  </tbody>\n",
       "</table>\n",
       "</div>"
      ],
      "text/plain": [
       "                 id         price      bedrooms     bathrooms   sqft_living  \\\n",
       "count  3.015500e+04  3.015500e+04  30155.000000  30155.000000  30155.000000   \n",
       "mean   4.538104e+09  1.108536e+06      3.413530      2.334737   2112.424739   \n",
       "std    2.882587e+09  8.963857e+05      0.981612      0.889556    974.044318   \n",
       "min    1.000055e+06  2.736000e+04      0.000000      0.000000      3.000000   \n",
       "25%    2.064175e+09  6.480000e+05      3.000000      2.000000   1420.000000   \n",
       "50%    3.874011e+09  8.600000e+05      3.000000      2.500000   1920.000000   \n",
       "75%    7.287100e+09  1.300000e+06      4.000000      3.000000   2619.500000   \n",
       "max    9.904000e+09  3.075000e+07     13.000000     10.500000  15360.000000   \n",
       "\n",
       "           sqft_lot        floors    sqft_above  sqft_basement   sqft_garage  \\\n",
       "count  3.015500e+04  30155.000000  30155.000000   30155.000000  30155.000000   \n",
       "mean   1.672360e+04      1.543492   1809.826098     476.039396    330.211142   \n",
       "std    6.038260e+04      0.567717    878.306131     579.631302    285.770536   \n",
       "min    4.020000e+02      1.000000      2.000000       0.000000      0.000000   \n",
       "25%    4.850000e+03      1.000000   1180.000000       0.000000      0.000000   \n",
       "50%    7.480000e+03      1.500000   1560.000000       0.000000    400.000000   \n",
       "75%    1.057900e+04      2.000000   2270.000000     940.000000    510.000000   \n",
       "max    3.253932e+06      4.000000  12660.000000    8020.000000   3580.000000   \n",
       "\n",
       "         sqft_patio      yr_built  yr_renovated           lat          long  \n",
       "count  30155.000000  30155.000000  30155.000000  30155.000000  30155.000000  \n",
       "mean     217.412038   1975.163953     90.922301     47.328076   -121.317397  \n",
       "std      245.302792     32.067362    416.473038      1.434005      5.725475  \n",
       "min        0.000000   1900.000000      0.000000     21.274240   -157.791480  \n",
       "25%       40.000000   1953.000000      0.000000     47.405320   -122.326045  \n",
       "50%      150.000000   1977.000000      0.000000     47.551380   -122.225585  \n",
       "75%      320.000000   2003.000000      0.000000     47.669913   -122.116205  \n",
       "max     4370.000000   2022.000000   2022.000000     64.824070    -70.074340  "
      ]
     },
     "execution_count": 4,
     "metadata": {},
     "output_type": "execute_result"
    }
   ],
   "source": [
    "house_data.describe()"
   ]
  },
  {
   "cell_type": "markdown",
   "metadata": {},
   "source": [
    "The <b>.describe()</b> method shows statistics for 15 columns, which are of dtype integer or float. The columns containing object dtypes are not included in the table generated above. The high amount of numeric variables further supports the idea that a multiple linear regression is the best avenue to go down, as far as analysis is concerned. "
   ]
  },
  {
   "cell_type": "markdown",
   "metadata": {},
   "source": [
    "## Data Cleaning \n",
    "\n",
    "Before proceeding, I want to address the missing data in the <b>house_data</b> dataframe. As we saw earlier with <b>.info()</b>, the <b>heat_source</b> and <b>sewer_system</b> columns had missing entries. Let's drop any null values from the dataframe using <b>.dropna()</b>."
   ]
  },
  {
   "cell_type": "code",
   "execution_count": 5,
   "metadata": {},
   "outputs": [
    {
     "name": "stdout",
     "output_type": "stream",
     "text": [
      "<class 'pandas.core.frame.DataFrame'>\n",
      "Int64Index: 30111 entries, 0 to 30154\n",
      "Data columns (total 25 columns):\n",
      " #   Column         Non-Null Count  Dtype  \n",
      "---  ------         --------------  -----  \n",
      " 0   id             30111 non-null  int64  \n",
      " 1   date           30111 non-null  object \n",
      " 2   price          30111 non-null  float64\n",
      " 3   bedrooms       30111 non-null  int64  \n",
      " 4   bathrooms      30111 non-null  float64\n",
      " 5   sqft_living    30111 non-null  int64  \n",
      " 6   sqft_lot       30111 non-null  int64  \n",
      " 7   floors         30111 non-null  float64\n",
      " 8   waterfront     30111 non-null  object \n",
      " 9   greenbelt      30111 non-null  object \n",
      " 10  nuisance       30111 non-null  object \n",
      " 11  view           30111 non-null  object \n",
      " 12  condition      30111 non-null  object \n",
      " 13  grade          30111 non-null  object \n",
      " 14  heat_source    30111 non-null  object \n",
      " 15  sewer_system   30111 non-null  object \n",
      " 16  sqft_above     30111 non-null  int64  \n",
      " 17  sqft_basement  30111 non-null  int64  \n",
      " 18  sqft_garage    30111 non-null  int64  \n",
      " 19  sqft_patio     30111 non-null  int64  \n",
      " 20  yr_built       30111 non-null  int64  \n",
      " 21  yr_renovated   30111 non-null  int64  \n",
      " 22  address        30111 non-null  object \n",
      " 23  lat            30111 non-null  float64\n",
      " 24  long           30111 non-null  float64\n",
      "dtypes: float64(5), int64(10), object(10)\n",
      "memory usage: 6.0+ MB\n"
     ]
    }
   ],
   "source": [
    "# dropping null values\n",
    "house_data = house_data.dropna()\n",
    "house_data.info()"
   ]
  },
  {
   "cell_type": "markdown",
   "metadata": {},
   "source": [
    "We can see that the null values were successfully dropped because the number of entries in the dataframe decreased. Now, let's get rid of any outliers by filtering the data according to the <b>bedrooms</b> and <b>bathrooms</b>. From <b>.describe()</b>, we saw that the max amount of bedrooms was 13 and the max amount of bathrooms was 10.5. This would not make sense for a regular family home that's being renovated, so let's drop any rows that are outside of a 3-standard deviation range from the mean."
   ]
  },
  {
   "cell_type": "code",
   "execution_count": 6,
   "metadata": {},
   "outputs": [
    {
     "data": {
      "text/plain": [
       "203"
      ]
     },
     "execution_count": 6,
     "metadata": {},
     "output_type": "execute_result"
    }
   ],
   "source": [
    "# Adapted from Avonlea Fisher\n",
    "# https://github.com/AvonleaFisher/Predicting-King-County-House-Prices-with-Multiple-Regression-Analysis\n",
    "\n",
    "# identifying and removing outliers for bathrooms\n",
    "count = 0\n",
    "bathroom_outliers = []\n",
    "mean = np.mean(house_data['bathrooms'])\n",
    "std_range = np.std(house_data['bathrooms']) * 3 \n",
    "\n",
    "for index, row in house_data['bathrooms'].T.iteritems():\n",
    "    if abs(row-mean) >= std_range:\n",
    "        count += 1\n",
    "        house_data.drop(index, inplace=True)\n",
    "count"
   ]
  },
  {
   "cell_type": "code",
   "execution_count": 7,
   "metadata": {},
   "outputs": [
    {
     "data": {
      "text/plain": [
       "148"
      ]
     },
     "execution_count": 7,
     "metadata": {},
     "output_type": "execute_result"
    }
   ],
   "source": [
    "# Adapted from Avonlea Fisher\n",
    "# https://github.com/AvonleaFisher/Predicting-King-County-House-Prices-with-Multiple-Regression-Analysis\n",
    "\n",
    "# identifying and removing outliers for bathrooms\n",
    "count = 0\n",
    "bedroom_outliers = []\n",
    "mean = np.mean(house_data['bedrooms'])\n",
    "std_range = np.std(house_data['bedrooms']) * 3 \n",
    "\n",
    "for index, row in house_data['bedrooms'].T.iteritems():\n",
    "    if abs(row-mean) >= std_range:\n",
    "        count += 1\n",
    "        house_data.drop(index, inplace=True)\n",
    "count"
   ]
  },
  {
   "cell_type": "code",
   "execution_count": 8,
   "metadata": {},
   "outputs": [
    {
     "name": "stdout",
     "output_type": "stream",
     "text": [
      "<class 'pandas.core.frame.DataFrame'>\n",
      "Int64Index: 29760 entries, 0 to 30154\n",
      "Data columns (total 25 columns):\n",
      " #   Column         Non-Null Count  Dtype  \n",
      "---  ------         --------------  -----  \n",
      " 0   id             29760 non-null  int64  \n",
      " 1   date           29760 non-null  object \n",
      " 2   price          29760 non-null  float64\n",
      " 3   bedrooms       29760 non-null  int64  \n",
      " 4   bathrooms      29760 non-null  float64\n",
      " 5   sqft_living    29760 non-null  int64  \n",
      " 6   sqft_lot       29760 non-null  int64  \n",
      " 7   floors         29760 non-null  float64\n",
      " 8   waterfront     29760 non-null  object \n",
      " 9   greenbelt      29760 non-null  object \n",
      " 10  nuisance       29760 non-null  object \n",
      " 11  view           29760 non-null  object \n",
      " 12  condition      29760 non-null  object \n",
      " 13  grade          29760 non-null  object \n",
      " 14  heat_source    29760 non-null  object \n",
      " 15  sewer_system   29760 non-null  object \n",
      " 16  sqft_above     29760 non-null  int64  \n",
      " 17  sqft_basement  29760 non-null  int64  \n",
      " 18  sqft_garage    29760 non-null  int64  \n",
      " 19  sqft_patio     29760 non-null  int64  \n",
      " 20  yr_built       29760 non-null  int64  \n",
      " 21  yr_renovated   29760 non-null  int64  \n",
      " 22  address        29760 non-null  object \n",
      " 23  lat            29760 non-null  float64\n",
      " 24  long           29760 non-null  float64\n",
      "dtypes: float64(5), int64(10), object(10)\n",
      "memory usage: 5.9+ MB\n"
     ]
    }
   ],
   "source": [
    "# checking to see that the outliers were dropped\n",
    "house_data.info()"
   ]
  },
  {
   "cell_type": "markdown",
   "metadata": {},
   "source": [
    "Using <b>.info()</b>, we see that the <b>203 bathroom outliers</b> and <b>148 bedroom outliers</b> were dropped from the dataframe successfully."
   ]
  },
  {
   "cell_type": "markdown",
   "metadata": {},
   "source": [
    "## Numeric Variables\n",
    "\n",
    "Next, I will perform a correlation between <b>price</b> and the <b>numeric variables</b> to see which of them have a strong linear relationship with price. I will use the <b>.corr()</b> method to do this."
   ]
  },
  {
   "cell_type": "code",
   "execution_count": 9,
   "metadata": {},
   "outputs": [
    {
     "data": {
      "text/plain": [
       "id              -0.030111\n",
       "price            1.000000\n",
       "bedrooms         0.280329\n",
       "bathrooms        0.444315\n",
       "sqft_living      0.581339\n",
       "sqft_lot         0.084360\n",
       "floors           0.183087\n",
       "sqft_above       0.508837\n",
       "sqft_basement    0.212992\n",
       "sqft_garage      0.241335\n",
       "sqft_patio       0.294372\n",
       "yr_built         0.086323\n",
       "yr_renovated     0.089377\n",
       "lat              0.065003\n",
       "long            -0.021228\n",
       "Name: price, dtype: float64"
      ]
     },
     "execution_count": 9,
     "metadata": {},
     "output_type": "execute_result"
    }
   ],
   "source": [
    "# performing correlation between price and potential independent variables (int and float dtypes)\n",
    "house_data.corr()['price']"
   ]
  },
  {
   "cell_type": "markdown",
   "metadata": {},
   "source": [
    "Based on the results from <b>.corr()</b>, it appears that <b>sqft_living</b> has the strongest correlation with <b>price</b> (r=0.58). This <b>sqft_living</b> variable will be useful for a baseline model."
   ]
  },
  {
   "cell_type": "markdown",
   "metadata": {},
   "source": [
    "## Baseline Model\n",
    "\n",
    "As mentioned previously, <b>sqft_living</b> will be utilized for my simple linear regression baseline model. I will start by plotting the relationship between <b>sqft_living</b> and <b>price</b> to double check for linearity."
   ]
  },
  {
   "cell_type": "code",
   "execution_count": 10,
   "metadata": {
    "scrolled": true
   },
   "outputs": [
    {
     "data": {
      "image/png": "[encoded data removed]",
      "text/plain": [
       "<Figure size 432x288 with 1 Axes>"
      ]
     },
     "metadata": {
      "needs_background": "light"
     },
     "output_type": "display_data"
    }
   ],
   "source": [
    "# scatterplot to visualize relationship between sqft_living and price\n",
    "house_data.plot.scatter(x='sqft_living', y='price');"
   ]
  },
  {
   "cell_type": "markdown",
   "metadata": {},
   "source": [
    "The scatterplot shows a relatively linear relationship between <b>sqft_living</b> and <b>price</b>. Let's go ahead and create the baseline model."
   ]
  },
  {
   "cell_type": "code",
   "execution_count": 11,
   "metadata": {},
   "outputs": [
    {
     "name": "stdout",
     "output_type": "stream",
     "text": [
      "                            OLS Regression Results                            \n",
      "==============================================================================\n",
      "Dep. Variable:                  price   R-squared:                       0.338\n",
      "Model:                            OLS   Adj. R-squared:                  0.338\n",
      "Method:                 Least Squares   F-statistic:                 1.519e+04\n",
      "Date:                Wed, 31 May 2023   Prob (F-statistic):               0.00\n",
      "Time:                        21:25:59   Log-Likelihood:            -4.4099e+05\n",
      "No. Observations:               29760   AIC:                         8.820e+05\n",
      "Df Residuals:                   29758   BIC:                         8.820e+05\n",
      "Df Model:                           1                                         \n",
      "Covariance Type:            nonrobust                                         \n",
      "===============================================================================\n",
      "                  coef    std err          t      P>|t|      [0.025      0.975]\n",
      "-------------------------------------------------------------------------------\n",
      "const        4234.1173   9567.294      0.443      0.658   -1.45e+04     2.3e+04\n",
      "sqft_living   518.5841      4.208    123.250      0.000     510.337     526.831\n",
      "==============================================================================\n",
      "Omnibus:                    43127.415   Durbin-Watson:                   1.847\n",
      "Prob(Omnibus):                  0.000   Jarque-Bera (JB):         59630047.849\n",
      "Skew:                           8.195   Prob(JB):                         0.00\n",
      "Kurtosis:                     221.678   Cond. No.                     5.69e+03\n",
      "==============================================================================\n",
      "\n",
      "Notes:\n",
      "[1] Standard Errors assume that the covariance matrix of the errors is correctly specified.\n",
      "[2] The condition number is large, 5.69e+03. This might indicate that there are\n",
      "strong multicollinearity or other numerical problems.\n"
     ]
    }
   ],
   "source": [
    "# generating baseline model\n",
    "y_baseline = house_data[\"price\"]\n",
    "X_baseline = house_data[[\"sqft_living\"]]\n",
    "\n",
    "baseline_model = sm.OLS(y_baseline, sm.add_constant(X_baseline))\n",
    "baseline_results = baseline_model.fit()\n",
    "\n",
    "print(baseline_results.summary())"
   ]
  },
  {
   "cell_type": "code",
   "execution_count": 12,
   "metadata": {},
   "outputs": [
    {
     "data": {
      "text/plain": [
       "378784.5242821782"
      ]
     },
     "execution_count": 12,
     "metadata": {},
     "output_type": "execute_result"
    }
   ],
   "source": [
    "# calculating overall error of model\n",
    "mae = baseline_results.resid.abs().sum() / len(y_baseline)\n",
    "mae"
   ]
  },
  {
   "cell_type": "markdown",
   "metadata": {},
   "source": [
    "From the baseline model we see that the model is statistically significant overall (the p-value for the F-statistic is 0). According to the model, one unit increase in <b>sqft_living</b> will lead to about a $519 increase in price. The t-test p-value for the sqft_living coefficient is significant (p=0.0), but the constant's p-value is not (p=0.658). Based on the adjusted R-squared value, we know that the model explains only about <b>34% of the variance</b> in price. Therefore, this isn't a strong model and needs to be improved further. Let's inspect the distribution of <b>sqft_living</b> to see if it's normal. "
   ]
  },
  {
   "cell_type": "code",
   "execution_count": 13,
   "metadata": {},
   "outputs": [
    {
     "data": {
      "image/png": "[encoded data removed]",
      "text/plain": [
       "<Figure size 504x216 with 1 Axes>"
      ]
     },
     "metadata": {
      "needs_background": "light"
     },
     "output_type": "display_data"
    }
   ],
   "source": [
    "# inspecting distribution of sqft_living\n",
    "fig, ax = plt.subplots(figsize=(7,3))\n",
    "ax.hist(house_data['sqft_living'])\n",
    "ax.set_xlabel(\"sqft_living\");"
   ]
  },
  {
   "cell_type": "markdown",
   "metadata": {},
   "source": [
    "From the histogram, we see that the <b>sqft_living</b> variable has a slight positive skew. Performing a <b>log transformation</b> on this feature may help normalize the data. "
   ]
  },
  {
   "cell_type": "markdown",
   "metadata": {},
   "source": [
    "# Baseline Model: Log Transformed Feature "
   ]
  },
  {
   "cell_type": "code",
   "execution_count": 14,
   "metadata": {},
   "outputs": [
    {
     "data": {
      "text/html": [
       "<div>\n",
       "<style scoped>\n",
       "    .dataframe tbody tr th:only-of-type {\n",
       "        vertical-align: middle;\n",
       "    }\n",
       "\n",
       "    .dataframe tbody tr th {\n",
       "        vertical-align: top;\n",
       "    }\n",
       "\n",
       "    .dataframe thead th {\n",
       "        text-align: right;\n",
       "    }\n",
       "</style>\n",
       "<table border=\"1\" class=\"dataframe\">\n",
       "  <thead>\n",
       "    <tr style=\"text-align: right;\">\n",
       "      <th></th>\n",
       "      <th>sqft_living</th>\n",
       "      <th>log(sqft_living)</th>\n",
       "    </tr>\n",
       "  </thead>\n",
       "  <tbody>\n",
       "    <tr>\n",
       "      <th>0</th>\n",
       "      <td>1180</td>\n",
       "      <td>7.073270</td>\n",
       "    </tr>\n",
       "    <tr>\n",
       "      <th>1</th>\n",
       "      <td>2770</td>\n",
       "      <td>7.926603</td>\n",
       "    </tr>\n",
       "    <tr>\n",
       "      <th>2</th>\n",
       "      <td>2880</td>\n",
       "      <td>7.965546</td>\n",
       "    </tr>\n",
       "    <tr>\n",
       "      <th>3</th>\n",
       "      <td>2160</td>\n",
       "      <td>7.677864</td>\n",
       "    </tr>\n",
       "    <tr>\n",
       "      <th>4</th>\n",
       "      <td>1120</td>\n",
       "      <td>7.021084</td>\n",
       "    </tr>\n",
       "    <tr>\n",
       "      <th>...</th>\n",
       "      <td>...</td>\n",
       "      <td>...</td>\n",
       "    </tr>\n",
       "    <tr>\n",
       "      <th>30150</th>\n",
       "      <td>1910</td>\n",
       "      <td>7.554859</td>\n",
       "    </tr>\n",
       "    <tr>\n",
       "      <th>30151</th>\n",
       "      <td>2020</td>\n",
       "      <td>7.610853</td>\n",
       "    </tr>\n",
       "    <tr>\n",
       "      <th>30152</th>\n",
       "      <td>1620</td>\n",
       "      <td>7.390181</td>\n",
       "    </tr>\n",
       "    <tr>\n",
       "      <th>30153</th>\n",
       "      <td>2570</td>\n",
       "      <td>7.851661</td>\n",
       "    </tr>\n",
       "    <tr>\n",
       "      <th>30154</th>\n",
       "      <td>1200</td>\n",
       "      <td>7.090077</td>\n",
       "    </tr>\n",
       "  </tbody>\n",
       "</table>\n",
       "<p>29760 rows × 2 columns</p>\n",
       "</div>"
      ],
      "text/plain": [
       "       sqft_living  log(sqft_living)\n",
       "0             1180          7.073270\n",
       "1             2770          7.926603\n",
       "2             2880          7.965546\n",
       "3             2160          7.677864\n",
       "4             1120          7.021084\n",
       "...            ...               ...\n",
       "30150         1910          7.554859\n",
       "30151         2020          7.610853\n",
       "30152         1620          7.390181\n",
       "30153         2570          7.851661\n",
       "30154         1200          7.090077\n",
       "\n",
       "[29760 rows x 2 columns]"
      ]
     },
     "execution_count": 14,
     "metadata": {},
     "output_type": "execute_result"
    }
   ],
   "source": [
    "# create copy of X_baseline\n",
    "X_baseline_log = X_baseline.copy()\n",
    "\n",
    "# perform log transformation\n",
    "X_baseline_log[\"log(sqft_living)\"] = np.log(X_baseline_log[\"sqft_living\"])\n",
    "\n",
    "# compare raw vs. transformed values\n",
    "X_baseline_log[[\"sqft_living\", \"log(sqft_living)\"]]"
   ]
  },
  {
   "cell_type": "code",
   "execution_count": 15,
   "metadata": {},
   "outputs": [
    {
     "data": {
      "image/png": "[encoded data removed]",
      "text/plain": [
       "<Figure size 504x216 with 1 Axes>"
      ]
     },
     "metadata": {
      "needs_background": "light"
     },
     "output_type": "display_data"
    }
   ],
   "source": [
    "# visualize distribution of log transformed data\n",
    "fig, ax = plt.subplots(figsize=(7,3))\n",
    "ax.hist(X_baseline_log['log(sqft_living)']);"
   ]
  },
  {
   "cell_type": "code",
   "execution_count": 16,
   "metadata": {},
   "outputs": [
    {
     "name": "stdout",
     "output_type": "stream",
     "text": [
      "                            OLS Regression Results                            \n",
      "==============================================================================\n",
      "Dep. Variable:                  price   R-squared:                       0.260\n",
      "Model:                            OLS   Adj. R-squared:                  0.260\n",
      "Method:                 Least Squares   F-statistic:                 1.043e+04\n",
      "Date:                Wed, 31 May 2023   Prob (F-statistic):               0.00\n",
      "Time:                        21:28:33   Log-Likelihood:            -4.4265e+05\n",
      "No. Observations:               29760   AIC:                         8.853e+05\n",
      "Df Residuals:                   29758   BIC:                         8.853e+05\n",
      "Df Model:                           1                                         \n",
      "Covariance Type:            nonrobust                                         \n",
      "====================================================================================\n",
      "                       coef    std err          t      P>|t|      [0.025      0.975]\n",
      "------------------------------------------------------------------------------------\n",
      "const            -6.122e+06   7.07e+04    -86.613      0.000   -6.26e+06   -5.98e+06\n",
      "log(sqft_living)  9.545e+05   9345.844    102.132      0.000    9.36e+05    9.73e+05\n",
      "==============================================================================\n",
      "Omnibus:                    41660.778   Durbin-Watson:                   1.865\n",
      "Prob(Omnibus):                  0.000   Jarque-Bera (JB):         42202013.499\n",
      "Skew:                           7.740   Prob(JB):                         0.00\n",
      "Kurtosis:                     186.832   Cond. No.                         135.\n",
      "==============================================================================\n",
      "\n",
      "Notes:\n",
      "[1] Standard Errors assume that the covariance matrix of the errors is correctly specified.\n"
     ]
    }
   ],
   "source": [
    "# generating new baseline model with log transformed feature (sqft_living)\n",
    "\n",
    "# dropping original sqft_living column\n",
    "X_baseline_log.drop(\"sqft_living\", axis=1, inplace=True)\n",
    "\n",
    "y_baseline_log = house_data['price']\n",
    "baseline_log_model = sm.OLS(y_baseline_log, sm.add_constant(X_baseline_log))\n",
    "baseline_log_results = baseline_log_model.fit()\n",
    "\n",
    "print(baseline_log_results.summary())"
   ]
  },
  {
   "cell_type": "code",
   "execution_count": 17,
   "metadata": {},
   "outputs": [
    {
     "data": {
      "text/plain": [
       "406656.30826155277"
      ]
     },
     "execution_count": 17,
     "metadata": {},
     "output_type": "execute_result"
    }
   ],
   "source": [
    "# calculating overall error of model\n",
    "mae = baseline_log_results.resid.abs().sum() / len(y_baseline_log)\n",
    "mae"
   ]
  },
  {
   "cell_type": "markdown",
   "metadata": {},
   "source": [
    "By performing a log transformation on the <b>sqft_living</b> feature, we see the model worsen in some aspects. The adjusted R-squared value has decreased from 0.34 to 0.26 and has a significant F-statistic, as indicated by the p-value (p=0.0). This means that the model is predicting about <b>26% of the variation</b> in <b>price</b>. Both the constant and the <b>log(sqft_living)</b> coefficient are significant based on their t-test p-values, which is different from what was seen in the original, non-log-transformed baseline model. According to this model, a 1% increase in sqft_living will lead to about a $95,000 increase in a home's sale price.  "
   ]
  },
  {
   "cell_type": "markdown",
   "metadata": {},
   "source": [
    "The results aren't what we wanted. Let's see what happens if we log transform only the dependent variable, price."
   ]
  },
  {
   "cell_type": "markdown",
   "metadata": {},
   "source": [
    "# Baseline Model: Log Transformed Target"
   ]
  },
  {
   "cell_type": "code",
   "execution_count": 19,
   "metadata": {},
   "outputs": [
    {
     "name": "stdout",
     "output_type": "stream",
     "text": [
      "                            OLS Regression Results                            \n",
      "==============================================================================\n",
      "Dep. Variable:             log(price)   R-squared:                       0.369\n",
      "Model:                            OLS   Adj. R-squared:                  0.369\n",
      "Method:                 Least Squares   F-statistic:                 1.739e+04\n",
      "Date:                Wed, 31 May 2023   Prob (F-statistic):               0.00\n",
      "Time:                        21:38:26   Log-Likelihood:                -18669.\n",
      "No. Observations:               29760   AIC:                         3.734e+04\n",
      "Df Residuals:                   29758   BIC:                         3.736e+04\n",
      "Df Model:                           1                                         \n",
      "Covariance Type:            nonrobust                                         \n",
      "===============================================================================\n",
      "                  coef    std err          t      P>|t|      [0.025      0.975]\n",
      "-------------------------------------------------------------------------------\n",
      "const          12.9308      0.007   1967.086      0.000      12.918      12.944\n",
      "sqft_living     0.0004   2.89e-06    131.870      0.000       0.000       0.000\n",
      "==============================================================================\n",
      "Omnibus:                     5754.343   Durbin-Watson:                   1.971\n",
      "Prob(Omnibus):                  0.000   Jarque-Bera (JB):            48039.998\n",
      "Skew:                          -0.698   Prob(JB):                         0.00\n",
      "Kurtosis:                       9.066   Cond. No.                     5.69e+03\n",
      "==============================================================================\n",
      "\n",
      "Notes:\n",
      "[1] Standard Errors assume that the covariance matrix of the errors is correctly specified.\n",
      "[2] The condition number is large, 5.69e+03. This might indicate that there are\n",
      "strong multicollinearity or other numerical problems.\n"
     ]
    }
   ],
   "source": [
    "# generating new baseline model with log transformed target (price)\n",
    "\n",
    "y_log = np.log(y_baseline)\n",
    "y_log.name = \"log(price)\"\n",
    "\n",
    "y_log_model = sm.OLS(y_log, sm.add_constant(X_baseline))\n",
    "y_log_results = y_log_model.fit()\n",
    "\n",
    "print(y_log_results.summary())"
   ]
  },
  {
   "cell_type": "code",
   "execution_count": 24,
   "metadata": {},
   "outputs": [
    {
     "data": {
      "text/plain": [
       "0.33342553400296604"
      ]
     },
     "execution_count": 24,
     "metadata": {},
     "output_type": "execute_result"
    }
   ],
   "source": [
    "# calculating overall error of model\n",
    "mae = y_log_results.resid.abs().sum() / len(y_log)\n",
    "mae"
   ]
  },
  {
   "cell_type": "markdown",
   "metadata": {},
   "source": [
    "By performing a log transformation on the target, <b>price</b>, we see an improvement on the adjusted R-squared value, which has increased to about 0.37. This indicates that <b>37% of the variation in price</b> is being detected. The F-statistic also has a significant p-value. For the constant and the sqft_living coefficient, the t-test p-value indicates significance. Based on sqft_living coefficient, each increase of 1 unit in sqft_living has an associated change of 0.04% in price. This model also has the lowest mean absolute error (MAE) by far. The MAE for this model is only 0.33."
   ]
  },
  {
   "cell_type": "markdown",
   "metadata": {},
   "source": [
    "Let's see if we can get an even more improved model by transforming both the <b>sqft_living</b> feature and the target <b>price</b>."
   ]
  },
  {
   "cell_type": "markdown",
   "metadata": {},
   "source": [
    "# Baseline Model: Log Transformed Feature and Target"
   ]
  },
  {
   "cell_type": "code",
   "execution_count": 25,
   "metadata": {},
   "outputs": [
    {
     "name": "stdout",
     "output_type": "stream",
     "text": [
      "                            OLS Regression Results                            \n",
      "==============================================================================\n",
      "Dep. Variable:             log(price)   R-squared:                       0.334\n",
      "Model:                            OLS   Adj. R-squared:                  0.334\n",
      "Method:                 Least Squares   F-statistic:                 1.490e+04\n",
      "Date:                Wed, 31 May 2023   Prob (F-statistic):               0.00\n",
      "Time:                        21:46:58   Log-Likelihood:                -19476.\n",
      "No. Observations:               29760   AIC:                         3.896e+04\n",
      "Df Residuals:                   29758   BIC:                         3.897e+04\n",
      "Df Model:                           1                                         \n",
      "Covariance Type:            nonrobust                                         \n",
      "====================================================================================\n",
      "                       coef    std err          t      P>|t|      [0.025      0.975]\n",
      "------------------------------------------------------------------------------------\n",
      "const                7.9749      0.047    169.009      0.000       7.882       8.067\n",
      "log(sqft_living)     0.7616      0.006    122.068      0.000       0.749       0.774\n",
      "==============================================================================\n",
      "Omnibus:                     4949.872   Durbin-Watson:                   1.974\n",
      "Prob(Omnibus):                  0.000   Jarque-Bera (JB):            48191.861\n",
      "Skew:                          -0.509   Prob(JB):                         0.00\n",
      "Kurtosis:                       9.151   Cond. No.                         135.\n",
      "==============================================================================\n",
      "\n",
      "Notes:\n",
      "[1] Standard Errors assume that the covariance matrix of the errors is correctly specified.\n"
     ]
    }
   ],
   "source": [
    "# generating new baseline model with log transformed target (price) and log transformed feature (sqft_living)\n",
    "\n",
    "log_transformed_model = sm.OLS(y_log, sm.add_constant(X_baseline_log))\n",
    "log_transformed_model_results = log_transformed_model.fit()\n",
    "\n",
    "print(log_transformed_model_results.summary())"
   ]
  },
  {
   "cell_type": "code",
   "execution_count": 26,
   "metadata": {},
   "outputs": [
    {
     "data": {
      "text/plain": [
       "0.34419514900872095"
      ]
     },
     "execution_count": 26,
     "metadata": {},
     "output_type": "execute_result"
    }
   ],
   "source": [
    "# calculating overall error of model\n",
    "mae = log_transformed_model_results.resid.abs().sum() / len(y_log)\n",
    "mae"
   ]
  },
  {
   "cell_type": "markdown",
   "metadata": {},
   "source": [
    "Compared to the model with only the log transformed target, this model with both a log transformed feature (sqft_living) and target does not perform significantly better. The adjusted R-squared has decreased slightly from 0.37 to 0.33 and has a significant F-statistic, indicating that it detects about <b>33% of the variation in price</b>. The MAE for this model is similar to the log transformed target model, being around 0.34. "
   ]
  },
  {
   "cell_type": "markdown",
   "metadata": {},
   "source": [
    "For the final baseline model, I will choose the model with only the log transformed target because it has the highest adjusted R-squared value (0.369) and also has the smallest MAE (~0.33). Now let's look at the categorical variables of the dataset."
   ]
  },
  {
   "cell_type": "markdown",
   "metadata": {},
   "source": [
    "## Categorical Variables\n",
    "\n",
    "For the columns containing <b>categorical</b> information, the data needs to be transformed and one-hot encoded first before a model can be generated. Let's create a copy of the data table with only variables of object dtype present."
   ]
  },
  {
   "cell_type": "code",
   "execution_count": 27,
   "metadata": {},
   "outputs": [
    {
     "data": {
      "text/html": [
       "<div>\n",
       "<style scoped>\n",
       "    .dataframe tbody tr th:only-of-type {\n",
       "        vertical-align: middle;\n",
       "    }\n",
       "\n",
       "    .dataframe tbody tr th {\n",
       "        vertical-align: top;\n",
       "    }\n",
       "\n",
       "    .dataframe thead th {\n",
       "        text-align: right;\n",
       "    }\n",
       "</style>\n",
       "<table border=\"1\" class=\"dataframe\">\n",
       "  <thead>\n",
       "    <tr style=\"text-align: right;\">\n",
       "      <th></th>\n",
       "      <th>date</th>\n",
       "      <th>waterfront</th>\n",
       "      <th>greenbelt</th>\n",
       "      <th>nuisance</th>\n",
       "      <th>view</th>\n",
       "      <th>condition</th>\n",
       "      <th>grade</th>\n",
       "      <th>heat_source</th>\n",
       "      <th>sewer_system</th>\n",
       "      <th>address</th>\n",
       "    </tr>\n",
       "  </thead>\n",
       "  <tbody>\n",
       "    <tr>\n",
       "      <th>0</th>\n",
       "      <td>5/24/2022</td>\n",
       "      <td>NO</td>\n",
       "      <td>NO</td>\n",
       "      <td>NO</td>\n",
       "      <td>NONE</td>\n",
       "      <td>Good</td>\n",
       "      <td>7 Average</td>\n",
       "      <td>Gas</td>\n",
       "      <td>PUBLIC</td>\n",
       "      <td>2102 Southeast 21st Court, Renton, Washington ...</td>\n",
       "    </tr>\n",
       "    <tr>\n",
       "      <th>1</th>\n",
       "      <td>12/13/2021</td>\n",
       "      <td>NO</td>\n",
       "      <td>NO</td>\n",
       "      <td>YES</td>\n",
       "      <td>AVERAGE</td>\n",
       "      <td>Average</td>\n",
       "      <td>7 Average</td>\n",
       "      <td>Oil</td>\n",
       "      <td>PUBLIC</td>\n",
       "      <td>11231 Greenwood Avenue North, Seattle, Washing...</td>\n",
       "    </tr>\n",
       "    <tr>\n",
       "      <th>2</th>\n",
       "      <td>9/29/2021</td>\n",
       "      <td>NO</td>\n",
       "      <td>NO</td>\n",
       "      <td>NO</td>\n",
       "      <td>AVERAGE</td>\n",
       "      <td>Average</td>\n",
       "      <td>7 Average</td>\n",
       "      <td>Gas</td>\n",
       "      <td>PUBLIC</td>\n",
       "      <td>8504 South 113th Street, Seattle, Washington 9...</td>\n",
       "    </tr>\n",
       "    <tr>\n",
       "      <th>3</th>\n",
       "      <td>12/14/2021</td>\n",
       "      <td>NO</td>\n",
       "      <td>NO</td>\n",
       "      <td>NO</td>\n",
       "      <td>AVERAGE</td>\n",
       "      <td>Average</td>\n",
       "      <td>9 Better</td>\n",
       "      <td>Gas</td>\n",
       "      <td>PUBLIC</td>\n",
       "      <td>4079 Letitia Avenue South, Seattle, Washington...</td>\n",
       "    </tr>\n",
       "    <tr>\n",
       "      <th>4</th>\n",
       "      <td>8/24/2021</td>\n",
       "      <td>NO</td>\n",
       "      <td>NO</td>\n",
       "      <td>YES</td>\n",
       "      <td>NONE</td>\n",
       "      <td>Average</td>\n",
       "      <td>7 Average</td>\n",
       "      <td>Electricity</td>\n",
       "      <td>PUBLIC</td>\n",
       "      <td>2193 Northwest Talus Drive, Issaquah, Washingt...</td>\n",
       "    </tr>\n",
       "  </tbody>\n",
       "</table>\n",
       "</div>"
      ],
      "text/plain": [
       "         date waterfront greenbelt nuisance     view condition      grade  \\\n",
       "0   5/24/2022         NO        NO       NO     NONE      Good  7 Average   \n",
       "1  12/13/2021         NO        NO      YES  AVERAGE   Average  7 Average   \n",
       "2   9/29/2021         NO        NO       NO  AVERAGE   Average  7 Average   \n",
       "3  12/14/2021         NO        NO       NO  AVERAGE   Average   9 Better   \n",
       "4   8/24/2021         NO        NO      YES     NONE   Average  7 Average   \n",
       "\n",
       "   heat_source sewer_system                                            address  \n",
       "0          Gas       PUBLIC  2102 Southeast 21st Court, Renton, Washington ...  \n",
       "1          Oil       PUBLIC  11231 Greenwood Avenue North, Seattle, Washing...  \n",
       "2          Gas       PUBLIC  8504 South 113th Street, Seattle, Washington 9...  \n",
       "3          Gas       PUBLIC  4079 Letitia Avenue South, Seattle, Washington...  \n",
       "4  Electricity       PUBLIC  2193 Northwest Talus Drive, Issaquah, Washingt...  "
      ]
     },
     "execution_count": 27,
     "metadata": {},
     "output_type": "execute_result"
    }
   ],
   "source": [
    "# creating copy of data with only obj columns\n",
    "categorical_data = house_data.select_dtypes(include='object')\n",
    "# use .head() to visualize first five rows \n",
    "categorical_data.head()"
   ]
  },
  {
   "cell_type": "code",
   "execution_count": 28,
   "metadata": {},
   "outputs": [
    {
     "name": "stdout",
     "output_type": "stream",
     "text": [
      "<class 'pandas.core.frame.DataFrame'>\n",
      "Int64Index: 29760 entries, 0 to 30154\n",
      "Data columns (total 10 columns):\n",
      " #   Column        Non-Null Count  Dtype \n",
      "---  ------        --------------  ----- \n",
      " 0   date          29760 non-null  object\n",
      " 1   waterfront    29760 non-null  object\n",
      " 2   greenbelt     29760 non-null  object\n",
      " 3   nuisance      29760 non-null  object\n",
      " 4   view          29760 non-null  object\n",
      " 5   condition     29760 non-null  object\n",
      " 6   grade         29760 non-null  object\n",
      " 7   heat_source   29760 non-null  object\n",
      " 8   sewer_system  29760 non-null  object\n",
      " 9   address       29760 non-null  object\n",
      "dtypes: object(10)\n",
      "memory usage: 2.5+ MB\n"
     ]
    }
   ],
   "source": [
    "# use .info() to confirm only variables of obj dtype are present \n",
    "categorical_data.info()"
   ]
  },
  {
   "cell_type": "markdown",
   "metadata": {},
   "source": [
    "Looking at our categorical variables, it would not make sense to look at <b>date</b> and <b>address</b> and their relationship with price, since both of these data vary too much and will most likely not have any discernable pattern. Let's create a new copy of the categorical dataframe that excludes these two columns. I will also add the <b>price</b> column because it's the dependent variable of interest. Furthermore, I will include the <b>bedrooms</b>, <b>bathrooms</b>, and <b>floors</b> columns because even though they have int and float dtypes, they seemed to be more discrete, categorical variables based on the earlier analysis."
   ]
  },
  {
   "cell_type": "code",
   "execution_count": 29,
   "metadata": {},
   "outputs": [
    {
     "data": {
      "text/html": [
       "<div>\n",
       "<style scoped>\n",
       "    .dataframe tbody tr th:only-of-type {\n",
       "        vertical-align: middle;\n",
       "    }\n",
       "\n",
       "    .dataframe tbody tr th {\n",
       "        vertical-align: top;\n",
       "    }\n",
       "\n",
       "    .dataframe thead th {\n",
       "        text-align: right;\n",
       "    }\n",
       "</style>\n",
       "<table border=\"1\" class=\"dataframe\">\n",
       "  <thead>\n",
       "    <tr style=\"text-align: right;\">\n",
       "      <th></th>\n",
       "      <th>waterfront</th>\n",
       "      <th>greenbelt</th>\n",
       "      <th>nuisance</th>\n",
       "      <th>view</th>\n",
       "      <th>condition</th>\n",
       "      <th>grade</th>\n",
       "      <th>heat_source</th>\n",
       "      <th>sewer_system</th>\n",
       "      <th>bedrooms</th>\n",
       "      <th>bathrooms</th>\n",
       "      <th>floors</th>\n",
       "      <th>price</th>\n",
       "    </tr>\n",
       "  </thead>\n",
       "  <tbody>\n",
       "    <tr>\n",
       "      <th>0</th>\n",
       "      <td>NO</td>\n",
       "      <td>NO</td>\n",
       "      <td>NO</td>\n",
       "      <td>NONE</td>\n",
       "      <td>Good</td>\n",
       "      <td>7 Average</td>\n",
       "      <td>Gas</td>\n",
       "      <td>PUBLIC</td>\n",
       "      <td>4</td>\n",
       "      <td>1.0</td>\n",
       "      <td>1.0</td>\n",
       "      <td>675000.0</td>\n",
       "    </tr>\n",
       "    <tr>\n",
       "      <th>1</th>\n",
       "      <td>NO</td>\n",
       "      <td>NO</td>\n",
       "      <td>YES</td>\n",
       "      <td>AVERAGE</td>\n",
       "      <td>Average</td>\n",
       "      <td>7 Average</td>\n",
       "      <td>Oil</td>\n",
       "      <td>PUBLIC</td>\n",
       "      <td>5</td>\n",
       "      <td>2.5</td>\n",
       "      <td>1.0</td>\n",
       "      <td>920000.0</td>\n",
       "    </tr>\n",
       "    <tr>\n",
       "      <th>2</th>\n",
       "      <td>NO</td>\n",
       "      <td>NO</td>\n",
       "      <td>NO</td>\n",
       "      <td>AVERAGE</td>\n",
       "      <td>Average</td>\n",
       "      <td>7 Average</td>\n",
       "      <td>Gas</td>\n",
       "      <td>PUBLIC</td>\n",
       "      <td>6</td>\n",
       "      <td>2.0</td>\n",
       "      <td>1.0</td>\n",
       "      <td>311000.0</td>\n",
       "    </tr>\n",
       "    <tr>\n",
       "      <th>3</th>\n",
       "      <td>NO</td>\n",
       "      <td>NO</td>\n",
       "      <td>NO</td>\n",
       "      <td>AVERAGE</td>\n",
       "      <td>Average</td>\n",
       "      <td>9 Better</td>\n",
       "      <td>Gas</td>\n",
       "      <td>PUBLIC</td>\n",
       "      <td>3</td>\n",
       "      <td>3.0</td>\n",
       "      <td>2.0</td>\n",
       "      <td>775000.0</td>\n",
       "    </tr>\n",
       "    <tr>\n",
       "      <th>4</th>\n",
       "      <td>NO</td>\n",
       "      <td>NO</td>\n",
       "      <td>YES</td>\n",
       "      <td>NONE</td>\n",
       "      <td>Average</td>\n",
       "      <td>7 Average</td>\n",
       "      <td>Electricity</td>\n",
       "      <td>PUBLIC</td>\n",
       "      <td>2</td>\n",
       "      <td>2.0</td>\n",
       "      <td>2.0</td>\n",
       "      <td>592500.0</td>\n",
       "    </tr>\n",
       "  </tbody>\n",
       "</table>\n",
       "</div>"
      ],
      "text/plain": [
       "  waterfront greenbelt nuisance     view condition      grade  heat_source  \\\n",
       "0         NO        NO       NO     NONE      Good  7 Average          Gas   \n",
       "1         NO        NO      YES  AVERAGE   Average  7 Average          Oil   \n",
       "2         NO        NO       NO  AVERAGE   Average  7 Average          Gas   \n",
       "3         NO        NO       NO  AVERAGE   Average   9 Better          Gas   \n",
       "4         NO        NO      YES     NONE   Average  7 Average  Electricity   \n",
       "\n",
       "  sewer_system  bedrooms  bathrooms  floors     price  \n",
       "0       PUBLIC         4        1.0     1.0  675000.0  \n",
       "1       PUBLIC         5        2.5     1.0  920000.0  \n",
       "2       PUBLIC         6        2.0     1.0  311000.0  \n",
       "3       PUBLIC         3        3.0     2.0  775000.0  \n",
       "4       PUBLIC         2        2.0     2.0  592500.0  "
      ]
     },
     "execution_count": 29,
     "metadata": {},
     "output_type": "execute_result"
    }
   ],
   "source": [
    "# create another copy of categorical dataframe, excluding unnecessary columns\n",
    "cat_data_edited = house_data[['waterfront', 'greenbelt', 'nuisance', 'view', 'condition', 'grade', 'heat_source',\n",
    "                              'sewer_system', 'bedrooms','bathrooms', 'floors', 'price']]\n",
    "# use .head() to visualize first five rows\n",
    "cat_data_edited.head()"
   ]
  },
  {
   "cell_type": "markdown",
   "metadata": {},
   "source": [
    "With the columns in the <b>cat_data_edited</b> dataframe, some edits must be done to make the data more usable. Let's start by creating a new column called <b>rating</b> that extracts the number from grade. "
   ]
  },
  {
   "cell_type": "code",
   "execution_count": 30,
   "metadata": {},
   "outputs": [
    {
     "name": "stderr",
     "output_type": "stream",
     "text": [
      "<ipython-input-30-00cf2c3f359d>:2: SettingWithCopyWarning: \n",
      "A value is trying to be set on a copy of a slice from a DataFrame.\n",
      "Try using .loc[row_indexer,col_indexer] = value instead\n",
      "\n",
      "See the caveats in the documentation: https://pandas.pydata.org/pandas-docs/stable/user_guide/indexing.html#returning-a-view-versus-a-copy\n",
      "  cat_data_edited['rating'] = cat_data_edited['grade'].str.split().apply(lambda x: x[0])\n"
     ]
    },
    {
     "data": {
      "text/html": [
       "<div>\n",
       "<style scoped>\n",
       "    .dataframe tbody tr th:only-of-type {\n",
       "        vertical-align: middle;\n",
       "    }\n",
       "\n",
       "    .dataframe tbody tr th {\n",
       "        vertical-align: top;\n",
       "    }\n",
       "\n",
       "    .dataframe thead th {\n",
       "        text-align: right;\n",
       "    }\n",
       "</style>\n",
       "<table border=\"1\" class=\"dataframe\">\n",
       "  <thead>\n",
       "    <tr style=\"text-align: right;\">\n",
       "      <th></th>\n",
       "      <th>waterfront</th>\n",
       "      <th>greenbelt</th>\n",
       "      <th>nuisance</th>\n",
       "      <th>view</th>\n",
       "      <th>condition</th>\n",
       "      <th>grade</th>\n",
       "      <th>heat_source</th>\n",
       "      <th>sewer_system</th>\n",
       "      <th>bedrooms</th>\n",
       "      <th>bathrooms</th>\n",
       "      <th>floors</th>\n",
       "      <th>price</th>\n",
       "      <th>rating</th>\n",
       "    </tr>\n",
       "  </thead>\n",
       "  <tbody>\n",
       "    <tr>\n",
       "      <th>0</th>\n",
       "      <td>NO</td>\n",
       "      <td>NO</td>\n",
       "      <td>NO</td>\n",
       "      <td>NONE</td>\n",
       "      <td>Good</td>\n",
       "      <td>7 Average</td>\n",
       "      <td>Gas</td>\n",
       "      <td>PUBLIC</td>\n",
       "      <td>4</td>\n",
       "      <td>1.0</td>\n",
       "      <td>1.0</td>\n",
       "      <td>675000.0</td>\n",
       "      <td>7</td>\n",
       "    </tr>\n",
       "    <tr>\n",
       "      <th>1</th>\n",
       "      <td>NO</td>\n",
       "      <td>NO</td>\n",
       "      <td>YES</td>\n",
       "      <td>AVERAGE</td>\n",
       "      <td>Average</td>\n",
       "      <td>7 Average</td>\n",
       "      <td>Oil</td>\n",
       "      <td>PUBLIC</td>\n",
       "      <td>5</td>\n",
       "      <td>2.5</td>\n",
       "      <td>1.0</td>\n",
       "      <td>920000.0</td>\n",
       "      <td>7</td>\n",
       "    </tr>\n",
       "    <tr>\n",
       "      <th>2</th>\n",
       "      <td>NO</td>\n",
       "      <td>NO</td>\n",
       "      <td>NO</td>\n",
       "      <td>AVERAGE</td>\n",
       "      <td>Average</td>\n",
       "      <td>7 Average</td>\n",
       "      <td>Gas</td>\n",
       "      <td>PUBLIC</td>\n",
       "      <td>6</td>\n",
       "      <td>2.0</td>\n",
       "      <td>1.0</td>\n",
       "      <td>311000.0</td>\n",
       "      <td>7</td>\n",
       "    </tr>\n",
       "    <tr>\n",
       "      <th>3</th>\n",
       "      <td>NO</td>\n",
       "      <td>NO</td>\n",
       "      <td>NO</td>\n",
       "      <td>AVERAGE</td>\n",
       "      <td>Average</td>\n",
       "      <td>9 Better</td>\n",
       "      <td>Gas</td>\n",
       "      <td>PUBLIC</td>\n",
       "      <td>3</td>\n",
       "      <td>3.0</td>\n",
       "      <td>2.0</td>\n",
       "      <td>775000.0</td>\n",
       "      <td>9</td>\n",
       "    </tr>\n",
       "    <tr>\n",
       "      <th>4</th>\n",
       "      <td>NO</td>\n",
       "      <td>NO</td>\n",
       "      <td>YES</td>\n",
       "      <td>NONE</td>\n",
       "      <td>Average</td>\n",
       "      <td>7 Average</td>\n",
       "      <td>Electricity</td>\n",
       "      <td>PUBLIC</td>\n",
       "      <td>2</td>\n",
       "      <td>2.0</td>\n",
       "      <td>2.0</td>\n",
       "      <td>592500.0</td>\n",
       "      <td>7</td>\n",
       "    </tr>\n",
       "    <tr>\n",
       "      <th>...</th>\n",
       "      <td>...</td>\n",
       "      <td>...</td>\n",
       "      <td>...</td>\n",
       "      <td>...</td>\n",
       "      <td>...</td>\n",
       "      <td>...</td>\n",
       "      <td>...</td>\n",
       "      <td>...</td>\n",
       "      <td>...</td>\n",
       "      <td>...</td>\n",
       "      <td>...</td>\n",
       "      <td>...</td>\n",
       "      <td>...</td>\n",
       "    </tr>\n",
       "    <tr>\n",
       "      <th>30150</th>\n",
       "      <td>NO</td>\n",
       "      <td>NO</td>\n",
       "      <td>NO</td>\n",
       "      <td>NONE</td>\n",
       "      <td>Good</td>\n",
       "      <td>8 Good</td>\n",
       "      <td>Oil</td>\n",
       "      <td>PUBLIC</td>\n",
       "      <td>5</td>\n",
       "      <td>2.0</td>\n",
       "      <td>1.5</td>\n",
       "      <td>1555000.0</td>\n",
       "      <td>8</td>\n",
       "    </tr>\n",
       "    <tr>\n",
       "      <th>30151</th>\n",
       "      <td>NO</td>\n",
       "      <td>NO</td>\n",
       "      <td>NO</td>\n",
       "      <td>FAIR</td>\n",
       "      <td>Average</td>\n",
       "      <td>7 Average</td>\n",
       "      <td>Gas</td>\n",
       "      <td>PUBLIC</td>\n",
       "      <td>3</td>\n",
       "      <td>2.0</td>\n",
       "      <td>2.0</td>\n",
       "      <td>1313000.0</td>\n",
       "      <td>7</td>\n",
       "    </tr>\n",
       "    <tr>\n",
       "      <th>30152</th>\n",
       "      <td>NO</td>\n",
       "      <td>NO</td>\n",
       "      <td>YES</td>\n",
       "      <td>NONE</td>\n",
       "      <td>Average</td>\n",
       "      <td>7 Average</td>\n",
       "      <td>Gas</td>\n",
       "      <td>PUBLIC</td>\n",
       "      <td>3</td>\n",
       "      <td>2.0</td>\n",
       "      <td>1.0</td>\n",
       "      <td>800000.0</td>\n",
       "      <td>7</td>\n",
       "    </tr>\n",
       "    <tr>\n",
       "      <th>30153</th>\n",
       "      <td>NO</td>\n",
       "      <td>NO</td>\n",
       "      <td>NO</td>\n",
       "      <td>NONE</td>\n",
       "      <td>Average</td>\n",
       "      <td>8 Good</td>\n",
       "      <td>Gas</td>\n",
       "      <td>PUBLIC</td>\n",
       "      <td>3</td>\n",
       "      <td>2.5</td>\n",
       "      <td>2.0</td>\n",
       "      <td>775000.0</td>\n",
       "      <td>8</td>\n",
       "    </tr>\n",
       "    <tr>\n",
       "      <th>30154</th>\n",
       "      <td>NO</td>\n",
       "      <td>NO</td>\n",
       "      <td>NO</td>\n",
       "      <td>NONE</td>\n",
       "      <td>Average</td>\n",
       "      <td>7 Average</td>\n",
       "      <td>Oil</td>\n",
       "      <td>PUBLIC</td>\n",
       "      <td>3</td>\n",
       "      <td>1.5</td>\n",
       "      <td>1.0</td>\n",
       "      <td>500000.0</td>\n",
       "      <td>7</td>\n",
       "    </tr>\n",
       "  </tbody>\n",
       "</table>\n",
       "<p>29760 rows × 13 columns</p>\n",
       "</div>"
      ],
      "text/plain": [
       "      waterfront greenbelt nuisance     view condition      grade  \\\n",
       "0             NO        NO       NO     NONE      Good  7 Average   \n",
       "1             NO        NO      YES  AVERAGE   Average  7 Average   \n",
       "2             NO        NO       NO  AVERAGE   Average  7 Average   \n",
       "3             NO        NO       NO  AVERAGE   Average   9 Better   \n",
       "4             NO        NO      YES     NONE   Average  7 Average   \n",
       "...          ...       ...      ...      ...       ...        ...   \n",
       "30150         NO        NO       NO     NONE      Good     8 Good   \n",
       "30151         NO        NO       NO     FAIR   Average  7 Average   \n",
       "30152         NO        NO      YES     NONE   Average  7 Average   \n",
       "30153         NO        NO       NO     NONE   Average     8 Good   \n",
       "30154         NO        NO       NO     NONE   Average  7 Average   \n",
       "\n",
       "       heat_source sewer_system  bedrooms  bathrooms  floors      price rating  \n",
       "0              Gas       PUBLIC         4        1.0     1.0   675000.0      7  \n",
       "1              Oil       PUBLIC         5        2.5     1.0   920000.0      7  \n",
       "2              Gas       PUBLIC         6        2.0     1.0   311000.0      7  \n",
       "3              Gas       PUBLIC         3        3.0     2.0   775000.0      9  \n",
       "4      Electricity       PUBLIC         2        2.0     2.0   592500.0      7  \n",
       "...            ...          ...       ...        ...     ...        ...    ...  \n",
       "30150          Oil       PUBLIC         5        2.0     1.5  1555000.0      8  \n",
       "30151          Gas       PUBLIC         3        2.0     2.0  1313000.0      7  \n",
       "30152          Gas       PUBLIC         3        2.0     1.0   800000.0      7  \n",
       "30153          Gas       PUBLIC         3        2.5     2.0   775000.0      8  \n",
       "30154          Oil       PUBLIC         3        1.5     1.0   500000.0      7  \n",
       "\n",
       "[29760 rows x 13 columns]"
      ]
     },
     "execution_count": 30,
     "metadata": {},
     "output_type": "execute_result"
    }
   ],
   "source": [
    "# creating a new column with just the number from grade\n",
    "cat_data_edited['rating'] = cat_data_edited['grade'].str.split().apply(lambda x: x[0])\n",
    "cat_data_edited"
   ]
  },
  {
   "cell_type": "code",
   "execution_count": 31,
   "metadata": {},
   "outputs": [
    {
     "name": "stdout",
     "output_type": "stream",
     "text": [
      "<class 'pandas.core.frame.DataFrame'>\n",
      "Int64Index: 29760 entries, 0 to 30154\n",
      "Data columns (total 13 columns):\n",
      " #   Column        Non-Null Count  Dtype  \n",
      "---  ------        --------------  -----  \n",
      " 0   waterfront    29760 non-null  object \n",
      " 1   greenbelt     29760 non-null  object \n",
      " 2   nuisance      29760 non-null  object \n",
      " 3   view          29760 non-null  object \n",
      " 4   condition     29760 non-null  object \n",
      " 5   grade         29760 non-null  object \n",
      " 6   heat_source   29760 non-null  object \n",
      " 7   sewer_system  29760 non-null  object \n",
      " 8   bedrooms      29760 non-null  int64  \n",
      " 9   bathrooms     29760 non-null  float64\n",
      " 10  floors        29760 non-null  float64\n",
      " 11  price         29760 non-null  float64\n",
      " 12  rating        29760 non-null  object \n",
      "dtypes: float64(3), int64(1), object(9)\n",
      "memory usage: 3.2+ MB\n"
     ]
    }
   ],
   "source": [
    "# checking dtype of new column, 'rating'\n",
    "cat_data_edited.info()"
   ]
  },
  {
   "cell_type": "markdown",
   "metadata": {},
   "source": [
    "Let's convert rating from an object dtype to an integer so its relationship with price can be graphed."
   ]
  },
  {
   "cell_type": "code",
   "execution_count": 32,
   "metadata": {},
   "outputs": [
    {
     "name": "stderr",
     "output_type": "stream",
     "text": [
      "<ipython-input-32-aef727951dc1>:2: SettingWithCopyWarning: \n",
      "A value is trying to be set on a copy of a slice from a DataFrame.\n",
      "Try using .loc[row_indexer,col_indexer] = value instead\n",
      "\n",
      "See the caveats in the documentation: https://pandas.pydata.org/pandas-docs/stable/user_guide/indexing.html#returning-a-view-versus-a-copy\n",
      "  cat_data_edited['rating'] = cat_data_edited['rating'].astype('int64')\n"
     ]
    }
   ],
   "source": [
    "# convert rating to int dtype\n",
    "cat_data_edited['rating'] = cat_data_edited['rating'].astype('int64')"
   ]
  },
  {
   "cell_type": "code",
   "execution_count": 33,
   "metadata": {},
   "outputs": [
    {
     "name": "stdout",
     "output_type": "stream",
     "text": [
      "<class 'pandas.core.frame.DataFrame'>\n",
      "Int64Index: 29760 entries, 0 to 30154\n",
      "Data columns (total 13 columns):\n",
      " #   Column        Non-Null Count  Dtype  \n",
      "---  ------        --------------  -----  \n",
      " 0   waterfront    29760 non-null  object \n",
      " 1   greenbelt     29760 non-null  object \n",
      " 2   nuisance      29760 non-null  object \n",
      " 3   view          29760 non-null  object \n",
      " 4   condition     29760 non-null  object \n",
      " 5   grade         29760 non-null  object \n",
      " 6   heat_source   29760 non-null  object \n",
      " 7   sewer_system  29760 non-null  object \n",
      " 8   bedrooms      29760 non-null  int64  \n",
      " 9   bathrooms     29760 non-null  float64\n",
      " 10  floors        29760 non-null  float64\n",
      " 11  price         29760 non-null  float64\n",
      " 12  rating        29760 non-null  int64  \n",
      "dtypes: float64(3), int64(2), object(8)\n",
      "memory usage: 3.2+ MB\n"
     ]
    }
   ],
   "source": [
    "# checking if dtype of rating was converted successfully\n",
    "cat_data_edited.info()"
   ]
  },
  {
   "cell_type": "markdown",
   "metadata": {},
   "source": [
    "Now that <b>rating</b> is of int dtype, let's create a scatterplot to visualize its relationship with <b>price</b>. "
   ]
  },
  {
   "cell_type": "code",
   "execution_count": 34,
   "metadata": {},
   "outputs": [
    {
     "data": {
      "image/png": "[encoded data removed]",
      "text/plain": [
       "<Figure size 1080x576 with 1 Axes>"
      ]
     },
     "metadata": {
      "needs_background": "light"
     },
     "output_type": "display_data"
    }
   ],
   "source": [
    "# creating scatterplot to visualize relationship between rating and price\n",
    "fig, ax = plt.subplots(figsize=(15,8))\n",
    "\n",
    "ax.scatter(cat_data_edited['rating'], cat_data_edited['price'], alpha=0.3, color=\"green\")\n",
    "ax.set_title(\"Rating vs. Price\")\n",
    "ax.set_xlabel(\"Rating\")\n",
    "ax.set_ylabel(\"Price in Ten Millions ($)\");"
   ]
  },
  {
   "cell_type": "code",
   "execution_count": 35,
   "metadata": {},
   "outputs": [
    {
     "data": {
      "text/plain": [
       "bedrooms     0.280329\n",
       "bathrooms    0.444315\n",
       "floors       0.183087\n",
       "price        1.000000\n",
       "rating       0.557879\n",
       "Name: price, dtype: float64"
      ]
     },
     "execution_count": 35,
     "metadata": {},
     "output_type": "execute_result"
    }
   ],
   "source": [
    "# checking correlation between rating and price\n",
    "cat_data_edited.corr()['price']"
   ]
  },
  {
   "cell_type": "markdown",
   "metadata": {},
   "source": [
    "Using <b>.corr()</b>, we see that the correlation coefficient between <b>rating</b> and <b>price</b> is about 0.56. Let's create a linear regression model with <b>rating</b> as the only independent variable."
   ]
  },
  {
   "cell_type": "code",
   "execution_count": 38,
   "metadata": {},
   "outputs": [
    {
     "name": "stdout",
     "output_type": "stream",
     "text": [
      "                            OLS Regression Results                            \n",
      "==============================================================================\n",
      "Dep. Variable:             log(price)   R-squared:                       0.360\n",
      "Model:                            OLS   Adj. R-squared:                  0.360\n",
      "Method:                 Least Squares   F-statistic:                 1.677e+04\n",
      "Date:                Wed, 31 May 2023   Prob (F-statistic):               0.00\n",
      "Time:                        22:10:57   Log-Likelihood:                -18865.\n",
      "No. Observations:               29760   AIC:                         3.773e+04\n",
      "Df Residuals:                   29758   BIC:                         3.775e+04\n",
      "Df Model:                           1                                         \n",
      "Covariance Type:            nonrobust                                         \n",
      "==============================================================================\n",
      "                 coef    std err          t      P>|t|      [0.025      0.975]\n",
      "------------------------------------------------------------------------------\n",
      "const         11.3881      0.018    624.340      0.000      11.352      11.424\n",
      "rating         0.3061      0.002    129.509      0.000       0.301       0.311\n",
      "==============================================================================\n",
      "Omnibus:                     4590.756   Durbin-Watson:                   1.980\n",
      "Prob(Omnibus):                  0.000   Jarque-Bera (JB):            37021.740\n",
      "Skew:                          -0.509   Prob(JB):                         0.00\n",
      "Kurtosis:                       8.369   Cond. No.                         54.1\n",
      "==============================================================================\n",
      "\n",
      "Notes:\n",
      "[1] Standard Errors assume that the covariance matrix of the errors is correctly specified.\n"
     ]
    }
   ],
   "source": [
    "y = cat_data_edited[\"price\"]\n",
    "# log transforming price\n",
    "log_y = np.log(y)\n",
    "log_y.name = \"log(price)\"\n",
    "X_rating = cat_data_edited[[\"rating\"]]\n",
    "\n",
    "rating_model = sm.OLS(log_y, sm.add_constant(X_rating))\n",
    "rating_results = rating_model.fit()\n",
    "\n",
    "print(rating_results.summary())"
   ]
  },
  {
   "cell_type": "code",
   "execution_count": 40,
   "metadata": {},
   "outputs": [
    {
     "data": {
      "text/plain": [
       "0.33853423167429186"
      ]
     },
     "execution_count": 40,
     "metadata": {},
     "output_type": "execute_result"
    }
   ],
   "source": [
    "# calculating overall error of model\n",
    "mae = rating_results.resid.abs().sum() / len(log_y)\n",
    "mae"
   ]
  },
  {
   "cell_type": "markdown",
   "metadata": {},
   "source": [
    "The linear regression model with <b>rating</b> as the only independent variable is significant, with an F-statistic p-value of 0. Both the constant and the rating coefficient are significant and have a t-test p-value of 0. The coefficient for rating indicates that with each 1% increase in rating, about a $440,000 increase in price is expected. The model has an R-squared value of about 0.36. Compared to the chosen baseline model (with log transformed target), this model is about the same at predicting the variance in price and accounts for about <b>36% of the variation</b>, while the baseline detected about <b>37% of the price's variation</b>. In terms of MAE, this model is similar to the chosen baseline as well, having an MAE of about 0.34."
   ]
  },
  {
   "cell_type": "markdown",
   "metadata": {},
   "source": [
    "Let's take a look at some of the other categorical variables to see what could be useful."
   ]
  },
  {
   "cell_type": "code",
   "execution_count": 41,
   "metadata": {},
   "outputs": [
    {
     "data": {
      "text/plain": [
       "NO     29275\n",
       "YES      485\n",
       "Name: waterfront, dtype: int64"
      ]
     },
     "execution_count": 41,
     "metadata": {},
     "output_type": "execute_result"
    }
   ],
   "source": [
    "cat_data_edited['waterfront'].value_counts()"
   ]
  },
  {
   "cell_type": "code",
   "execution_count": 42,
   "metadata": {},
   "outputs": [
    {
     "data": {
      "text/plain": [
       "NO     28998\n",
       "YES      762\n",
       "Name: greenbelt, dtype: int64"
      ]
     },
     "execution_count": 42,
     "metadata": {},
     "output_type": "execute_result"
    }
   ],
   "source": [
    "cat_data_edited['greenbelt'].value_counts()"
   ]
  },
  {
   "cell_type": "code",
   "execution_count": 43,
   "metadata": {},
   "outputs": [
    {
     "data": {
      "text/plain": [
       "NO     24605\n",
       "YES     5155\n",
       "Name: nuisance, dtype: int64"
      ]
     },
     "execution_count": 43,
     "metadata": {},
     "output_type": "execute_result"
    }
   ],
   "source": [
    "cat_data_edited['nuisance'].value_counts()"
   ]
  },
  {
   "cell_type": "code",
   "execution_count": 44,
   "metadata": {},
   "outputs": [
    {
     "data": {
      "text/plain": [
       "NONE         26299\n",
       "AVERAGE       1871\n",
       "GOOD           860\n",
       "EXCELLENT      515\n",
       "FAIR           215\n",
       "Name: view, dtype: int64"
      ]
     },
     "execution_count": 44,
     "metadata": {},
     "output_type": "execute_result"
    }
   ],
   "source": [
    "cat_data_edited['view'].value_counts()"
   ]
  },
  {
   "cell_type": "code",
   "execution_count": 45,
   "metadata": {},
   "outputs": [
    {
     "data": {
      "text/plain": [
       "Average      18241\n",
       "Good          8000\n",
       "Very Good     3236\n",
       "Fair           224\n",
       "Poor            59\n",
       "Name: condition, dtype: int64"
      ]
     },
     "execution_count": 45,
     "metadata": {},
     "output_type": "execute_result"
    }
   ],
   "source": [
    "cat_data_edited['condition'].value_counts()"
   ]
  },
  {
   "cell_type": "code",
   "execution_count": 46,
   "metadata": {},
   "outputs": [
    {
     "data": {
      "text/plain": [
       "Gas                  20297\n",
       "Electricity           6405\n",
       "Oil                   2884\n",
       "Gas/Solar               91\n",
       "Electricity/Solar       59\n",
       "Other                   20\n",
       "Oil/Solar                4\n",
       "Name: heat_source, dtype: int64"
      ]
     },
     "execution_count": 46,
     "metadata": {},
     "output_type": "execute_result"
    }
   ],
   "source": [
    "cat_data_edited['heat_source'].value_counts()"
   ]
  },
  {
   "cell_type": "code",
   "execution_count": 47,
   "metadata": {},
   "outputs": [
    {
     "data": {
      "text/plain": [
       "PUBLIC                25462\n",
       "PRIVATE                4290\n",
       "PRIVATE RESTRICTED        5\n",
       "PUBLIC RESTRICTED         3\n",
       "Name: sewer_system, dtype: int64"
      ]
     },
     "execution_count": 47,
     "metadata": {},
     "output_type": "execute_result"
    }
   ],
   "source": [
    "cat_data_edited['sewer_system'].value_counts()"
   ]
  },
  {
   "cell_type": "code",
   "execution_count": 48,
   "metadata": {},
   "outputs": [
    {
     "data": {
      "text/plain": [
       "3    12746\n",
       "4     9558\n",
       "2     3925\n",
       "5     2704\n",
       "6      446\n",
       "1      381\n",
       "Name: bedrooms, dtype: int64"
      ]
     },
     "execution_count": 48,
     "metadata": {},
     "output_type": "execute_result"
    }
   ],
   "source": [
    "cat_data_edited['bedrooms'].value_counts()"
   ]
  },
  {
   "cell_type": "code",
   "execution_count": 49,
   "metadata": {},
   "outputs": [
    {
     "data": {
      "text/plain": [
       "2.5    8466\n",
       "2.0    7335\n",
       "1.0    4541\n",
       "3.0    4082\n",
       "3.5    2254\n",
       "1.5    1806\n",
       "4.0     616\n",
       "4.5     516\n",
       "5.0     135\n",
       "0.5       5\n",
       "0.0       4\n",
       "Name: bathrooms, dtype: int64"
      ]
     },
     "execution_count": 49,
     "metadata": {},
     "output_type": "execute_result"
    }
   ],
   "source": [
    "cat_data_edited['bathrooms'].value_counts()"
   ]
  },
  {
   "cell_type": "code",
   "execution_count": 50,
   "metadata": {},
   "outputs": [
    {
     "data": {
      "text/plain": [
       "1.0    13876\n",
       "2.0    12032\n",
       "1.5     2419\n",
       "3.0     1186\n",
       "2.5      203\n",
       "4.0       29\n",
       "3.5       15\n",
       "Name: floors, dtype: int64"
      ]
     },
     "execution_count": 50,
     "metadata": {},
     "output_type": "execute_result"
    }
   ],
   "source": [
    "cat_data_edited['floors'].value_counts()"
   ]
  },
  {
   "cell_type": "markdown",
   "metadata": {},
   "source": [
    "Looking at the <b>.value_counts()</b> for the other categorical variables, it appears that <b>waterfront</b>, <b>greenbelt</b>, and <b>nuisance</b> are binary, having two categories ('NO' and 'YES'). Meanwhile, <b>view</b> and <b>condition</b> have five categories. For <b>heat_source</b> and <b>sewer_system</b>, the categories have a lot of overlap (i.e. electricity/solar, private/restricted). The number of <b>bedrooms</b> range from 1-6, the number of <b>bathrooms</b> range from 0.0-5.0, and the number of <b>floors</b> range from 1.0-4.0. I will drop the <b>heat_source</b> and <b>sewer_system</b> columns from the dataframe since their categories are not clearly defined. "
   ]
  },
  {
   "cell_type": "code",
   "execution_count": 51,
   "metadata": {},
   "outputs": [
    {
     "data": {
      "text/html": [
       "<div>\n",
       "<style scoped>\n",
       "    .dataframe tbody tr th:only-of-type {\n",
       "        vertical-align: middle;\n",
       "    }\n",
       "\n",
       "    .dataframe tbody tr th {\n",
       "        vertical-align: top;\n",
       "    }\n",
       "\n",
       "    .dataframe thead th {\n",
       "        text-align: right;\n",
       "    }\n",
       "</style>\n",
       "<table border=\"1\" class=\"dataframe\">\n",
       "  <thead>\n",
       "    <tr style=\"text-align: right;\">\n",
       "      <th></th>\n",
       "      <th>waterfront</th>\n",
       "      <th>greenbelt</th>\n",
       "      <th>nuisance</th>\n",
       "      <th>view</th>\n",
       "      <th>condition</th>\n",
       "      <th>grade</th>\n",
       "      <th>bedrooms</th>\n",
       "      <th>bathrooms</th>\n",
       "      <th>floors</th>\n",
       "      <th>price</th>\n",
       "      <th>rating</th>\n",
       "    </tr>\n",
       "  </thead>\n",
       "  <tbody>\n",
       "    <tr>\n",
       "      <th>0</th>\n",
       "      <td>NO</td>\n",
       "      <td>NO</td>\n",
       "      <td>NO</td>\n",
       "      <td>NONE</td>\n",
       "      <td>Good</td>\n",
       "      <td>7 Average</td>\n",
       "      <td>4</td>\n",
       "      <td>1.0</td>\n",
       "      <td>1.0</td>\n",
       "      <td>675000.0</td>\n",
       "      <td>7</td>\n",
       "    </tr>\n",
       "    <tr>\n",
       "      <th>1</th>\n",
       "      <td>NO</td>\n",
       "      <td>NO</td>\n",
       "      <td>YES</td>\n",
       "      <td>AVERAGE</td>\n",
       "      <td>Average</td>\n",
       "      <td>7 Average</td>\n",
       "      <td>5</td>\n",
       "      <td>2.5</td>\n",
       "      <td>1.0</td>\n",
       "      <td>920000.0</td>\n",
       "      <td>7</td>\n",
       "    </tr>\n",
       "    <tr>\n",
       "      <th>2</th>\n",
       "      <td>NO</td>\n",
       "      <td>NO</td>\n",
       "      <td>NO</td>\n",
       "      <td>AVERAGE</td>\n",
       "      <td>Average</td>\n",
       "      <td>7 Average</td>\n",
       "      <td>6</td>\n",
       "      <td>2.0</td>\n",
       "      <td>1.0</td>\n",
       "      <td>311000.0</td>\n",
       "      <td>7</td>\n",
       "    </tr>\n",
       "    <tr>\n",
       "      <th>3</th>\n",
       "      <td>NO</td>\n",
       "      <td>NO</td>\n",
       "      <td>NO</td>\n",
       "      <td>AVERAGE</td>\n",
       "      <td>Average</td>\n",
       "      <td>9 Better</td>\n",
       "      <td>3</td>\n",
       "      <td>3.0</td>\n",
       "      <td>2.0</td>\n",
       "      <td>775000.0</td>\n",
       "      <td>9</td>\n",
       "    </tr>\n",
       "    <tr>\n",
       "      <th>4</th>\n",
       "      <td>NO</td>\n",
       "      <td>NO</td>\n",
       "      <td>YES</td>\n",
       "      <td>NONE</td>\n",
       "      <td>Average</td>\n",
       "      <td>7 Average</td>\n",
       "      <td>2</td>\n",
       "      <td>2.0</td>\n",
       "      <td>2.0</td>\n",
       "      <td>592500.0</td>\n",
       "      <td>7</td>\n",
       "    </tr>\n",
       "    <tr>\n",
       "      <th>...</th>\n",
       "      <td>...</td>\n",
       "      <td>...</td>\n",
       "      <td>...</td>\n",
       "      <td>...</td>\n",
       "      <td>...</td>\n",
       "      <td>...</td>\n",
       "      <td>...</td>\n",
       "      <td>...</td>\n",
       "      <td>...</td>\n",
       "      <td>...</td>\n",
       "      <td>...</td>\n",
       "    </tr>\n",
       "    <tr>\n",
       "      <th>30150</th>\n",
       "      <td>NO</td>\n",
       "      <td>NO</td>\n",
       "      <td>NO</td>\n",
       "      <td>NONE</td>\n",
       "      <td>Good</td>\n",
       "      <td>8 Good</td>\n",
       "      <td>5</td>\n",
       "      <td>2.0</td>\n",
       "      <td>1.5</td>\n",
       "      <td>1555000.0</td>\n",
       "      <td>8</td>\n",
       "    </tr>\n",
       "    <tr>\n",
       "      <th>30151</th>\n",
       "      <td>NO</td>\n",
       "      <td>NO</td>\n",
       "      <td>NO</td>\n",
       "      <td>FAIR</td>\n",
       "      <td>Average</td>\n",
       "      <td>7 Average</td>\n",
       "      <td>3</td>\n",
       "      <td>2.0</td>\n",
       "      <td>2.0</td>\n",
       "      <td>1313000.0</td>\n",
       "      <td>7</td>\n",
       "    </tr>\n",
       "    <tr>\n",
       "      <th>30152</th>\n",
       "      <td>NO</td>\n",
       "      <td>NO</td>\n",
       "      <td>YES</td>\n",
       "      <td>NONE</td>\n",
       "      <td>Average</td>\n",
       "      <td>7 Average</td>\n",
       "      <td>3</td>\n",
       "      <td>2.0</td>\n",
       "      <td>1.0</td>\n",
       "      <td>800000.0</td>\n",
       "      <td>7</td>\n",
       "    </tr>\n",
       "    <tr>\n",
       "      <th>30153</th>\n",
       "      <td>NO</td>\n",
       "      <td>NO</td>\n",
       "      <td>NO</td>\n",
       "      <td>NONE</td>\n",
       "      <td>Average</td>\n",
       "      <td>8 Good</td>\n",
       "      <td>3</td>\n",
       "      <td>2.5</td>\n",
       "      <td>2.0</td>\n",
       "      <td>775000.0</td>\n",
       "      <td>8</td>\n",
       "    </tr>\n",
       "    <tr>\n",
       "      <th>30154</th>\n",
       "      <td>NO</td>\n",
       "      <td>NO</td>\n",
       "      <td>NO</td>\n",
       "      <td>NONE</td>\n",
       "      <td>Average</td>\n",
       "      <td>7 Average</td>\n",
       "      <td>3</td>\n",
       "      <td>1.5</td>\n",
       "      <td>1.0</td>\n",
       "      <td>500000.0</td>\n",
       "      <td>7</td>\n",
       "    </tr>\n",
       "  </tbody>\n",
       "</table>\n",
       "<p>29760 rows × 11 columns</p>\n",
       "</div>"
      ],
      "text/plain": [
       "      waterfront greenbelt nuisance     view condition      grade  bedrooms  \\\n",
       "0             NO        NO       NO     NONE      Good  7 Average         4   \n",
       "1             NO        NO      YES  AVERAGE   Average  7 Average         5   \n",
       "2             NO        NO       NO  AVERAGE   Average  7 Average         6   \n",
       "3             NO        NO       NO  AVERAGE   Average   9 Better         3   \n",
       "4             NO        NO      YES     NONE   Average  7 Average         2   \n",
       "...          ...       ...      ...      ...       ...        ...       ...   \n",
       "30150         NO        NO       NO     NONE      Good     8 Good         5   \n",
       "30151         NO        NO       NO     FAIR   Average  7 Average         3   \n",
       "30152         NO        NO      YES     NONE   Average  7 Average         3   \n",
       "30153         NO        NO       NO     NONE   Average     8 Good         3   \n",
       "30154         NO        NO       NO     NONE   Average  7 Average         3   \n",
       "\n",
       "       bathrooms  floors      price  rating  \n",
       "0            1.0     1.0   675000.0       7  \n",
       "1            2.5     1.0   920000.0       7  \n",
       "2            2.0     1.0   311000.0       7  \n",
       "3            3.0     2.0   775000.0       9  \n",
       "4            2.0     2.0   592500.0       7  \n",
       "...          ...     ...        ...     ...  \n",
       "30150        2.0     1.5  1555000.0       8  \n",
       "30151        2.0     2.0  1313000.0       7  \n",
       "30152        2.0     1.0   800000.0       7  \n",
       "30153        2.5     2.0   775000.0       8  \n",
       "30154        1.5     1.0   500000.0       7  \n",
       "\n",
       "[29760 rows x 11 columns]"
      ]
     },
     "execution_count": 51,
     "metadata": {},
     "output_type": "execute_result"
    }
   ],
   "source": [
    "# dropping heat_source and sewer_system\n",
    "cat_data_edited = cat_data_edited.drop('heat_source', axis=1)\n",
    "cat_data_edited = cat_data_edited.drop('sewer_system', axis=1)\n",
    "cat_data_edited"
   ]
  },
  {
   "cell_type": "markdown",
   "metadata": {},
   "source": [
    "For the remaining columns, let's create some bar graphs to visualize average price in relation to each variable. I will also employ the <b>.grouby()</b> method to see the mean differences of each category."
   ]
  },
  {
   "cell_type": "code",
   "execution_count": 52,
   "metadata": {},
   "outputs": [
    {
     "data": {
      "image/png": "[encoded data removed]",
      "text/plain": [
       "<Figure size 864x360 with 1 Axes>"
      ]
     },
     "metadata": {
      "needs_background": "light"
     },
     "output_type": "display_data"
    }
   ],
   "source": [
    "# waterfront vs price\n",
    "fig, ax = plt.subplots(figsize=(12,5))\n",
    "cat_data_edited.groupby(\"waterfront\").mean().plot.bar(y=\"price\", ax=ax);"
   ]
  },
  {
   "cell_type": "code",
   "execution_count": 53,
   "metadata": {},
   "outputs": [
    {
     "data": {
      "image/png": "[encoded data removed]",
      "text/plain": [
       "<Figure size 864x360 with 1 Axes>"
      ]
     },
     "metadata": {
      "needs_background": "light"
     },
     "output_type": "display_data"
    }
   ],
   "source": [
    "# greenbelt vs price\n",
    "fig, ax = plt.subplots(figsize=(12,5))\n",
    "cat_data_edited.groupby(\"greenbelt\").mean().plot.bar(y=\"price\", ax=ax);"
   ]
  },
  {
   "cell_type": "code",
   "execution_count": 54,
   "metadata": {},
   "outputs": [
    {
     "data": {
      "image/png": "[encoded data removed]",
      "text/plain": [
       "<Figure size 864x360 with 1 Axes>"
      ]
     },
     "metadata": {
      "needs_background": "light"
     },
     "output_type": "display_data"
    }
   ],
   "source": [
    "# nuisance vs price\n",
    "fig, ax = plt.subplots(figsize=(12,5))\n",
    "cat_data_edited.groupby(\"nuisance\").mean().plot.bar(y=\"price\", ax=ax);"
   ]
  },
  {
   "cell_type": "code",
   "execution_count": 55,
   "metadata": {},
   "outputs": [
    {
     "data": {
      "image/png": "[encoded data removed]",
      "text/plain": [
       "<Figure size 864x360 with 1 Axes>"
      ]
     },
     "metadata": {
      "needs_background": "light"
     },
     "output_type": "display_data"
    }
   ],
   "source": [
    "# view vs price\n",
    "fig, ax = plt.subplots(figsize=(12,5))\n",
    "cat_data_edited.groupby(\"view\").mean().plot.bar(y=\"price\", ax=ax);"
   ]
  },
  {
   "cell_type": "code",
   "execution_count": 56,
   "metadata": {},
   "outputs": [
    {
     "data": {
      "image/png": "[encoded data removed]",
      "text/plain": [
       "<Figure size 864x360 with 1 Axes>"
      ]
     },
     "metadata": {
      "needs_background": "light"
     },
     "output_type": "display_data"
    }
   ],
   "source": [
    "# condition vs price\n",
    "fig, ax = plt.subplots(figsize=(12,5))\n",
    "cat_data_edited.groupby(\"condition\").mean().plot.bar(y=\"price\", ax=ax);"
   ]
  },
  {
   "cell_type": "code",
   "execution_count": 57,
   "metadata": {},
   "outputs": [
    {
     "data": {
      "image/png": "[encoded data removed]",
      "text/plain": [
       "<Figure size 864x360 with 1 Axes>"
      ]
     },
     "metadata": {
      "needs_background": "light"
     },
     "output_type": "display_data"
    }
   ],
   "source": [
    "# bedrooms vs price\n",
    "fig, ax = plt.subplots(figsize=(12,5))\n",
    "cat_data_edited.groupby(\"bedrooms\").mean().plot.bar(y=\"price\", ax=ax);"
   ]
  },
  {
   "cell_type": "code",
   "execution_count": 58,
   "metadata": {},
   "outputs": [
    {
     "data": {
      "image/png": "[encoded data removed]",
      "text/plain": [
       "<Figure size 864x360 with 1 Axes>"
      ]
     },
     "metadata": {
      "needs_background": "light"
     },
     "output_type": "display_data"
    }
   ],
   "source": [
    "# bathrooms vs price\n",
    "fig, ax = plt.subplots(figsize=(12,5))\n",
    "cat_data_edited.groupby(\"bathrooms\").mean().plot.bar(y=\"price\", ax=ax);"
   ]
  },
  {
   "cell_type": "code",
   "execution_count": 59,
   "metadata": {},
   "outputs": [
    {
     "data": {
      "image/png": "[encoded data removed]",
      "text/plain": [
       "<Figure size 864x360 with 1 Axes>"
      ]
     },
     "metadata": {
      "needs_background": "light"
     },
     "output_type": "display_data"
    }
   ],
   "source": [
    "# floors vs price\n",
    "fig, ax = plt.subplots(figsize=(12,5))\n",
    "cat_data_edited.groupby(\"floors\").mean().plot.bar(y=\"price\", ax=ax);"
   ]
  },
  {
   "cell_type": "markdown",
   "metadata": {},
   "source": [
    "Looking at the three binary variables (<b>waterfront</b>, <b>greenbelt</b>, and <b>nuisance</b>), it appears that having a waterfront versus not having one makes a difference in mean price, having a greenbelt versus not having one makes a slight difference in mean price, and nuisance does not make much of a difference in mean price. Specifically, the presence of a waterfront and greenbelt generally increases the price of a home, simply based on the bar graph visualizations of the raw data. \n",
    "\n",
    "For <b>view</b>, houses rated 'excellent' had a higher mean price than those rated 'none'. For <b>condition</b>, houses with 'average', 'very good', and 'good' ratings had a greater mean price than those rated 'poor', with 'average' having the highest mean price overall, which was surprising. \n",
    "\n",
    "For the <b>bedrooms</b> and <b>bathrooms</b> bar graphs, we see a negative skew, while the bar graph for <b>floors</b> is normal.\n",
    "\n",
    "Let's create a linear regression model incorporating these categorical variables plus rating. However, before the model can be made, the strings in the <b>waterfront</b>, <b>greenbelt</b>, <b>nuisance</b>, <b>view</b>, and <b>condition</b> columns need to be converted into stand-in integers. "
   ]
  },
  {
   "cell_type": "code",
   "execution_count": 60,
   "metadata": {},
   "outputs": [],
   "source": [
    "# Adapted from Morgan Jones' code \n",
    "# https://github.com/mojo-flat/Linear-Regression-GP-2/blob/main/lin_reg_gp_2_solution.ipynb\n",
    "\n",
    "from sklearn.preprocessing import LabelEncoder\n",
    "\n",
    "# instantiate a label encoder\n",
    "le = LabelEncoder()\n",
    "\n",
    "# fit the label encoder to the waterfront variable, while dropping any duplicates\n",
    "le.fit(cat_data_edited['waterfront'].drop_duplicates()) \n",
    "# create new waterfront variable with label encoded values\n",
    "cat_data_edited['waterfront'] = le.transform(cat_data_edited['waterfront'])\n",
    "\n",
    "# fit the label encoder to the greenbelt variable, while dropping any duplicates\n",
    "le.fit(cat_data_edited['greenbelt'].drop_duplicates()) \n",
    "# create new greenbelt variable with label encoded values\n",
    "cat_data_edited['greenbelt'] = le.transform(cat_data_edited['greenbelt'])\n",
    "\n",
    "# fit the label encoder to the nuisance variable, while dropping any duplicates\n",
    "le.fit(cat_data_edited['nuisance'].drop_duplicates()) \n",
    "# create new view variable with label encoded values\n",
    "cat_data_edited['nuisance'] = le.transform(cat_data_edited['nuisance'])\n",
    "\n",
    "# fit the label encoder to the view variable, while dropping any duplicates\n",
    "le.fit(cat_data_edited['view'].drop_duplicates()) \n",
    "# create new view variable with label encoded values\n",
    "cat_data_edited['view'] = le.transform(cat_data_edited['view'])\n",
    "\n",
    "# fit the label encoder to the condition variable, while dropping any duplicates\n",
    "le.fit(cat_data_edited['condition'].drop_duplicates()) \n",
    "# create new view variable with label encoded values\n",
    "cat_data_edited['condition'] = le.transform(cat_data_edited['condition'])"
   ]
  },
  {
   "cell_type": "markdown",
   "metadata": {},
   "source": [
    "We can see that the data in the waterfront, greenbelt, nuisance, view, and condition columns were successfully transformed. "
   ]
  },
  {
   "cell_type": "code",
   "execution_count": 61,
   "metadata": {},
   "outputs": [
    {
     "data": {
      "text/html": [
       "<div>\n",
       "<style scoped>\n",
       "    .dataframe tbody tr th:only-of-type {\n",
       "        vertical-align: middle;\n",
       "    }\n",
       "\n",
       "    .dataframe tbody tr th {\n",
       "        vertical-align: top;\n",
       "    }\n",
       "\n",
       "    .dataframe thead th {\n",
       "        text-align: right;\n",
       "    }\n",
       "</style>\n",
       "<table border=\"1\" class=\"dataframe\">\n",
       "  <thead>\n",
       "    <tr style=\"text-align: right;\">\n",
       "      <th></th>\n",
       "      <th>waterfront</th>\n",
       "      <th>greenbelt</th>\n",
       "      <th>nuisance</th>\n",
       "      <th>view</th>\n",
       "      <th>condition</th>\n",
       "      <th>grade</th>\n",
       "      <th>bedrooms</th>\n",
       "      <th>bathrooms</th>\n",
       "      <th>floors</th>\n",
       "      <th>price</th>\n",
       "      <th>rating</th>\n",
       "    </tr>\n",
       "  </thead>\n",
       "  <tbody>\n",
       "    <tr>\n",
       "      <th>0</th>\n",
       "      <td>0</td>\n",
       "      <td>0</td>\n",
       "      <td>0</td>\n",
       "      <td>4</td>\n",
       "      <td>2</td>\n",
       "      <td>7 Average</td>\n",
       "      <td>4</td>\n",
       "      <td>1.0</td>\n",
       "      <td>1.0</td>\n",
       "      <td>675000.0</td>\n",
       "      <td>7</td>\n",
       "    </tr>\n",
       "    <tr>\n",
       "      <th>1</th>\n",
       "      <td>0</td>\n",
       "      <td>0</td>\n",
       "      <td>1</td>\n",
       "      <td>0</td>\n",
       "      <td>0</td>\n",
       "      <td>7 Average</td>\n",
       "      <td>5</td>\n",
       "      <td>2.5</td>\n",
       "      <td>1.0</td>\n",
       "      <td>920000.0</td>\n",
       "      <td>7</td>\n",
       "    </tr>\n",
       "    <tr>\n",
       "      <th>2</th>\n",
       "      <td>0</td>\n",
       "      <td>0</td>\n",
       "      <td>0</td>\n",
       "      <td>0</td>\n",
       "      <td>0</td>\n",
       "      <td>7 Average</td>\n",
       "      <td>6</td>\n",
       "      <td>2.0</td>\n",
       "      <td>1.0</td>\n",
       "      <td>311000.0</td>\n",
       "      <td>7</td>\n",
       "    </tr>\n",
       "    <tr>\n",
       "      <th>3</th>\n",
       "      <td>0</td>\n",
       "      <td>0</td>\n",
       "      <td>0</td>\n",
       "      <td>0</td>\n",
       "      <td>0</td>\n",
       "      <td>9 Better</td>\n",
       "      <td>3</td>\n",
       "      <td>3.0</td>\n",
       "      <td>2.0</td>\n",
       "      <td>775000.0</td>\n",
       "      <td>9</td>\n",
       "    </tr>\n",
       "    <tr>\n",
       "      <th>4</th>\n",
       "      <td>0</td>\n",
       "      <td>0</td>\n",
       "      <td>1</td>\n",
       "      <td>4</td>\n",
       "      <td>0</td>\n",
       "      <td>7 Average</td>\n",
       "      <td>2</td>\n",
       "      <td>2.0</td>\n",
       "      <td>2.0</td>\n",
       "      <td>592500.0</td>\n",
       "      <td>7</td>\n",
       "    </tr>\n",
       "  </tbody>\n",
       "</table>\n",
       "</div>"
      ],
      "text/plain": [
       "   waterfront  greenbelt  nuisance  view  condition      grade  bedrooms  \\\n",
       "0           0          0         0     4          2  7 Average         4   \n",
       "1           0          0         1     0          0  7 Average         5   \n",
       "2           0          0         0     0          0  7 Average         6   \n",
       "3           0          0         0     0          0   9 Better         3   \n",
       "4           0          0         1     4          0  7 Average         2   \n",
       "\n",
       "   bathrooms  floors     price  rating  \n",
       "0        1.0     1.0  675000.0       7  \n",
       "1        2.5     1.0  920000.0       7  \n",
       "2        2.0     1.0  311000.0       7  \n",
       "3        3.0     2.0  775000.0       9  \n",
       "4        2.0     2.0  592500.0       7  "
      ]
     },
     "execution_count": 61,
     "metadata": {},
     "output_type": "execute_result"
    }
   ],
   "source": [
    "cat_data_edited.head()"
   ]
  },
  {
   "cell_type": "markdown",
   "metadata": {},
   "source": [
    "Now that everything has been converted to integer stand-ins, we can use the <b>pd.get_dummies</b> function to create dummy variables. To avoid the dummy variable trap (perfect multicolinearity), we will use <b>.drop()</b> and specify a reference column. Then, we can create our linear regression model."
   ]
  },
  {
   "cell_type": "code",
   "execution_count": 63,
   "metadata": {},
   "outputs": [
    {
     "name": "stdout",
     "output_type": "stream",
     "text": [
      "                            OLS Regression Results                            \n",
      "==============================================================================\n",
      "Dep. Variable:             log(price)   R-squared:                       0.426\n",
      "Model:                            OLS   Adj. R-squared:                  0.426\n",
      "Method:                 Least Squares   F-statistic:                     1164.\n",
      "Date:                Wed, 31 May 2023   Prob (F-statistic):               0.00\n",
      "Time:                        22:24:12   Log-Likelihood:                -17244.\n",
      "No. Observations:               29760   AIC:                         3.453e+04\n",
      "Df Residuals:                   29740   BIC:                         3.469e+04\n",
      "Df Model:                          19                                         \n",
      "Covariance Type:            nonrobust                                         \n",
      "==============================================================================\n",
      "                 coef    std err          t      P>|t|      [0.025      0.975]\n",
      "------------------------------------------------------------------------------\n",
      "const         14.3066      0.165     86.759      0.000      13.983      14.630\n",
      "waterfront     0.3377      0.021     16.295      0.000       0.297       0.378\n",
      "greenbelt      0.0908      0.016      5.663      0.000       0.059       0.122\n",
      "nuisance       0.0484      0.007      7.262      0.000       0.035       0.061\n",
      "view          -0.0470      0.003    -18.568      0.000      -0.052      -0.042\n",
      "condition      0.0356      0.002     18.328      0.000       0.032       0.039\n",
      "bedrooms       0.0478      0.003     14.153      0.000       0.041       0.054\n",
      "bathrooms      0.1066      0.005     23.159      0.000       0.098       0.116\n",
      "floors        -0.0494      0.005     -9.079      0.000      -0.060      -0.039\n",
      "rating_2      -1.3819      0.462     -2.990      0.003      -2.288      -0.476\n",
      "rating_3      -1.6259      0.231     -7.025      0.000      -2.079      -1.172\n",
      "rating_4      -1.2906      0.176     -7.335      0.000      -1.635      -0.946\n",
      "rating_5      -1.2313      0.165     -7.441      0.000      -1.556      -0.907\n",
      "rating_6      -1.1565      0.164     -7.045      0.000      -1.478      -0.835\n",
      "rating_7      -0.9705      0.164     -5.924      0.000      -1.292      -0.649\n",
      "rating_8      -0.7376      0.164     -4.506      0.000      -1.058      -0.417\n",
      "rating_9      -0.4105      0.164     -2.508      0.012      -0.731      -0.090\n",
      "rating_10     -0.1083      0.164     -0.661      0.509      -0.430       0.213\n",
      "rating_11      0.1480      0.165      0.897      0.370      -0.175       0.471\n",
      "rating_12      0.3486      0.170      2.055      0.040       0.016       0.681\n",
      "==============================================================================\n",
      "Omnibus:                     6105.863   Durbin-Watson:                   1.966\n",
      "Prob(Omnibus):                  0.000   Jarque-Bera (JB):            56366.967\n",
      "Skew:                          -0.725   Prob(JB):                         0.00\n",
      "Kurtosis:                       9.584   Cond. No.                     1.42e+03\n",
      "==============================================================================\n",
      "\n",
      "Notes:\n",
      "[1] Standard Errors assume that the covariance matrix of the errors is correctly specified.\n",
      "[2] The condition number is large, 1.42e+03. This might indicate that there are\n",
      "strong multicollinearity or other numerical problems.\n"
     ]
    }
   ],
   "source": [
    "# creating model of multiple categorical variables\n",
    "X_cat = cat_data_edited[[\"waterfront\", \"greenbelt\", \"nuisance\", \"view\", \"condition\", \"bedrooms\", \"bathrooms\",\n",
    "                     \"floors\", \"rating\"]]\n",
    "\n",
    "# get dummy variables\n",
    "X_cat = pd.get_dummies(X_cat, columns=[\"rating\"])\n",
    "X_cat = X_cat.drop(\"rating_13\", axis=1) # rating_13 is the reference col to drop\n",
    "\n",
    "# create linear regression model\n",
    "cat_model = sm.OLS(log_y, sm.add_constant(X_cat)) # log transformed target used\n",
    "cat_results = cat_model.fit()\n",
    "\n",
    "print(cat_results.summary())"
   ]
  },
  {
   "cell_type": "code",
   "execution_count": 64,
   "metadata": {},
   "outputs": [
    {
     "data": {
      "text/plain": [
       "0.314755141244796"
      ]
     },
     "execution_count": 64,
     "metadata": {},
     "output_type": "execute_result"
    }
   ],
   "source": [
    "# calculating overall error of model\n",
    "mae = cat_results.resid.abs().sum() / len(log_y)\n",
    "mae"
   ]
  },
  {
   "cell_type": "markdown",
   "metadata": {},
   "source": [
    "This linear regression model incorporating all the categorical variables of interest shows an adjusted R-squared value of 0.426. This is an improvement from the chosen baseline model, indicating that this model predicts about <b>43% of the variation in price</b>. The MAE is also lower than the chosen baseline, being about 0.31. However, this model incorporates many variables to achieve its higher adjusted R-squared value. Let's see what happens when we combine our <b>baseline model</b> (which only had <b>sqft_living</b> as an independent variable) with this model. "
   ]
  },
  {
   "cell_type": "markdown",
   "metadata": {},
   "source": [
    "# Numeric and Categorical Variables\n",
    "\n",
    "We looked at linear regression models with numeric and categorical variables separately. Let's create a model that incorporates both of these types. First, the transformations that were performed on the <b>cat_data_edited</b> dataframe copy need to be performed on the original dataframe, <b>house_data</b>. "
   ]
  },
  {
   "cell_type": "code",
   "execution_count": 65,
   "metadata": {},
   "outputs": [],
   "source": [
    "# Adapted from Morgan Jones' code \n",
    "# https://github.com/mojo-flat/Linear-Regression-GP-2/blob/main/lin_reg_gp_2_solution.ipynb\n",
    "\n",
    "from sklearn.preprocessing import LabelEncoder\n",
    "\n",
    "# instantiate a label encoder\n",
    "le = LabelEncoder()\n",
    "\n",
    "# fit the label encoder to the waterfront variable, while dropping any duplicates\n",
    "le.fit(house_data['waterfront'].drop_duplicates()) \n",
    "# create new waterfront variable with label encoded values\n",
    "house_data['waterfront'] = le.transform(house_data['waterfront'])\n",
    "\n",
    "# fit the label encoder to the greenbelt variable, while dropping any duplicates\n",
    "le.fit(house_data['greenbelt'].drop_duplicates()) \n",
    "# create new greenbelt variable with label encoded values\n",
    "house_data['greenbelt'] = le.transform(house_data['greenbelt'])\n",
    "\n",
    "# fit the label encoder to the nuisance variable, while dropping any duplicates\n",
    "le.fit(house_data['nuisance'].drop_duplicates()) \n",
    "# create new view variable with label encoded values\n",
    "house_data['nuisance'] = le.transform(house_data['nuisance'])\n",
    "\n",
    "# fit the label encoder to the view variable, while dropping any duplicates\n",
    "le.fit(house_data['view'].drop_duplicates()) \n",
    "# create new view variable with label encoded values\n",
    "house_data['view'] = le.transform(house_data['view'])\n",
    "\n",
    "# fit the label encoder to the condition variable, while dropping any duplicates\n",
    "le.fit(house_data['condition'].drop_duplicates()) \n",
    "# create new view variable with label encoded values\n",
    "house_data['condition'] = le.transform(house_data['condition'])"
   ]
  },
  {
   "cell_type": "code",
   "execution_count": 66,
   "metadata": {},
   "outputs": [
    {
     "data": {
      "text/html": [
       "<div>\n",
       "<style scoped>\n",
       "    .dataframe tbody tr th:only-of-type {\n",
       "        vertical-align: middle;\n",
       "    }\n",
       "\n",
       "    .dataframe tbody tr th {\n",
       "        vertical-align: top;\n",
       "    }\n",
       "\n",
       "    .dataframe thead th {\n",
       "        text-align: right;\n",
       "    }\n",
       "</style>\n",
       "<table border=\"1\" class=\"dataframe\">\n",
       "  <thead>\n",
       "    <tr style=\"text-align: right;\">\n",
       "      <th></th>\n",
       "      <th>id</th>\n",
       "      <th>date</th>\n",
       "      <th>price</th>\n",
       "      <th>bedrooms</th>\n",
       "      <th>bathrooms</th>\n",
       "      <th>sqft_living</th>\n",
       "      <th>sqft_lot</th>\n",
       "      <th>floors</th>\n",
       "      <th>waterfront</th>\n",
       "      <th>greenbelt</th>\n",
       "      <th>...</th>\n",
       "      <th>sqft_above</th>\n",
       "      <th>sqft_basement</th>\n",
       "      <th>sqft_garage</th>\n",
       "      <th>sqft_patio</th>\n",
       "      <th>yr_built</th>\n",
       "      <th>yr_renovated</th>\n",
       "      <th>address</th>\n",
       "      <th>lat</th>\n",
       "      <th>long</th>\n",
       "      <th>rating</th>\n",
       "    </tr>\n",
       "  </thead>\n",
       "  <tbody>\n",
       "    <tr>\n",
       "      <th>0</th>\n",
       "      <td>7399300360</td>\n",
       "      <td>5/24/2022</td>\n",
       "      <td>675000.0</td>\n",
       "      <td>4</td>\n",
       "      <td>1.0</td>\n",
       "      <td>1180</td>\n",
       "      <td>7140</td>\n",
       "      <td>1.0</td>\n",
       "      <td>0</td>\n",
       "      <td>0</td>\n",
       "      <td>...</td>\n",
       "      <td>1180</td>\n",
       "      <td>0</td>\n",
       "      <td>0</td>\n",
       "      <td>40</td>\n",
       "      <td>1969</td>\n",
       "      <td>0</td>\n",
       "      <td>2102 Southeast 21st Court, Renton, Washington ...</td>\n",
       "      <td>47.461975</td>\n",
       "      <td>-122.19052</td>\n",
       "      <td>7</td>\n",
       "    </tr>\n",
       "    <tr>\n",
       "      <th>1</th>\n",
       "      <td>8910500230</td>\n",
       "      <td>12/13/2021</td>\n",
       "      <td>920000.0</td>\n",
       "      <td>5</td>\n",
       "      <td>2.5</td>\n",
       "      <td>2770</td>\n",
       "      <td>6703</td>\n",
       "      <td>1.0</td>\n",
       "      <td>0</td>\n",
       "      <td>0</td>\n",
       "      <td>...</td>\n",
       "      <td>1570</td>\n",
       "      <td>1570</td>\n",
       "      <td>0</td>\n",
       "      <td>240</td>\n",
       "      <td>1950</td>\n",
       "      <td>0</td>\n",
       "      <td>11231 Greenwood Avenue North, Seattle, Washing...</td>\n",
       "      <td>47.711525</td>\n",
       "      <td>-122.35591</td>\n",
       "      <td>7</td>\n",
       "    </tr>\n",
       "    <tr>\n",
       "      <th>2</th>\n",
       "      <td>1180000275</td>\n",
       "      <td>9/29/2021</td>\n",
       "      <td>311000.0</td>\n",
       "      <td>6</td>\n",
       "      <td>2.0</td>\n",
       "      <td>2880</td>\n",
       "      <td>6156</td>\n",
       "      <td>1.0</td>\n",
       "      <td>0</td>\n",
       "      <td>0</td>\n",
       "      <td>...</td>\n",
       "      <td>1580</td>\n",
       "      <td>1580</td>\n",
       "      <td>0</td>\n",
       "      <td>0</td>\n",
       "      <td>1956</td>\n",
       "      <td>0</td>\n",
       "      <td>8504 South 113th Street, Seattle, Washington 9...</td>\n",
       "      <td>47.502045</td>\n",
       "      <td>-122.22520</td>\n",
       "      <td>7</td>\n",
       "    </tr>\n",
       "    <tr>\n",
       "      <th>3</th>\n",
       "      <td>1604601802</td>\n",
       "      <td>12/14/2021</td>\n",
       "      <td>775000.0</td>\n",
       "      <td>3</td>\n",
       "      <td>3.0</td>\n",
       "      <td>2160</td>\n",
       "      <td>1400</td>\n",
       "      <td>2.0</td>\n",
       "      <td>0</td>\n",
       "      <td>0</td>\n",
       "      <td>...</td>\n",
       "      <td>1090</td>\n",
       "      <td>1070</td>\n",
       "      <td>200</td>\n",
       "      <td>270</td>\n",
       "      <td>2010</td>\n",
       "      <td>0</td>\n",
       "      <td>4079 Letitia Avenue South, Seattle, Washington...</td>\n",
       "      <td>47.566110</td>\n",
       "      <td>-122.29020</td>\n",
       "      <td>9</td>\n",
       "    </tr>\n",
       "    <tr>\n",
       "      <th>4</th>\n",
       "      <td>8562780790</td>\n",
       "      <td>8/24/2021</td>\n",
       "      <td>592500.0</td>\n",
       "      <td>2</td>\n",
       "      <td>2.0</td>\n",
       "      <td>1120</td>\n",
       "      <td>758</td>\n",
       "      <td>2.0</td>\n",
       "      <td>0</td>\n",
       "      <td>0</td>\n",
       "      <td>...</td>\n",
       "      <td>1120</td>\n",
       "      <td>550</td>\n",
       "      <td>550</td>\n",
       "      <td>30</td>\n",
       "      <td>2012</td>\n",
       "      <td>0</td>\n",
       "      <td>2193 Northwest Talus Drive, Issaquah, Washingt...</td>\n",
       "      <td>47.532470</td>\n",
       "      <td>-122.07188</td>\n",
       "      <td>7</td>\n",
       "    </tr>\n",
       "  </tbody>\n",
       "</table>\n",
       "<p>5 rows × 26 columns</p>\n",
       "</div>"
      ],
      "text/plain": [
       "           id        date     price  bedrooms  bathrooms  sqft_living  \\\n",
       "0  7399300360   5/24/2022  675000.0         4        1.0         1180   \n",
       "1  8910500230  12/13/2021  920000.0         5        2.5         2770   \n",
       "2  1180000275   9/29/2021  311000.0         6        2.0         2880   \n",
       "3  1604601802  12/14/2021  775000.0         3        3.0         2160   \n",
       "4  8562780790   8/24/2021  592500.0         2        2.0         1120   \n",
       "\n",
       "   sqft_lot  floors  waterfront  greenbelt  ...  sqft_above  sqft_basement  \\\n",
       "0      7140     1.0           0          0  ...        1180              0   \n",
       "1      6703     1.0           0          0  ...        1570           1570   \n",
       "2      6156     1.0           0          0  ...        1580           1580   \n",
       "3      1400     2.0           0          0  ...        1090           1070   \n",
       "4       758     2.0           0          0  ...        1120            550   \n",
       "\n",
       "   sqft_garage sqft_patio yr_built yr_renovated  \\\n",
       "0            0         40     1969            0   \n",
       "1            0        240     1950            0   \n",
       "2            0          0     1956            0   \n",
       "3          200        270     2010            0   \n",
       "4          550         30     2012            0   \n",
       "\n",
       "                                             address        lat       long  \\\n",
       "0  2102 Southeast 21st Court, Renton, Washington ...  47.461975 -122.19052   \n",
       "1  11231 Greenwood Avenue North, Seattle, Washing...  47.711525 -122.35591   \n",
       "2  8504 South 113th Street, Seattle, Washington 9...  47.502045 -122.22520   \n",
       "3  4079 Letitia Avenue South, Seattle, Washington...  47.566110 -122.29020   \n",
       "4  2193 Northwest Talus Drive, Issaquah, Washingt...  47.532470 -122.07188   \n",
       "\n",
       "   rating  \n",
       "0       7  \n",
       "1       7  \n",
       "2       7  \n",
       "3       9  \n",
       "4       7  \n",
       "\n",
       "[5 rows x 26 columns]"
      ]
     },
     "execution_count": 66,
     "metadata": {},
     "output_type": "execute_result"
    }
   ],
   "source": [
    "house_data['rating'] = house_data['grade'].str.split().apply(lambda x: x[0])\n",
    "house_data['rating'] = house_data['rating'].astype('int64')\n",
    "house_data.head()"
   ]
  },
  {
   "cell_type": "code",
   "execution_count": 67,
   "metadata": {
    "scrolled": true
   },
   "outputs": [
    {
     "name": "stdout",
     "output_type": "stream",
     "text": [
      "<class 'pandas.core.frame.DataFrame'>\n",
      "Int64Index: 29760 entries, 0 to 30154\n",
      "Data columns (total 26 columns):\n",
      " #   Column         Non-Null Count  Dtype  \n",
      "---  ------         --------------  -----  \n",
      " 0   id             29760 non-null  int64  \n",
      " 1   date           29760 non-null  object \n",
      " 2   price          29760 non-null  float64\n",
      " 3   bedrooms       29760 non-null  int64  \n",
      " 4   bathrooms      29760 non-null  float64\n",
      " 5   sqft_living    29760 non-null  int64  \n",
      " 6   sqft_lot       29760 non-null  int64  \n",
      " 7   floors         29760 non-null  float64\n",
      " 8   waterfront     29760 non-null  int32  \n",
      " 9   greenbelt      29760 non-null  int32  \n",
      " 10  nuisance       29760 non-null  int32  \n",
      " 11  view           29760 non-null  int32  \n",
      " 12  condition      29760 non-null  int32  \n",
      " 13  grade          29760 non-null  object \n",
      " 14  heat_source    29760 non-null  object \n",
      " 15  sewer_system   29760 non-null  object \n",
      " 16  sqft_above     29760 non-null  int64  \n",
      " 17  sqft_basement  29760 non-null  int64  \n",
      " 18  sqft_garage    29760 non-null  int64  \n",
      " 19  sqft_patio     29760 non-null  int64  \n",
      " 20  yr_built       29760 non-null  int64  \n",
      " 21  yr_renovated   29760 non-null  int64  \n",
      " 22  address        29760 non-null  object \n",
      " 23  lat            29760 non-null  float64\n",
      " 24  long           29760 non-null  float64\n",
      " 25  rating         29760 non-null  int64  \n",
      "dtypes: float64(5), int32(5), int64(11), object(5)\n",
      "memory usage: 5.6+ MB\n"
     ]
    }
   ],
   "source": [
    "house_data.info()"
   ]
  },
  {
   "cell_type": "markdown",
   "metadata": {},
   "source": [
    "Now that everything's been transformed successfully, we can create our linear regression model. "
   ]
  },
  {
   "cell_type": "code",
   "execution_count": 68,
   "metadata": {},
   "outputs": [
    {
     "name": "stdout",
     "output_type": "stream",
     "text": [
      "                            OLS Regression Results                            \n",
      "==============================================================================\n",
      "Dep. Variable:             log(price)   R-squared:                       0.452\n",
      "Model:                            OLS   Adj. R-squared:                  0.452\n",
      "Method:                 Least Squares   F-statistic:                     1229.\n",
      "Date:                Wed, 31 May 2023   Prob (F-statistic):               0.00\n",
      "Time:                        22:28:41   Log-Likelihood:                -16555.\n",
      "No. Observations:               29760   AIC:                         3.315e+04\n",
      "Df Residuals:                   29739   BIC:                         3.333e+04\n",
      "Df Model:                          20                                         \n",
      "Covariance Type:            nonrobust                                         \n",
      "===============================================================================\n",
      "                  coef    std err          t      P>|t|      [0.025      0.975]\n",
      "-------------------------------------------------------------------------------\n",
      "const          13.4315      0.163     82.499      0.000      13.112      13.751\n",
      "sqft_living     0.0002   5.46e-06     37.532      0.000       0.000       0.000\n",
      "bedrooms       -0.0166      0.004     -4.452      0.000      -0.024      -0.009\n",
      "bathrooms       0.0287      0.005      5.806      0.000       0.019       0.038\n",
      "floors         -0.0332      0.005     -6.232      0.000      -0.044      -0.023\n",
      "waterfront      0.3030      0.020     14.950      0.000       0.263       0.343\n",
      "view           -0.0374      0.002    -15.022      0.000      -0.042      -0.032\n",
      "condition       0.0348      0.002     18.316      0.000       0.031       0.039\n",
      "greenbelt       0.0710      0.016      4.527      0.000       0.040       0.102\n",
      "nuisance        0.0536      0.007      8.229      0.000       0.041       0.066\n",
      "rating_2       -0.5887      0.452     -1.302      0.193      -1.475       0.298\n",
      "rating_3       -0.7582      0.227     -3.335      0.001      -1.204      -0.313\n",
      "rating_4       -0.4173      0.173     -2.405      0.016      -0.757      -0.077\n",
      "rating_5       -0.3703      0.163     -2.267      0.023      -0.690      -0.050\n",
      "rating_6       -0.3037      0.162     -1.875      0.061      -0.621       0.014\n",
      "rating_7       -0.1361      0.162     -0.842      0.400      -0.453       0.181\n",
      "rating_8        0.0470      0.161      0.291      0.771      -0.269       0.363\n",
      "rating_9        0.2874      0.161      1.785      0.074      -0.028       0.603\n",
      "rating_10       0.4764      0.161      2.960      0.003       0.161       0.792\n",
      "rating_11       0.6235      0.162      3.855      0.000       0.307       0.940\n",
      "rating_12       0.7304      0.166      4.397      0.000       0.405       1.056\n",
      "==============================================================================\n",
      "Omnibus:                     6999.160   Durbin-Watson:                   1.965\n",
      "Prob(Omnibus):                  0.000   Jarque-Bera (JB):            70386.114\n",
      "Skew:                          -0.844   Prob(JB):                         0.00\n",
      "Kurtosis:                      10.343   Cond. No.                     5.44e+05\n",
      "==============================================================================\n",
      "\n",
      "Notes:\n",
      "[1] Standard Errors assume that the covariance matrix of the errors is correctly specified.\n",
      "[2] The condition number is large, 5.44e+05. This might indicate that there are\n",
      "strong multicollinearity or other numerical problems.\n"
     ]
    }
   ],
   "source": [
    "# creating linear regression model with all categorical variables plus highest-correlated numeric variable (sqft_living)\n",
    "y_combined = y_log\n",
    "X_combined = house_data[[\"sqft_living\", \"rating\", \"bedrooms\", \"bathrooms\", \"floors\", \"waterfront\", \"view\", \"condition\",\n",
    "               \"greenbelt\", \"nuisance\"]]\n",
    "X_combined = pd.get_dummies(X_combined, columns=['rating'])\n",
    "X_combined = X_combined.drop('rating_13', axis=1) \n",
    "\n",
    "combined_model = sm.OLS(y_combined, sm.add_constant(X_combined))\n",
    "combined_results = combined_model.fit()\n",
    "\n",
    "print(combined_results.summary())"
   ]
  },
  {
   "cell_type": "code",
   "execution_count": 69,
   "metadata": {},
   "outputs": [
    {
     "data": {
      "text/plain": [
       "0.30419033525145794"
      ]
     },
     "execution_count": 69,
     "metadata": {},
     "output_type": "execute_result"
    }
   ],
   "source": [
    "# calculating overall error of model\n",
    "mae = combined_results.resid.abs().sum() / len(y_combined)\n",
    "mae"
   ]
  },
  {
   "cell_type": "markdown",
   "metadata": {},
   "source": [
    "This model incorporating the categorical variables of interest plus <b>sqft_living</b> has an R-squared value of 0.452 and has a significant F-statistic. In other words, about <b>45% of the variation</b> in price is accounted for, making this the best model so far at predicting price's variance. Most of the coefficients for each independent variable are significant at an alpha of 0.05, but some of the dummy variables for <b>rating</b> are not. As mentioned earlier with the categorical model, there are many variables. Let's look at a heatmap of all the variables in the model to decide which ones to drop."
   ]
  },
  {
   "cell_type": "code",
   "execution_count": 71,
   "metadata": {},
   "outputs": [
    {
     "data": {
      "image/png": "[encoded data removed]",
      "text/plain": [
       "<Figure size 1440x1440 with 2 Axes>"
      ]
     },
     "metadata": {
      "needs_background": "light"
     },
     "output_type": "display_data"
    }
   ],
   "source": [
    "house_data_subset = house_data[[\"sqft_living\", \"rating\", \"bedrooms\", \"bathrooms\", \"floors\", \"waterfront\", \"view\", \n",
    "                                \"condition\", \"greenbelt\", \"nuisance\", \"price\"]]\n",
    "fig, ax = plt.subplots(figsize=(20,20))\n",
    "sns.heatmap(house_data_subset.corr(), center=0, annot=True);"
   ]
  },
  {
   "cell_type": "markdown",
   "metadata": {},
   "source": [
    "From the heatmap, we see that <b>sqft_living</b>, <b>rating</b>, and <b>bathrooms</b> have the highest correlations with <b>price</b>. Let's get rid of the rest of the variables from our model and see what happens."
   ]
  },
  {
   "cell_type": "code",
   "execution_count": 102,
   "metadata": {},
   "outputs": [
    {
     "name": "stdout",
     "output_type": "stream",
     "text": [
      "                            OLS Regression Results                            \n",
      "==============================================================================\n",
      "Dep. Variable:             log(price)   R-squared:                       0.430\n",
      "Model:                            OLS   Adj. R-squared:                  0.429\n",
      "Method:                 Least Squares   F-statistic:                     1723.\n",
      "Date:                Wed, 31 May 2023   Prob (F-statistic):               0.00\n",
      "Time:                        23:15:14   Log-Likelihood:                -17165.\n",
      "No. Observations:               29760   AIC:                         3.436e+04\n",
      "Df Residuals:                   29746   BIC:                         3.447e+04\n",
      "Df Model:                          13                                         \n",
      "Covariance Type:            nonrobust                                         \n",
      "===============================================================================\n",
      "                  coef    std err          t      P>|t|      [0.025      0.975]\n",
      "-------------------------------------------------------------------------------\n",
      "const          13.3492      0.165     80.732      0.000      13.025      13.673\n",
      "sqft_living     0.0002   4.86e-06     44.255      0.000       0.000       0.000\n",
      "bathrooms       0.0143      0.005      2.958      0.003       0.005       0.024\n",
      "rating_2       -0.6277      0.461     -1.361      0.174      -1.532       0.276\n",
      "rating_3       -0.6921      0.232     -2.987      0.003      -1.146      -0.238\n",
      "rating_4       -0.4049      0.177     -2.291      0.022      -0.751      -0.058\n",
      "rating_5       -0.4076      0.166     -2.452      0.014      -0.733      -0.082\n",
      "rating_6       -0.3686      0.165     -2.237      0.025      -0.692      -0.046\n",
      "rating_7       -0.2242      0.164     -1.364      0.173      -0.546       0.098\n",
      "rating_8       -0.0675      0.164     -0.411      0.681      -0.389       0.254\n",
      "rating_9        0.1602      0.164      0.977      0.329      -0.161       0.482\n",
      "rating_10       0.3634      0.164      2.217      0.027       0.042       0.685\n",
      "rating_11       0.5445      0.165      3.304      0.001       0.221       0.868\n",
      "rating_12       0.6738      0.169      3.978      0.000       0.342       1.006\n",
      "==============================================================================\n",
      "Omnibus:                     6211.644   Durbin-Watson:                   1.973\n",
      "Prob(Omnibus):                  0.000   Jarque-Bera (JB):            62294.811\n",
      "Skew:                          -0.717   Prob(JB):                         0.00\n",
      "Kurtosis:                       9.941   Cond. No.                     5.43e+05\n",
      "==============================================================================\n",
      "\n",
      "Notes:\n",
      "[1] Standard Errors assume that the covariance matrix of the errors is correctly specified.\n",
      "[2] The condition number is large, 5.43e+05. This might indicate that there are\n",
      "strong multicollinearity or other numerical problems.\n"
     ]
    }
   ],
   "source": [
    "# revised linear regression model with reduced number of variables\n",
    "y_reduced = y_log\n",
    "X_reduced = house_data[[\"sqft_living\", \"rating\", \"bathrooms\"]]\n",
    "X_reduced = pd.get_dummies(X_reduced, columns=['rating'])\n",
    "X_reduced = X_reduced.drop('rating_13', axis=1) \n",
    "\n",
    "reduced_model = sm.OLS(y_reduced, sm.add_constant(X_reduced))\n",
    "reduced_results = reduced_model.fit()\n",
    "\n",
    "print(reduced_results.summary())"
   ]
  },
  {
   "cell_type": "code",
   "execution_count": 85,
   "metadata": {},
   "outputs": [
    {
     "data": {
      "text/plain": [
       "0.3118731070886834"
      ]
     },
     "execution_count": 85,
     "metadata": {},
     "output_type": "execute_result"
    }
   ],
   "source": [
    "# calculating overall model error\n",
    "mae = reduced_results.resid.abs().sum() / len(y_reduced)\n",
    "mae"
   ]
  },
  {
   "cell_type": "markdown",
   "metadata": {},
   "source": [
    "The adjusted R-squared for the model with <b>sqft_living</b>, <b>rating</b> and <b>bathrooms</b> has an adjusted R-squared value of 0.429, indicating that this model predicts <b>about 43% of the variation</b> in price. "
   ]
  },
  {
   "cell_type": "markdown",
   "metadata": {},
   "source": [
    "Let's consider this to be our <b>final model</b>."
   ]
  },
  {
   "cell_type": "markdown",
   "metadata": {},
   "source": [
    "# Multiple Linear Regression Assumptions\n",
    "\n",
    "For the final model, let's make sure all assumptions of linear regression have been met. They are as follows:\n",
    "\n",
    "1. <b>Linear relationship</b> between dependent and independent variables\n",
    "\n",
    "2. <b>No multicollinearity</b>\n",
    "\n",
    "3. <b>Homoscedasticity</b>\n",
    "\n",
    "4. Residuals have a <b>normal distribution</b>"
   ]
  },
  {
   "cell_type": "markdown",
   "metadata": {},
   "source": [
    "# Linear Relationship and Multicollinearity\n",
    "\n",
    "For these two assumptions, a heatmap is worth looking at again."
   ]
  },
  {
   "cell_type": "code",
   "execution_count": 90,
   "metadata": {},
   "outputs": [
    {
     "data": {
      "image/png": "[encoded data removed]",
      "text/plain": [
       "<Figure size 720x576 with 2 Axes>"
      ]
     },
     "metadata": {
      "needs_background": "light"
     },
     "output_type": "display_data"
    }
   ],
   "source": [
    "# creating heatmap to visualize correlations between final model variables\n",
    "house_data_subset = house_data[[\"sqft_living\", \"rating\", \"bathrooms\", \"price\"]]\n",
    "fig, ax = plt.subplots(figsize=(10,8))\n",
    "sns.heatmap(house_data_subset.corr(), center=0, annot=True);"
   ]
  },
  {
   "cell_type": "markdown",
   "metadata": {},
   "source": [
    "From the heatmap, we see slight multicollinearity with regards to <b>sqft_living</b>, <b>rating</b>, and <b>bathrooms</b>. We also see linearity between <b>price</b> and the dependent variables."
   ]
  },
  {
   "cell_type": "markdown",
   "metadata": {},
   "source": [
    "# Normality\n",
    "\n",
    "One of the assumptions of linear regression is normality of the residuals. Let's create a QQ plot to visualize the normality of the final model's residuals."
   ]
  },
  {
   "cell_type": "code",
   "execution_count": 93,
   "metadata": {},
   "outputs": [
    {
     "data": {
      "image/png": "[encoded data removed]",
      "text/plain": [
       "<Figure size 432x288 with 1 Axes>"
      ]
     },
     "metadata": {
      "needs_background": "light"
     },
     "output_type": "display_data"
    }
   ],
   "source": [
    "# creating qq-plot of chosen model's residuals\n",
    "fig, ax = plt.subplots()\n",
    "sm.graphics.qqplot(reduced_results.resid, dist=stats.norm, line='45', fit=True, ax=ax)\n",
    "\n",
    "line = ax.lines[1]\n",
    "line.set_color(\"black\")\n",
    "fig.suptitle(\"QQ Plot of Final Model Residuals\");"
   ]
  },
  {
   "cell_type": "code",
   "execution_count": 94,
   "metadata": {},
   "outputs": [
    {
     "name": "stdout",
     "output_type": "stream",
     "text": [
      "                            OLS Regression Results                            \n",
      "==============================================================================\n",
      "Dep. Variable:             log(price)   R-squared:                       0.430\n",
      "Model:                            OLS   Adj. R-squared:                  0.429\n",
      "Method:                 Least Squares   F-statistic:                     1723.\n",
      "Date:                Wed, 31 May 2023   Prob (F-statistic):               0.00\n",
      "Time:                        22:54:04   Log-Likelihood:                -17165.\n",
      "No. Observations:               29760   AIC:                         3.436e+04\n",
      "Df Residuals:                   29746   BIC:                         3.447e+04\n",
      "Df Model:                          13                                         \n",
      "Covariance Type:            nonrobust                                         \n",
      "===============================================================================\n",
      "                  coef    std err          t      P>|t|      [0.025      0.975]\n",
      "-------------------------------------------------------------------------------\n",
      "const          13.3492      0.165     80.732      0.000      13.025      13.673\n",
      "sqft_living     0.0002   4.86e-06     44.255      0.000       0.000       0.000\n",
      "bathrooms       0.0143      0.005      2.958      0.003       0.005       0.024\n",
      "rating_2       -0.6277      0.461     -1.361      0.174      -1.532       0.276\n",
      "rating_3       -0.6921      0.232     -2.987      0.003      -1.146      -0.238\n",
      "rating_4       -0.4049      0.177     -2.291      0.022      -0.751      -0.058\n",
      "rating_5       -0.4076      0.166     -2.452      0.014      -0.733      -0.082\n",
      "rating_6       -0.3686      0.165     -2.237      0.025      -0.692      -0.046\n",
      "rating_7       -0.2242      0.164     -1.364      0.173      -0.546       0.098\n",
      "rating_8       -0.0675      0.164     -0.411      0.681      -0.389       0.254\n",
      "rating_9        0.1602      0.164      0.977      0.329      -0.161       0.482\n",
      "rating_10       0.3634      0.164      2.217      0.027       0.042       0.685\n",
      "rating_11       0.5445      0.165      3.304      0.001       0.221       0.868\n",
      "rating_12       0.6738      0.169      3.978      0.000       0.342       1.006\n",
      "==============================================================================\n",
      "Omnibus:                     6211.644   Durbin-Watson:                   1.973\n",
      "Prob(Omnibus):                  0.000   Jarque-Bera (JB):            62294.811\n",
      "Skew:                          -0.717   Prob(JB):                         0.00\n",
      "Kurtosis:                       9.941   Cond. No.                     5.43e+05\n",
      "==============================================================================\n",
      "\n",
      "Notes:\n",
      "[1] Standard Errors assume that the covariance matrix of the errors is correctly specified.\n",
      "[2] The condition number is large, 5.43e+05. This might indicate that there are\n",
      "strong multicollinearity or other numerical problems.\n"
     ]
    }
   ],
   "source": [
    "# checking Jarque-Bera number of reduced model\n",
    "# calculating overall model error\n",
    "print(reduced_results.summary())"
   ]
  },
  {
   "cell_type": "markdown",
   "metadata": {},
   "source": [
    "From the QQ plot, we see some normality in the center. However, on either end of the graph, normality is violated, as indicated by deviations from the reference line. This supports the Jarque-Bera statistic in the reduced (final) model results summary, which is high and has a significant p-value, indicating that the null hypothesis (the distribution is normal) is rejected. "
   ]
  },
  {
   "cell_type": "markdown",
   "metadata": {},
   "source": [
    "# Homoscedasticity\n",
    "\n",
    "For the homoscedasticity assumption to be met, the errors of the residuals should be symmetrical. We can visualize this using Seaborn's <b>.regplot()</b> method."
   ]
  },
  {
   "cell_type": "code",
   "execution_count": 95,
   "metadata": {},
   "outputs": [
    {
     "data": {
      "image/png": "[encoded data removed]",
      "text/plain": [
       "<Figure size 432x288 with 1 Axes>"
      ]
     },
     "metadata": {
      "needs_background": "light"
     },
     "output_type": "display_data"
    }
   ],
   "source": [
    "sns.regplot(x=reduced_results.predict(), y=reduced_results.resid, lowess=True, line_kws={'color': 'red'});"
   ]
  },
  {
   "cell_type": "markdown",
   "metadata": {},
   "source": [
    "From the plot, we see some symmetricality of the final model's residuals in the middle. However, the ends of the graph are unbalanced, showing a huge contrast in the concentration of points between the leftmost and rightmost ends of the plot.   "
   ]
  },
  {
   "cell_type": "markdown",
   "metadata": {},
   "source": [
    "# Final Model"
   ]
  },
  {
   "cell_type": "code",
   "execution_count": 97,
   "metadata": {},
   "outputs": [
    {
     "name": "stdout",
     "output_type": "stream",
     "text": [
      "                            OLS Regression Results                            \n",
      "==============================================================================\n",
      "Dep. Variable:             log(price)   R-squared:                       0.430\n",
      "Model:                            OLS   Adj. R-squared:                  0.429\n",
      "Method:                 Least Squares   F-statistic:                     1723.\n",
      "Date:                Wed, 31 May 2023   Prob (F-statistic):               0.00\n",
      "Time:                        23:04:58   Log-Likelihood:                -17165.\n",
      "No. Observations:               29760   AIC:                         3.436e+04\n",
      "Df Residuals:                   29746   BIC:                         3.447e+04\n",
      "Df Model:                          13                                         \n",
      "Covariance Type:            nonrobust                                         \n",
      "===============================================================================\n",
      "                  coef    std err          t      P>|t|      [0.025      0.975]\n",
      "-------------------------------------------------------------------------------\n",
      "const          13.3492      0.165     80.732      0.000      13.025      13.673\n",
      "sqft_living     0.0002   4.86e-06     44.255      0.000       0.000       0.000\n",
      "bathrooms       0.0143      0.005      2.958      0.003       0.005       0.024\n",
      "rating_2       -0.6277      0.461     -1.361      0.174      -1.532       0.276\n",
      "rating_3       -0.6921      0.232     -2.987      0.003      -1.146      -0.238\n",
      "rating_4       -0.4049      0.177     -2.291      0.022      -0.751      -0.058\n",
      "rating_5       -0.4076      0.166     -2.452      0.014      -0.733      -0.082\n",
      "rating_6       -0.3686      0.165     -2.237      0.025      -0.692      -0.046\n",
      "rating_7       -0.2242      0.164     -1.364      0.173      -0.546       0.098\n",
      "rating_8       -0.0675      0.164     -0.411      0.681      -0.389       0.254\n",
      "rating_9        0.1602      0.164      0.977      0.329      -0.161       0.482\n",
      "rating_10       0.3634      0.164      2.217      0.027       0.042       0.685\n",
      "rating_11       0.5445      0.165      3.304      0.001       0.221       0.868\n",
      "rating_12       0.6738      0.169      3.978      0.000       0.342       1.006\n",
      "==============================================================================\n",
      "Omnibus:                     6211.644   Durbin-Watson:                   1.973\n",
      "Prob(Omnibus):                  0.000   Jarque-Bera (JB):            62294.811\n",
      "Skew:                          -0.717   Prob(JB):                         0.00\n",
      "Kurtosis:                       9.941   Cond. No.                     5.43e+05\n",
      "==============================================================================\n",
      "\n",
      "Notes:\n",
      "[1] Standard Errors assume that the covariance matrix of the errors is correctly specified.\n",
      "[2] The condition number is large, 5.43e+05. This might indicate that there are\n",
      "strong multicollinearity or other numerical problems.\n"
     ]
    }
   ],
   "source": [
    "# revisiting final model\n",
    "y_final = y_log\n",
    "X_final = house_data[[\"sqft_living\", \"rating\", \"bathrooms\"]]\n",
    "X_final = pd.get_dummies(X_final, columns=['rating'])\n",
    "X_final = X_final.drop('rating_13', axis=1) \n",
    "\n",
    "final_model = sm.OLS(y_reduced, sm.add_constant(X_reduced))\n",
    "final_mod_results = final_model.fit()\n",
    "\n",
    "print(final_mod_results.summary())"
   ]
  },
  {
   "cell_type": "code",
   "execution_count": 98,
   "metadata": {},
   "outputs": [
    {
     "data": {
      "text/plain": [
       "0.3118731070886834"
      ]
     },
     "execution_count": 98,
     "metadata": {},
     "output_type": "execute_result"
    }
   ],
   "source": [
    "# revisiting overall model error\n",
    "mae_final_mod = reduced_results.resid.abs().sum() / len(y_reduced)\n",
    "mae_final_mod"
   ]
  },
  {
   "cell_type": "markdown",
   "metadata": {},
   "source": [
    "## Conclusions\n",
    "\n",
    "Based on the final linear regression model and overall data analysis, I would suggest that renovations should be focused on increasing <b>sqft_living</b>, targeting a <b>rating</b> of 9-13, and having at least () <b>bathrooms</b>. "
   ]
  },
  {
   "cell_type": "markdown",
   "metadata": {},
   "source": [
    "## Limitations and Future Improvements\n",
    "\n",
    "In terms of limitations, it should be noted that there were very few variables in the dataset that had a high correlation with sale price. The highest correlation was <b>sqft_living</b>, but even this column's correlation coefficient was only about 0.6. Furthermore, <b>sqft_living</b> correlated with many other variables. The other assumptions of linear\n",
    "\n",
    "Assumptions not met entirely"
   ]
  }
 ],
 "metadata": {
  "kernelspec": {
   "display_name": "Python 3",
   "language": "python",
   "name": "python3"
  },
  "language_info": {
   "codemirror_mode": {
    "name": "ipython",
    "version": 3
   },
   "file_extension": ".py",
   "mimetype": "text/x-python",
   "name": "python",
   "nbconvert_exporter": "python",
   "pygments_lexer": "ipython3",
   "version": "3.8.5"
  }
 },
 "nbformat": 4,
 "nbformat_minor": 2
}
