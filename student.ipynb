{
 "cells": [
  {
   "cell_type": "markdown",
   "metadata": {},
   "source": [
    "## Final Project Submission\n",
    "\n",
    "Please fill out:\n",
    "* Student name: James Benedito\n",
    "* Student pace: Part Time\n",
    "* Instructor name: Morgan Jones"
   ]
  },
  {
   "cell_type": "markdown",
   "metadata": {},
   "source": [
    "## Introduction\n",
    "\n",
    "Driving through a suburban neighborhood, it's inevitable that one will encounter at least one \"for sale\" sign. These signs typically have the logo of some big-time real estate company, like Century 21 or REMAX. Real estate companies are businesses that deal with buying and selling properties. When purchasing a house, everyone has their non-negotiables. Some people want a big kitchen or backyard. Others may want a basement or 'x' amount of bathrooms. In this Jupyter notebook, I will explore the different variables that impact a home's value. The information in this analysis will be applicable to real estate companies who sell houses to clients."
   ]
  },
  {
   "cell_type": "markdown",
   "metadata": {},
   "source": [
    "## Business Problem\n",
    "\n",
    "King County is a county located in Washington state with a population of approximately 2.2 million people, according to the 2022 US Census. As of 2021, the median household income is about $106,000 (https://www.census.gov/quickfacts/kingcountywashington).\n",
    "\n",
    "A theoretical real estate company in King County sells homes. They want to be informed and know the factors that increase a house's value. My data analysis will bring light to the variables that are most impactful to a home's sale price in King County and will thus inform this real estate company on the types of properties they should focus on selling.  "
   ]
  },
  {
   "cell_type": "markdown",
   "metadata": {},
   "source": [
    "## Goal\n",
    "\n",
    "My goal is to come up with three concrete suggestions based on a linear regression analysis. The final linear regression model will include the three variables that are most impactful to a house's sale price, which will serve as the dependent variable of interest throughout the entire exploration process. In other words, the independent variables in my final model will be those that are the best predictors of a house's sale price (the dependent variable). "
   ]
  },
  {
   "cell_type": "markdown",
   "metadata": {},
   "source": [
    "## Dataset\n",
    "\n",
    "The dataset I am using for the analysis is <b>kc_house_data.csv</b>. This dataset includes data on houses in King County, which is where the theoretical real estate company and their clients are located."
   ]
  },
  {
   "cell_type": "markdown",
   "metadata": {},
   "source": [
    "## Dataset Exploration\n",
    "\n",
    "I will begin by exploring the dataset, using the <b>.head()</b> method to visualize the first five rows in a table format. Furthermore, I will use the <b>.info()</b> and <b>.describe()</b> methods to get a better understanding of the overall dataset."
   ]
  },
  {
   "cell_type": "code",
   "execution_count": 1,
   "metadata": {},
   "outputs": [],
   "source": [
    "# importing relevant packages\n",
    "import matplotlib.pyplot as plt\n",
    "import pandas as pd\n",
    "import statsmodels.api as sm"
   ]
  },
  {
   "cell_type": "code",
   "execution_count": 2,
   "metadata": {
    "scrolled": true
   },
   "outputs": [
    {
     "data": {
      "text/html": [
       "<div>\n",
       "<style scoped>\n",
       "    .dataframe tbody tr th:only-of-type {\n",
       "        vertical-align: middle;\n",
       "    }\n",
       "\n",
       "    .dataframe tbody tr th {\n",
       "        vertical-align: top;\n",
       "    }\n",
       "\n",
       "    .dataframe thead th {\n",
       "        text-align: right;\n",
       "    }\n",
       "</style>\n",
       "<table border=\"1\" class=\"dataframe\">\n",
       "  <thead>\n",
       "    <tr style=\"text-align: right;\">\n",
       "      <th></th>\n",
       "      <th>id</th>\n",
       "      <th>date</th>\n",
       "      <th>price</th>\n",
       "      <th>bedrooms</th>\n",
       "      <th>bathrooms</th>\n",
       "      <th>sqft_living</th>\n",
       "      <th>sqft_lot</th>\n",
       "      <th>floors</th>\n",
       "      <th>waterfront</th>\n",
       "      <th>greenbelt</th>\n",
       "      <th>...</th>\n",
       "      <th>sewer_system</th>\n",
       "      <th>sqft_above</th>\n",
       "      <th>sqft_basement</th>\n",
       "      <th>sqft_garage</th>\n",
       "      <th>sqft_patio</th>\n",
       "      <th>yr_built</th>\n",
       "      <th>yr_renovated</th>\n",
       "      <th>address</th>\n",
       "      <th>lat</th>\n",
       "      <th>long</th>\n",
       "    </tr>\n",
       "  </thead>\n",
       "  <tbody>\n",
       "    <tr>\n",
       "      <th>0</th>\n",
       "      <td>7399300360</td>\n",
       "      <td>5/24/2022</td>\n",
       "      <td>675000.0</td>\n",
       "      <td>4</td>\n",
       "      <td>1.0</td>\n",
       "      <td>1180</td>\n",
       "      <td>7140</td>\n",
       "      <td>1.0</td>\n",
       "      <td>NO</td>\n",
       "      <td>NO</td>\n",
       "      <td>...</td>\n",
       "      <td>PUBLIC</td>\n",
       "      <td>1180</td>\n",
       "      <td>0</td>\n",
       "      <td>0</td>\n",
       "      <td>40</td>\n",
       "      <td>1969</td>\n",
       "      <td>0</td>\n",
       "      <td>2102 Southeast 21st Court, Renton, Washington ...</td>\n",
       "      <td>47.461975</td>\n",
       "      <td>-122.19052</td>\n",
       "    </tr>\n",
       "    <tr>\n",
       "      <th>1</th>\n",
       "      <td>8910500230</td>\n",
       "      <td>12/13/2021</td>\n",
       "      <td>920000.0</td>\n",
       "      <td>5</td>\n",
       "      <td>2.5</td>\n",
       "      <td>2770</td>\n",
       "      <td>6703</td>\n",
       "      <td>1.0</td>\n",
       "      <td>NO</td>\n",
       "      <td>NO</td>\n",
       "      <td>...</td>\n",
       "      <td>PUBLIC</td>\n",
       "      <td>1570</td>\n",
       "      <td>1570</td>\n",
       "      <td>0</td>\n",
       "      <td>240</td>\n",
       "      <td>1950</td>\n",
       "      <td>0</td>\n",
       "      <td>11231 Greenwood Avenue North, Seattle, Washing...</td>\n",
       "      <td>47.711525</td>\n",
       "      <td>-122.35591</td>\n",
       "    </tr>\n",
       "    <tr>\n",
       "      <th>2</th>\n",
       "      <td>1180000275</td>\n",
       "      <td>9/29/2021</td>\n",
       "      <td>311000.0</td>\n",
       "      <td>6</td>\n",
       "      <td>2.0</td>\n",
       "      <td>2880</td>\n",
       "      <td>6156</td>\n",
       "      <td>1.0</td>\n",
       "      <td>NO</td>\n",
       "      <td>NO</td>\n",
       "      <td>...</td>\n",
       "      <td>PUBLIC</td>\n",
       "      <td>1580</td>\n",
       "      <td>1580</td>\n",
       "      <td>0</td>\n",
       "      <td>0</td>\n",
       "      <td>1956</td>\n",
       "      <td>0</td>\n",
       "      <td>8504 South 113th Street, Seattle, Washington 9...</td>\n",
       "      <td>47.502045</td>\n",
       "      <td>-122.22520</td>\n",
       "    </tr>\n",
       "    <tr>\n",
       "      <th>3</th>\n",
       "      <td>1604601802</td>\n",
       "      <td>12/14/2021</td>\n",
       "      <td>775000.0</td>\n",
       "      <td>3</td>\n",
       "      <td>3.0</td>\n",
       "      <td>2160</td>\n",
       "      <td>1400</td>\n",
       "      <td>2.0</td>\n",
       "      <td>NO</td>\n",
       "      <td>NO</td>\n",
       "      <td>...</td>\n",
       "      <td>PUBLIC</td>\n",
       "      <td>1090</td>\n",
       "      <td>1070</td>\n",
       "      <td>200</td>\n",
       "      <td>270</td>\n",
       "      <td>2010</td>\n",
       "      <td>0</td>\n",
       "      <td>4079 Letitia Avenue South, Seattle, Washington...</td>\n",
       "      <td>47.566110</td>\n",
       "      <td>-122.29020</td>\n",
       "    </tr>\n",
       "    <tr>\n",
       "      <th>4</th>\n",
       "      <td>8562780790</td>\n",
       "      <td>8/24/2021</td>\n",
       "      <td>592500.0</td>\n",
       "      <td>2</td>\n",
       "      <td>2.0</td>\n",
       "      <td>1120</td>\n",
       "      <td>758</td>\n",
       "      <td>2.0</td>\n",
       "      <td>NO</td>\n",
       "      <td>NO</td>\n",
       "      <td>...</td>\n",
       "      <td>PUBLIC</td>\n",
       "      <td>1120</td>\n",
       "      <td>550</td>\n",
       "      <td>550</td>\n",
       "      <td>30</td>\n",
       "      <td>2012</td>\n",
       "      <td>0</td>\n",
       "      <td>2193 Northwest Talus Drive, Issaquah, Washingt...</td>\n",
       "      <td>47.532470</td>\n",
       "      <td>-122.07188</td>\n",
       "    </tr>\n",
       "  </tbody>\n",
       "</table>\n",
       "<p>5 rows × 25 columns</p>\n",
       "</div>"
      ],
      "text/plain": [
       "           id        date     price  bedrooms  bathrooms  sqft_living  \\\n",
       "0  7399300360   5/24/2022  675000.0         4        1.0         1180   \n",
       "1  8910500230  12/13/2021  920000.0         5        2.5         2770   \n",
       "2  1180000275   9/29/2021  311000.0         6        2.0         2880   \n",
       "3  1604601802  12/14/2021  775000.0         3        3.0         2160   \n",
       "4  8562780790   8/24/2021  592500.0         2        2.0         1120   \n",
       "\n",
       "   sqft_lot  floors waterfront greenbelt  ... sewer_system sqft_above  \\\n",
       "0      7140     1.0         NO        NO  ...       PUBLIC       1180   \n",
       "1      6703     1.0         NO        NO  ...       PUBLIC       1570   \n",
       "2      6156     1.0         NO        NO  ...       PUBLIC       1580   \n",
       "3      1400     2.0         NO        NO  ...       PUBLIC       1090   \n",
       "4       758     2.0         NO        NO  ...       PUBLIC       1120   \n",
       "\n",
       "  sqft_basement sqft_garage sqft_patio yr_built  yr_renovated  \\\n",
       "0             0           0         40     1969             0   \n",
       "1          1570           0        240     1950             0   \n",
       "2          1580           0          0     1956             0   \n",
       "3          1070         200        270     2010             0   \n",
       "4           550         550         30     2012             0   \n",
       "\n",
       "                                             address        lat       long  \n",
       "0  2102 Southeast 21st Court, Renton, Washington ...  47.461975 -122.19052  \n",
       "1  11231 Greenwood Avenue North, Seattle, Washing...  47.711525 -122.35591  \n",
       "2  8504 South 113th Street, Seattle, Washington 9...  47.502045 -122.22520  \n",
       "3  4079 Letitia Avenue South, Seattle, Washington...  47.566110 -122.29020  \n",
       "4  2193 Northwest Talus Drive, Issaquah, Washingt...  47.532470 -122.07188  \n",
       "\n",
       "[5 rows x 25 columns]"
      ]
     },
     "execution_count": 2,
     "metadata": {},
     "output_type": "execute_result"
    }
   ],
   "source": [
    "# initial exploration of dataset\n",
    "house_data = pd.read_csv('data\\\\kc_house_data.csv')\n",
    "house_data.head()"
   ]
  },
  {
   "cell_type": "code",
   "execution_count": 3,
   "metadata": {},
   "outputs": [
    {
     "name": "stdout",
     "output_type": "stream",
     "text": [
      "<class 'pandas.core.frame.DataFrame'>\n",
      "RangeIndex: 30155 entries, 0 to 30154\n",
      "Data columns (total 25 columns):\n",
      " #   Column         Non-Null Count  Dtype  \n",
      "---  ------         --------------  -----  \n",
      " 0   id             30155 non-null  int64  \n",
      " 1   date           30155 non-null  object \n",
      " 2   price          30155 non-null  float64\n",
      " 3   bedrooms       30155 non-null  int64  \n",
      " 4   bathrooms      30155 non-null  float64\n",
      " 5   sqft_living    30155 non-null  int64  \n",
      " 6   sqft_lot       30155 non-null  int64  \n",
      " 7   floors         30155 non-null  float64\n",
      " 8   waterfront     30155 non-null  object \n",
      " 9   greenbelt      30155 non-null  object \n",
      " 10  nuisance       30155 non-null  object \n",
      " 11  view           30155 non-null  object \n",
      " 12  condition      30155 non-null  object \n",
      " 13  grade          30155 non-null  object \n",
      " 14  heat_source    30123 non-null  object \n",
      " 15  sewer_system   30141 non-null  object \n",
      " 16  sqft_above     30155 non-null  int64  \n",
      " 17  sqft_basement  30155 non-null  int64  \n",
      " 18  sqft_garage    30155 non-null  int64  \n",
      " 19  sqft_patio     30155 non-null  int64  \n",
      " 20  yr_built       30155 non-null  int64  \n",
      " 21  yr_renovated   30155 non-null  int64  \n",
      " 22  address        30155 non-null  object \n",
      " 23  lat            30155 non-null  float64\n",
      " 24  long           30155 non-null  float64\n",
      "dtypes: float64(5), int64(10), object(10)\n",
      "memory usage: 5.8+ MB\n"
     ]
    }
   ],
   "source": [
    "house_data.info()"
   ]
  },
  {
   "cell_type": "markdown",
   "metadata": {},
   "source": [
    "From the .info() method, we see that there are 25 columns in the dataset. The <b>heat_source</b> and <b>sewer_system</b> columns have missing values. In terms of dtype, the dataset contains a mix of integers, float values, and objects (strings)."
   ]
  },
  {
   "cell_type": "code",
   "execution_count": 4,
   "metadata": {},
   "outputs": [
    {
     "data": {
      "text/html": [
       "<div>\n",
       "<style scoped>\n",
       "    .dataframe tbody tr th:only-of-type {\n",
       "        vertical-align: middle;\n",
       "    }\n",
       "\n",
       "    .dataframe tbody tr th {\n",
       "        vertical-align: top;\n",
       "    }\n",
       "\n",
       "    .dataframe thead th {\n",
       "        text-align: right;\n",
       "    }\n",
       "</style>\n",
       "<table border=\"1\" class=\"dataframe\">\n",
       "  <thead>\n",
       "    <tr style=\"text-align: right;\">\n",
       "      <th></th>\n",
       "      <th>id</th>\n",
       "      <th>price</th>\n",
       "      <th>bedrooms</th>\n",
       "      <th>bathrooms</th>\n",
       "      <th>sqft_living</th>\n",
       "      <th>sqft_lot</th>\n",
       "      <th>floors</th>\n",
       "      <th>sqft_above</th>\n",
       "      <th>sqft_basement</th>\n",
       "      <th>sqft_garage</th>\n",
       "      <th>sqft_patio</th>\n",
       "      <th>yr_built</th>\n",
       "      <th>yr_renovated</th>\n",
       "      <th>lat</th>\n",
       "      <th>long</th>\n",
       "    </tr>\n",
       "  </thead>\n",
       "  <tbody>\n",
       "    <tr>\n",
       "      <th>count</th>\n",
       "      <td>3.015500e+04</td>\n",
       "      <td>3.015500e+04</td>\n",
       "      <td>30155.000000</td>\n",
       "      <td>30155.000000</td>\n",
       "      <td>30155.000000</td>\n",
       "      <td>3.015500e+04</td>\n",
       "      <td>30155.000000</td>\n",
       "      <td>30155.000000</td>\n",
       "      <td>30155.000000</td>\n",
       "      <td>30155.000000</td>\n",
       "      <td>30155.000000</td>\n",
       "      <td>30155.000000</td>\n",
       "      <td>30155.000000</td>\n",
       "      <td>30155.000000</td>\n",
       "      <td>30155.000000</td>\n",
       "    </tr>\n",
       "    <tr>\n",
       "      <th>mean</th>\n",
       "      <td>4.538104e+09</td>\n",
       "      <td>1.108536e+06</td>\n",
       "      <td>3.413530</td>\n",
       "      <td>2.334737</td>\n",
       "      <td>2112.424739</td>\n",
       "      <td>1.672360e+04</td>\n",
       "      <td>1.543492</td>\n",
       "      <td>1809.826098</td>\n",
       "      <td>476.039396</td>\n",
       "      <td>330.211142</td>\n",
       "      <td>217.412038</td>\n",
       "      <td>1975.163953</td>\n",
       "      <td>90.922301</td>\n",
       "      <td>47.328076</td>\n",
       "      <td>-121.317397</td>\n",
       "    </tr>\n",
       "    <tr>\n",
       "      <th>std</th>\n",
       "      <td>2.882587e+09</td>\n",
       "      <td>8.963857e+05</td>\n",
       "      <td>0.981612</td>\n",
       "      <td>0.889556</td>\n",
       "      <td>974.044318</td>\n",
       "      <td>6.038260e+04</td>\n",
       "      <td>0.567717</td>\n",
       "      <td>878.306131</td>\n",
       "      <td>579.631302</td>\n",
       "      <td>285.770536</td>\n",
       "      <td>245.302792</td>\n",
       "      <td>32.067362</td>\n",
       "      <td>416.473038</td>\n",
       "      <td>1.434005</td>\n",
       "      <td>5.725475</td>\n",
       "    </tr>\n",
       "    <tr>\n",
       "      <th>min</th>\n",
       "      <td>1.000055e+06</td>\n",
       "      <td>2.736000e+04</td>\n",
       "      <td>0.000000</td>\n",
       "      <td>0.000000</td>\n",
       "      <td>3.000000</td>\n",
       "      <td>4.020000e+02</td>\n",
       "      <td>1.000000</td>\n",
       "      <td>2.000000</td>\n",
       "      <td>0.000000</td>\n",
       "      <td>0.000000</td>\n",
       "      <td>0.000000</td>\n",
       "      <td>1900.000000</td>\n",
       "      <td>0.000000</td>\n",
       "      <td>21.274240</td>\n",
       "      <td>-157.791480</td>\n",
       "    </tr>\n",
       "    <tr>\n",
       "      <th>25%</th>\n",
       "      <td>2.064175e+09</td>\n",
       "      <td>6.480000e+05</td>\n",
       "      <td>3.000000</td>\n",
       "      <td>2.000000</td>\n",
       "      <td>1420.000000</td>\n",
       "      <td>4.850000e+03</td>\n",
       "      <td>1.000000</td>\n",
       "      <td>1180.000000</td>\n",
       "      <td>0.000000</td>\n",
       "      <td>0.000000</td>\n",
       "      <td>40.000000</td>\n",
       "      <td>1953.000000</td>\n",
       "      <td>0.000000</td>\n",
       "      <td>47.405320</td>\n",
       "      <td>-122.326045</td>\n",
       "    </tr>\n",
       "    <tr>\n",
       "      <th>50%</th>\n",
       "      <td>3.874011e+09</td>\n",
       "      <td>8.600000e+05</td>\n",
       "      <td>3.000000</td>\n",
       "      <td>2.500000</td>\n",
       "      <td>1920.000000</td>\n",
       "      <td>7.480000e+03</td>\n",
       "      <td>1.500000</td>\n",
       "      <td>1560.000000</td>\n",
       "      <td>0.000000</td>\n",
       "      <td>400.000000</td>\n",
       "      <td>150.000000</td>\n",
       "      <td>1977.000000</td>\n",
       "      <td>0.000000</td>\n",
       "      <td>47.551380</td>\n",
       "      <td>-122.225585</td>\n",
       "    </tr>\n",
       "    <tr>\n",
       "      <th>75%</th>\n",
       "      <td>7.287100e+09</td>\n",
       "      <td>1.300000e+06</td>\n",
       "      <td>4.000000</td>\n",
       "      <td>3.000000</td>\n",
       "      <td>2619.500000</td>\n",
       "      <td>1.057900e+04</td>\n",
       "      <td>2.000000</td>\n",
       "      <td>2270.000000</td>\n",
       "      <td>940.000000</td>\n",
       "      <td>510.000000</td>\n",
       "      <td>320.000000</td>\n",
       "      <td>2003.000000</td>\n",
       "      <td>0.000000</td>\n",
       "      <td>47.669913</td>\n",
       "      <td>-122.116205</td>\n",
       "    </tr>\n",
       "    <tr>\n",
       "      <th>max</th>\n",
       "      <td>9.904000e+09</td>\n",
       "      <td>3.075000e+07</td>\n",
       "      <td>13.000000</td>\n",
       "      <td>10.500000</td>\n",
       "      <td>15360.000000</td>\n",
       "      <td>3.253932e+06</td>\n",
       "      <td>4.000000</td>\n",
       "      <td>12660.000000</td>\n",
       "      <td>8020.000000</td>\n",
       "      <td>3580.000000</td>\n",
       "      <td>4370.000000</td>\n",
       "      <td>2022.000000</td>\n",
       "      <td>2022.000000</td>\n",
       "      <td>64.824070</td>\n",
       "      <td>-70.074340</td>\n",
       "    </tr>\n",
       "  </tbody>\n",
       "</table>\n",
       "</div>"
      ],
      "text/plain": [
       "                 id         price      bedrooms     bathrooms   sqft_living  \\\n",
       "count  3.015500e+04  3.015500e+04  30155.000000  30155.000000  30155.000000   \n",
       "mean   4.538104e+09  1.108536e+06      3.413530      2.334737   2112.424739   \n",
       "std    2.882587e+09  8.963857e+05      0.981612      0.889556    974.044318   \n",
       "min    1.000055e+06  2.736000e+04      0.000000      0.000000      3.000000   \n",
       "25%    2.064175e+09  6.480000e+05      3.000000      2.000000   1420.000000   \n",
       "50%    3.874011e+09  8.600000e+05      3.000000      2.500000   1920.000000   \n",
       "75%    7.287100e+09  1.300000e+06      4.000000      3.000000   2619.500000   \n",
       "max    9.904000e+09  3.075000e+07     13.000000     10.500000  15360.000000   \n",
       "\n",
       "           sqft_lot        floors    sqft_above  sqft_basement   sqft_garage  \\\n",
       "count  3.015500e+04  30155.000000  30155.000000   30155.000000  30155.000000   \n",
       "mean   1.672360e+04      1.543492   1809.826098     476.039396    330.211142   \n",
       "std    6.038260e+04      0.567717    878.306131     579.631302    285.770536   \n",
       "min    4.020000e+02      1.000000      2.000000       0.000000      0.000000   \n",
       "25%    4.850000e+03      1.000000   1180.000000       0.000000      0.000000   \n",
       "50%    7.480000e+03      1.500000   1560.000000       0.000000    400.000000   \n",
       "75%    1.057900e+04      2.000000   2270.000000     940.000000    510.000000   \n",
       "max    3.253932e+06      4.000000  12660.000000    8020.000000   3580.000000   \n",
       "\n",
       "         sqft_patio      yr_built  yr_renovated           lat          long  \n",
       "count  30155.000000  30155.000000  30155.000000  30155.000000  30155.000000  \n",
       "mean     217.412038   1975.163953     90.922301     47.328076   -121.317397  \n",
       "std      245.302792     32.067362    416.473038      1.434005      5.725475  \n",
       "min        0.000000   1900.000000      0.000000     21.274240   -157.791480  \n",
       "25%       40.000000   1953.000000      0.000000     47.405320   -122.326045  \n",
       "50%      150.000000   1977.000000      0.000000     47.551380   -122.225585  \n",
       "75%      320.000000   2003.000000      0.000000     47.669913   -122.116205  \n",
       "max     4370.000000   2022.000000   2022.000000     64.824070    -70.074340  "
      ]
     },
     "execution_count": 4,
     "metadata": {},
     "output_type": "execute_result"
    }
   ],
   "source": [
    "house_data.describe()"
   ]
  },
  {
   "cell_type": "markdown",
   "metadata": {},
   "source": [
    "The <b>.describe()</b> method shows statistics for 15 columns, which are of dtype integer or float. The columns containing object dtypes are not included in the table generated above."
   ]
  },
  {
   "cell_type": "markdown",
   "metadata": {},
   "source": [
    "Next, I will perform a correlation between sale price and the integer and float variables to see which variables may have a linear relationship with price. I will use the <b>.corr()</b> method to do this."
   ]
  },
  {
   "cell_type": "code",
   "execution_count": 5,
   "metadata": {},
   "outputs": [
    {
     "data": {
      "text/plain": [
       "id              -0.034184\n",
       "price            1.000000\n",
       "bedrooms         0.289204\n",
       "bathrooms        0.480401\n",
       "sqft_living      0.608521\n",
       "sqft_lot         0.085730\n",
       "floors           0.180576\n",
       "sqft_above       0.538651\n",
       "sqft_basement    0.245058\n",
       "sqft_garage      0.264169\n",
       "sqft_patio       0.313409\n",
       "yr_built         0.096013\n",
       "yr_renovated     0.084786\n",
       "lat              0.063632\n",
       "long            -0.022509\n",
       "Name: price, dtype: float64"
      ]
     },
     "execution_count": 5,
     "metadata": {},
     "output_type": "execute_result"
    }
   ],
   "source": [
    "# performing correlation between price and potential independent variables (int and float dtypes)\n",
    "house_data.corr()['price']"
   ]
  },
  {
   "cell_type": "markdown",
   "metadata": {},
   "source": [
    "Based on the results from <b>.corr()</b>, it appears that <b>sqft_living</b> has the strongest correlation with <b>price</b> (r=0.61). This <b>sqft_living</b> variable may be useful for a baseline model."
   ]
  },
  {
   "cell_type": "markdown",
   "metadata": {},
   "source": [
    "## Baseline Model\n",
    "\n",
    "As mentioned previously, <b>sqft_living</b> will be utilized for my simple linear regression baseline model. I will start by plotting the relationship between <b>sqft_living</b> and <b>price</b>. Then, I will generate the baseline model."
   ]
  },
  {
   "cell_type": "code",
   "execution_count": 7,
   "metadata": {
    "scrolled": true
   },
   "outputs": [
    {
     "data": {
      "image/png": "[encoded data removed]",
      "text/plain": [
       "<Figure size 432x288 with 1 Axes>"
      ]
     },
     "metadata": {
      "needs_background": "light"
     },
     "output_type": "display_data"
    }
   ],
   "source": [
    "# scatterplot to visualize relationship between sqft_living and price\n",
    "house_data.plot.scatter(x='sqft_living', y='price');"
   ]
  },
  {
   "cell_type": "code",
   "execution_count": 8,
   "metadata": {},
   "outputs": [
    {
     "name": "stdout",
     "output_type": "stream",
     "text": [
      "                            OLS Regression Results                            \n",
      "==============================================================================\n",
      "Dep. Variable:                  price   R-squared:                       0.370\n",
      "Model:                            OLS   Adj. R-squared:                  0.370\n",
      "Method:                 Least Squares   F-statistic:                 1.773e+04\n",
      "Date:                Sat, 27 May 2023   Prob (F-statistic):               0.00\n",
      "Time:                        10:58:39   Log-Likelihood:            -4.4912e+05\n",
      "No. Observations:               30155   AIC:                         8.982e+05\n",
      "Df Residuals:                   30153   BIC:                         8.983e+05\n",
      "Df Model:                           1                                         \n",
      "Covariance Type:            nonrobust                                         \n",
      "===============================================================================\n",
      "                  coef    std err          t      P>|t|      [0.025      0.975]\n",
      "-------------------------------------------------------------------------------\n",
      "const       -7.443e+04   9782.728     -7.609      0.000   -9.36e+04   -5.53e+04\n",
      "sqft_living   560.0050      4.206    133.160      0.000     551.762     568.248\n",
      "==============================================================================\n",
      "Omnibus:                    43429.367   Durbin-Watson:                   1.862\n",
      "Prob(Omnibus):                  0.000   Jarque-Bera (JB):         47159181.471\n",
      "Skew:                           8.188   Prob(JB):                         0.00\n",
      "Kurtosis:                     196.042   Cond. No.                     5.56e+03\n",
      "==============================================================================\n",
      "\n",
      "Notes:\n",
      "[1] Standard Errors assume that the covariance matrix of the errors is correctly specified.\n",
      "[2] The condition number is large, 5.56e+03. This might indicate that there are\n",
      "strong multicollinearity or other numerical problems.\n"
     ]
    }
   ],
   "source": [
    "# generating baseline model\n",
    "y = house_data[\"price\"]\n",
    "X_baseline = house_data[[\"sqft_living\"]]\n",
    "\n",
    "baseline_model = sm.OLS(y, sm.add_constant(X_baseline))\n",
    "baseline_results = baseline_model.fit()\n",
    "\n",
    "print(baseline_results.summary())"
   ]
  },
  {
   "cell_type": "markdown",
   "metadata": {},
   "source": [
    "From the baseline model we see that the model is statistically significant overall (the p-value for the F-statistic is 0). According to the model, one unit increase in sqft_living will lead to about a $560 increase in price. The p-values for both the constant and the sqft_living coefficient are significant (both t-test p-values are 0). Based on the R-squared value, we know that the model explains only about 37% of the variance in price. Therefore, this isn't a strong model and needs to be improved further. Let's add some categorical variables to the mix and see if it improves the linear regression model."
   ]
  },
  {
   "cell_type": "markdown",
   "metadata": {},
   "source": [
    "## Categorical Variables\n",
    "\n",
    "For the columns containing categorical information, the data needs to be transformed first before a model can be generated. Let's create a copy of the data table with only variables of object dtype present."
   ]
  },
  {
   "cell_type": "code",
   "execution_count": 9,
   "metadata": {},
   "outputs": [
    {
     "data": {
      "text/html": [
       "<div>\n",
       "<style scoped>\n",
       "    .dataframe tbody tr th:only-of-type {\n",
       "        vertical-align: middle;\n",
       "    }\n",
       "\n",
       "    .dataframe tbody tr th {\n",
       "        vertical-align: top;\n",
       "    }\n",
       "\n",
       "    .dataframe thead th {\n",
       "        text-align: right;\n",
       "    }\n",
       "</style>\n",
       "<table border=\"1\" class=\"dataframe\">\n",
       "  <thead>\n",
       "    <tr style=\"text-align: right;\">\n",
       "      <th></th>\n",
       "      <th>date</th>\n",
       "      <th>waterfront</th>\n",
       "      <th>greenbelt</th>\n",
       "      <th>nuisance</th>\n",
       "      <th>view</th>\n",
       "      <th>condition</th>\n",
       "      <th>grade</th>\n",
       "      <th>heat_source</th>\n",
       "      <th>sewer_system</th>\n",
       "      <th>address</th>\n",
       "    </tr>\n",
       "  </thead>\n",
       "  <tbody>\n",
       "    <tr>\n",
       "      <th>0</th>\n",
       "      <td>5/24/2022</td>\n",
       "      <td>NO</td>\n",
       "      <td>NO</td>\n",
       "      <td>NO</td>\n",
       "      <td>NONE</td>\n",
       "      <td>Good</td>\n",
       "      <td>7 Average</td>\n",
       "      <td>Gas</td>\n",
       "      <td>PUBLIC</td>\n",
       "      <td>2102 Southeast 21st Court, Renton, Washington ...</td>\n",
       "    </tr>\n",
       "    <tr>\n",
       "      <th>1</th>\n",
       "      <td>12/13/2021</td>\n",
       "      <td>NO</td>\n",
       "      <td>NO</td>\n",
       "      <td>YES</td>\n",
       "      <td>AVERAGE</td>\n",
       "      <td>Average</td>\n",
       "      <td>7 Average</td>\n",
       "      <td>Oil</td>\n",
       "      <td>PUBLIC</td>\n",
       "      <td>11231 Greenwood Avenue North, Seattle, Washing...</td>\n",
       "    </tr>\n",
       "    <tr>\n",
       "      <th>2</th>\n",
       "      <td>9/29/2021</td>\n",
       "      <td>NO</td>\n",
       "      <td>NO</td>\n",
       "      <td>NO</td>\n",
       "      <td>AVERAGE</td>\n",
       "      <td>Average</td>\n",
       "      <td>7 Average</td>\n",
       "      <td>Gas</td>\n",
       "      <td>PUBLIC</td>\n",
       "      <td>8504 South 113th Street, Seattle, Washington 9...</td>\n",
       "    </tr>\n",
       "    <tr>\n",
       "      <th>3</th>\n",
       "      <td>12/14/2021</td>\n",
       "      <td>NO</td>\n",
       "      <td>NO</td>\n",
       "      <td>NO</td>\n",
       "      <td>AVERAGE</td>\n",
       "      <td>Average</td>\n",
       "      <td>9 Better</td>\n",
       "      <td>Gas</td>\n",
       "      <td>PUBLIC</td>\n",
       "      <td>4079 Letitia Avenue South, Seattle, Washington...</td>\n",
       "    </tr>\n",
       "    <tr>\n",
       "      <th>4</th>\n",
       "      <td>8/24/2021</td>\n",
       "      <td>NO</td>\n",
       "      <td>NO</td>\n",
       "      <td>YES</td>\n",
       "      <td>NONE</td>\n",
       "      <td>Average</td>\n",
       "      <td>7 Average</td>\n",
       "      <td>Electricity</td>\n",
       "      <td>PUBLIC</td>\n",
       "      <td>2193 Northwest Talus Drive, Issaquah, Washingt...</td>\n",
       "    </tr>\n",
       "  </tbody>\n",
       "</table>\n",
       "</div>"
      ],
      "text/plain": [
       "         date waterfront greenbelt nuisance     view condition      grade  \\\n",
       "0   5/24/2022         NO        NO       NO     NONE      Good  7 Average   \n",
       "1  12/13/2021         NO        NO      YES  AVERAGE   Average  7 Average   \n",
       "2   9/29/2021         NO        NO       NO  AVERAGE   Average  7 Average   \n",
       "3  12/14/2021         NO        NO       NO  AVERAGE   Average   9 Better   \n",
       "4   8/24/2021         NO        NO      YES     NONE   Average  7 Average   \n",
       "\n",
       "   heat_source sewer_system                                            address  \n",
       "0          Gas       PUBLIC  2102 Southeast 21st Court, Renton, Washington ...  \n",
       "1          Oil       PUBLIC  11231 Greenwood Avenue North, Seattle, Washing...  \n",
       "2          Gas       PUBLIC  8504 South 113th Street, Seattle, Washington 9...  \n",
       "3          Gas       PUBLIC  4079 Letitia Avenue South, Seattle, Washington...  \n",
       "4  Electricity       PUBLIC  2193 Northwest Talus Drive, Issaquah, Washingt...  "
      ]
     },
     "execution_count": 9,
     "metadata": {},
     "output_type": "execute_result"
    }
   ],
   "source": [
    "# creating copy of data with only obj columns\n",
    "categorical_data = house_data.select_dtypes(include='object')\n",
    "# use .head() to visualize first five rows and confirm that only categorical variables are present\n",
    "categorical_data.head()"
   ]
  },
  {
   "cell_type": "code",
   "execution_count": 10,
   "metadata": {},
   "outputs": [
    {
     "name": "stdout",
     "output_type": "stream",
     "text": [
      "<class 'pandas.core.frame.DataFrame'>\n",
      "RangeIndex: 30155 entries, 0 to 30154\n",
      "Data columns (total 10 columns):\n",
      " #   Column        Non-Null Count  Dtype \n",
      "---  ------        --------------  ----- \n",
      " 0   date          30155 non-null  object\n",
      " 1   waterfront    30155 non-null  object\n",
      " 2   greenbelt     30155 non-null  object\n",
      " 3   nuisance      30155 non-null  object\n",
      " 4   view          30155 non-null  object\n",
      " 5   condition     30155 non-null  object\n",
      " 6   grade         30155 non-null  object\n",
      " 7   heat_source   30123 non-null  object\n",
      " 8   sewer_system  30141 non-null  object\n",
      " 9   address       30155 non-null  object\n",
      "dtypes: object(10)\n",
      "memory usage: 2.3+ MB\n"
     ]
    }
   ],
   "source": [
    "categorical_data.info()"
   ]
  },
  {
   "cell_type": "markdown",
   "metadata": {},
   "source": [
    "Using the <b>.info()</b> method, we can confirm that the copied dataframe contains only the columns of object dtype. As mentioned earlier, the <b>heat_source</b> and <b>sewer_system</b> columns have missing entries. Therefore, it's probably best not to include those two columns. In addition, it would not make sense to look at <b>date</b> and <b>address</b> and their relationship with price, since both of these data vary too much and will most likely not have any discernable pattern. Let's create a new copy of the categorical dataframe that excludes these four columns (heat_source, sewer_system, date, address). I will also add the <b>price</b> column because it's the dependent variable of interest. Furthermore, I will include the <b>bedrooms</b>, <b>bathrooms</b>, and <b>floors</b> columns because even though they have int and float dtypes, they seemed to more discrete, categorical variables based on the earlier analysis."
   ]
  },
  {
   "cell_type": "code",
   "execution_count": 12,
   "metadata": {},
   "outputs": [
    {
     "data": {
      "text/html": [
       "<div>\n",
       "<style scoped>\n",
       "    .dataframe tbody tr th:only-of-type {\n",
       "        vertical-align: middle;\n",
       "    }\n",
       "\n",
       "    .dataframe tbody tr th {\n",
       "        vertical-align: top;\n",
       "    }\n",
       "\n",
       "    .dataframe thead th {\n",
       "        text-align: right;\n",
       "    }\n",
       "</style>\n",
       "<table border=\"1\" class=\"dataframe\">\n",
       "  <thead>\n",
       "    <tr style=\"text-align: right;\">\n",
       "      <th></th>\n",
       "      <th>waterfront</th>\n",
       "      <th>greenbelt</th>\n",
       "      <th>nuisance</th>\n",
       "      <th>view</th>\n",
       "      <th>condition</th>\n",
       "      <th>grade</th>\n",
       "      <th>bedrooms</th>\n",
       "      <th>bathrooms</th>\n",
       "      <th>floors</th>\n",
       "      <th>price</th>\n",
       "    </tr>\n",
       "  </thead>\n",
       "  <tbody>\n",
       "    <tr>\n",
       "      <th>0</th>\n",
       "      <td>NO</td>\n",
       "      <td>NO</td>\n",
       "      <td>NO</td>\n",
       "      <td>NONE</td>\n",
       "      <td>Good</td>\n",
       "      <td>7 Average</td>\n",
       "      <td>4</td>\n",
       "      <td>1.0</td>\n",
       "      <td>1.0</td>\n",
       "      <td>675000.0</td>\n",
       "    </tr>\n",
       "    <tr>\n",
       "      <th>1</th>\n",
       "      <td>NO</td>\n",
       "      <td>NO</td>\n",
       "      <td>YES</td>\n",
       "      <td>AVERAGE</td>\n",
       "      <td>Average</td>\n",
       "      <td>7 Average</td>\n",
       "      <td>5</td>\n",
       "      <td>2.5</td>\n",
       "      <td>1.0</td>\n",
       "      <td>920000.0</td>\n",
       "    </tr>\n",
       "    <tr>\n",
       "      <th>2</th>\n",
       "      <td>NO</td>\n",
       "      <td>NO</td>\n",
       "      <td>NO</td>\n",
       "      <td>AVERAGE</td>\n",
       "      <td>Average</td>\n",
       "      <td>7 Average</td>\n",
       "      <td>6</td>\n",
       "      <td>2.0</td>\n",
       "      <td>1.0</td>\n",
       "      <td>311000.0</td>\n",
       "    </tr>\n",
       "    <tr>\n",
       "      <th>3</th>\n",
       "      <td>NO</td>\n",
       "      <td>NO</td>\n",
       "      <td>NO</td>\n",
       "      <td>AVERAGE</td>\n",
       "      <td>Average</td>\n",
       "      <td>9 Better</td>\n",
       "      <td>3</td>\n",
       "      <td>3.0</td>\n",
       "      <td>2.0</td>\n",
       "      <td>775000.0</td>\n",
       "    </tr>\n",
       "    <tr>\n",
       "      <th>4</th>\n",
       "      <td>NO</td>\n",
       "      <td>NO</td>\n",
       "      <td>YES</td>\n",
       "      <td>NONE</td>\n",
       "      <td>Average</td>\n",
       "      <td>7 Average</td>\n",
       "      <td>2</td>\n",
       "      <td>2.0</td>\n",
       "      <td>2.0</td>\n",
       "      <td>592500.0</td>\n",
       "    </tr>\n",
       "  </tbody>\n",
       "</table>\n",
       "</div>"
      ],
      "text/plain": [
       "  waterfront greenbelt nuisance     view condition      grade  bedrooms  \\\n",
       "0         NO        NO       NO     NONE      Good  7 Average         4   \n",
       "1         NO        NO      YES  AVERAGE   Average  7 Average         5   \n",
       "2         NO        NO       NO  AVERAGE   Average  7 Average         6   \n",
       "3         NO        NO       NO  AVERAGE   Average   9 Better         3   \n",
       "4         NO        NO      YES     NONE   Average  7 Average         2   \n",
       "\n",
       "   bathrooms  floors     price  \n",
       "0        1.0     1.0  675000.0  \n",
       "1        2.5     1.0  920000.0  \n",
       "2        2.0     1.0  311000.0  \n",
       "3        3.0     2.0  775000.0  \n",
       "4        2.0     2.0  592500.0  "
      ]
     },
     "execution_count": 12,
     "metadata": {},
     "output_type": "execute_result"
    }
   ],
   "source": [
    "# create another copy of categorical dataframe, excluding unnecessary columns\n",
    "cat_data_edited = house_data[['waterfront', 'greenbelt', 'nuisance', 'view', 'condition', 'grade', 'bedrooms',\n",
    "                              'bathrooms', 'floors', 'price']]\n",
    "# use .head() to visualize first five rows\n",
    "cat_data_edited.head()"
   ]
  },
  {
   "cell_type": "markdown",
   "metadata": {},
   "source": [
    "With the columns that in the <b>cat_data_edited</b> dataframe, some edits must be done to make the data more usable. Let's start by creating a new column called rating that extracts the number from grade. "
   ]
  },
  {
   "cell_type": "code",
   "execution_count": 13,
   "metadata": {},
   "outputs": [
    {
     "name": "stderr",
     "output_type": "stream",
     "text": [
      "<ipython-input-13-00cf2c3f359d>:2: SettingWithCopyWarning: \n",
      "A value is trying to be set on a copy of a slice from a DataFrame.\n",
      "Try using .loc[row_indexer,col_indexer] = value instead\n",
      "\n",
      "See the caveats in the documentation: https://pandas.pydata.org/pandas-docs/stable/user_guide/indexing.html#returning-a-view-versus-a-copy\n",
      "  cat_data_edited['rating'] = cat_data_edited['grade'].str.split().apply(lambda x: x[0])\n"
     ]
    },
    {
     "data": {
      "text/html": [
       "<div>\n",
       "<style scoped>\n",
       "    .dataframe tbody tr th:only-of-type {\n",
       "        vertical-align: middle;\n",
       "    }\n",
       "\n",
       "    .dataframe tbody tr th {\n",
       "        vertical-align: top;\n",
       "    }\n",
       "\n",
       "    .dataframe thead th {\n",
       "        text-align: right;\n",
       "    }\n",
       "</style>\n",
       "<table border=\"1\" class=\"dataframe\">\n",
       "  <thead>\n",
       "    <tr style=\"text-align: right;\">\n",
       "      <th></th>\n",
       "      <th>waterfront</th>\n",
       "      <th>greenbelt</th>\n",
       "      <th>nuisance</th>\n",
       "      <th>view</th>\n",
       "      <th>condition</th>\n",
       "      <th>grade</th>\n",
       "      <th>bedrooms</th>\n",
       "      <th>bathrooms</th>\n",
       "      <th>floors</th>\n",
       "      <th>price</th>\n",
       "      <th>rating</th>\n",
       "    </tr>\n",
       "  </thead>\n",
       "  <tbody>\n",
       "    <tr>\n",
       "      <th>0</th>\n",
       "      <td>NO</td>\n",
       "      <td>NO</td>\n",
       "      <td>NO</td>\n",
       "      <td>NONE</td>\n",
       "      <td>Good</td>\n",
       "      <td>7 Average</td>\n",
       "      <td>4</td>\n",
       "      <td>1.0</td>\n",
       "      <td>1.0</td>\n",
       "      <td>675000.0</td>\n",
       "      <td>7</td>\n",
       "    </tr>\n",
       "    <tr>\n",
       "      <th>1</th>\n",
       "      <td>NO</td>\n",
       "      <td>NO</td>\n",
       "      <td>YES</td>\n",
       "      <td>AVERAGE</td>\n",
       "      <td>Average</td>\n",
       "      <td>7 Average</td>\n",
       "      <td>5</td>\n",
       "      <td>2.5</td>\n",
       "      <td>1.0</td>\n",
       "      <td>920000.0</td>\n",
       "      <td>7</td>\n",
       "    </tr>\n",
       "    <tr>\n",
       "      <th>2</th>\n",
       "      <td>NO</td>\n",
       "      <td>NO</td>\n",
       "      <td>NO</td>\n",
       "      <td>AVERAGE</td>\n",
       "      <td>Average</td>\n",
       "      <td>7 Average</td>\n",
       "      <td>6</td>\n",
       "      <td>2.0</td>\n",
       "      <td>1.0</td>\n",
       "      <td>311000.0</td>\n",
       "      <td>7</td>\n",
       "    </tr>\n",
       "    <tr>\n",
       "      <th>3</th>\n",
       "      <td>NO</td>\n",
       "      <td>NO</td>\n",
       "      <td>NO</td>\n",
       "      <td>AVERAGE</td>\n",
       "      <td>Average</td>\n",
       "      <td>9 Better</td>\n",
       "      <td>3</td>\n",
       "      <td>3.0</td>\n",
       "      <td>2.0</td>\n",
       "      <td>775000.0</td>\n",
       "      <td>9</td>\n",
       "    </tr>\n",
       "    <tr>\n",
       "      <th>4</th>\n",
       "      <td>NO</td>\n",
       "      <td>NO</td>\n",
       "      <td>YES</td>\n",
       "      <td>NONE</td>\n",
       "      <td>Average</td>\n",
       "      <td>7 Average</td>\n",
       "      <td>2</td>\n",
       "      <td>2.0</td>\n",
       "      <td>2.0</td>\n",
       "      <td>592500.0</td>\n",
       "      <td>7</td>\n",
       "    </tr>\n",
       "    <tr>\n",
       "      <th>...</th>\n",
       "      <td>...</td>\n",
       "      <td>...</td>\n",
       "      <td>...</td>\n",
       "      <td>...</td>\n",
       "      <td>...</td>\n",
       "      <td>...</td>\n",
       "      <td>...</td>\n",
       "      <td>...</td>\n",
       "      <td>...</td>\n",
       "      <td>...</td>\n",
       "      <td>...</td>\n",
       "    </tr>\n",
       "    <tr>\n",
       "      <th>30150</th>\n",
       "      <td>NO</td>\n",
       "      <td>NO</td>\n",
       "      <td>NO</td>\n",
       "      <td>NONE</td>\n",
       "      <td>Good</td>\n",
       "      <td>8 Good</td>\n",
       "      <td>5</td>\n",
       "      <td>2.0</td>\n",
       "      <td>1.5</td>\n",
       "      <td>1555000.0</td>\n",
       "      <td>8</td>\n",
       "    </tr>\n",
       "    <tr>\n",
       "      <th>30151</th>\n",
       "      <td>NO</td>\n",
       "      <td>NO</td>\n",
       "      <td>NO</td>\n",
       "      <td>FAIR</td>\n",
       "      <td>Average</td>\n",
       "      <td>7 Average</td>\n",
       "      <td>3</td>\n",
       "      <td>2.0</td>\n",
       "      <td>2.0</td>\n",
       "      <td>1313000.0</td>\n",
       "      <td>7</td>\n",
       "    </tr>\n",
       "    <tr>\n",
       "      <th>30152</th>\n",
       "      <td>NO</td>\n",
       "      <td>NO</td>\n",
       "      <td>YES</td>\n",
       "      <td>NONE</td>\n",
       "      <td>Average</td>\n",
       "      <td>7 Average</td>\n",
       "      <td>3</td>\n",
       "      <td>2.0</td>\n",
       "      <td>1.0</td>\n",
       "      <td>800000.0</td>\n",
       "      <td>7</td>\n",
       "    </tr>\n",
       "    <tr>\n",
       "      <th>30153</th>\n",
       "      <td>NO</td>\n",
       "      <td>NO</td>\n",
       "      <td>NO</td>\n",
       "      <td>NONE</td>\n",
       "      <td>Average</td>\n",
       "      <td>8 Good</td>\n",
       "      <td>3</td>\n",
       "      <td>2.5</td>\n",
       "      <td>2.0</td>\n",
       "      <td>775000.0</td>\n",
       "      <td>8</td>\n",
       "    </tr>\n",
       "    <tr>\n",
       "      <th>30154</th>\n",
       "      <td>NO</td>\n",
       "      <td>NO</td>\n",
       "      <td>NO</td>\n",
       "      <td>NONE</td>\n",
       "      <td>Average</td>\n",
       "      <td>7 Average</td>\n",
       "      <td>3</td>\n",
       "      <td>1.5</td>\n",
       "      <td>1.0</td>\n",
       "      <td>500000.0</td>\n",
       "      <td>7</td>\n",
       "    </tr>\n",
       "  </tbody>\n",
       "</table>\n",
       "<p>30155 rows × 11 columns</p>\n",
       "</div>"
      ],
      "text/plain": [
       "      waterfront greenbelt nuisance     view condition      grade  bedrooms  \\\n",
       "0             NO        NO       NO     NONE      Good  7 Average         4   \n",
       "1             NO        NO      YES  AVERAGE   Average  7 Average         5   \n",
       "2             NO        NO       NO  AVERAGE   Average  7 Average         6   \n",
       "3             NO        NO       NO  AVERAGE   Average   9 Better         3   \n",
       "4             NO        NO      YES     NONE   Average  7 Average         2   \n",
       "...          ...       ...      ...      ...       ...        ...       ...   \n",
       "30150         NO        NO       NO     NONE      Good     8 Good         5   \n",
       "30151         NO        NO       NO     FAIR   Average  7 Average         3   \n",
       "30152         NO        NO      YES     NONE   Average  7 Average         3   \n",
       "30153         NO        NO       NO     NONE   Average     8 Good         3   \n",
       "30154         NO        NO       NO     NONE   Average  7 Average         3   \n",
       "\n",
       "       bathrooms  floors      price rating  \n",
       "0            1.0     1.0   675000.0      7  \n",
       "1            2.5     1.0   920000.0      7  \n",
       "2            2.0     1.0   311000.0      7  \n",
       "3            3.0     2.0   775000.0      9  \n",
       "4            2.0     2.0   592500.0      7  \n",
       "...          ...     ...        ...    ...  \n",
       "30150        2.0     1.5  1555000.0      8  \n",
       "30151        2.0     2.0  1313000.0      7  \n",
       "30152        2.0     1.0   800000.0      7  \n",
       "30153        2.5     2.0   775000.0      8  \n",
       "30154        1.5     1.0   500000.0      7  \n",
       "\n",
       "[30155 rows x 11 columns]"
      ]
     },
     "execution_count": 13,
     "metadata": {},
     "output_type": "execute_result"
    }
   ],
   "source": [
    "# creating a new column with just the number from grade\n",
    "cat_data_edited['rating'] = cat_data_edited['grade'].str.split().apply(lambda x: x[0])\n",
    "cat_data_edited"
   ]
  },
  {
   "cell_type": "code",
   "execution_count": 14,
   "metadata": {},
   "outputs": [
    {
     "data": {
      "text/plain": [
       "7     11697\n",
       "8      9410\n",
       "9      3806\n",
       "6      2858\n",
       "10     1371\n",
       "11      406\n",
       "5       393\n",
       "12      122\n",
       "4        51\n",
       "13       24\n",
       "3        13\n",
       "2         2\n",
       "1         2\n",
       "Name: rating, dtype: int64"
      ]
     },
     "execution_count": 14,
     "metadata": {},
     "output_type": "execute_result"
    }
   ],
   "source": [
    "cat_data_edited['rating'].value_counts()"
   ]
  },
  {
   "cell_type": "code",
   "execution_count": 15,
   "metadata": {},
   "outputs": [
    {
     "name": "stdout",
     "output_type": "stream",
     "text": [
      "<class 'pandas.core.frame.DataFrame'>\n",
      "RangeIndex: 30155 entries, 0 to 30154\n",
      "Data columns (total 11 columns):\n",
      " #   Column      Non-Null Count  Dtype  \n",
      "---  ------      --------------  -----  \n",
      " 0   waterfront  30155 non-null  object \n",
      " 1   greenbelt   30155 non-null  object \n",
      " 2   nuisance    30155 non-null  object \n",
      " 3   view        30155 non-null  object \n",
      " 4   condition   30155 non-null  object \n",
      " 5   grade       30155 non-null  object \n",
      " 6   bedrooms    30155 non-null  int64  \n",
      " 7   bathrooms   30155 non-null  float64\n",
      " 8   floors      30155 non-null  float64\n",
      " 9   price       30155 non-null  float64\n",
      " 10  rating      30155 non-null  object \n",
      "dtypes: float64(3), int64(1), object(7)\n",
      "memory usage: 2.5+ MB\n"
     ]
    }
   ],
   "source": [
    "cat_data_edited.info()"
   ]
  },
  {
   "cell_type": "markdown",
   "metadata": {},
   "source": [
    "Let's convert rating from an object dtype to an integer so its relationship with price can be graphed."
   ]
  },
  {
   "cell_type": "code",
   "execution_count": 16,
   "metadata": {},
   "outputs": [
    {
     "name": "stderr",
     "output_type": "stream",
     "text": [
      "<ipython-input-16-aef727951dc1>:2: SettingWithCopyWarning: \n",
      "A value is trying to be set on a copy of a slice from a DataFrame.\n",
      "Try using .loc[row_indexer,col_indexer] = value instead\n",
      "\n",
      "See the caveats in the documentation: https://pandas.pydata.org/pandas-docs/stable/user_guide/indexing.html#returning-a-view-versus-a-copy\n",
      "  cat_data_edited['rating'] = cat_data_edited['rating'].astype('int64')\n"
     ]
    }
   ],
   "source": [
    "# convert rating to int dtype\n",
    "cat_data_edited['rating'] = cat_data_edited['rating'].astype('int64')"
   ]
  },
  {
   "cell_type": "code",
   "execution_count": 17,
   "metadata": {},
   "outputs": [
    {
     "name": "stdout",
     "output_type": "stream",
     "text": [
      "<class 'pandas.core.frame.DataFrame'>\n",
      "RangeIndex: 30155 entries, 0 to 30154\n",
      "Data columns (total 11 columns):\n",
      " #   Column      Non-Null Count  Dtype  \n",
      "---  ------      --------------  -----  \n",
      " 0   waterfront  30155 non-null  object \n",
      " 1   greenbelt   30155 non-null  object \n",
      " 2   nuisance    30155 non-null  object \n",
      " 3   view        30155 non-null  object \n",
      " 4   condition   30155 non-null  object \n",
      " 5   grade       30155 non-null  object \n",
      " 6   bedrooms    30155 non-null  int64  \n",
      " 7   bathrooms   30155 non-null  float64\n",
      " 8   floors      30155 non-null  float64\n",
      " 9   price       30155 non-null  float64\n",
      " 10  rating      30155 non-null  int64  \n",
      "dtypes: float64(3), int64(2), object(6)\n",
      "memory usage: 2.5+ MB\n"
     ]
    }
   ],
   "source": [
    "# checking if dtype of rating was converted successfully\n",
    "cat_data_edited.info()"
   ]
  },
  {
   "cell_type": "code",
   "execution_count": 22,
   "metadata": {},
   "outputs": [
    {
     "data": {
      "image/png": "[encoded data removed]",
      "text/plain": [
       "<Figure size 1080x576 with 1 Axes>"
      ]
     },
     "metadata": {
      "needs_background": "light"
     },
     "output_type": "display_data"
    }
   ],
   "source": [
    "# creating scatterplot to visualize relationship between rating and price\n",
    "fig, ax = plt.subplots(figsize=(15,8))\n",
    "\n",
    "ax.scatter(cat_data_edited['rating'], cat_data_edited['price'], alpha=0.3, color=\"green\")\n",
    "ax.set_title(\"Rating vs. Price\")\n",
    "ax.set_xlabel(\"Rating\")\n",
    "ax.set_ylabel(\"Price in Ten Millions ($)\");"
   ]
  },
  {
   "cell_type": "code",
   "execution_count": 21,
   "metadata": {},
   "outputs": [
    {
     "data": {
      "text/plain": [
       "bedrooms     0.289204\n",
       "bathrooms    0.480401\n",
       "floors       0.180576\n",
       "price        1.000000\n",
       "rating       0.565263\n",
       "Name: price, dtype: float64"
      ]
     },
     "execution_count": 21,
     "metadata": {},
     "output_type": "execute_result"
    }
   ],
   "source": [
    "# checking correlation between rating and price\n",
    "cat_data_edited.corr()['price']"
   ]
  },
  {
   "cell_type": "markdown",
   "metadata": {},
   "source": [
    "Using <b>.corr()</b>, we see that the correlation coefficient between <b>rating</b> and <b>price</b> is about 0.57. Let's create a linear regression model with <b>rating</b> as the only independent variable."
   ]
  },
  {
   "cell_type": "code",
   "execution_count": 23,
   "metadata": {},
   "outputs": [
    {
     "name": "stdout",
     "output_type": "stream",
     "text": [
      "                            OLS Regression Results                            \n",
      "==============================================================================\n",
      "Dep. Variable:                  price   R-squared:                       0.320\n",
      "Model:                            OLS   Adj. R-squared:                  0.319\n",
      "Method:                 Least Squares   F-statistic:                 1.416e+04\n",
      "Date:                Sat, 27 May 2023   Prob (F-statistic):               0.00\n",
      "Time:                        11:18:15   Log-Likelihood:            -4.5029e+05\n",
      "No. Observations:               30155   AIC:                         9.006e+05\n",
      "Df Residuals:                   30153   BIC:                         9.006e+05\n",
      "Df Model:                           1                                         \n",
      "Covariance Type:            nonrobust                                         \n",
      "==============================================================================\n",
      "                 coef    std err          t      P>|t|      [0.025      0.975]\n",
      "------------------------------------------------------------------------------\n",
      "const      -2.266e+06   2.87e+04    -79.012      0.000   -2.32e+06   -2.21e+06\n",
      "rating       4.41e+05   3706.165    118.990      0.000    4.34e+05    4.48e+05\n",
      "==============================================================================\n",
      "Omnibus:                    42158.385   Durbin-Watson:                   1.881\n",
      "Prob(Omnibus):                  0.000   Jarque-Bera (JB):         33002205.609\n",
      "Skew:                           7.828   Prob(JB):                         0.00\n",
      "Kurtosis:                     164.310   Cond. No.                         53.0\n",
      "==============================================================================\n",
      "\n",
      "Notes:\n",
      "[1] Standard Errors assume that the covariance matrix of the errors is correctly specified.\n"
     ]
    }
   ],
   "source": [
    "y = cat_data_edited[\"price\"]\n",
    "X_rating = cat_data_edited[[\"rating\"]]\n",
    "\n",
    "rating_model = sm.OLS(y, sm.add_constant(X_rating))\n",
    "rating_results = rating_model.fit()\n",
    "\n",
    "print(rating_results.summary())"
   ]
  },
  {
   "cell_type": "markdown",
   "metadata": {},
   "source": [
    "The linear regression model with <b>rating</b> as the only independent variable is significant, with an F-statistic p-value of 0. Both the constant and the rating coefficient are significant and have a t-test p-value of 0. The coefficient for rating indicates that with one unit increase in rating, a $441,000 increase in price is expected. The model is weak, having an R-squared value of about 0.32. This model is actually worse at predicting the variance in price than the baseline model created earlier because it only accounts for about 32% of the variation, whereas the baseline detected about 37% of the variation in price."
   ]
  },
  {
   "cell_type": "markdown",
   "metadata": {},
   "source": [
    "Let's take a look at some of the other categorical variables."
   ]
  },
  {
   "cell_type": "code",
   "execution_count": 25,
   "metadata": {},
   "outputs": [
    {
     "data": {
      "text/plain": [
       "NO     29636\n",
       "YES      519\n",
       "Name: waterfront, dtype: int64"
      ]
     },
     "execution_count": 25,
     "metadata": {},
     "output_type": "execute_result"
    }
   ],
   "source": [
    "cat_data_edited['waterfront'].value_counts()"
   ]
  },
  {
   "cell_type": "code",
   "execution_count": 26,
   "metadata": {},
   "outputs": [
    {
     "data": {
      "text/plain": [
       "NO     29382\n",
       "YES      773\n",
       "Name: greenbelt, dtype: int64"
      ]
     },
     "execution_count": 26,
     "metadata": {},
     "output_type": "execute_result"
    }
   ],
   "source": [
    "cat_data_edited['greenbelt'].value_counts()"
   ]
  },
  {
   "cell_type": "code",
   "execution_count": 27,
   "metadata": {},
   "outputs": [
    {
     "data": {
      "text/plain": [
       "NO     24893\n",
       "YES     5262\n",
       "Name: nuisance, dtype: int64"
      ]
     },
     "execution_count": 27,
     "metadata": {},
     "output_type": "execute_result"
    }
   ],
   "source": [
    "cat_data_edited['nuisance'].value_counts()"
   ]
  },
  {
   "cell_type": "code",
   "execution_count": 28,
   "metadata": {},
   "outputs": [
    {
     "data": {
      "text/plain": [
       "NONE         26589\n",
       "AVERAGE       1915\n",
       "GOOD           878\n",
       "EXCELLENT      553\n",
       "FAIR           220\n",
       "Name: view, dtype: int64"
      ]
     },
     "execution_count": 28,
     "metadata": {},
     "output_type": "execute_result"
    }
   ],
   "source": [
    "cat_data_edited['view'].value_counts()"
   ]
  },
  {
   "cell_type": "code",
   "execution_count": 29,
   "metadata": {},
   "outputs": [
    {
     "data": {
      "text/plain": [
       "Average      18547\n",
       "Good          8054\n",
       "Very Good     3259\n",
       "Fair           230\n",
       "Poor            65\n",
       "Name: condition, dtype: int64"
      ]
     },
     "execution_count": 29,
     "metadata": {},
     "output_type": "execute_result"
    }
   ],
   "source": [
    "cat_data_edited['condition'].value_counts()"
   ]
  },
  {
   "cell_type": "code",
   "execution_count": 30,
   "metadata": {},
   "outputs": [
    {
     "data": {
      "text/plain": [
       "3     12754\n",
       "4      9597\n",
       "2      3936\n",
       "5      2798\n",
       "6       498\n",
       "1       391\n",
       "7        80\n",
       "0        44\n",
       "8        38\n",
       "9        14\n",
       "10        3\n",
       "13        1\n",
       "11        1\n",
       "Name: bedrooms, dtype: int64"
      ]
     },
     "execution_count": 30,
     "metadata": {},
     "output_type": "execute_result"
    }
   ],
   "source": [
    "cat_data_edited['bedrooms'].value_counts()"
   ]
  },
  {
   "cell_type": "code",
   "execution_count": 31,
   "metadata": {},
   "outputs": [
    {
     "data": {
      "text/plain": [
       "2.5     8475\n",
       "2.0     7349\n",
       "1.0     4576\n",
       "3.0     4117\n",
       "3.5     2266\n",
       "1.5     1808\n",
       "4.0      645\n",
       "4.5      533\n",
       "5.0      145\n",
       "5.5      104\n",
       "6.0       45\n",
       "0.0       31\n",
       "6.5       25\n",
       "7.5       12\n",
       "7.0       12\n",
       "0.5        5\n",
       "9.5        2\n",
       "8.0        2\n",
       "8.5        1\n",
       "10.0       1\n",
       "10.5       1\n",
       "Name: bathrooms, dtype: int64"
      ]
     },
     "execution_count": 31,
     "metadata": {},
     "output_type": "execute_result"
    }
   ],
   "source": [
    "cat_data_edited['bathrooms'].value_counts()"
   ]
  },
  {
   "cell_type": "code",
   "execution_count": 32,
   "metadata": {},
   "outputs": [
    {
     "data": {
      "text/plain": [
       "1.0    13962\n",
       "2.0    12265\n",
       "1.5     2439\n",
       "3.0     1222\n",
       "2.5      222\n",
       "4.0       30\n",
       "3.5       15\n",
       "Name: floors, dtype: int64"
      ]
     },
     "execution_count": 32,
     "metadata": {},
     "output_type": "execute_result"
    }
   ],
   "source": [
    "cat_data_edited['floors'].value_counts()"
   ]
  },
  {
   "cell_type": "markdown",
   "metadata": {},
   "source": [
    "Looking at the <b>.value_counts()</b> for the other categorical variables, it appears that <b>greenbelt</b>, <b>nuisance</b>, and <b>view</b> are binary, having two categories ('NO' and 'YES'). Meanwhile, <b>view</b> and <b>condition</b> have five categories. The number of <b>bedrooms</b> range from 0-13, the number of <b>bathrooms</b> range from 1.0-10.5, and the number of <b>floors</b> range from 1.0-4.0. "
   ]
  },
  {
   "cell_type": "markdown",
   "metadata": {},
   "source": [
    "Let's create some bar graphs to visualize average price in relation to each variable."
   ]
  },
  {
   "cell_type": "code",
   "execution_count": 33,
   "metadata": {},
   "outputs": [
    {
     "data": {
      "image/png": "[encoded data removed]",
      "text/plain": [
       "<Figure size 864x360 with 1 Axes>"
      ]
     },
     "metadata": {
      "needs_background": "light"
     },
     "output_type": "display_data"
    }
   ],
   "source": [
    "# waterfront vs price\n",
    "fig, ax = plt.subplots(figsize=(12,5))\n",
    "cat_data_edited.groupby(\"waterfront\").mean().plot.bar(y=\"price\", ax=ax);"
   ]
  },
  {
   "cell_type": "code",
   "execution_count": 34,
   "metadata": {},
   "outputs": [
    {
     "data": {
      "image/png": "[encoded data removed]",
      "text/plain": [
       "<Figure size 864x360 with 1 Axes>"
      ]
     },
     "metadata": {
      "needs_background": "light"
     },
     "output_type": "display_data"
    }
   ],
   "source": [
    "# greenbelt vs price\n",
    "fig, ax = plt.subplots(figsize=(12,5))\n",
    "cat_data_edited.groupby(\"greenbelt\").mean().plot.bar(y=\"price\", ax=ax);"
   ]
  },
  {
   "cell_type": "code",
   "execution_count": 35,
   "metadata": {},
   "outputs": [
    {
     "data": {
      "image/png": "[encoded data removed]",
      "text/plain": [
       "<Figure size 864x360 with 1 Axes>"
      ]
     },
     "metadata": {
      "needs_background": "light"
     },
     "output_type": "display_data"
    }
   ],
   "source": [
    "# nuisance vs price\n",
    "fig, ax = plt.subplots(figsize=(12,5))\n",
    "cat_data_edited.groupby(\"nuisance\").mean().plot.bar(y=\"price\", ax=ax);"
   ]
  },
  {
   "cell_type": "code",
   "execution_count": 36,
   "metadata": {},
   "outputs": [
    {
     "data": {
      "image/png": "[encoded data removed]",
      "text/plain": [
       "<Figure size 864x360 with 1 Axes>"
      ]
     },
     "metadata": {
      "needs_background": "light"
     },
     "output_type": "display_data"
    }
   ],
   "source": [
    "# view vs price\n",
    "fig, ax = plt.subplots(figsize=(12,5))\n",
    "cat_data_edited.groupby(\"view\").mean().plot.bar(y=\"price\", ax=ax);"
   ]
  },
  {
   "cell_type": "code",
   "execution_count": 37,
   "metadata": {},
   "outputs": [
    {
     "data": {
      "image/png": "[encoded data removed]",
      "text/plain": [
       "<Figure size 864x360 with 1 Axes>"
      ]
     },
     "metadata": {
      "needs_background": "light"
     },
     "output_type": "display_data"
    }
   ],
   "source": [
    "# condition vs price\n",
    "fig, ax = plt.subplots(figsize=(12,5))\n",
    "cat_data_edited.groupby(\"condition\").mean().plot.bar(y=\"price\", ax=ax);"
   ]
  },
  {
   "cell_type": "code",
   "execution_count": 38,
   "metadata": {},
   "outputs": [
    {
     "data": {
      "image/png": "[encoded data removed]",
      "text/plain": [
       "<Figure size 864x360 with 1 Axes>"
      ]
     },
     "metadata": {
      "needs_background": "light"
     },
     "output_type": "display_data"
    }
   ],
   "source": [
    "# bedrooms vs price\n",
    "fig, ax = plt.subplots(figsize=(12,5))\n",
    "cat_data_edited.groupby(\"bedrooms\").mean().plot.bar(y=\"price\", ax=ax);"
   ]
  },
  {
   "cell_type": "code",
   "execution_count": 39,
   "metadata": {},
   "outputs": [
    {
     "data": {
      "image/png": "[encoded data removed]",
      "text/plain": [
       "<Figure size 864x360 with 1 Axes>"
      ]
     },
     "metadata": {
      "needs_background": "light"
     },
     "output_type": "display_data"
    }
   ],
   "source": [
    "# bathrooms vs price\n",
    "fig, ax = plt.subplots(figsize=(12,5))\n",
    "cat_data_edited.groupby(\"bathrooms\").mean().plot.bar(y=\"price\", ax=ax);"
   ]
  },
  {
   "cell_type": "code",
   "execution_count": 40,
   "metadata": {},
   "outputs": [
    {
     "data": {
      "image/png": "[encoded data removed]",
      "text/plain": [
       "<Figure size 864x360 with 1 Axes>"
      ]
     },
     "metadata": {
      "needs_background": "light"
     },
     "output_type": "display_data"
    }
   ],
   "source": [
    "# floors vs price\n",
    "fig, ax = plt.subplots(figsize=(12,5))\n",
    "cat_data_edited.groupby(\"floors\").mean().plot.bar(y=\"price\", ax=ax);"
   ]
  },
  {
   "cell_type": "markdown",
   "metadata": {},
   "source": [
    "Looking at the three binary variables (<b>waterfront</b>, <b>greenbelt</b>, and <b>nuisance</b>), it appears that having a waterfront versus not having one makes a difference in mean price, having a greenbelt versus not having one makes a slight difference in mean price, and nuisance does not make much of a difference in mean price. Specifically, the presence of a waterfront and greenbelt generally increases the price of a home, simply based on the bar graph visualizations of the raw data. \n",
    "\n",
    "For <b>view</b>, houses rated 'excellent' had a higher mean price than those rated 'none'. For <b>condition</b>, houses with 'average', 'very good', and 'good' ratings had a greater mean price than those rated 'poor'. \n",
    "\n",
    "For the <b>bedrooms</b> bar graph, we see a relatively normal distribution; however, there is an outlier of 13 bedrooms that has a really high mean price. The <b>bathrooms</b> bar graph shows a negative skew, while the bar graph for <b>floors</b> is mostly normal.\n",
    "\n",
    "Let's create a linear regression model incorporating data from more of these categorical variables plus rating. However, before the model can be made, the strings in the <b>waterfront</b>, <b>greenbelt</b>, <b>nuisance</b>, <b>view</b>, and <b>condition</b> columns need to be converted into stand-in integers. "
   ]
  },
  {
   "cell_type": "code",
   "execution_count": 42,
   "metadata": {},
   "outputs": [
    {
     "name": "stderr",
     "output_type": "stream",
     "text": [
      "<ipython-input-42-d871175222c9>:12: SettingWithCopyWarning: \n",
      "A value is trying to be set on a copy of a slice from a DataFrame.\n",
      "Try using .loc[row_indexer,col_indexer] = value instead\n",
      "\n",
      "See the caveats in the documentation: https://pandas.pydata.org/pandas-docs/stable/user_guide/indexing.html#returning-a-view-versus-a-copy\n",
      "  cat_data_edited['waterfront'] = le.transform(cat_data_edited['waterfront'])\n",
      "<ipython-input-42-d871175222c9>:17: SettingWithCopyWarning: \n",
      "A value is trying to be set on a copy of a slice from a DataFrame.\n",
      "Try using .loc[row_indexer,col_indexer] = value instead\n",
      "\n",
      "See the caveats in the documentation: https://pandas.pydata.org/pandas-docs/stable/user_guide/indexing.html#returning-a-view-versus-a-copy\n",
      "  cat_data_edited['greenbelt'] = le.transform(cat_data_edited['greenbelt'])\n",
      "<ipython-input-42-d871175222c9>:22: SettingWithCopyWarning: \n",
      "A value is trying to be set on a copy of a slice from a DataFrame.\n",
      "Try using .loc[row_indexer,col_indexer] = value instead\n",
      "\n",
      "See the caveats in the documentation: https://pandas.pydata.org/pandas-docs/stable/user_guide/indexing.html#returning-a-view-versus-a-copy\n",
      "  cat_data_edited['nuisance'] = le.transform(cat_data_edited['nuisance'])\n",
      "<ipython-input-42-d871175222c9>:27: SettingWithCopyWarning: \n",
      "A value is trying to be set on a copy of a slice from a DataFrame.\n",
      "Try using .loc[row_indexer,col_indexer] = value instead\n",
      "\n",
      "See the caveats in the documentation: https://pandas.pydata.org/pandas-docs/stable/user_guide/indexing.html#returning-a-view-versus-a-copy\n",
      "  cat_data_edited['view'] = le.transform(cat_data_edited['view'])\n",
      "<ipython-input-42-d871175222c9>:32: SettingWithCopyWarning: \n",
      "A value is trying to be set on a copy of a slice from a DataFrame.\n",
      "Try using .loc[row_indexer,col_indexer] = value instead\n",
      "\n",
      "See the caveats in the documentation: https://pandas.pydata.org/pandas-docs/stable/user_guide/indexing.html#returning-a-view-versus-a-copy\n",
      "  cat_data_edited['condition'] = le.transform(cat_data_edited['condition'])\n"
     ]
    }
   ],
   "source": [
    "# Adapted from Morgan Jones' code \n",
    "# https://github.com/mojo-flat/Linear-Regression-GP-2/blob/main/lin_reg_gp_2_solution.ipynb\n",
    "\n",
    "from sklearn.preprocessing import LabelEncoder\n",
    "\n",
    "# instantiate a label encoder\n",
    "le = LabelEncoder()\n",
    "\n",
    "# fit the label encoder to the waterfront variable, while dropping any duplicates\n",
    "le.fit(cat_data_edited['waterfront'].drop_duplicates()) \n",
    "# create new waterfront variable with label encoded values\n",
    "cat_data_edited['waterfront'] = le.transform(cat_data_edited['waterfront'])\n",
    "\n",
    "# fit the label encoder to the greenbelt variable, while dropping any duplicates\n",
    "le.fit(cat_data_edited['greenbelt'].drop_duplicates()) \n",
    "# create new greenbelt variable with label encoded values\n",
    "cat_data_edited['greenbelt'] = le.transform(cat_data_edited['greenbelt'])\n",
    "\n",
    "# fit the label encoder to the nuisance variable, while dropping any duplicates\n",
    "le.fit(cat_data_edited['nuisance'].drop_duplicates()) \n",
    "# create new view variable with label encoded values\n",
    "cat_data_edited['nuisance'] = le.transform(cat_data_edited['nuisance'])\n",
    "\n",
    "# fit the label encoder to the view variable, while dropping any duplicates\n",
    "le.fit(cat_data_edited['view'].drop_duplicates()) \n",
    "# create new view variable with label encoded values\n",
    "cat_data_edited['view'] = le.transform(cat_data_edited['view'])\n",
    "\n",
    "# fit the label encoder to the condition variable, while dropping any duplicates\n",
    "le.fit(cat_data_edited['condition'].drop_duplicates()) \n",
    "# create new view variable with label encoded values\n",
    "cat_data_edited['condition'] = le.transform(cat_data_edited['condition'])"
   ]
  },
  {
   "cell_type": "markdown",
   "metadata": {},
   "source": [
    "We can see that the data in the waterfront, greenbelt, nuisance, view, and condition columns were successfully transformed. "
   ]
  },
  {
   "cell_type": "code",
   "execution_count": 44,
   "metadata": {},
   "outputs": [
    {
     "data": {
      "text/plain": [
       "0    29636\n",
       "1      519\n",
       "Name: waterfront, dtype: int64"
      ]
     },
     "execution_count": 44,
     "metadata": {},
     "output_type": "execute_result"
    }
   ],
   "source": [
    "cat_data_edited['waterfront'].value_counts()"
   ]
  },
  {
   "cell_type": "code",
   "execution_count": 45,
   "metadata": {},
   "outputs": [
    {
     "data": {
      "text/plain": [
       "0    29382\n",
       "1      773\n",
       "Name: greenbelt, dtype: int64"
      ]
     },
     "execution_count": 45,
     "metadata": {},
     "output_type": "execute_result"
    }
   ],
   "source": [
    "cat_data_edited['greenbelt'].value_counts()"
   ]
  },
  {
   "cell_type": "code",
   "execution_count": 46,
   "metadata": {},
   "outputs": [
    {
     "data": {
      "text/plain": [
       "0    24893\n",
       "1     5262\n",
       "Name: nuisance, dtype: int64"
      ]
     },
     "execution_count": 46,
     "metadata": {},
     "output_type": "execute_result"
    }
   ],
   "source": [
    "cat_data_edited['nuisance'].value_counts()"
   ]
  },
  {
   "cell_type": "code",
   "execution_count": 47,
   "metadata": {},
   "outputs": [
    {
     "data": {
      "text/plain": [
       "4    26589\n",
       "0     1915\n",
       "3      878\n",
       "1      553\n",
       "2      220\n",
       "Name: view, dtype: int64"
      ]
     },
     "execution_count": 47,
     "metadata": {},
     "output_type": "execute_result"
    }
   ],
   "source": [
    "cat_data_edited['view'].value_counts()"
   ]
  },
  {
   "cell_type": "code",
   "execution_count": 48,
   "metadata": {},
   "outputs": [
    {
     "data": {
      "text/plain": [
       "0    18547\n",
       "2     8054\n",
       "4     3259\n",
       "1      230\n",
       "3       65\n",
       "Name: condition, dtype: int64"
      ]
     },
     "execution_count": 48,
     "metadata": {},
     "output_type": "execute_result"
    }
   ],
   "source": [
    "cat_data_edited['condition'].value_counts()"
   ]
  },
  {
   "cell_type": "markdown",
   "metadata": {},
   "source": [
    "Using the .value_counts() method, we can figure out what each stand-in number represents by matching it up with the .value_counts() performed earlier for each variable in the categorical_data_cut dataframe.\n",
    "\n",
    "For waterfront, greenbelt, and nuisance, '0' and '1' indicate 'NO' and 'YES' respectively. \n",
    "\n",
    "For view, it's a little more complicated:\n",
    "- '4': 'NONE'\n",
    "- '0': 'AVERAGE'\n",
    "- '3': 'GOOD'\n",
    "- '1': 'EXCELLENT'\n",
    "- '2': 'FAIR'"
   ]
  },
  {
   "cell_type": "markdown",
   "metadata": {},
   "source": [
    "Now that everything has been converted to integer stand-ins, we can use the <b>pd.get_dummies</b> function to create dummy variables and perform one-hot encoding. To avoid the dummy variable trap (perfect multicolinearity), we will use <b>.drop()</b>. Then, we can create our linear regression model."
   ]
  },
  {
   "cell_type": "code",
   "execution_count": 68,
   "metadata": {},
   "outputs": [
    {
     "name": "stdout",
     "output_type": "stream",
     "text": [
      "                            OLS Regression Results                            \n",
      "==============================================================================\n",
      "Dep. Variable:                  price   R-squared:                       0.475\n",
      "Model:                            OLS   Adj. R-squared:                  0.475\n",
      "Method:                 Least Squares   F-statistic:                     1364.\n",
      "Date:                Sat, 27 May 2023   Prob (F-statistic):               0.00\n",
      "Time:                        12:10:41   Log-Likelihood:            -4.4638e+05\n",
      "No. Observations:               30155   AIC:                         8.928e+05\n",
      "Df Residuals:                   30134   BIC:                         8.930e+05\n",
      "Df Model:                          20                                         \n",
      "Covariance Type:            nonrobust                                         \n",
      "==============================================================================\n",
      "                 coef    std err          t      P>|t|      [0.025      0.975]\n",
      "------------------------------------------------------------------------------\n",
      "const       6.226e+06   1.38e+05     45.161      0.000    5.96e+06     6.5e+06\n",
      "waterfront  1.057e+06   3.02e+04     34.943      0.000    9.97e+05    1.12e+06\n",
      "greenbelt  -1.924e+04   2.39e+04     -0.804      0.421   -6.61e+04    2.77e+04\n",
      "nuisance    8.603e+04   9911.174      8.680      0.000    6.66e+04    1.05e+05\n",
      "view       -5.966e+04   3763.766    -15.852      0.000    -6.7e+04   -5.23e+04\n",
      "condition   3.129e+04   2906.971     10.764      0.000    2.56e+04     3.7e+04\n",
      "bedrooms    3.998e+04   4825.364      8.285      0.000    3.05e+04    4.94e+04\n",
      "bathrooms   1.749e+05   6543.040     26.731      0.000    1.62e+05    1.88e+05\n",
      "floors     -8.694e+04   8080.771    -10.759      0.000   -1.03e+05   -7.11e+04\n",
      "rating_1   -5.372e+06   4.79e+05    -11.206      0.000   -6.31e+06   -4.43e+06\n",
      "rating_2   -6.415e+06   4.79e+05    -13.386      0.000   -7.35e+06   -5.48e+06\n",
      "rating_3   -5.942e+06   2.26e+05    -26.347      0.000   -6.38e+06    -5.5e+06\n",
      "rating_4   -5.783e+06   1.63e+05    -35.421      0.000    -6.1e+06   -5.46e+06\n",
      "rating_5   -5.718e+06   1.39e+05    -41.031      0.000   -5.99e+06   -5.44e+06\n",
      "rating_6   -5.682e+06   1.36e+05    -41.829      0.000   -5.95e+06   -5.42e+06\n",
      "rating_7   -5.618e+06   1.35e+05    -41.677      0.000   -5.88e+06   -5.35e+06\n",
      "rating_8   -5.412e+06   1.34e+05    -40.292      0.000   -5.68e+06   -5.15e+06\n",
      "rating_9   -4.975e+06   1.34e+05    -37.042      0.000   -5.24e+06   -4.71e+06\n",
      "rating_10  -4.361e+06   1.35e+05    -32.377      0.000   -4.62e+06    -4.1e+06\n",
      "rating_11  -3.352e+06   1.37e+05    -24.461      0.000   -3.62e+06   -3.08e+06\n",
      "rating_12  -2.021e+06   1.45e+05    -13.912      0.000   -2.31e+06   -1.74e+06\n",
      "==============================================================================\n",
      "Omnibus:                    40421.767   Durbin-Watson:                   1.833\n",
      "Prob(Omnibus):                  0.000   Jarque-Bera (JB):         35830289.684\n",
      "Skew:                           7.125   Prob(JB):                         0.00\n",
      "Kurtosis:                     171.267   Cond. No.                         901.\n",
      "==============================================================================\n",
      "\n",
      "Notes:\n",
      "[1] Standard Errors assume that the covariance matrix of the errors is correctly specified.\n"
     ]
    }
   ],
   "source": [
    "y = cat_data_edited['price']\n",
    "X = cat_data_edited[[\"waterfront\", \"greenbelt\", \"nuisance\", \"view\", \"condition\", \"bedrooms\", \"bathrooms\",\n",
    "                     \"floors\", \"rating\"]]\n",
    "\n",
    "# get dummy variables\n",
    "X = pd.get_dummies(X, columns=[\"rating\"])\n",
    "X = X.drop(\"rating_13\", axis=1)\n",
    "\n",
    "# create linear regression model\n",
    "model = sm.OLS(y, sm.add_constant(X))\n",
    "results = model.fit()\n",
    "\n",
    "print(results.summary())"
   ]
  },
  {
   "cell_type": "markdown",
   "metadata": {},
   "source": [
    "This linear regression model of all the categorical variables of interest shows an R-squared of 0.475. This is an improvement from the baseline model."
   ]
  },
  {
   "cell_type": "markdown",
   "metadata": {},
   "source": [
    "# Numeric and Categorical Variables\n",
    "\n",
    "We looked at the linear regression models with just numeric and categorical variables, respectively. Let's see what happens when we put them together."
   ]
  },
  {
   "cell_type": "code",
   "execution_count": 53,
   "metadata": {},
   "outputs": [],
   "source": [
    "# Adapted from Morgan Jones' code \n",
    "# https://github.com/mojo-flat/Linear-Regression-GP-2/blob/main/lin_reg_gp_2_solution.ipynb\n",
    "\n",
    "from sklearn.preprocessing import LabelEncoder\n",
    "\n",
    "# instantiate a label encoder\n",
    "le = LabelEncoder()\n",
    "\n",
    "# fit the label encoder to the waterfront variable, while dropping any duplicates\n",
    "le.fit(house_data['waterfront'].drop_duplicates()) \n",
    "# create new waterfront variable with label encoded values\n",
    "house_data['waterfront'] = le.transform(house_data['waterfront'])\n",
    "\n",
    "# fit the label encoder to the greenbelt variable, while dropping any duplicates\n",
    "le.fit(house_data['greenbelt'].drop_duplicates()) \n",
    "# create new greenbelt variable with label encoded values\n",
    "house_data['greenbelt'] = le.transform(house_data['greenbelt'])\n",
    "\n",
    "# fit the label encoder to the nuisance variable, while dropping any duplicates\n",
    "le.fit(house_data['nuisance'].drop_duplicates()) \n",
    "# create new view variable with label encoded values\n",
    "house_data['nuisance'] = le.transform(house_data['nuisance'])\n",
    "\n",
    "# fit the label encoder to the view variable, while dropping any duplicates\n",
    "le.fit(house_data['view'].drop_duplicates()) \n",
    "# create new view variable with label encoded values\n",
    "house_data['view'] = le.transform(house_data['view'])\n",
    "\n",
    "# fit the label encoder to the condition variable, while dropping any duplicates\n",
    "le.fit(house_data['condition'].drop_duplicates()) \n",
    "# create new view variable with label encoded values\n",
    "house_data['condition'] = le.transform(house_data['condition'])"
   ]
  },
  {
   "cell_type": "code",
   "execution_count": 54,
   "metadata": {},
   "outputs": [
    {
     "data": {
      "text/html": [
       "<div>\n",
       "<style scoped>\n",
       "    .dataframe tbody tr th:only-of-type {\n",
       "        vertical-align: middle;\n",
       "    }\n",
       "\n",
       "    .dataframe tbody tr th {\n",
       "        vertical-align: top;\n",
       "    }\n",
       "\n",
       "    .dataframe thead th {\n",
       "        text-align: right;\n",
       "    }\n",
       "</style>\n",
       "<table border=\"1\" class=\"dataframe\">\n",
       "  <thead>\n",
       "    <tr style=\"text-align: right;\">\n",
       "      <th></th>\n",
       "      <th>id</th>\n",
       "      <th>date</th>\n",
       "      <th>price</th>\n",
       "      <th>bedrooms</th>\n",
       "      <th>bathrooms</th>\n",
       "      <th>sqft_living</th>\n",
       "      <th>sqft_lot</th>\n",
       "      <th>floors</th>\n",
       "      <th>waterfront</th>\n",
       "      <th>greenbelt</th>\n",
       "      <th>...</th>\n",
       "      <th>sqft_above</th>\n",
       "      <th>sqft_basement</th>\n",
       "      <th>sqft_garage</th>\n",
       "      <th>sqft_patio</th>\n",
       "      <th>yr_built</th>\n",
       "      <th>yr_renovated</th>\n",
       "      <th>address</th>\n",
       "      <th>lat</th>\n",
       "      <th>long</th>\n",
       "      <th>rating</th>\n",
       "    </tr>\n",
       "  </thead>\n",
       "  <tbody>\n",
       "    <tr>\n",
       "      <th>0</th>\n",
       "      <td>7399300360</td>\n",
       "      <td>5/24/2022</td>\n",
       "      <td>675000.0</td>\n",
       "      <td>4</td>\n",
       "      <td>1.0</td>\n",
       "      <td>1180</td>\n",
       "      <td>7140</td>\n",
       "      <td>1.0</td>\n",
       "      <td>0</td>\n",
       "      <td>0</td>\n",
       "      <td>...</td>\n",
       "      <td>1180</td>\n",
       "      <td>0</td>\n",
       "      <td>0</td>\n",
       "      <td>40</td>\n",
       "      <td>1969</td>\n",
       "      <td>0</td>\n",
       "      <td>2102 Southeast 21st Court, Renton, Washington ...</td>\n",
       "      <td>47.461975</td>\n",
       "      <td>-122.19052</td>\n",
       "      <td>7</td>\n",
       "    </tr>\n",
       "    <tr>\n",
       "      <th>1</th>\n",
       "      <td>8910500230</td>\n",
       "      <td>12/13/2021</td>\n",
       "      <td>920000.0</td>\n",
       "      <td>5</td>\n",
       "      <td>2.5</td>\n",
       "      <td>2770</td>\n",
       "      <td>6703</td>\n",
       "      <td>1.0</td>\n",
       "      <td>0</td>\n",
       "      <td>0</td>\n",
       "      <td>...</td>\n",
       "      <td>1570</td>\n",
       "      <td>1570</td>\n",
       "      <td>0</td>\n",
       "      <td>240</td>\n",
       "      <td>1950</td>\n",
       "      <td>0</td>\n",
       "      <td>11231 Greenwood Avenue North, Seattle, Washing...</td>\n",
       "      <td>47.711525</td>\n",
       "      <td>-122.35591</td>\n",
       "      <td>7</td>\n",
       "    </tr>\n",
       "    <tr>\n",
       "      <th>2</th>\n",
       "      <td>1180000275</td>\n",
       "      <td>9/29/2021</td>\n",
       "      <td>311000.0</td>\n",
       "      <td>6</td>\n",
       "      <td>2.0</td>\n",
       "      <td>2880</td>\n",
       "      <td>6156</td>\n",
       "      <td>1.0</td>\n",
       "      <td>0</td>\n",
       "      <td>0</td>\n",
       "      <td>...</td>\n",
       "      <td>1580</td>\n",
       "      <td>1580</td>\n",
       "      <td>0</td>\n",
       "      <td>0</td>\n",
       "      <td>1956</td>\n",
       "      <td>0</td>\n",
       "      <td>8504 South 113th Street, Seattle, Washington 9...</td>\n",
       "      <td>47.502045</td>\n",
       "      <td>-122.22520</td>\n",
       "      <td>7</td>\n",
       "    </tr>\n",
       "    <tr>\n",
       "      <th>3</th>\n",
       "      <td>1604601802</td>\n",
       "      <td>12/14/2021</td>\n",
       "      <td>775000.0</td>\n",
       "      <td>3</td>\n",
       "      <td>3.0</td>\n",
       "      <td>2160</td>\n",
       "      <td>1400</td>\n",
       "      <td>2.0</td>\n",
       "      <td>0</td>\n",
       "      <td>0</td>\n",
       "      <td>...</td>\n",
       "      <td>1090</td>\n",
       "      <td>1070</td>\n",
       "      <td>200</td>\n",
       "      <td>270</td>\n",
       "      <td>2010</td>\n",
       "      <td>0</td>\n",
       "      <td>4079 Letitia Avenue South, Seattle, Washington...</td>\n",
       "      <td>47.566110</td>\n",
       "      <td>-122.29020</td>\n",
       "      <td>9</td>\n",
       "    </tr>\n",
       "    <tr>\n",
       "      <th>4</th>\n",
       "      <td>8562780790</td>\n",
       "      <td>8/24/2021</td>\n",
       "      <td>592500.0</td>\n",
       "      <td>2</td>\n",
       "      <td>2.0</td>\n",
       "      <td>1120</td>\n",
       "      <td>758</td>\n",
       "      <td>2.0</td>\n",
       "      <td>0</td>\n",
       "      <td>0</td>\n",
       "      <td>...</td>\n",
       "      <td>1120</td>\n",
       "      <td>550</td>\n",
       "      <td>550</td>\n",
       "      <td>30</td>\n",
       "      <td>2012</td>\n",
       "      <td>0</td>\n",
       "      <td>2193 Northwest Talus Drive, Issaquah, Washingt...</td>\n",
       "      <td>47.532470</td>\n",
       "      <td>-122.07188</td>\n",
       "      <td>7</td>\n",
       "    </tr>\n",
       "  </tbody>\n",
       "</table>\n",
       "<p>5 rows × 26 columns</p>\n",
       "</div>"
      ],
      "text/plain": [
       "           id        date     price  bedrooms  bathrooms  sqft_living  \\\n",
       "0  7399300360   5/24/2022  675000.0         4        1.0         1180   \n",
       "1  8910500230  12/13/2021  920000.0         5        2.5         2770   \n",
       "2  1180000275   9/29/2021  311000.0         6        2.0         2880   \n",
       "3  1604601802  12/14/2021  775000.0         3        3.0         2160   \n",
       "4  8562780790   8/24/2021  592500.0         2        2.0         1120   \n",
       "\n",
       "   sqft_lot  floors  waterfront  greenbelt  ...  sqft_above  sqft_basement  \\\n",
       "0      7140     1.0           0          0  ...        1180              0   \n",
       "1      6703     1.0           0          0  ...        1570           1570   \n",
       "2      6156     1.0           0          0  ...        1580           1580   \n",
       "3      1400     2.0           0          0  ...        1090           1070   \n",
       "4       758     2.0           0          0  ...        1120            550   \n",
       "\n",
       "   sqft_garage sqft_patio yr_built yr_renovated  \\\n",
       "0            0         40     1969            0   \n",
       "1            0        240     1950            0   \n",
       "2            0          0     1956            0   \n",
       "3          200        270     2010            0   \n",
       "4          550         30     2012            0   \n",
       "\n",
       "                                             address        lat       long  \\\n",
       "0  2102 Southeast 21st Court, Renton, Washington ...  47.461975 -122.19052   \n",
       "1  11231 Greenwood Avenue North, Seattle, Washing...  47.711525 -122.35591   \n",
       "2  8504 South 113th Street, Seattle, Washington 9...  47.502045 -122.22520   \n",
       "3  4079 Letitia Avenue South, Seattle, Washington...  47.566110 -122.29020   \n",
       "4  2193 Northwest Talus Drive, Issaquah, Washingt...  47.532470 -122.07188   \n",
       "\n",
       "   rating  \n",
       "0       7  \n",
       "1       7  \n",
       "2       7  \n",
       "3       9  \n",
       "4       7  \n",
       "\n",
       "[5 rows x 26 columns]"
      ]
     },
     "execution_count": 54,
     "metadata": {},
     "output_type": "execute_result"
    }
   ],
   "source": [
    "house_data['rating'] = house_data['grade'].str.split().apply(lambda x: x[0])\n",
    "house_data['rating'] = house_data['rating'].astype('int64')\n",
    "house_data.head()"
   ]
  },
  {
   "cell_type": "code",
   "execution_count": 55,
   "metadata": {},
   "outputs": [
    {
     "name": "stdout",
     "output_type": "stream",
     "text": [
      "<class 'pandas.core.frame.DataFrame'>\n",
      "RangeIndex: 30155 entries, 0 to 30154\n",
      "Data columns (total 26 columns):\n",
      " #   Column         Non-Null Count  Dtype  \n",
      "---  ------         --------------  -----  \n",
      " 0   id             30155 non-null  int64  \n",
      " 1   date           30155 non-null  object \n",
      " 2   price          30155 non-null  float64\n",
      " 3   bedrooms       30155 non-null  int64  \n",
      " 4   bathrooms      30155 non-null  float64\n",
      " 5   sqft_living    30155 non-null  int64  \n",
      " 6   sqft_lot       30155 non-null  int64  \n",
      " 7   floors         30155 non-null  float64\n",
      " 8   waterfront     30155 non-null  int32  \n",
      " 9   greenbelt      30155 non-null  int32  \n",
      " 10  nuisance       30155 non-null  int32  \n",
      " 11  view           30155 non-null  int32  \n",
      " 12  condition      30155 non-null  int32  \n",
      " 13  grade          30155 non-null  object \n",
      " 14  heat_source    30123 non-null  object \n",
      " 15  sewer_system   30141 non-null  object \n",
      " 16  sqft_above     30155 non-null  int64  \n",
      " 17  sqft_basement  30155 non-null  int64  \n",
      " 18  sqft_garage    30155 non-null  int64  \n",
      " 19  sqft_patio     30155 non-null  int64  \n",
      " 20  yr_built       30155 non-null  int64  \n",
      " 21  yr_renovated   30155 non-null  int64  \n",
      " 22  address        30155 non-null  object \n",
      " 23  lat            30155 non-null  float64\n",
      " 24  long           30155 non-null  float64\n",
      " 25  rating         30155 non-null  int64  \n",
      "dtypes: float64(5), int32(5), int64(11), object(5)\n",
      "memory usage: 5.4+ MB\n"
     ]
    }
   ],
   "source": [
    "house_data.info()"
   ]
  },
  {
   "cell_type": "code",
   "execution_count": 69,
   "metadata": {},
   "outputs": [
    {
     "name": "stdout",
     "output_type": "stream",
     "text": [
      "                            OLS Regression Results                            \n",
      "==============================================================================\n",
      "Dep. Variable:                  price   R-squared:                       0.498\n",
      "Model:                            OLS   Adj. R-squared:                  0.498\n",
      "Method:                 Least Squares   F-statistic:                     1426.\n",
      "Date:                Sat, 27 May 2023   Prob (F-statistic):               0.00\n",
      "Time:                        12:13:56   Log-Likelihood:            -4.4569e+05\n",
      "No. Observations:               30155   AIC:                         8.914e+05\n",
      "Df Residuals:                   30133   BIC:                         8.916e+05\n",
      "Df Model:                          21                                         \n",
      "Covariance Type:            nonrobust                                         \n",
      "===============================================================================\n",
      "                  coef    std err          t      P>|t|      [0.025      0.975]\n",
      "-------------------------------------------------------------------------------\n",
      "const        4.873e+06    1.4e+05     34.933      0.000     4.6e+06    5.15e+06\n",
      "sqft_living   294.2856      7.859     37.446      0.000     278.882     309.690\n",
      "bedrooms    -4.706e+04   5258.537     -8.949      0.000   -5.74e+04   -3.67e+04\n",
      "bathrooms    6.042e+04   7089.184      8.523      0.000    4.65e+04    7.43e+04\n",
      "floors      -6.456e+04   7921.801     -8.149      0.000   -8.01e+04    -4.9e+04\n",
      "waterfront   1.007e+06   2.96e+04     34.050      0.000    9.49e+05    1.07e+06\n",
      "view        -4.592e+04   3697.460    -12.420      0.000   -5.32e+04   -3.87e+04\n",
      "condition     3.02e+04   2841.807     10.626      0.000    2.46e+04    3.58e+04\n",
      "greenbelt   -4.544e+04   2.34e+04     -1.941      0.052   -9.13e+04     434.365\n",
      "nuisance     9.406e+04   9690.863      9.706      0.000    7.51e+04    1.13e+05\n",
      "rating_1    -3.948e+06    4.7e+05     -8.399      0.000   -4.87e+06   -3.03e+06\n",
      "rating_2    -5.137e+06    4.7e+05    -10.937      0.000   -6.06e+06   -4.22e+06\n",
      "rating_3    -4.637e+06   2.23e+05    -20.773      0.000   -5.07e+06    -4.2e+06\n",
      "rating_4    -4.445e+06   1.64e+05    -27.180      0.000   -4.77e+06   -4.12e+06\n",
      "rating_5    -4.394e+06   1.41e+05    -31.226      0.000   -4.67e+06   -4.12e+06\n",
      "rating_6    -4.372e+06   1.37e+05    -31.839      0.000   -4.64e+06    -4.1e+06\n",
      "rating_7    -4.335e+06   1.36e+05    -31.843      0.000    -4.6e+06   -4.07e+06\n",
      "rating_8      -4.2e+06   1.35e+05    -31.057      0.000   -4.46e+06   -3.93e+06\n",
      "rating_9    -3.888e+06   1.34e+05    -28.917      0.000   -4.15e+06   -3.62e+06\n",
      "rating_10   -3.439e+06   1.34e+05    -25.677      0.000    -3.7e+06   -3.18e+06\n",
      "rating_11   -2.602e+06   1.35e+05    -19.215      0.000   -2.87e+06   -2.34e+06\n",
      "rating_12     -1.5e+06   1.43e+05    -10.515      0.000   -1.78e+06   -1.22e+06\n",
      "==============================================================================\n",
      "Omnibus:                    41728.389   Durbin-Watson:                   1.824\n",
      "Prob(Omnibus):                  0.000   Jarque-Bera (JB):         45340389.201\n",
      "Skew:                           7.527   Prob(JB):                         0.00\n",
      "Kurtosis:                     192.365   Cond. No.                     3.54e+05\n",
      "==============================================================================\n",
      "\n",
      "Notes:\n",
      "[1] Standard Errors assume that the covariance matrix of the errors is correctly specified.\n",
      "[2] The condition number is large, 3.54e+05. This might indicate that there are\n",
      "strong multicollinearity or other numerical problems.\n"
     ]
    }
   ],
   "source": [
    "y = house_data['price']\n",
    "X = house_data[[\"sqft_living\", \"rating\", \"bedrooms\", \"bathrooms\", \"floors\", \"waterfront\", \"view\", \"condition\",\n",
    "               \"greenbelt\", \"nuisance\"]]\n",
    "X = pd.get_dummies(X, columns=[\"rating\"])\n",
    "X = X.drop('rating_13', axis=1)\n",
    "\n",
    "model = sm.OLS(y, sm.add_constant(X))\n",
    "results = model.fit()\n",
    "\n",
    "print(results.summary())"
   ]
  },
  {
   "cell_type": "markdown",
   "metadata": {},
   "source": [
    "This model incorporating the categorical variables of interest plus <b>sqft_living</b> has an R-squared of 0.498."
   ]
  },
  {
   "cell_type": "markdown",
   "metadata": {},
   "source": [
    "## Conclusions\n",
    "\n",
    "Three concrete suggestions based on final model"
   ]
  },
  {
   "cell_type": "markdown",
   "metadata": {},
   "source": [
    "## Limitations and Future Improvements\n",
    "\n",
    "Include assumptions of linear regression"
   ]
  }
 ],
 "metadata": {
  "kernelspec": {
   "display_name": "Python 3",
   "language": "python",
   "name": "python3"
  },
  "language_info": {
   "codemirror_mode": {
    "name": "ipython",
    "version": 3
   },
   "file_extension": ".py",
   "mimetype": "text/x-python",
   "name": "python",
   "nbconvert_exporter": "python",
   "pygments_lexer": "ipython3",
   "version": "3.8.5"
  }
 },
 "nbformat": 4,
 "nbformat_minor": 2
}
