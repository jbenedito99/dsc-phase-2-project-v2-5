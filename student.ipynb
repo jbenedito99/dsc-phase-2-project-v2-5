{
 "cells": [
  {
   "cell_type": "markdown",
   "metadata": {},
   "source": [
    "## Final Project Submission\n",
    "\n",
    "Please fill out:\n",
    "* Student name: James Benedito\n",
    "* Student pace: Part Time\n",
    "* Instructor name: Morgan Jones"
   ]
  },
  {
   "cell_type": "markdown",
   "metadata": {},
   "source": [
    "## Introduction\n",
    "\n",
    "Driving through a suburban neighborhood, it's inevitable that one will encounter at least one \"for sale\" sign. These signs typically have the logo of some big-time real estate company, like Century 21 or REMAX. Real estate companies are businesses that deal with buying and selling properties. When purchasing a house, everyone has their non-negotiables. Some people want a big kitchen or backyard. Others may want a basement or 'x' amount of bathrooms. In this Jupyter notebook, I will explore the different variables that impact a home's value. The information in this analysis will be applicable to real estate companies and people who are trying to sell their house."
   ]
  },
  {
   "cell_type": "markdown",
   "metadata": {},
   "source": [
    "## Business Problem\n",
    "\n",
    "King County is a county located in Washington state with a population of approximately 2.2 million people, according to the 2022 US Census. As of 2021, the median household income is about $106,000 (https://www.census.gov/quickfacts/kingcountywashington).\n",
    "\n",
    "A theoretical real estate company in King County helps homeowners sell their homes. They want to provide concrete, data-driven advice to their clients regarding renovations that can be done to boost their house's value before putting it up for sale on the market. My data analysis will bring light to the variables that are most impactful to a home's sale price in King County and will thus inform this real estate company's clients on the renovations they should prioritize.  "
   ]
  },
  {
   "cell_type": "markdown",
   "metadata": {},
   "source": [
    "## Goal\n",
    "\n",
    "My goal is to come up with three concrete suggestions based on a linear regression analysis. The final linear regression model will include the three variables that are most impactful to a house's sale price, which will serve as the dependent variable of interest throughout the entire exploration process. In other words, the independent variables in my final model will be those that are the best predictors of a house's sale price (the dependent variable). "
   ]
  },
  {
   "cell_type": "markdown",
   "metadata": {},
   "source": [
    "## Dataset\n",
    "\n",
    "The dataset I am using for the analysis is kc_house_data.csv. This dataset includes data on houses in King County, which is where the theoretical real estate company and their clients are located."
   ]
  },
  {
   "cell_type": "markdown",
   "metadata": {},
   "source": [
    "## Dataset Exploration\n",
    "\n",
    "I will begin by exploring the dataset, using the .head() method to visualize the first five rows in a table format. Furthermore, I will use the .info() and .describe() methods to get a better understanding of the overall dataset."
   ]
  },
  {
   "cell_type": "code",
   "execution_count": 1,
   "metadata": {},
   "outputs": [],
   "source": [
    "# importing relevant packages\n",
    "import matplotlib.pyplot as plt\n",
    "import pandas as pd\n",
    "import statsmodels.api as sm"
   ]
  },
  {
   "cell_type": "code",
   "execution_count": 2,
   "metadata": {},
   "outputs": [
    {
     "data": {
      "text/html": [
       "<div>\n",
       "<style scoped>\n",
       "    .dataframe tbody tr th:only-of-type {\n",
       "        vertical-align: middle;\n",
       "    }\n",
       "\n",
       "    .dataframe tbody tr th {\n",
       "        vertical-align: top;\n",
       "    }\n",
       "\n",
       "    .dataframe thead th {\n",
       "        text-align: right;\n",
       "    }\n",
       "</style>\n",
       "<table border=\"1\" class=\"dataframe\">\n",
       "  <thead>\n",
       "    <tr style=\"text-align: right;\">\n",
       "      <th></th>\n",
       "      <th>id</th>\n",
       "      <th>date</th>\n",
       "      <th>price</th>\n",
       "      <th>bedrooms</th>\n",
       "      <th>bathrooms</th>\n",
       "      <th>sqft_living</th>\n",
       "      <th>sqft_lot</th>\n",
       "      <th>floors</th>\n",
       "      <th>waterfront</th>\n",
       "      <th>greenbelt</th>\n",
       "      <th>...</th>\n",
       "      <th>sewer_system</th>\n",
       "      <th>sqft_above</th>\n",
       "      <th>sqft_basement</th>\n",
       "      <th>sqft_garage</th>\n",
       "      <th>sqft_patio</th>\n",
       "      <th>yr_built</th>\n",
       "      <th>yr_renovated</th>\n",
       "      <th>address</th>\n",
       "      <th>lat</th>\n",
       "      <th>long</th>\n",
       "    </tr>\n",
       "  </thead>\n",
       "  <tbody>\n",
       "    <tr>\n",
       "      <th>0</th>\n",
       "      <td>7399300360</td>\n",
       "      <td>5/24/2022</td>\n",
       "      <td>675000.0</td>\n",
       "      <td>4</td>\n",
       "      <td>1.0</td>\n",
       "      <td>1180</td>\n",
       "      <td>7140</td>\n",
       "      <td>1.0</td>\n",
       "      <td>NO</td>\n",
       "      <td>NO</td>\n",
       "      <td>...</td>\n",
       "      <td>PUBLIC</td>\n",
       "      <td>1180</td>\n",
       "      <td>0</td>\n",
       "      <td>0</td>\n",
       "      <td>40</td>\n",
       "      <td>1969</td>\n",
       "      <td>0</td>\n",
       "      <td>2102 Southeast 21st Court, Renton, Washington ...</td>\n",
       "      <td>47.461975</td>\n",
       "      <td>-122.19052</td>\n",
       "    </tr>\n",
       "    <tr>\n",
       "      <th>1</th>\n",
       "      <td>8910500230</td>\n",
       "      <td>12/13/2021</td>\n",
       "      <td>920000.0</td>\n",
       "      <td>5</td>\n",
       "      <td>2.5</td>\n",
       "      <td>2770</td>\n",
       "      <td>6703</td>\n",
       "      <td>1.0</td>\n",
       "      <td>NO</td>\n",
       "      <td>NO</td>\n",
       "      <td>...</td>\n",
       "      <td>PUBLIC</td>\n",
       "      <td>1570</td>\n",
       "      <td>1570</td>\n",
       "      <td>0</td>\n",
       "      <td>240</td>\n",
       "      <td>1950</td>\n",
       "      <td>0</td>\n",
       "      <td>11231 Greenwood Avenue North, Seattle, Washing...</td>\n",
       "      <td>47.711525</td>\n",
       "      <td>-122.35591</td>\n",
       "    </tr>\n",
       "    <tr>\n",
       "      <th>2</th>\n",
       "      <td>1180000275</td>\n",
       "      <td>9/29/2021</td>\n",
       "      <td>311000.0</td>\n",
       "      <td>6</td>\n",
       "      <td>2.0</td>\n",
       "      <td>2880</td>\n",
       "      <td>6156</td>\n",
       "      <td>1.0</td>\n",
       "      <td>NO</td>\n",
       "      <td>NO</td>\n",
       "      <td>...</td>\n",
       "      <td>PUBLIC</td>\n",
       "      <td>1580</td>\n",
       "      <td>1580</td>\n",
       "      <td>0</td>\n",
       "      <td>0</td>\n",
       "      <td>1956</td>\n",
       "      <td>0</td>\n",
       "      <td>8504 South 113th Street, Seattle, Washington 9...</td>\n",
       "      <td>47.502045</td>\n",
       "      <td>-122.22520</td>\n",
       "    </tr>\n",
       "    <tr>\n",
       "      <th>3</th>\n",
       "      <td>1604601802</td>\n",
       "      <td>12/14/2021</td>\n",
       "      <td>775000.0</td>\n",
       "      <td>3</td>\n",
       "      <td>3.0</td>\n",
       "      <td>2160</td>\n",
       "      <td>1400</td>\n",
       "      <td>2.0</td>\n",
       "      <td>NO</td>\n",
       "      <td>NO</td>\n",
       "      <td>...</td>\n",
       "      <td>PUBLIC</td>\n",
       "      <td>1090</td>\n",
       "      <td>1070</td>\n",
       "      <td>200</td>\n",
       "      <td>270</td>\n",
       "      <td>2010</td>\n",
       "      <td>0</td>\n",
       "      <td>4079 Letitia Avenue South, Seattle, Washington...</td>\n",
       "      <td>47.566110</td>\n",
       "      <td>-122.29020</td>\n",
       "    </tr>\n",
       "    <tr>\n",
       "      <th>4</th>\n",
       "      <td>8562780790</td>\n",
       "      <td>8/24/2021</td>\n",
       "      <td>592500.0</td>\n",
       "      <td>2</td>\n",
       "      <td>2.0</td>\n",
       "      <td>1120</td>\n",
       "      <td>758</td>\n",
       "      <td>2.0</td>\n",
       "      <td>NO</td>\n",
       "      <td>NO</td>\n",
       "      <td>...</td>\n",
       "      <td>PUBLIC</td>\n",
       "      <td>1120</td>\n",
       "      <td>550</td>\n",
       "      <td>550</td>\n",
       "      <td>30</td>\n",
       "      <td>2012</td>\n",
       "      <td>0</td>\n",
       "      <td>2193 Northwest Talus Drive, Issaquah, Washingt...</td>\n",
       "      <td>47.532470</td>\n",
       "      <td>-122.07188</td>\n",
       "    </tr>\n",
       "  </tbody>\n",
       "</table>\n",
       "<p>5 rows × 25 columns</p>\n",
       "</div>"
      ],
      "text/plain": [
       "           id        date     price  bedrooms  bathrooms  sqft_living  \\\n",
       "0  7399300360   5/24/2022  675000.0         4        1.0         1180   \n",
       "1  8910500230  12/13/2021  920000.0         5        2.5         2770   \n",
       "2  1180000275   9/29/2021  311000.0         6        2.0         2880   \n",
       "3  1604601802  12/14/2021  775000.0         3        3.0         2160   \n",
       "4  8562780790   8/24/2021  592500.0         2        2.0         1120   \n",
       "\n",
       "   sqft_lot  floors waterfront greenbelt  ... sewer_system sqft_above  \\\n",
       "0      7140     1.0         NO        NO  ...       PUBLIC       1180   \n",
       "1      6703     1.0         NO        NO  ...       PUBLIC       1570   \n",
       "2      6156     1.0         NO        NO  ...       PUBLIC       1580   \n",
       "3      1400     2.0         NO        NO  ...       PUBLIC       1090   \n",
       "4       758     2.0         NO        NO  ...       PUBLIC       1120   \n",
       "\n",
       "  sqft_basement sqft_garage sqft_patio yr_built  yr_renovated  \\\n",
       "0             0           0         40     1969             0   \n",
       "1          1570           0        240     1950             0   \n",
       "2          1580           0          0     1956             0   \n",
       "3          1070         200        270     2010             0   \n",
       "4           550         550         30     2012             0   \n",
       "\n",
       "                                             address        lat       long  \n",
       "0  2102 Southeast 21st Court, Renton, Washington ...  47.461975 -122.19052  \n",
       "1  11231 Greenwood Avenue North, Seattle, Washing...  47.711525 -122.35591  \n",
       "2  8504 South 113th Street, Seattle, Washington 9...  47.502045 -122.22520  \n",
       "3  4079 Letitia Avenue South, Seattle, Washington...  47.566110 -122.29020  \n",
       "4  2193 Northwest Talus Drive, Issaquah, Washingt...  47.532470 -122.07188  \n",
       "\n",
       "[5 rows x 25 columns]"
      ]
     },
     "execution_count": 2,
     "metadata": {},
     "output_type": "execute_result"
    }
   ],
   "source": [
    "# initial exploration of dataset\n",
    "house_data = pd.read_csv('data\\\\kc_house_data.csv')\n",
    "house_data.head()"
   ]
  },
  {
   "cell_type": "code",
   "execution_count": 3,
   "metadata": {},
   "outputs": [
    {
     "name": "stdout",
     "output_type": "stream",
     "text": [
      "<class 'pandas.core.frame.DataFrame'>\n",
      "RangeIndex: 30155 entries, 0 to 30154\n",
      "Data columns (total 25 columns):\n",
      " #   Column         Non-Null Count  Dtype  \n",
      "---  ------         --------------  -----  \n",
      " 0   id             30155 non-null  int64  \n",
      " 1   date           30155 non-null  object \n",
      " 2   price          30155 non-null  float64\n",
      " 3   bedrooms       30155 non-null  int64  \n",
      " 4   bathrooms      30155 non-null  float64\n",
      " 5   sqft_living    30155 non-null  int64  \n",
      " 6   sqft_lot       30155 non-null  int64  \n",
      " 7   floors         30155 non-null  float64\n",
      " 8   waterfront     30155 non-null  object \n",
      " 9   greenbelt      30155 non-null  object \n",
      " 10  nuisance       30155 non-null  object \n",
      " 11  view           30155 non-null  object \n",
      " 12  condition      30155 non-null  object \n",
      " 13  grade          30155 non-null  object \n",
      " 14  heat_source    30123 non-null  object \n",
      " 15  sewer_system   30141 non-null  object \n",
      " 16  sqft_above     30155 non-null  int64  \n",
      " 17  sqft_basement  30155 non-null  int64  \n",
      " 18  sqft_garage    30155 non-null  int64  \n",
      " 19  sqft_patio     30155 non-null  int64  \n",
      " 20  yr_built       30155 non-null  int64  \n",
      " 21  yr_renovated   30155 non-null  int64  \n",
      " 22  address        30155 non-null  object \n",
      " 23  lat            30155 non-null  float64\n",
      " 24  long           30155 non-null  float64\n",
      "dtypes: float64(5), int64(10), object(10)\n",
      "memory usage: 5.8+ MB\n"
     ]
    }
   ],
   "source": [
    "house_data.info()"
   ]
  },
  {
   "cell_type": "markdown",
   "metadata": {},
   "source": [
    "From the .info() method, we see that there are 25 columns in the dataset. The heat_source and sewer_system columns have missing values. In terms of dtype, the dataset contains a mix of integers, float values, and objects (strings)."
   ]
  },
  {
   "cell_type": "code",
   "execution_count": 4,
   "metadata": {},
   "outputs": [
    {
     "data": {
      "text/html": [
       "<div>\n",
       "<style scoped>\n",
       "    .dataframe tbody tr th:only-of-type {\n",
       "        vertical-align: middle;\n",
       "    }\n",
       "\n",
       "    .dataframe tbody tr th {\n",
       "        vertical-align: top;\n",
       "    }\n",
       "\n",
       "    .dataframe thead th {\n",
       "        text-align: right;\n",
       "    }\n",
       "</style>\n",
       "<table border=\"1\" class=\"dataframe\">\n",
       "  <thead>\n",
       "    <tr style=\"text-align: right;\">\n",
       "      <th></th>\n",
       "      <th>id</th>\n",
       "      <th>price</th>\n",
       "      <th>bedrooms</th>\n",
       "      <th>bathrooms</th>\n",
       "      <th>sqft_living</th>\n",
       "      <th>sqft_lot</th>\n",
       "      <th>floors</th>\n",
       "      <th>sqft_above</th>\n",
       "      <th>sqft_basement</th>\n",
       "      <th>sqft_garage</th>\n",
       "      <th>sqft_patio</th>\n",
       "      <th>yr_built</th>\n",
       "      <th>yr_renovated</th>\n",
       "      <th>lat</th>\n",
       "      <th>long</th>\n",
       "    </tr>\n",
       "  </thead>\n",
       "  <tbody>\n",
       "    <tr>\n",
       "      <th>count</th>\n",
       "      <td>3.015500e+04</td>\n",
       "      <td>3.015500e+04</td>\n",
       "      <td>30155.000000</td>\n",
       "      <td>30155.000000</td>\n",
       "      <td>30155.000000</td>\n",
       "      <td>3.015500e+04</td>\n",
       "      <td>30155.000000</td>\n",
       "      <td>30155.000000</td>\n",
       "      <td>30155.000000</td>\n",
       "      <td>30155.000000</td>\n",
       "      <td>30155.000000</td>\n",
       "      <td>30155.000000</td>\n",
       "      <td>30155.000000</td>\n",
       "      <td>30155.000000</td>\n",
       "      <td>30155.000000</td>\n",
       "    </tr>\n",
       "    <tr>\n",
       "      <th>mean</th>\n",
       "      <td>4.538104e+09</td>\n",
       "      <td>1.108536e+06</td>\n",
       "      <td>3.413530</td>\n",
       "      <td>2.334737</td>\n",
       "      <td>2112.424739</td>\n",
       "      <td>1.672360e+04</td>\n",
       "      <td>1.543492</td>\n",
       "      <td>1809.826098</td>\n",
       "      <td>476.039396</td>\n",
       "      <td>330.211142</td>\n",
       "      <td>217.412038</td>\n",
       "      <td>1975.163953</td>\n",
       "      <td>90.922301</td>\n",
       "      <td>47.328076</td>\n",
       "      <td>-121.317397</td>\n",
       "    </tr>\n",
       "    <tr>\n",
       "      <th>std</th>\n",
       "      <td>2.882587e+09</td>\n",
       "      <td>8.963857e+05</td>\n",
       "      <td>0.981612</td>\n",
       "      <td>0.889556</td>\n",
       "      <td>974.044318</td>\n",
       "      <td>6.038260e+04</td>\n",
       "      <td>0.567717</td>\n",
       "      <td>878.306131</td>\n",
       "      <td>579.631302</td>\n",
       "      <td>285.770536</td>\n",
       "      <td>245.302792</td>\n",
       "      <td>32.067362</td>\n",
       "      <td>416.473038</td>\n",
       "      <td>1.434005</td>\n",
       "      <td>5.725475</td>\n",
       "    </tr>\n",
       "    <tr>\n",
       "      <th>min</th>\n",
       "      <td>1.000055e+06</td>\n",
       "      <td>2.736000e+04</td>\n",
       "      <td>0.000000</td>\n",
       "      <td>0.000000</td>\n",
       "      <td>3.000000</td>\n",
       "      <td>4.020000e+02</td>\n",
       "      <td>1.000000</td>\n",
       "      <td>2.000000</td>\n",
       "      <td>0.000000</td>\n",
       "      <td>0.000000</td>\n",
       "      <td>0.000000</td>\n",
       "      <td>1900.000000</td>\n",
       "      <td>0.000000</td>\n",
       "      <td>21.274240</td>\n",
       "      <td>-157.791480</td>\n",
       "    </tr>\n",
       "    <tr>\n",
       "      <th>25%</th>\n",
       "      <td>2.064175e+09</td>\n",
       "      <td>6.480000e+05</td>\n",
       "      <td>3.000000</td>\n",
       "      <td>2.000000</td>\n",
       "      <td>1420.000000</td>\n",
       "      <td>4.850000e+03</td>\n",
       "      <td>1.000000</td>\n",
       "      <td>1180.000000</td>\n",
       "      <td>0.000000</td>\n",
       "      <td>0.000000</td>\n",
       "      <td>40.000000</td>\n",
       "      <td>1953.000000</td>\n",
       "      <td>0.000000</td>\n",
       "      <td>47.405320</td>\n",
       "      <td>-122.326045</td>\n",
       "    </tr>\n",
       "    <tr>\n",
       "      <th>50%</th>\n",
       "      <td>3.874011e+09</td>\n",
       "      <td>8.600000e+05</td>\n",
       "      <td>3.000000</td>\n",
       "      <td>2.500000</td>\n",
       "      <td>1920.000000</td>\n",
       "      <td>7.480000e+03</td>\n",
       "      <td>1.500000</td>\n",
       "      <td>1560.000000</td>\n",
       "      <td>0.000000</td>\n",
       "      <td>400.000000</td>\n",
       "      <td>150.000000</td>\n",
       "      <td>1977.000000</td>\n",
       "      <td>0.000000</td>\n",
       "      <td>47.551380</td>\n",
       "      <td>-122.225585</td>\n",
       "    </tr>\n",
       "    <tr>\n",
       "      <th>75%</th>\n",
       "      <td>7.287100e+09</td>\n",
       "      <td>1.300000e+06</td>\n",
       "      <td>4.000000</td>\n",
       "      <td>3.000000</td>\n",
       "      <td>2619.500000</td>\n",
       "      <td>1.057900e+04</td>\n",
       "      <td>2.000000</td>\n",
       "      <td>2270.000000</td>\n",
       "      <td>940.000000</td>\n",
       "      <td>510.000000</td>\n",
       "      <td>320.000000</td>\n",
       "      <td>2003.000000</td>\n",
       "      <td>0.000000</td>\n",
       "      <td>47.669913</td>\n",
       "      <td>-122.116205</td>\n",
       "    </tr>\n",
       "    <tr>\n",
       "      <th>max</th>\n",
       "      <td>9.904000e+09</td>\n",
       "      <td>3.075000e+07</td>\n",
       "      <td>13.000000</td>\n",
       "      <td>10.500000</td>\n",
       "      <td>15360.000000</td>\n",
       "      <td>3.253932e+06</td>\n",
       "      <td>4.000000</td>\n",
       "      <td>12660.000000</td>\n",
       "      <td>8020.000000</td>\n",
       "      <td>3580.000000</td>\n",
       "      <td>4370.000000</td>\n",
       "      <td>2022.000000</td>\n",
       "      <td>2022.000000</td>\n",
       "      <td>64.824070</td>\n",
       "      <td>-70.074340</td>\n",
       "    </tr>\n",
       "  </tbody>\n",
       "</table>\n",
       "</div>"
      ],
      "text/plain": [
       "                 id         price      bedrooms     bathrooms   sqft_living  \\\n",
       "count  3.015500e+04  3.015500e+04  30155.000000  30155.000000  30155.000000   \n",
       "mean   4.538104e+09  1.108536e+06      3.413530      2.334737   2112.424739   \n",
       "std    2.882587e+09  8.963857e+05      0.981612      0.889556    974.044318   \n",
       "min    1.000055e+06  2.736000e+04      0.000000      0.000000      3.000000   \n",
       "25%    2.064175e+09  6.480000e+05      3.000000      2.000000   1420.000000   \n",
       "50%    3.874011e+09  8.600000e+05      3.000000      2.500000   1920.000000   \n",
       "75%    7.287100e+09  1.300000e+06      4.000000      3.000000   2619.500000   \n",
       "max    9.904000e+09  3.075000e+07     13.000000     10.500000  15360.000000   \n",
       "\n",
       "           sqft_lot        floors    sqft_above  sqft_basement   sqft_garage  \\\n",
       "count  3.015500e+04  30155.000000  30155.000000   30155.000000  30155.000000   \n",
       "mean   1.672360e+04      1.543492   1809.826098     476.039396    330.211142   \n",
       "std    6.038260e+04      0.567717    878.306131     579.631302    285.770536   \n",
       "min    4.020000e+02      1.000000      2.000000       0.000000      0.000000   \n",
       "25%    4.850000e+03      1.000000   1180.000000       0.000000      0.000000   \n",
       "50%    7.480000e+03      1.500000   1560.000000       0.000000    400.000000   \n",
       "75%    1.057900e+04      2.000000   2270.000000     940.000000    510.000000   \n",
       "max    3.253932e+06      4.000000  12660.000000    8020.000000   3580.000000   \n",
       "\n",
       "         sqft_patio      yr_built  yr_renovated           lat          long  \n",
       "count  30155.000000  30155.000000  30155.000000  30155.000000  30155.000000  \n",
       "mean     217.412038   1975.163953     90.922301     47.328076   -121.317397  \n",
       "std      245.302792     32.067362    416.473038      1.434005      5.725475  \n",
       "min        0.000000   1900.000000      0.000000     21.274240   -157.791480  \n",
       "25%       40.000000   1953.000000      0.000000     47.405320   -122.326045  \n",
       "50%      150.000000   1977.000000      0.000000     47.551380   -122.225585  \n",
       "75%      320.000000   2003.000000      0.000000     47.669913   -122.116205  \n",
       "max     4370.000000   2022.000000   2022.000000     64.824070    -70.074340  "
      ]
     },
     "execution_count": 4,
     "metadata": {},
     "output_type": "execute_result"
    }
   ],
   "source": [
    "house_data.describe()"
   ]
  },
  {
   "cell_type": "markdown",
   "metadata": {},
   "source": [
    "The .describe() method shows statistics for 15 columns, which are of dtype integer or float. The columns containing object dtypes are not included in the table generated above."
   ]
  },
  {
   "cell_type": "markdown",
   "metadata": {},
   "source": [
    "Next, I will perform a correlation between sale price and the integer and float variables to see which variables may have a linear relationship with price. I will use the .corr() method to do this."
   ]
  },
  {
   "cell_type": "code",
   "execution_count": 5,
   "metadata": {},
   "outputs": [
    {
     "data": {
      "text/plain": [
       "id              -0.034184\n",
       "price            1.000000\n",
       "bedrooms         0.289204\n",
       "bathrooms        0.480401\n",
       "sqft_living      0.608521\n",
       "sqft_lot         0.085730\n",
       "floors           0.180576\n",
       "sqft_above       0.538651\n",
       "sqft_basement    0.245058\n",
       "sqft_garage      0.264169\n",
       "sqft_patio       0.313409\n",
       "yr_built         0.096013\n",
       "yr_renovated     0.084786\n",
       "lat              0.063632\n",
       "long            -0.022509\n",
       "Name: price, dtype: float64"
      ]
     },
     "execution_count": 5,
     "metadata": {},
     "output_type": "execute_result"
    }
   ],
   "source": [
    "# performing correlation between price and potential independent variables (int and float dtypes)\n",
    "house_data.corr()['price']"
   ]
  },
  {
   "cell_type": "markdown",
   "metadata": {},
   "source": [
    "Based on the results from .corr(), it appears that sqft_living has the strongest correlation with price (r=0.61). This sqft_living variable may be useful for a baseline model."
   ]
  },
  {
   "cell_type": "markdown",
   "metadata": {},
   "source": [
    "## Baseline Model\n",
    "\n",
    "As mentioned previously, sqft_living will be utilized for my simple linear regression baseline model. I will start by plotting the relationship between sqft_living and price. Then, I will generate the baseline model."
   ]
  },
  {
   "cell_type": "code",
   "execution_count": 6,
   "metadata": {},
   "outputs": [
    {
     "data": {
      "image/png": "[encoded data removed]",
      "text/plain": [
       "<Figure size 432x288 with 1 Axes>"
      ]
     },
     "metadata": {
      "needs_background": "light"
     },
     "output_type": "display_data"
    }
   ],
   "source": [
    "# scatterplot to visualize relationship between sqft_living and price\n",
    "house_data.plot.scatter(x='sqft_living', y='price');"
   ]
  },
  {
   "cell_type": "code",
   "execution_count": 7,
   "metadata": {},
   "outputs": [],
   "source": [
    "# generating baseline model\n",
    "y = house_data[\"price\"]\n",
    "X_baseline = house_data[[\"sqft_living\"]]"
   ]
  },
  {
   "cell_type": "code",
   "execution_count": 8,
   "metadata": {},
   "outputs": [
    {
     "name": "stdout",
     "output_type": "stream",
     "text": [
      "                            OLS Regression Results                            \n",
      "==============================================================================\n",
      "Dep. Variable:                  price   R-squared:                       0.370\n",
      "Model:                            OLS   Adj. R-squared:                  0.370\n",
      "Method:                 Least Squares   F-statistic:                 1.773e+04\n",
      "Date:                Wed, 24 May 2023   Prob (F-statistic):               0.00\n",
      "Time:                        01:07:33   Log-Likelihood:            -4.4912e+05\n",
      "No. Observations:               30155   AIC:                         8.982e+05\n",
      "Df Residuals:                   30153   BIC:                         8.983e+05\n",
      "Df Model:                           1                                         \n",
      "Covariance Type:            nonrobust                                         \n",
      "===============================================================================\n",
      "                  coef    std err          t      P>|t|      [0.025      0.975]\n",
      "-------------------------------------------------------------------------------\n",
      "const       -7.443e+04   9782.728     -7.609      0.000   -9.36e+04   -5.53e+04\n",
      "sqft_living   560.0050      4.206    133.160      0.000     551.762     568.248\n",
      "==============================================================================\n",
      "Omnibus:                    43429.367   Durbin-Watson:                   1.862\n",
      "Prob(Omnibus):                  0.000   Jarque-Bera (JB):         47159181.471\n",
      "Skew:                           8.188   Prob(JB):                         0.00\n",
      "Kurtosis:                     196.042   Cond. No.                     5.56e+03\n",
      "==============================================================================\n",
      "\n",
      "Notes:\n",
      "[1] Standard Errors assume that the covariance matrix of the errors is correctly specified.\n",
      "[2] The condition number is large, 5.56e+03. This might indicate that there are\n",
      "strong multicollinearity or other numerical problems.\n"
     ]
    }
   ],
   "source": [
    "baseline_model = sm.OLS(y, sm.add_constant(X_baseline))\n",
    "baseline_results = baseline_model.fit()\n",
    "\n",
    "print(baseline_results.summary())"
   ]
  },
  {
   "cell_type": "markdown",
   "metadata": {},
   "source": [
    "From the baseline model we see that the model is statistically significant overall (the p-value for the F-statistic is 0). According to the model, one unit increase in sqft_living will lead to about a $560 in price. The p-values for both the constant and the sqft_living coefficient are significant (both t-test p-values are 0). Based on the r-squared value, we know that the model explains only about 37% of the variance in price. Therefore, this isn't a strong model and needs to be improved further."
   ]
  },
  {
   "cell_type": "markdown",
   "metadata": {},
   "source": [
    "## Second Model\n",
    "\n",
    "For the second model, let's add another variable to see if it improves the R-squared value. From .corr(), we know that sqft_above had the second-highest correlation with price (r=0.54). I will create a second model with the sqft_living and sqft_above variables."
   ]
  },
  {
   "cell_type": "code",
   "execution_count": 9,
   "metadata": {},
   "outputs": [
    {
     "data": {
      "text/html": [
       "<div>\n",
       "<style scoped>\n",
       "    .dataframe tbody tr th:only-of-type {\n",
       "        vertical-align: middle;\n",
       "    }\n",
       "\n",
       "    .dataframe tbody tr th {\n",
       "        vertical-align: top;\n",
       "    }\n",
       "\n",
       "    .dataframe thead th {\n",
       "        text-align: right;\n",
       "    }\n",
       "</style>\n",
       "<table border=\"1\" class=\"dataframe\">\n",
       "  <thead>\n",
       "    <tr style=\"text-align: right;\">\n",
       "      <th></th>\n",
       "      <th>sqft_living</th>\n",
       "      <th>sqft_above</th>\n",
       "    </tr>\n",
       "  </thead>\n",
       "  <tbody>\n",
       "    <tr>\n",
       "      <th>0</th>\n",
       "      <td>1180</td>\n",
       "      <td>1180</td>\n",
       "    </tr>\n",
       "    <tr>\n",
       "      <th>1</th>\n",
       "      <td>2770</td>\n",
       "      <td>1570</td>\n",
       "    </tr>\n",
       "    <tr>\n",
       "      <th>2</th>\n",
       "      <td>2880</td>\n",
       "      <td>1580</td>\n",
       "    </tr>\n",
       "    <tr>\n",
       "      <th>3</th>\n",
       "      <td>2160</td>\n",
       "      <td>1090</td>\n",
       "    </tr>\n",
       "    <tr>\n",
       "      <th>4</th>\n",
       "      <td>1120</td>\n",
       "      <td>1120</td>\n",
       "    </tr>\n",
       "    <tr>\n",
       "      <th>...</th>\n",
       "      <td>...</td>\n",
       "      <td>...</td>\n",
       "    </tr>\n",
       "    <tr>\n",
       "      <th>30150</th>\n",
       "      <td>1910</td>\n",
       "      <td>1600</td>\n",
       "    </tr>\n",
       "    <tr>\n",
       "      <th>30151</th>\n",
       "      <td>2020</td>\n",
       "      <td>2020</td>\n",
       "    </tr>\n",
       "    <tr>\n",
       "      <th>30152</th>\n",
       "      <td>1620</td>\n",
       "      <td>940</td>\n",
       "    </tr>\n",
       "    <tr>\n",
       "      <th>30153</th>\n",
       "      <td>2570</td>\n",
       "      <td>1830</td>\n",
       "    </tr>\n",
       "    <tr>\n",
       "      <th>30154</th>\n",
       "      <td>1200</td>\n",
       "      <td>1200</td>\n",
       "    </tr>\n",
       "  </tbody>\n",
       "</table>\n",
       "<p>30155 rows × 2 columns</p>\n",
       "</div>"
      ],
      "text/plain": [
       "       sqft_living  sqft_above\n",
       "0             1180        1180\n",
       "1             2770        1570\n",
       "2             2880        1580\n",
       "3             2160        1090\n",
       "4             1120        1120\n",
       "...            ...         ...\n",
       "30150         1910        1600\n",
       "30151         2020        2020\n",
       "30152         1620         940\n",
       "30153         2570        1830\n",
       "30154         1200        1200\n",
       "\n",
       "[30155 rows x 2 columns]"
      ]
     },
     "execution_count": 9,
     "metadata": {},
     "output_type": "execute_result"
    }
   ],
   "source": [
    "X_second = house_data[['sqft_living', 'sqft_above']]\n",
    "X_second"
   ]
  },
  {
   "cell_type": "code",
   "execution_count": 10,
   "metadata": {},
   "outputs": [
    {
     "name": "stdout",
     "output_type": "stream",
     "text": [
      "                            OLS Regression Results                            \n",
      "==============================================================================\n",
      "Dep. Variable:                  price   R-squared:                       0.370\n",
      "Model:                            OLS   Adj. R-squared:                  0.370\n",
      "Method:                 Least Squares   F-statistic:                     8866.\n",
      "Date:                Wed, 24 May 2023   Prob (F-statistic):               0.00\n",
      "Time:                        01:07:34   Log-Likelihood:            -4.4912e+05\n",
      "No. Observations:               30155   AIC:                         8.983e+05\n",
      "Df Residuals:                   30152   BIC:                         8.983e+05\n",
      "Df Model:                           2                                         \n",
      "Covariance Type:            nonrobust                                         \n",
      "===============================================================================\n",
      "                  coef    std err          t      P>|t|      [0.025      0.975]\n",
      "-------------------------------------------------------------------------------\n",
      "const       -7.486e+04   9863.317     -7.590      0.000   -9.42e+04   -5.55e+04\n",
      "sqft_living   557.2945      8.996     61.952      0.000     539.663     574.926\n",
      "sqft_above      3.4005      9.976      0.341      0.733     -16.153      22.954\n",
      "==============================================================================\n",
      "Omnibus:                    43428.705   Durbin-Watson:                   1.862\n",
      "Prob(Omnibus):                  0.000   Jarque-Bera (JB):         47148435.931\n",
      "Skew:                           8.188   Prob(JB):                         0.00\n",
      "Kurtosis:                     196.020   Cond. No.                     7.37e+03\n",
      "==============================================================================\n",
      "\n",
      "Notes:\n",
      "[1] Standard Errors assume that the covariance matrix of the errors is correctly specified.\n",
      "[2] The condition number is large, 7.37e+03. This might indicate that there are\n",
      "strong multicollinearity or other numerical problems.\n"
     ]
    }
   ],
   "source": [
    "second_model = sm.OLS(y, sm.add_constant(X_second))\n",
    "second_results = second_model.fit()\n",
    "\n",
    "print(second_results.summary())"
   ]
  },
  {
   "cell_type": "markdown",
   "metadata": {},
   "source": [
    "This second model is not an improvement from the baseline model. The R-squared value is the same (0.37). In addition, the p-value for the sqft_above variable is not statisically significant (p=0.73) and is way higher than an alpha threshold of 0.05. "
   ]
  },
  {
   "cell_type": "markdown",
   "metadata": {},
   "source": [
    "Because the highest correlated numerical variables of integer and float dtypes failed to produce a strong model (one that predicts most of the variance in house price), I will now turn my attention to the categorical variables in the dataset."
   ]
  },
  {
   "cell_type": "markdown",
   "metadata": {},
   "source": [
    "## Categorical Variables\n",
    "\n",
    "For the columns containing categorical information, the data needs to be one-hot encoded first before a model can be generated. Let's create a copy of the data table with only variables of object dtype present."
   ]
  },
  {
   "cell_type": "code",
   "execution_count": 11,
   "metadata": {},
   "outputs": [
    {
     "data": {
      "text/html": [
       "<div>\n",
       "<style scoped>\n",
       "    .dataframe tbody tr th:only-of-type {\n",
       "        vertical-align: middle;\n",
       "    }\n",
       "\n",
       "    .dataframe tbody tr th {\n",
       "        vertical-align: top;\n",
       "    }\n",
       "\n",
       "    .dataframe thead th {\n",
       "        text-align: right;\n",
       "    }\n",
       "</style>\n",
       "<table border=\"1\" class=\"dataframe\">\n",
       "  <thead>\n",
       "    <tr style=\"text-align: right;\">\n",
       "      <th></th>\n",
       "      <th>date</th>\n",
       "      <th>waterfront</th>\n",
       "      <th>greenbelt</th>\n",
       "      <th>nuisance</th>\n",
       "      <th>view</th>\n",
       "      <th>condition</th>\n",
       "      <th>grade</th>\n",
       "      <th>heat_source</th>\n",
       "      <th>sewer_system</th>\n",
       "      <th>address</th>\n",
       "    </tr>\n",
       "  </thead>\n",
       "  <tbody>\n",
       "    <tr>\n",
       "      <th>0</th>\n",
       "      <td>5/24/2022</td>\n",
       "      <td>NO</td>\n",
       "      <td>NO</td>\n",
       "      <td>NO</td>\n",
       "      <td>NONE</td>\n",
       "      <td>Good</td>\n",
       "      <td>7 Average</td>\n",
       "      <td>Gas</td>\n",
       "      <td>PUBLIC</td>\n",
       "      <td>2102 Southeast 21st Court, Renton, Washington ...</td>\n",
       "    </tr>\n",
       "    <tr>\n",
       "      <th>1</th>\n",
       "      <td>12/13/2021</td>\n",
       "      <td>NO</td>\n",
       "      <td>NO</td>\n",
       "      <td>YES</td>\n",
       "      <td>AVERAGE</td>\n",
       "      <td>Average</td>\n",
       "      <td>7 Average</td>\n",
       "      <td>Oil</td>\n",
       "      <td>PUBLIC</td>\n",
       "      <td>11231 Greenwood Avenue North, Seattle, Washing...</td>\n",
       "    </tr>\n",
       "    <tr>\n",
       "      <th>2</th>\n",
       "      <td>9/29/2021</td>\n",
       "      <td>NO</td>\n",
       "      <td>NO</td>\n",
       "      <td>NO</td>\n",
       "      <td>AVERAGE</td>\n",
       "      <td>Average</td>\n",
       "      <td>7 Average</td>\n",
       "      <td>Gas</td>\n",
       "      <td>PUBLIC</td>\n",
       "      <td>8504 South 113th Street, Seattle, Washington 9...</td>\n",
       "    </tr>\n",
       "    <tr>\n",
       "      <th>3</th>\n",
       "      <td>12/14/2021</td>\n",
       "      <td>NO</td>\n",
       "      <td>NO</td>\n",
       "      <td>NO</td>\n",
       "      <td>AVERAGE</td>\n",
       "      <td>Average</td>\n",
       "      <td>9 Better</td>\n",
       "      <td>Gas</td>\n",
       "      <td>PUBLIC</td>\n",
       "      <td>4079 Letitia Avenue South, Seattle, Washington...</td>\n",
       "    </tr>\n",
       "    <tr>\n",
       "      <th>4</th>\n",
       "      <td>8/24/2021</td>\n",
       "      <td>NO</td>\n",
       "      <td>NO</td>\n",
       "      <td>YES</td>\n",
       "      <td>NONE</td>\n",
       "      <td>Average</td>\n",
       "      <td>7 Average</td>\n",
       "      <td>Electricity</td>\n",
       "      <td>PUBLIC</td>\n",
       "      <td>2193 Northwest Talus Drive, Issaquah, Washingt...</td>\n",
       "    </tr>\n",
       "  </tbody>\n",
       "</table>\n",
       "</div>"
      ],
      "text/plain": [
       "         date waterfront greenbelt nuisance     view condition      grade  \\\n",
       "0   5/24/2022         NO        NO       NO     NONE      Good  7 Average   \n",
       "1  12/13/2021         NO        NO      YES  AVERAGE   Average  7 Average   \n",
       "2   9/29/2021         NO        NO       NO  AVERAGE   Average  7 Average   \n",
       "3  12/14/2021         NO        NO       NO  AVERAGE   Average   9 Better   \n",
       "4   8/24/2021         NO        NO      YES     NONE   Average  7 Average   \n",
       "\n",
       "   heat_source sewer_system                                            address  \n",
       "0          Gas       PUBLIC  2102 Southeast 21st Court, Renton, Washington ...  \n",
       "1          Oil       PUBLIC  11231 Greenwood Avenue North, Seattle, Washing...  \n",
       "2          Gas       PUBLIC  8504 South 113th Street, Seattle, Washington 9...  \n",
       "3          Gas       PUBLIC  4079 Letitia Avenue South, Seattle, Washington...  \n",
       "4  Electricity       PUBLIC  2193 Northwest Talus Drive, Issaquah, Washingt...  "
      ]
     },
     "execution_count": 11,
     "metadata": {},
     "output_type": "execute_result"
    }
   ],
   "source": [
    "# creating copy of data with only obj columns\n",
    "categorical_data = house_data.select_dtypes(include='object')\n",
    "# use .head() to visualize first five rows and confirm that only categorical variables are present\n",
    "categorical_data.head()"
   ]
  },
  {
   "cell_type": "code",
   "execution_count": 12,
   "metadata": {},
   "outputs": [
    {
     "name": "stdout",
     "output_type": "stream",
     "text": [
      "<class 'pandas.core.frame.DataFrame'>\n",
      "RangeIndex: 30155 entries, 0 to 30154\n",
      "Data columns (total 10 columns):\n",
      " #   Column        Non-Null Count  Dtype \n",
      "---  ------        --------------  ----- \n",
      " 0   date          30155 non-null  object\n",
      " 1   waterfront    30155 non-null  object\n",
      " 2   greenbelt     30155 non-null  object\n",
      " 3   nuisance      30155 non-null  object\n",
      " 4   view          30155 non-null  object\n",
      " 5   condition     30155 non-null  object\n",
      " 6   grade         30155 non-null  object\n",
      " 7   heat_source   30123 non-null  object\n",
      " 8   sewer_system  30141 non-null  object\n",
      " 9   address       30155 non-null  object\n",
      "dtypes: object(10)\n",
      "memory usage: 2.3+ MB\n"
     ]
    }
   ],
   "source": [
    "categorical_data.info()"
   ]
  },
  {
   "cell_type": "markdown",
   "metadata": {},
   "source": [
    "Using the .info() method, we can confirm that the copied dataframe contains only the columns of object dtype. As mentioned earlier, the heat_source and sewer_system columns have missing entries. Therefore, it's probably best not to include those two columns. In addition, it would not make sense to look at date and address and their relationship with price, since both of these data vary too much and will most likely not have any discernable pattern. Let's create a new copy of the categorical dataframe that excludes these four columns (heat_source, sewer_system, date, address)."
   ]
  },
  {
   "cell_type": "code",
   "execution_count": 20,
   "metadata": {},
   "outputs": [
    {
     "data": {
      "text/html": [
       "<div>\n",
       "<style scoped>\n",
       "    .dataframe tbody tr th:only-of-type {\n",
       "        vertical-align: middle;\n",
       "    }\n",
       "\n",
       "    .dataframe tbody tr th {\n",
       "        vertical-align: top;\n",
       "    }\n",
       "\n",
       "    .dataframe thead th {\n",
       "        text-align: right;\n",
       "    }\n",
       "</style>\n",
       "<table border=\"1\" class=\"dataframe\">\n",
       "  <thead>\n",
       "    <tr style=\"text-align: right;\">\n",
       "      <th></th>\n",
       "      <th>waterfront</th>\n",
       "      <th>greenbelt</th>\n",
       "      <th>nuisance</th>\n",
       "      <th>view</th>\n",
       "      <th>condition</th>\n",
       "      <th>grade</th>\n",
       "    </tr>\n",
       "  </thead>\n",
       "  <tbody>\n",
       "    <tr>\n",
       "      <th>0</th>\n",
       "      <td>NO</td>\n",
       "      <td>NO</td>\n",
       "      <td>NO</td>\n",
       "      <td>NONE</td>\n",
       "      <td>Good</td>\n",
       "      <td>7 Average</td>\n",
       "    </tr>\n",
       "    <tr>\n",
       "      <th>1</th>\n",
       "      <td>NO</td>\n",
       "      <td>NO</td>\n",
       "      <td>YES</td>\n",
       "      <td>AVERAGE</td>\n",
       "      <td>Average</td>\n",
       "      <td>7 Average</td>\n",
       "    </tr>\n",
       "    <tr>\n",
       "      <th>2</th>\n",
       "      <td>NO</td>\n",
       "      <td>NO</td>\n",
       "      <td>NO</td>\n",
       "      <td>AVERAGE</td>\n",
       "      <td>Average</td>\n",
       "      <td>7 Average</td>\n",
       "    </tr>\n",
       "    <tr>\n",
       "      <th>3</th>\n",
       "      <td>NO</td>\n",
       "      <td>NO</td>\n",
       "      <td>NO</td>\n",
       "      <td>AVERAGE</td>\n",
       "      <td>Average</td>\n",
       "      <td>9 Better</td>\n",
       "    </tr>\n",
       "    <tr>\n",
       "      <th>4</th>\n",
       "      <td>NO</td>\n",
       "      <td>NO</td>\n",
       "      <td>YES</td>\n",
       "      <td>NONE</td>\n",
       "      <td>Average</td>\n",
       "      <td>7 Average</td>\n",
       "    </tr>\n",
       "  </tbody>\n",
       "</table>\n",
       "</div>"
      ],
      "text/plain": [
       "  waterfront greenbelt nuisance     view condition      grade\n",
       "0         NO        NO       NO     NONE      Good  7 Average\n",
       "1         NO        NO      YES  AVERAGE   Average  7 Average\n",
       "2         NO        NO       NO  AVERAGE   Average  7 Average\n",
       "3         NO        NO       NO  AVERAGE   Average   9 Better\n",
       "4         NO        NO      YES     NONE   Average  7 Average"
      ]
     },
     "execution_count": 20,
     "metadata": {},
     "output_type": "execute_result"
    }
   ],
   "source": [
    "# create another copy of categorical dataframe, excluding unnecessary columns\n",
    "categorical_data_cut = house_data[['waterfront', 'greenbelt', 'nuisance', 'view', 'condition', 'grade']]\n",
    "# use .head() to visualize first five rows\n",
    "categorical_data_cut.head()"
   ]
  },
  {
   "cell_type": "code",
   "execution_count": null,
   "metadata": {},
   "outputs": [],
   "source": [
    "# change waterfront, greenbelt, nuisance into binary variables (0 and 1)\n",
    "# split number and word for grade\n",
    "# change view and condition into 0, 0.5, 1 (bad, average, good)"
   ]
  },
  {
   "cell_type": "markdown",
   "metadata": {},
   "source": [
    "Now, we will one-hot encode the data in the table. To avoid the dummy variable trap (perfect multicolinearity), we will pass in drop_first=True. "
   ]
  },
  {
   "cell_type": "code",
   "execution_count": 14,
   "metadata": {},
   "outputs": [],
   "source": [
    "# perform one-hot encoding on categorical data\n",
    "categorical_data_cut = pd.get_dummies(categorical_data, drop_first=True) \n",
    "# using drop_first = True to avoid dummy variable trap"
   ]
  },
  {
   "cell_type": "markdown",
   "metadata": {},
   "source": [
    "Following our one-hot encoding, we can generate our linear regression model."
   ]
  },
  {
   "cell_type": "code",
   "execution_count": 15,
   "metadata": {},
   "outputs": [],
   "source": [
    "# generating linear regression model for categorical variables\n"
   ]
  },
  {
   "cell_type": "code",
   "execution_count": 16,
   "metadata": {},
   "outputs": [],
   "source": [
    "# too many variables --- decide what to drop based on coefficient significance (maybe!)"
   ]
  },
  {
   "cell_type": "code",
   "execution_count": 17,
   "metadata": {},
   "outputs": [],
   "source": [
    "# visualize data distribution to see if it needs to be normalized first"
   ]
  },
  {
   "cell_type": "code",
   "execution_count": 18,
   "metadata": {},
   "outputs": [],
   "source": [
    "# start by figuring out the Top 3 variables (in terms of corr coefficients) w/ price"
   ]
  },
  {
   "cell_type": "code",
   "execution_count": 19,
   "metadata": {},
   "outputs": [],
   "source": [
    "# price is dependent variable\n",
    "# see how 3 different independent variables impact price and use for final model"
   ]
  },
  {
   "cell_type": "markdown",
   "metadata": {},
   "source": [
    "## Conclusions\n",
    "\n",
    "Three concrete suggestions based on final model"
   ]
  },
  {
   "cell_type": "markdown",
   "metadata": {},
   "source": [
    "## Limitations and Future Improvements\n",
    "\n",
    "Include assumptions of linear regression"
   ]
  }
 ],
 "metadata": {
  "kernelspec": {
   "display_name": "Python 3",
   "language": "python",
   "name": "python3"
  },
  "language_info": {
   "codemirror_mode": {
    "name": "ipython",
    "version": 3
   },
   "file_extension": ".py",
   "mimetype": "text/x-python",
   "name": "python",
   "nbconvert_exporter": "python",
   "pygments_lexer": "ipython3",
   "version": "3.8.5"
  }
 },
 "nbformat": 4,
 "nbformat_minor": 2
}
