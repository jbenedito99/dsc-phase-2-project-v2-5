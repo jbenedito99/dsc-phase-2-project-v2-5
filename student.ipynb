{
 "cells": [
  {
   "cell_type": "markdown",
   "metadata": {},
   "source": [
    "## Final Project Submission\n",
    "\n",
    "Please fill out:\n",
    "* Student name: James Benedito\n",
    "* Student pace: Part Time\n",
    "* Instructor name: Morgan Jones"
   ]
  },
  {
   "cell_type": "markdown",
   "metadata": {},
   "source": [
    "## Introduction\n",
    "\n",
    "Driving through a suburban neighborhood, it's inevitable that one will encounter at least one \"for sale\" sign. These signs typically have the logo of some big-time real estate company, like Century 21 or REMAX. Real estate companies are businesses that deal with buying and selling properties. When purchasing a house, everyone has their non-negotiables. Some people want a big kitchen or backyard. Others may want a basement or 'x' amount of bathrooms. In this Jupyter notebook, I will explore the different variables that impact a home's value. The information in this analysis will be applicable to real estate companies who sell houses to clients."
   ]
  },
  {
   "cell_type": "markdown",
   "metadata": {},
   "source": [
    "## Business Problem\n",
    "\n",
    "King County is a county located in Washington state with a population of approximately 2.2 million people, according to the 2022 US Census. As of 2021, the median household income is about $106,000 (https://www.census.gov/quickfacts/kingcountywashington).\n",
    "\n",
    "A theoretical real estate company (called Not Real Real Estate) in King County sells homes. They want to be informed and know the factors that increase a house's value. My data analysis will bring light to the variables that are most impactful to a home's sale price in King County and will thus inform this real estate company on the types of properties they should focus on selling.  "
   ]
  },
  {
   "cell_type": "markdown",
   "metadata": {},
   "source": [
    "## Goal\n",
    "\n",
    "My goal is to come up with concrete suggestions based on a multiple linear regression analysis. The final linear regression model will include the variables that are most impactful to a house's sale price, which will serve as the dependent variable of interest throughout the entire exploration process. In other words, the independent variables in my final model will be those that are the best predictors of a house's sale price (the dependent variable). "
   ]
  },
  {
   "cell_type": "markdown",
   "metadata": {},
   "source": [
    "## Dataset\n",
    "\n",
    "The dataset I am using for the analysis is <b>kc_house_data.csv</b>. This dataset includes data on houses in King County, which is where Not Real Real Estate and their clients are located."
   ]
  },
  {
   "cell_type": "markdown",
   "metadata": {},
   "source": [
    "## Data Exploration\n",
    "\n",
    "I will begin by exploring the dataset, using the <b>.head()</b> method to visualize the first five rows in a table format. Furthermore, I will use the <b>.info()</b> and <b>.describe()</b> methods to get a better understanding of the overall dataset."
   ]
  },
  {
   "cell_type": "code",
   "execution_count": 1,
   "metadata": {},
   "outputs": [],
   "source": [
    "# importing relevant packages\n",
    "import matplotlib.pyplot as plt\n",
    "%matplotlib inline\n",
    "import pandas as pd\n",
    "import numpy as np \n",
    "import statsmodels.api as sm\n",
    "import seaborn as sns"
   ]
  },
  {
   "cell_type": "code",
   "execution_count": 2,
   "metadata": {
    "scrolled": true
   },
   "outputs": [
    {
     "data": {
      "text/html": [
       "<div>\n",
       "<style scoped>\n",
       "    .dataframe tbody tr th:only-of-type {\n",
       "        vertical-align: middle;\n",
       "    }\n",
       "\n",
       "    .dataframe tbody tr th {\n",
       "        vertical-align: top;\n",
       "    }\n",
       "\n",
       "    .dataframe thead th {\n",
       "        text-align: right;\n",
       "    }\n",
       "</style>\n",
       "<table border=\"1\" class=\"dataframe\">\n",
       "  <thead>\n",
       "    <tr style=\"text-align: right;\">\n",
       "      <th></th>\n",
       "      <th>id</th>\n",
       "      <th>date</th>\n",
       "      <th>price</th>\n",
       "      <th>bedrooms</th>\n",
       "      <th>bathrooms</th>\n",
       "      <th>sqft_living</th>\n",
       "      <th>sqft_lot</th>\n",
       "      <th>floors</th>\n",
       "      <th>waterfront</th>\n",
       "      <th>greenbelt</th>\n",
       "      <th>...</th>\n",
       "      <th>sewer_system</th>\n",
       "      <th>sqft_above</th>\n",
       "      <th>sqft_basement</th>\n",
       "      <th>sqft_garage</th>\n",
       "      <th>sqft_patio</th>\n",
       "      <th>yr_built</th>\n",
       "      <th>yr_renovated</th>\n",
       "      <th>address</th>\n",
       "      <th>lat</th>\n",
       "      <th>long</th>\n",
       "    </tr>\n",
       "  </thead>\n",
       "  <tbody>\n",
       "    <tr>\n",
       "      <th>0</th>\n",
       "      <td>7399300360</td>\n",
       "      <td>5/24/2022</td>\n",
       "      <td>675000.0</td>\n",
       "      <td>4</td>\n",
       "      <td>1.0</td>\n",
       "      <td>1180</td>\n",
       "      <td>7140</td>\n",
       "      <td>1.0</td>\n",
       "      <td>NO</td>\n",
       "      <td>NO</td>\n",
       "      <td>...</td>\n",
       "      <td>PUBLIC</td>\n",
       "      <td>1180</td>\n",
       "      <td>0</td>\n",
       "      <td>0</td>\n",
       "      <td>40</td>\n",
       "      <td>1969</td>\n",
       "      <td>0</td>\n",
       "      <td>2102 Southeast 21st Court, Renton, Washington ...</td>\n",
       "      <td>47.461975</td>\n",
       "      <td>-122.19052</td>\n",
       "    </tr>\n",
       "    <tr>\n",
       "      <th>1</th>\n",
       "      <td>8910500230</td>\n",
       "      <td>12/13/2021</td>\n",
       "      <td>920000.0</td>\n",
       "      <td>5</td>\n",
       "      <td>2.5</td>\n",
       "      <td>2770</td>\n",
       "      <td>6703</td>\n",
       "      <td>1.0</td>\n",
       "      <td>NO</td>\n",
       "      <td>NO</td>\n",
       "      <td>...</td>\n",
       "      <td>PUBLIC</td>\n",
       "      <td>1570</td>\n",
       "      <td>1570</td>\n",
       "      <td>0</td>\n",
       "      <td>240</td>\n",
       "      <td>1950</td>\n",
       "      <td>0</td>\n",
       "      <td>11231 Greenwood Avenue North, Seattle, Washing...</td>\n",
       "      <td>47.711525</td>\n",
       "      <td>-122.35591</td>\n",
       "    </tr>\n",
       "    <tr>\n",
       "      <th>2</th>\n",
       "      <td>1180000275</td>\n",
       "      <td>9/29/2021</td>\n",
       "      <td>311000.0</td>\n",
       "      <td>6</td>\n",
       "      <td>2.0</td>\n",
       "      <td>2880</td>\n",
       "      <td>6156</td>\n",
       "      <td>1.0</td>\n",
       "      <td>NO</td>\n",
       "      <td>NO</td>\n",
       "      <td>...</td>\n",
       "      <td>PUBLIC</td>\n",
       "      <td>1580</td>\n",
       "      <td>1580</td>\n",
       "      <td>0</td>\n",
       "      <td>0</td>\n",
       "      <td>1956</td>\n",
       "      <td>0</td>\n",
       "      <td>8504 South 113th Street, Seattle, Washington 9...</td>\n",
       "      <td>47.502045</td>\n",
       "      <td>-122.22520</td>\n",
       "    </tr>\n",
       "    <tr>\n",
       "      <th>3</th>\n",
       "      <td>1604601802</td>\n",
       "      <td>12/14/2021</td>\n",
       "      <td>775000.0</td>\n",
       "      <td>3</td>\n",
       "      <td>3.0</td>\n",
       "      <td>2160</td>\n",
       "      <td>1400</td>\n",
       "      <td>2.0</td>\n",
       "      <td>NO</td>\n",
       "      <td>NO</td>\n",
       "      <td>...</td>\n",
       "      <td>PUBLIC</td>\n",
       "      <td>1090</td>\n",
       "      <td>1070</td>\n",
       "      <td>200</td>\n",
       "      <td>270</td>\n",
       "      <td>2010</td>\n",
       "      <td>0</td>\n",
       "      <td>4079 Letitia Avenue South, Seattle, Washington...</td>\n",
       "      <td>47.566110</td>\n",
       "      <td>-122.29020</td>\n",
       "    </tr>\n",
       "    <tr>\n",
       "      <th>4</th>\n",
       "      <td>8562780790</td>\n",
       "      <td>8/24/2021</td>\n",
       "      <td>592500.0</td>\n",
       "      <td>2</td>\n",
       "      <td>2.0</td>\n",
       "      <td>1120</td>\n",
       "      <td>758</td>\n",
       "      <td>2.0</td>\n",
       "      <td>NO</td>\n",
       "      <td>NO</td>\n",
       "      <td>...</td>\n",
       "      <td>PUBLIC</td>\n",
       "      <td>1120</td>\n",
       "      <td>550</td>\n",
       "      <td>550</td>\n",
       "      <td>30</td>\n",
       "      <td>2012</td>\n",
       "      <td>0</td>\n",
       "      <td>2193 Northwest Talus Drive, Issaquah, Washingt...</td>\n",
       "      <td>47.532470</td>\n",
       "      <td>-122.07188</td>\n",
       "    </tr>\n",
       "  </tbody>\n",
       "</table>\n",
       "<p>5 rows × 25 columns</p>\n",
       "</div>"
      ],
      "text/plain": [
       "           id        date     price  bedrooms  bathrooms  sqft_living  \\\n",
       "0  7399300360   5/24/2022  675000.0         4        1.0         1180   \n",
       "1  8910500230  12/13/2021  920000.0         5        2.5         2770   \n",
       "2  1180000275   9/29/2021  311000.0         6        2.0         2880   \n",
       "3  1604601802  12/14/2021  775000.0         3        3.0         2160   \n",
       "4  8562780790   8/24/2021  592500.0         2        2.0         1120   \n",
       "\n",
       "   sqft_lot  floors waterfront greenbelt  ... sewer_system sqft_above  \\\n",
       "0      7140     1.0         NO        NO  ...       PUBLIC       1180   \n",
       "1      6703     1.0         NO        NO  ...       PUBLIC       1570   \n",
       "2      6156     1.0         NO        NO  ...       PUBLIC       1580   \n",
       "3      1400     2.0         NO        NO  ...       PUBLIC       1090   \n",
       "4       758     2.0         NO        NO  ...       PUBLIC       1120   \n",
       "\n",
       "  sqft_basement sqft_garage sqft_patio yr_built  yr_renovated  \\\n",
       "0             0           0         40     1969             0   \n",
       "1          1570           0        240     1950             0   \n",
       "2          1580           0          0     1956             0   \n",
       "3          1070         200        270     2010             0   \n",
       "4           550         550         30     2012             0   \n",
       "\n",
       "                                             address        lat       long  \n",
       "0  2102 Southeast 21st Court, Renton, Washington ...  47.461975 -122.19052  \n",
       "1  11231 Greenwood Avenue North, Seattle, Washing...  47.711525 -122.35591  \n",
       "2  8504 South 113th Street, Seattle, Washington 9...  47.502045 -122.22520  \n",
       "3  4079 Letitia Avenue South, Seattle, Washington...  47.566110 -122.29020  \n",
       "4  2193 Northwest Talus Drive, Issaquah, Washingt...  47.532470 -122.07188  \n",
       "\n",
       "[5 rows x 25 columns]"
      ]
     },
     "execution_count": 2,
     "metadata": {},
     "output_type": "execute_result"
    }
   ],
   "source": [
    "# reading data through pandas\n",
    "house_data = pd.read_csv('data\\\\kc_house_data.csv')\n",
    "house_data.head()"
   ]
  },
  {
   "cell_type": "code",
   "execution_count": 3,
   "metadata": {},
   "outputs": [
    {
     "name": "stdout",
     "output_type": "stream",
     "text": [
      "<class 'pandas.core.frame.DataFrame'>\n",
      "RangeIndex: 30155 entries, 0 to 30154\n",
      "Data columns (total 25 columns):\n",
      " #   Column         Non-Null Count  Dtype  \n",
      "---  ------         --------------  -----  \n",
      " 0   id             30155 non-null  int64  \n",
      " 1   date           30155 non-null  object \n",
      " 2   price          30155 non-null  float64\n",
      " 3   bedrooms       30155 non-null  int64  \n",
      " 4   bathrooms      30155 non-null  float64\n",
      " 5   sqft_living    30155 non-null  int64  \n",
      " 6   sqft_lot       30155 non-null  int64  \n",
      " 7   floors         30155 non-null  float64\n",
      " 8   waterfront     30155 non-null  object \n",
      " 9   greenbelt      30155 non-null  object \n",
      " 10  nuisance       30155 non-null  object \n",
      " 11  view           30155 non-null  object \n",
      " 12  condition      30155 non-null  object \n",
      " 13  grade          30155 non-null  object \n",
      " 14  heat_source    30123 non-null  object \n",
      " 15  sewer_system   30141 non-null  object \n",
      " 16  sqft_above     30155 non-null  int64  \n",
      " 17  sqft_basement  30155 non-null  int64  \n",
      " 18  sqft_garage    30155 non-null  int64  \n",
      " 19  sqft_patio     30155 non-null  int64  \n",
      " 20  yr_built       30155 non-null  int64  \n",
      " 21  yr_renovated   30155 non-null  int64  \n",
      " 22  address        30155 non-null  object \n",
      " 23  lat            30155 non-null  float64\n",
      " 24  long           30155 non-null  float64\n",
      "dtypes: float64(5), int64(10), object(10)\n",
      "memory usage: 5.8+ MB\n"
     ]
    }
   ],
   "source": [
    "# initial exploration of the dataset\n",
    "house_data.info()"
   ]
  },
  {
   "cell_type": "markdown",
   "metadata": {},
   "source": [
    "From the <b>.info()</b> method, we see that there are 25 columns and over 30,000 entries in the dataset. The <b>heat_source</b> and <b>sewer_system</b> columns have missing values. In terms of dtype, the dataset contains a mix of integers, float values, and objects (strings). "
   ]
  },
  {
   "cell_type": "code",
   "execution_count": 4,
   "metadata": {},
   "outputs": [
    {
     "data": {
      "text/html": [
       "<div>\n",
       "<style scoped>\n",
       "    .dataframe tbody tr th:only-of-type {\n",
       "        vertical-align: middle;\n",
       "    }\n",
       "\n",
       "    .dataframe tbody tr th {\n",
       "        vertical-align: top;\n",
       "    }\n",
       "\n",
       "    .dataframe thead th {\n",
       "        text-align: right;\n",
       "    }\n",
       "</style>\n",
       "<table border=\"1\" class=\"dataframe\">\n",
       "  <thead>\n",
       "    <tr style=\"text-align: right;\">\n",
       "      <th></th>\n",
       "      <th>id</th>\n",
       "      <th>price</th>\n",
       "      <th>bedrooms</th>\n",
       "      <th>bathrooms</th>\n",
       "      <th>sqft_living</th>\n",
       "      <th>sqft_lot</th>\n",
       "      <th>floors</th>\n",
       "      <th>sqft_above</th>\n",
       "      <th>sqft_basement</th>\n",
       "      <th>sqft_garage</th>\n",
       "      <th>sqft_patio</th>\n",
       "      <th>yr_built</th>\n",
       "      <th>yr_renovated</th>\n",
       "      <th>lat</th>\n",
       "      <th>long</th>\n",
       "    </tr>\n",
       "  </thead>\n",
       "  <tbody>\n",
       "    <tr>\n",
       "      <th>count</th>\n",
       "      <td>3.015500e+04</td>\n",
       "      <td>3.015500e+04</td>\n",
       "      <td>30155.000000</td>\n",
       "      <td>30155.000000</td>\n",
       "      <td>30155.000000</td>\n",
       "      <td>3.015500e+04</td>\n",
       "      <td>30155.000000</td>\n",
       "      <td>30155.000000</td>\n",
       "      <td>30155.000000</td>\n",
       "      <td>30155.000000</td>\n",
       "      <td>30155.000000</td>\n",
       "      <td>30155.000000</td>\n",
       "      <td>30155.000000</td>\n",
       "      <td>30155.000000</td>\n",
       "      <td>30155.000000</td>\n",
       "    </tr>\n",
       "    <tr>\n",
       "      <th>mean</th>\n",
       "      <td>4.538104e+09</td>\n",
       "      <td>1.108536e+06</td>\n",
       "      <td>3.413530</td>\n",
       "      <td>2.334737</td>\n",
       "      <td>2112.424739</td>\n",
       "      <td>1.672360e+04</td>\n",
       "      <td>1.543492</td>\n",
       "      <td>1809.826098</td>\n",
       "      <td>476.039396</td>\n",
       "      <td>330.211142</td>\n",
       "      <td>217.412038</td>\n",
       "      <td>1975.163953</td>\n",
       "      <td>90.922301</td>\n",
       "      <td>47.328076</td>\n",
       "      <td>-121.317397</td>\n",
       "    </tr>\n",
       "    <tr>\n",
       "      <th>std</th>\n",
       "      <td>2.882587e+09</td>\n",
       "      <td>8.963857e+05</td>\n",
       "      <td>0.981612</td>\n",
       "      <td>0.889556</td>\n",
       "      <td>974.044318</td>\n",
       "      <td>6.038260e+04</td>\n",
       "      <td>0.567717</td>\n",
       "      <td>878.306131</td>\n",
       "      <td>579.631302</td>\n",
       "      <td>285.770536</td>\n",
       "      <td>245.302792</td>\n",
       "      <td>32.067362</td>\n",
       "      <td>416.473038</td>\n",
       "      <td>1.434005</td>\n",
       "      <td>5.725475</td>\n",
       "    </tr>\n",
       "    <tr>\n",
       "      <th>min</th>\n",
       "      <td>1.000055e+06</td>\n",
       "      <td>2.736000e+04</td>\n",
       "      <td>0.000000</td>\n",
       "      <td>0.000000</td>\n",
       "      <td>3.000000</td>\n",
       "      <td>4.020000e+02</td>\n",
       "      <td>1.000000</td>\n",
       "      <td>2.000000</td>\n",
       "      <td>0.000000</td>\n",
       "      <td>0.000000</td>\n",
       "      <td>0.000000</td>\n",
       "      <td>1900.000000</td>\n",
       "      <td>0.000000</td>\n",
       "      <td>21.274240</td>\n",
       "      <td>-157.791480</td>\n",
       "    </tr>\n",
       "    <tr>\n",
       "      <th>25%</th>\n",
       "      <td>2.064175e+09</td>\n",
       "      <td>6.480000e+05</td>\n",
       "      <td>3.000000</td>\n",
       "      <td>2.000000</td>\n",
       "      <td>1420.000000</td>\n",
       "      <td>4.850000e+03</td>\n",
       "      <td>1.000000</td>\n",
       "      <td>1180.000000</td>\n",
       "      <td>0.000000</td>\n",
       "      <td>0.000000</td>\n",
       "      <td>40.000000</td>\n",
       "      <td>1953.000000</td>\n",
       "      <td>0.000000</td>\n",
       "      <td>47.405320</td>\n",
       "      <td>-122.326045</td>\n",
       "    </tr>\n",
       "    <tr>\n",
       "      <th>50%</th>\n",
       "      <td>3.874011e+09</td>\n",
       "      <td>8.600000e+05</td>\n",
       "      <td>3.000000</td>\n",
       "      <td>2.500000</td>\n",
       "      <td>1920.000000</td>\n",
       "      <td>7.480000e+03</td>\n",
       "      <td>1.500000</td>\n",
       "      <td>1560.000000</td>\n",
       "      <td>0.000000</td>\n",
       "      <td>400.000000</td>\n",
       "      <td>150.000000</td>\n",
       "      <td>1977.000000</td>\n",
       "      <td>0.000000</td>\n",
       "      <td>47.551380</td>\n",
       "      <td>-122.225585</td>\n",
       "    </tr>\n",
       "    <tr>\n",
       "      <th>75%</th>\n",
       "      <td>7.287100e+09</td>\n",
       "      <td>1.300000e+06</td>\n",
       "      <td>4.000000</td>\n",
       "      <td>3.000000</td>\n",
       "      <td>2619.500000</td>\n",
       "      <td>1.057900e+04</td>\n",
       "      <td>2.000000</td>\n",
       "      <td>2270.000000</td>\n",
       "      <td>940.000000</td>\n",
       "      <td>510.000000</td>\n",
       "      <td>320.000000</td>\n",
       "      <td>2003.000000</td>\n",
       "      <td>0.000000</td>\n",
       "      <td>47.669913</td>\n",
       "      <td>-122.116205</td>\n",
       "    </tr>\n",
       "    <tr>\n",
       "      <th>max</th>\n",
       "      <td>9.904000e+09</td>\n",
       "      <td>3.075000e+07</td>\n",
       "      <td>13.000000</td>\n",
       "      <td>10.500000</td>\n",
       "      <td>15360.000000</td>\n",
       "      <td>3.253932e+06</td>\n",
       "      <td>4.000000</td>\n",
       "      <td>12660.000000</td>\n",
       "      <td>8020.000000</td>\n",
       "      <td>3580.000000</td>\n",
       "      <td>4370.000000</td>\n",
       "      <td>2022.000000</td>\n",
       "      <td>2022.000000</td>\n",
       "      <td>64.824070</td>\n",
       "      <td>-70.074340</td>\n",
       "    </tr>\n",
       "  </tbody>\n",
       "</table>\n",
       "</div>"
      ],
      "text/plain": [
       "                 id         price      bedrooms     bathrooms   sqft_living  \\\n",
       "count  3.015500e+04  3.015500e+04  30155.000000  30155.000000  30155.000000   \n",
       "mean   4.538104e+09  1.108536e+06      3.413530      2.334737   2112.424739   \n",
       "std    2.882587e+09  8.963857e+05      0.981612      0.889556    974.044318   \n",
       "min    1.000055e+06  2.736000e+04      0.000000      0.000000      3.000000   \n",
       "25%    2.064175e+09  6.480000e+05      3.000000      2.000000   1420.000000   \n",
       "50%    3.874011e+09  8.600000e+05      3.000000      2.500000   1920.000000   \n",
       "75%    7.287100e+09  1.300000e+06      4.000000      3.000000   2619.500000   \n",
       "max    9.904000e+09  3.075000e+07     13.000000     10.500000  15360.000000   \n",
       "\n",
       "           sqft_lot        floors    sqft_above  sqft_basement   sqft_garage  \\\n",
       "count  3.015500e+04  30155.000000  30155.000000   30155.000000  30155.000000   \n",
       "mean   1.672360e+04      1.543492   1809.826098     476.039396    330.211142   \n",
       "std    6.038260e+04      0.567717    878.306131     579.631302    285.770536   \n",
       "min    4.020000e+02      1.000000      2.000000       0.000000      0.000000   \n",
       "25%    4.850000e+03      1.000000   1180.000000       0.000000      0.000000   \n",
       "50%    7.480000e+03      1.500000   1560.000000       0.000000    400.000000   \n",
       "75%    1.057900e+04      2.000000   2270.000000     940.000000    510.000000   \n",
       "max    3.253932e+06      4.000000  12660.000000    8020.000000   3580.000000   \n",
       "\n",
       "         sqft_patio      yr_built  yr_renovated           lat          long  \n",
       "count  30155.000000  30155.000000  30155.000000  30155.000000  30155.000000  \n",
       "mean     217.412038   1975.163953     90.922301     47.328076   -121.317397  \n",
       "std      245.302792     32.067362    416.473038      1.434005      5.725475  \n",
       "min        0.000000   1900.000000      0.000000     21.274240   -157.791480  \n",
       "25%       40.000000   1953.000000      0.000000     47.405320   -122.326045  \n",
       "50%      150.000000   1977.000000      0.000000     47.551380   -122.225585  \n",
       "75%      320.000000   2003.000000      0.000000     47.669913   -122.116205  \n",
       "max     4370.000000   2022.000000   2022.000000     64.824070    -70.074340  "
      ]
     },
     "execution_count": 4,
     "metadata": {},
     "output_type": "execute_result"
    }
   ],
   "source": [
    "house_data.describe()"
   ]
  },
  {
   "cell_type": "markdown",
   "metadata": {},
   "source": [
    "The <b>.describe()</b> method shows statistics for 15 columns, which are of dtype integer or float. The columns containing object dtypes are not included in the table generated above. The high amount of numeric variables further supports the idea that a multiple linear regression is the best avenue to go down, as far as analysis is concerned. "
   ]
  },
  {
   "cell_type": "markdown",
   "metadata": {},
   "source": [
    "## Data Cleaning \n",
    "\n",
    "Before proceeding, I want to address the missing data in the <b>house_data</b> dataframe. As we saw earlier with <b>.info()</b>, the <b>heat_source</b> and <b>sewer_system</b> columns had missing entries. Let's drop any null values from the dataframe using <b>.dropna()</b>."
   ]
  },
  {
   "cell_type": "code",
   "execution_count": 5,
   "metadata": {},
   "outputs": [
    {
     "name": "stdout",
     "output_type": "stream",
     "text": [
      "<class 'pandas.core.frame.DataFrame'>\n",
      "Int64Index: 30111 entries, 0 to 30154\n",
      "Data columns (total 25 columns):\n",
      " #   Column         Non-Null Count  Dtype  \n",
      "---  ------         --------------  -----  \n",
      " 0   id             30111 non-null  int64  \n",
      " 1   date           30111 non-null  object \n",
      " 2   price          30111 non-null  float64\n",
      " 3   bedrooms       30111 non-null  int64  \n",
      " 4   bathrooms      30111 non-null  float64\n",
      " 5   sqft_living    30111 non-null  int64  \n",
      " 6   sqft_lot       30111 non-null  int64  \n",
      " 7   floors         30111 non-null  float64\n",
      " 8   waterfront     30111 non-null  object \n",
      " 9   greenbelt      30111 non-null  object \n",
      " 10  nuisance       30111 non-null  object \n",
      " 11  view           30111 non-null  object \n",
      " 12  condition      30111 non-null  object \n",
      " 13  grade          30111 non-null  object \n",
      " 14  heat_source    30111 non-null  object \n",
      " 15  sewer_system   30111 non-null  object \n",
      " 16  sqft_above     30111 non-null  int64  \n",
      " 17  sqft_basement  30111 non-null  int64  \n",
      " 18  sqft_garage    30111 non-null  int64  \n",
      " 19  sqft_patio     30111 non-null  int64  \n",
      " 20  yr_built       30111 non-null  int64  \n",
      " 21  yr_renovated   30111 non-null  int64  \n",
      " 22  address        30111 non-null  object \n",
      " 23  lat            30111 non-null  float64\n",
      " 24  long           30111 non-null  float64\n",
      "dtypes: float64(5), int64(10), object(10)\n",
      "memory usage: 6.0+ MB\n"
     ]
    }
   ],
   "source": [
    "# dropping null values\n",
    "house_data = house_data.dropna()\n",
    "house_data.info()"
   ]
  },
  {
   "cell_type": "markdown",
   "metadata": {},
   "source": [
    "We can see that the null values were successfully dropped because the number of entries in the dataframe decreased."
   ]
  },
  {
   "cell_type": "markdown",
   "metadata": {},
   "source": [
    "## Numeric Variables\n",
    "\n",
    "Next, I will perform a correlation between <b>price</b> and the <b>numeric variables</b> to see which of them have a strong linear relationship with price. I will use the <b>.corr()</b> method to do this."
   ]
  },
  {
   "cell_type": "code",
   "execution_count": 6,
   "metadata": {},
   "outputs": [
    {
     "data": {
      "text/plain": [
       "id              -0.034096\n",
       "price            1.000000\n",
       "bedrooms         0.288954\n",
       "bathrooms        0.480337\n",
       "sqft_living      0.608616\n",
       "sqft_lot         0.086550\n",
       "floors           0.180589\n",
       "sqft_above       0.538631\n",
       "sqft_basement    0.245005\n",
       "sqft_garage      0.263674\n",
       "sqft_patio       0.313789\n",
       "yr_built         0.095796\n",
       "yr_renovated     0.085023\n",
       "lat              0.063430\n",
       "long            -0.022278\n",
       "Name: price, dtype: float64"
      ]
     },
     "execution_count": 6,
     "metadata": {},
     "output_type": "execute_result"
    }
   ],
   "source": [
    "# performing correlation between price and potential independent variables (int and float dtypes)\n",
    "house_data.corr()['price']"
   ]
  },
  {
   "cell_type": "markdown",
   "metadata": {},
   "source": [
    "Based on the results from <b>.corr()</b>, it appears that <b>sqft_living</b> has the strongest correlation with <b>price</b> (r=0.61). This <b>sqft_living</b> variable will be useful for a baseline model."
   ]
  },
  {
   "cell_type": "markdown",
   "metadata": {},
   "source": [
    "## Baseline Model\n",
    "\n",
    "As mentioned previously, <b>sqft_living</b> will be utilized for my simple linear regression baseline model. I will start by plotting the relationship between <b>sqft_living</b> and <b>price</b>. Then, I will generate the baseline model."
   ]
  },
  {
   "cell_type": "code",
   "execution_count": 7,
   "metadata": {
    "scrolled": true
   },
   "outputs": [
    {
     "data": {
      "image/png": "[encoded data removed]",
      "text/plain": [
       "<Figure size 432x288 with 1 Axes>"
      ]
     },
     "metadata": {
      "needs_background": "light"
     },
     "output_type": "display_data"
    }
   ],
   "source": [
    "# scatterplot to visualize relationship between sqft_living and price\n",
    "house_data.plot.scatter(x='sqft_living', y='price');"
   ]
  },
  {
   "cell_type": "code",
   "execution_count": 8,
   "metadata": {},
   "outputs": [
    {
     "name": "stdout",
     "output_type": "stream",
     "text": [
      "                            OLS Regression Results                            \n",
      "==============================================================================\n",
      "Dep. Variable:                  price   R-squared:                       0.370\n",
      "Model:                            OLS   Adj. R-squared:                  0.370\n",
      "Method:                 Least Squares   F-statistic:                 1.771e+04\n",
      "Date:                Mon, 29 May 2023   Prob (F-statistic):               0.00\n",
      "Time:                        22:55:09   Log-Likelihood:            -4.4847e+05\n",
      "No. Observations:               30111   AIC:                         8.969e+05\n",
      "Df Residuals:                   30109   BIC:                         8.970e+05\n",
      "Df Model:                           1                                         \n",
      "Covariance Type:            nonrobust                                         \n",
      "===============================================================================\n",
      "                  coef    std err          t      P>|t|      [0.025      0.975]\n",
      "-------------------------------------------------------------------------------\n",
      "const       -7.559e+04   9798.815     -7.714      0.000   -9.48e+04   -5.64e+04\n",
      "sqft_living   560.5134      4.211    133.096      0.000     552.259     568.768\n",
      "==============================================================================\n",
      "Omnibus:                    43384.874   Durbin-Watson:                   1.862\n",
      "Prob(Omnibus):                  0.000   Jarque-Bera (JB):         47187801.072\n",
      "Skew:                           8.195   Prob(JB):                         0.00\n",
      "Kurtosis:                     196.242   Cond. No.                     5.56e+03\n",
      "==============================================================================\n",
      "\n",
      "Notes:\n",
      "[1] Standard Errors assume that the covariance matrix of the errors is correctly specified.\n",
      "[2] The condition number is large, 5.56e+03. This might indicate that there are\n",
      "strong multicollinearity or other numerical problems.\n"
     ]
    }
   ],
   "source": [
    "# generating baseline model\n",
    "y = house_data[\"price\"]\n",
    "X_baseline = house_data[[\"sqft_living\"]]\n",
    "\n",
    "baseline_model = sm.OLS(y, sm.add_constant(X_baseline))\n",
    "baseline_results = baseline_model.fit()\n",
    "\n",
    "print(baseline_results.summary())"
   ]
  },
  {
   "cell_type": "markdown",
   "metadata": {},
   "source": [
    "From the baseline model we see that the model is statistically significant overall (the p-value for the F-statistic is 0). According to the model, one unit increase in <b>sqft_living</b> will lead to about a $560 increase in price. The p-values for both the constant and the sqft_living coefficient are significant (both t-test p-values are 0). Based on the R-squared value, we know that the model explains only about <b>37% of the variance</b> in price. Therefore, this isn't a strong model and needs to be improved further. Let's inspect the distribution of <b>sqft_living</b> to see if it's normal. "
   ]
  },
  {
   "cell_type": "code",
   "execution_count": 9,
   "metadata": {},
   "outputs": [
    {
     "data": {
      "image/png": "[encoded data removed]",
      "text/plain": [
       "<Figure size 504x216 with 1 Axes>"
      ]
     },
     "metadata": {
      "needs_background": "light"
     },
     "output_type": "display_data"
    }
   ],
   "source": [
    "# inspecting distribution of sqft_living\n",
    "fig, ax = plt.subplots(figsize=(7,3))\n",
    "ax.hist(house_data['sqft_living'])\n",
    "ax.set_xlabel(\"sqft_living\");"
   ]
  },
  {
   "cell_type": "markdown",
   "metadata": {},
   "source": [
    "From the histogram, we see that the <b>sqft_living</b> variable has a slight positive skew. Performing a <b>log transformation</b> may help normalize the data. "
   ]
  },
  {
   "cell_type": "markdown",
   "metadata": {},
   "source": [
    "# Baseline Model: Log Transformed"
   ]
  },
  {
   "cell_type": "code",
   "execution_count": 10,
   "metadata": {},
   "outputs": [
    {
     "data": {
      "text/html": [
       "<div>\n",
       "<style scoped>\n",
       "    .dataframe tbody tr th:only-of-type {\n",
       "        vertical-align: middle;\n",
       "    }\n",
       "\n",
       "    .dataframe tbody tr th {\n",
       "        vertical-align: top;\n",
       "    }\n",
       "\n",
       "    .dataframe thead th {\n",
       "        text-align: right;\n",
       "    }\n",
       "</style>\n",
       "<table border=\"1\" class=\"dataframe\">\n",
       "  <thead>\n",
       "    <tr style=\"text-align: right;\">\n",
       "      <th></th>\n",
       "      <th>sqft_living</th>\n",
       "      <th>log(sqft_living)</th>\n",
       "    </tr>\n",
       "  </thead>\n",
       "  <tbody>\n",
       "    <tr>\n",
       "      <th>0</th>\n",
       "      <td>1180</td>\n",
       "      <td>7.073270</td>\n",
       "    </tr>\n",
       "    <tr>\n",
       "      <th>1</th>\n",
       "      <td>2770</td>\n",
       "      <td>7.926603</td>\n",
       "    </tr>\n",
       "    <tr>\n",
       "      <th>2</th>\n",
       "      <td>2880</td>\n",
       "      <td>7.965546</td>\n",
       "    </tr>\n",
       "    <tr>\n",
       "      <th>3</th>\n",
       "      <td>2160</td>\n",
       "      <td>7.677864</td>\n",
       "    </tr>\n",
       "    <tr>\n",
       "      <th>4</th>\n",
       "      <td>1120</td>\n",
       "      <td>7.021084</td>\n",
       "    </tr>\n",
       "    <tr>\n",
       "      <th>...</th>\n",
       "      <td>...</td>\n",
       "      <td>...</td>\n",
       "    </tr>\n",
       "    <tr>\n",
       "      <th>30150</th>\n",
       "      <td>1910</td>\n",
       "      <td>7.554859</td>\n",
       "    </tr>\n",
       "    <tr>\n",
       "      <th>30151</th>\n",
       "      <td>2020</td>\n",
       "      <td>7.610853</td>\n",
       "    </tr>\n",
       "    <tr>\n",
       "      <th>30152</th>\n",
       "      <td>1620</td>\n",
       "      <td>7.390181</td>\n",
       "    </tr>\n",
       "    <tr>\n",
       "      <th>30153</th>\n",
       "      <td>2570</td>\n",
       "      <td>7.851661</td>\n",
       "    </tr>\n",
       "    <tr>\n",
       "      <th>30154</th>\n",
       "      <td>1200</td>\n",
       "      <td>7.090077</td>\n",
       "    </tr>\n",
       "  </tbody>\n",
       "</table>\n",
       "<p>30111 rows × 2 columns</p>\n",
       "</div>"
      ],
      "text/plain": [
       "       sqft_living  log(sqft_living)\n",
       "0             1180          7.073270\n",
       "1             2770          7.926603\n",
       "2             2880          7.965546\n",
       "3             2160          7.677864\n",
       "4             1120          7.021084\n",
       "...            ...               ...\n",
       "30150         1910          7.554859\n",
       "30151         2020          7.610853\n",
       "30152         1620          7.390181\n",
       "30153         2570          7.851661\n",
       "30154         1200          7.090077\n",
       "\n",
       "[30111 rows x 2 columns]"
      ]
     },
     "execution_count": 10,
     "metadata": {},
     "output_type": "execute_result"
    }
   ],
   "source": [
    "# create copy of X_baseline\n",
    "X_baseline_log = X_baseline.copy()\n",
    "\n",
    "# perform log transformation\n",
    "X_baseline_log[\"log(sqft_living)\"] = np.log(X_baseline_log[\"sqft_living\"])\n",
    "\n",
    "# compare raw vs. transformed values\n",
    "X_baseline_log[[\"sqft_living\", \"log(sqft_living)\"]]"
   ]
  },
  {
   "cell_type": "code",
   "execution_count": 11,
   "metadata": {},
   "outputs": [
    {
     "data": {
      "image/png": "[encoded data removed]",
      "text/plain": [
       "<Figure size 504x216 with 1 Axes>"
      ]
     },
     "metadata": {
      "needs_background": "light"
     },
     "output_type": "display_data"
    }
   ],
   "source": [
    "# visualize distribution of log transformed data\n",
    "fig, ax = plt.subplots(figsize=(7,3))\n",
    "ax.hist(X_baseline_log['log(sqft_living)']);"
   ]
  },
  {
   "cell_type": "code",
   "execution_count": 12,
   "metadata": {},
   "outputs": [
    {
     "name": "stdout",
     "output_type": "stream",
     "text": [
      "                            OLS Regression Results                            \n",
      "==============================================================================\n",
      "Dep. Variable:                  price   R-squared:                       0.266\n",
      "Model:                            OLS   Adj. R-squared:                  0.266\n",
      "Method:                 Least Squares   F-statistic:                 1.089e+04\n",
      "Date:                Mon, 29 May 2023   Prob (F-statistic):               0.00\n",
      "Time:                        22:55:10   Log-Likelihood:            -4.5079e+05\n",
      "No. Observations:               30111   AIC:                         9.016e+05\n",
      "Df Residuals:                   30109   BIC:                         9.016e+05\n",
      "Df Model:                           1                                         \n",
      "Covariance Type:            nonrobust                                         \n",
      "====================================================================================\n",
      "                       coef    std err          t      P>|t|      [0.025      0.975]\n",
      "------------------------------------------------------------------------------------\n",
      "const            -6.781e+06   7.57e+04    -89.546      0.000   -6.93e+06   -6.63e+06\n",
      "log(sqft_living)  1.044e+06      1e+04    104.369      0.000    1.02e+06    1.06e+06\n",
      "==============================================================================\n",
      "Omnibus:                    42658.357   Durbin-Watson:                   1.884\n",
      "Prob(Omnibus):                  0.000   Jarque-Bera (JB):         34619647.727\n",
      "Skew:                           8.032   Prob(JB):                         0.00\n",
      "Kurtosis:                     168.335   Cond. No.                         132.\n",
      "==============================================================================\n",
      "\n",
      "Notes:\n",
      "[1] Standard Errors assume that the covariance matrix of the errors is correctly specified.\n"
     ]
    }
   ],
   "source": [
    "# generating new baseline model with log transformed feature (sqft_living)\n",
    "\n",
    "# dropping original sqft_living column\n",
    "X_baseline_log.drop(\"sqft_living\", axis=1, inplace=True)\n",
    "\n",
    "\n",
    "y = house_data['price']\n",
    "baseline_log_model = sm.OLS(y, sm.add_constant(X_baseline_log))\n",
    "baseline_log_results = baseline_log_model.fit()\n",
    "\n",
    "print(baseline_log_results.summary())"
   ]
  },
  {
   "cell_type": "markdown",
   "metadata": {},
   "source": [
    "By performing a log transformation on the <b>sqft_living</b> feature, we see the model worsen. The R-squared value has decreased from 0.37 to about 0.27 and has a significant F-statistic, as indicated by the p-value (<0.05). This means that the model is predicting about <b>27% of the variation</b> in <b>price</b>. All the coefficients are significant as well based on their t-test p-values. The results aren't what we wanted, so let's keep the original baseline model over the log transformed one. Now, let's turn our attention to the categorical variables of the dataset. "
   ]
  },
  {
   "cell_type": "markdown",
   "metadata": {},
   "source": [
    "## Categorical Variables\n",
    "\n",
    "For the columns containing <b>categorical</b> information, the data needs to be transformed and one-hot encoded first before a model can be generated. Let's create a copy of the data table with only variables of object dtype present."
   ]
  },
  {
   "cell_type": "code",
   "execution_count": 13,
   "metadata": {},
   "outputs": [
    {
     "data": {
      "text/html": [
       "<div>\n",
       "<style scoped>\n",
       "    .dataframe tbody tr th:only-of-type {\n",
       "        vertical-align: middle;\n",
       "    }\n",
       "\n",
       "    .dataframe tbody tr th {\n",
       "        vertical-align: top;\n",
       "    }\n",
       "\n",
       "    .dataframe thead th {\n",
       "        text-align: right;\n",
       "    }\n",
       "</style>\n",
       "<table border=\"1\" class=\"dataframe\">\n",
       "  <thead>\n",
       "    <tr style=\"text-align: right;\">\n",
       "      <th></th>\n",
       "      <th>date</th>\n",
       "      <th>waterfront</th>\n",
       "      <th>greenbelt</th>\n",
       "      <th>nuisance</th>\n",
       "      <th>view</th>\n",
       "      <th>condition</th>\n",
       "      <th>grade</th>\n",
       "      <th>heat_source</th>\n",
       "      <th>sewer_system</th>\n",
       "      <th>address</th>\n",
       "    </tr>\n",
       "  </thead>\n",
       "  <tbody>\n",
       "    <tr>\n",
       "      <th>0</th>\n",
       "      <td>5/24/2022</td>\n",
       "      <td>NO</td>\n",
       "      <td>NO</td>\n",
       "      <td>NO</td>\n",
       "      <td>NONE</td>\n",
       "      <td>Good</td>\n",
       "      <td>7 Average</td>\n",
       "      <td>Gas</td>\n",
       "      <td>PUBLIC</td>\n",
       "      <td>2102 Southeast 21st Court, Renton, Washington ...</td>\n",
       "    </tr>\n",
       "    <tr>\n",
       "      <th>1</th>\n",
       "      <td>12/13/2021</td>\n",
       "      <td>NO</td>\n",
       "      <td>NO</td>\n",
       "      <td>YES</td>\n",
       "      <td>AVERAGE</td>\n",
       "      <td>Average</td>\n",
       "      <td>7 Average</td>\n",
       "      <td>Oil</td>\n",
       "      <td>PUBLIC</td>\n",
       "      <td>11231 Greenwood Avenue North, Seattle, Washing...</td>\n",
       "    </tr>\n",
       "    <tr>\n",
       "      <th>2</th>\n",
       "      <td>9/29/2021</td>\n",
       "      <td>NO</td>\n",
       "      <td>NO</td>\n",
       "      <td>NO</td>\n",
       "      <td>AVERAGE</td>\n",
       "      <td>Average</td>\n",
       "      <td>7 Average</td>\n",
       "      <td>Gas</td>\n",
       "      <td>PUBLIC</td>\n",
       "      <td>8504 South 113th Street, Seattle, Washington 9...</td>\n",
       "    </tr>\n",
       "    <tr>\n",
       "      <th>3</th>\n",
       "      <td>12/14/2021</td>\n",
       "      <td>NO</td>\n",
       "      <td>NO</td>\n",
       "      <td>NO</td>\n",
       "      <td>AVERAGE</td>\n",
       "      <td>Average</td>\n",
       "      <td>9 Better</td>\n",
       "      <td>Gas</td>\n",
       "      <td>PUBLIC</td>\n",
       "      <td>4079 Letitia Avenue South, Seattle, Washington...</td>\n",
       "    </tr>\n",
       "    <tr>\n",
       "      <th>4</th>\n",
       "      <td>8/24/2021</td>\n",
       "      <td>NO</td>\n",
       "      <td>NO</td>\n",
       "      <td>YES</td>\n",
       "      <td>NONE</td>\n",
       "      <td>Average</td>\n",
       "      <td>7 Average</td>\n",
       "      <td>Electricity</td>\n",
       "      <td>PUBLIC</td>\n",
       "      <td>2193 Northwest Talus Drive, Issaquah, Washingt...</td>\n",
       "    </tr>\n",
       "  </tbody>\n",
       "</table>\n",
       "</div>"
      ],
      "text/plain": [
       "         date waterfront greenbelt nuisance     view condition      grade  \\\n",
       "0   5/24/2022         NO        NO       NO     NONE      Good  7 Average   \n",
       "1  12/13/2021         NO        NO      YES  AVERAGE   Average  7 Average   \n",
       "2   9/29/2021         NO        NO       NO  AVERAGE   Average  7 Average   \n",
       "3  12/14/2021         NO        NO       NO  AVERAGE   Average   9 Better   \n",
       "4   8/24/2021         NO        NO      YES     NONE   Average  7 Average   \n",
       "\n",
       "   heat_source sewer_system                                            address  \n",
       "0          Gas       PUBLIC  2102 Southeast 21st Court, Renton, Washington ...  \n",
       "1          Oil       PUBLIC  11231 Greenwood Avenue North, Seattle, Washing...  \n",
       "2          Gas       PUBLIC  8504 South 113th Street, Seattle, Washington 9...  \n",
       "3          Gas       PUBLIC  4079 Letitia Avenue South, Seattle, Washington...  \n",
       "4  Electricity       PUBLIC  2193 Northwest Talus Drive, Issaquah, Washingt...  "
      ]
     },
     "execution_count": 13,
     "metadata": {},
     "output_type": "execute_result"
    }
   ],
   "source": [
    "# creating copy of data with only obj columns\n",
    "categorical_data = house_data.select_dtypes(include='object')\n",
    "# use .head() to visualize first five rows \n",
    "categorical_data.head()"
   ]
  },
  {
   "cell_type": "code",
   "execution_count": 14,
   "metadata": {},
   "outputs": [
    {
     "name": "stdout",
     "output_type": "stream",
     "text": [
      "<class 'pandas.core.frame.DataFrame'>\n",
      "Int64Index: 30111 entries, 0 to 30154\n",
      "Data columns (total 10 columns):\n",
      " #   Column        Non-Null Count  Dtype \n",
      "---  ------        --------------  ----- \n",
      " 0   date          30111 non-null  object\n",
      " 1   waterfront    30111 non-null  object\n",
      " 2   greenbelt     30111 non-null  object\n",
      " 3   nuisance      30111 non-null  object\n",
      " 4   view          30111 non-null  object\n",
      " 5   condition     30111 non-null  object\n",
      " 6   grade         30111 non-null  object\n",
      " 7   heat_source   30111 non-null  object\n",
      " 8   sewer_system  30111 non-null  object\n",
      " 9   address       30111 non-null  object\n",
      "dtypes: object(10)\n",
      "memory usage: 2.5+ MB\n"
     ]
    }
   ],
   "source": [
    "# use .info() to confirm only variables of obj dtype are present \n",
    "categorical_data.info()"
   ]
  },
  {
   "cell_type": "markdown",
   "metadata": {},
   "source": [
    "Looking at our categorical variables, it would not make sense to look at <b>date</b> and <b>address</b> and their relationship with price, since both of these data vary too much and will most likely not have any discernable pattern. Let's create a new copy of the categorical dataframe that excludes these two columns. I will also add the <b>price</b> column because it's the dependent variable of interest. Furthermore, I will include the <b>bedrooms</b>, <b>bathrooms</b>, and <b>floors</b> columns because even though they have int and float dtypes, they seemed to be more discrete, categorical variables based on the earlier analysis."
   ]
  },
  {
   "cell_type": "code",
   "execution_count": 15,
   "metadata": {},
   "outputs": [
    {
     "data": {
      "text/html": [
       "<div>\n",
       "<style scoped>\n",
       "    .dataframe tbody tr th:only-of-type {\n",
       "        vertical-align: middle;\n",
       "    }\n",
       "\n",
       "    .dataframe tbody tr th {\n",
       "        vertical-align: top;\n",
       "    }\n",
       "\n",
       "    .dataframe thead th {\n",
       "        text-align: right;\n",
       "    }\n",
       "</style>\n",
       "<table border=\"1\" class=\"dataframe\">\n",
       "  <thead>\n",
       "    <tr style=\"text-align: right;\">\n",
       "      <th></th>\n",
       "      <th>waterfront</th>\n",
       "      <th>greenbelt</th>\n",
       "      <th>nuisance</th>\n",
       "      <th>view</th>\n",
       "      <th>condition</th>\n",
       "      <th>grade</th>\n",
       "      <th>heat_source</th>\n",
       "      <th>sewer_system</th>\n",
       "      <th>bedrooms</th>\n",
       "      <th>bathrooms</th>\n",
       "      <th>floors</th>\n",
       "      <th>price</th>\n",
       "    </tr>\n",
       "  </thead>\n",
       "  <tbody>\n",
       "    <tr>\n",
       "      <th>0</th>\n",
       "      <td>NO</td>\n",
       "      <td>NO</td>\n",
       "      <td>NO</td>\n",
       "      <td>NONE</td>\n",
       "      <td>Good</td>\n",
       "      <td>7 Average</td>\n",
       "      <td>Gas</td>\n",
       "      <td>PUBLIC</td>\n",
       "      <td>4</td>\n",
       "      <td>1.0</td>\n",
       "      <td>1.0</td>\n",
       "      <td>675000.0</td>\n",
       "    </tr>\n",
       "    <tr>\n",
       "      <th>1</th>\n",
       "      <td>NO</td>\n",
       "      <td>NO</td>\n",
       "      <td>YES</td>\n",
       "      <td>AVERAGE</td>\n",
       "      <td>Average</td>\n",
       "      <td>7 Average</td>\n",
       "      <td>Oil</td>\n",
       "      <td>PUBLIC</td>\n",
       "      <td>5</td>\n",
       "      <td>2.5</td>\n",
       "      <td>1.0</td>\n",
       "      <td>920000.0</td>\n",
       "    </tr>\n",
       "    <tr>\n",
       "      <th>2</th>\n",
       "      <td>NO</td>\n",
       "      <td>NO</td>\n",
       "      <td>NO</td>\n",
       "      <td>AVERAGE</td>\n",
       "      <td>Average</td>\n",
       "      <td>7 Average</td>\n",
       "      <td>Gas</td>\n",
       "      <td>PUBLIC</td>\n",
       "      <td>6</td>\n",
       "      <td>2.0</td>\n",
       "      <td>1.0</td>\n",
       "      <td>311000.0</td>\n",
       "    </tr>\n",
       "    <tr>\n",
       "      <th>3</th>\n",
       "      <td>NO</td>\n",
       "      <td>NO</td>\n",
       "      <td>NO</td>\n",
       "      <td>AVERAGE</td>\n",
       "      <td>Average</td>\n",
       "      <td>9 Better</td>\n",
       "      <td>Gas</td>\n",
       "      <td>PUBLIC</td>\n",
       "      <td>3</td>\n",
       "      <td>3.0</td>\n",
       "      <td>2.0</td>\n",
       "      <td>775000.0</td>\n",
       "    </tr>\n",
       "    <tr>\n",
       "      <th>4</th>\n",
       "      <td>NO</td>\n",
       "      <td>NO</td>\n",
       "      <td>YES</td>\n",
       "      <td>NONE</td>\n",
       "      <td>Average</td>\n",
       "      <td>7 Average</td>\n",
       "      <td>Electricity</td>\n",
       "      <td>PUBLIC</td>\n",
       "      <td>2</td>\n",
       "      <td>2.0</td>\n",
       "      <td>2.0</td>\n",
       "      <td>592500.0</td>\n",
       "    </tr>\n",
       "  </tbody>\n",
       "</table>\n",
       "</div>"
      ],
      "text/plain": [
       "  waterfront greenbelt nuisance     view condition      grade  heat_source  \\\n",
       "0         NO        NO       NO     NONE      Good  7 Average          Gas   \n",
       "1         NO        NO      YES  AVERAGE   Average  7 Average          Oil   \n",
       "2         NO        NO       NO  AVERAGE   Average  7 Average          Gas   \n",
       "3         NO        NO       NO  AVERAGE   Average   9 Better          Gas   \n",
       "4         NO        NO      YES     NONE   Average  7 Average  Electricity   \n",
       "\n",
       "  sewer_system  bedrooms  bathrooms  floors     price  \n",
       "0       PUBLIC         4        1.0     1.0  675000.0  \n",
       "1       PUBLIC         5        2.5     1.0  920000.0  \n",
       "2       PUBLIC         6        2.0     1.0  311000.0  \n",
       "3       PUBLIC         3        3.0     2.0  775000.0  \n",
       "4       PUBLIC         2        2.0     2.0  592500.0  "
      ]
     },
     "execution_count": 15,
     "metadata": {},
     "output_type": "execute_result"
    }
   ],
   "source": [
    "# create another copy of categorical dataframe, excluding unnecessary columns\n",
    "cat_data_edited = house_data[['waterfront', 'greenbelt', 'nuisance', 'view', 'condition', 'grade', 'heat_source',\n",
    "                              'sewer_system', 'bedrooms','bathrooms', 'floors', 'price']]\n",
    "# use .head() to visualize first five rows\n",
    "cat_data_edited.head()"
   ]
  },
  {
   "cell_type": "markdown",
   "metadata": {},
   "source": [
    "With the columns in the <b>cat_data_edited</b> dataframe, some edits must be done to make the data more usable. Let's start by creating a new column called <b>rating</b> that extracts the number from grade. "
   ]
  },
  {
   "cell_type": "code",
   "execution_count": 16,
   "metadata": {},
   "outputs": [
    {
     "name": "stderr",
     "output_type": "stream",
     "text": [
      "<ipython-input-16-00cf2c3f359d>:2: SettingWithCopyWarning: \n",
      "A value is trying to be set on a copy of a slice from a DataFrame.\n",
      "Try using .loc[row_indexer,col_indexer] = value instead\n",
      "\n",
      "See the caveats in the documentation: https://pandas.pydata.org/pandas-docs/stable/user_guide/indexing.html#returning-a-view-versus-a-copy\n",
      "  cat_data_edited['rating'] = cat_data_edited['grade'].str.split().apply(lambda x: x[0])\n"
     ]
    },
    {
     "data": {
      "text/html": [
       "<div>\n",
       "<style scoped>\n",
       "    .dataframe tbody tr th:only-of-type {\n",
       "        vertical-align: middle;\n",
       "    }\n",
       "\n",
       "    .dataframe tbody tr th {\n",
       "        vertical-align: top;\n",
       "    }\n",
       "\n",
       "    .dataframe thead th {\n",
       "        text-align: right;\n",
       "    }\n",
       "</style>\n",
       "<table border=\"1\" class=\"dataframe\">\n",
       "  <thead>\n",
       "    <tr style=\"text-align: right;\">\n",
       "      <th></th>\n",
       "      <th>waterfront</th>\n",
       "      <th>greenbelt</th>\n",
       "      <th>nuisance</th>\n",
       "      <th>view</th>\n",
       "      <th>condition</th>\n",
       "      <th>grade</th>\n",
       "      <th>heat_source</th>\n",
       "      <th>sewer_system</th>\n",
       "      <th>bedrooms</th>\n",
       "      <th>bathrooms</th>\n",
       "      <th>floors</th>\n",
       "      <th>price</th>\n",
       "      <th>rating</th>\n",
       "    </tr>\n",
       "  </thead>\n",
       "  <tbody>\n",
       "    <tr>\n",
       "      <th>0</th>\n",
       "      <td>NO</td>\n",
       "      <td>NO</td>\n",
       "      <td>NO</td>\n",
       "      <td>NONE</td>\n",
       "      <td>Good</td>\n",
       "      <td>7 Average</td>\n",
       "      <td>Gas</td>\n",
       "      <td>PUBLIC</td>\n",
       "      <td>4</td>\n",
       "      <td>1.0</td>\n",
       "      <td>1.0</td>\n",
       "      <td>675000.0</td>\n",
       "      <td>7</td>\n",
       "    </tr>\n",
       "    <tr>\n",
       "      <th>1</th>\n",
       "      <td>NO</td>\n",
       "      <td>NO</td>\n",
       "      <td>YES</td>\n",
       "      <td>AVERAGE</td>\n",
       "      <td>Average</td>\n",
       "      <td>7 Average</td>\n",
       "      <td>Oil</td>\n",
       "      <td>PUBLIC</td>\n",
       "      <td>5</td>\n",
       "      <td>2.5</td>\n",
       "      <td>1.0</td>\n",
       "      <td>920000.0</td>\n",
       "      <td>7</td>\n",
       "    </tr>\n",
       "    <tr>\n",
       "      <th>2</th>\n",
       "      <td>NO</td>\n",
       "      <td>NO</td>\n",
       "      <td>NO</td>\n",
       "      <td>AVERAGE</td>\n",
       "      <td>Average</td>\n",
       "      <td>7 Average</td>\n",
       "      <td>Gas</td>\n",
       "      <td>PUBLIC</td>\n",
       "      <td>6</td>\n",
       "      <td>2.0</td>\n",
       "      <td>1.0</td>\n",
       "      <td>311000.0</td>\n",
       "      <td>7</td>\n",
       "    </tr>\n",
       "    <tr>\n",
       "      <th>3</th>\n",
       "      <td>NO</td>\n",
       "      <td>NO</td>\n",
       "      <td>NO</td>\n",
       "      <td>AVERAGE</td>\n",
       "      <td>Average</td>\n",
       "      <td>9 Better</td>\n",
       "      <td>Gas</td>\n",
       "      <td>PUBLIC</td>\n",
       "      <td>3</td>\n",
       "      <td>3.0</td>\n",
       "      <td>2.0</td>\n",
       "      <td>775000.0</td>\n",
       "      <td>9</td>\n",
       "    </tr>\n",
       "    <tr>\n",
       "      <th>4</th>\n",
       "      <td>NO</td>\n",
       "      <td>NO</td>\n",
       "      <td>YES</td>\n",
       "      <td>NONE</td>\n",
       "      <td>Average</td>\n",
       "      <td>7 Average</td>\n",
       "      <td>Electricity</td>\n",
       "      <td>PUBLIC</td>\n",
       "      <td>2</td>\n",
       "      <td>2.0</td>\n",
       "      <td>2.0</td>\n",
       "      <td>592500.0</td>\n",
       "      <td>7</td>\n",
       "    </tr>\n",
       "    <tr>\n",
       "      <th>...</th>\n",
       "      <td>...</td>\n",
       "      <td>...</td>\n",
       "      <td>...</td>\n",
       "      <td>...</td>\n",
       "      <td>...</td>\n",
       "      <td>...</td>\n",
       "      <td>...</td>\n",
       "      <td>...</td>\n",
       "      <td>...</td>\n",
       "      <td>...</td>\n",
       "      <td>...</td>\n",
       "      <td>...</td>\n",
       "      <td>...</td>\n",
       "    </tr>\n",
       "    <tr>\n",
       "      <th>30150</th>\n",
       "      <td>NO</td>\n",
       "      <td>NO</td>\n",
       "      <td>NO</td>\n",
       "      <td>NONE</td>\n",
       "      <td>Good</td>\n",
       "      <td>8 Good</td>\n",
       "      <td>Oil</td>\n",
       "      <td>PUBLIC</td>\n",
       "      <td>5</td>\n",
       "      <td>2.0</td>\n",
       "      <td>1.5</td>\n",
       "      <td>1555000.0</td>\n",
       "      <td>8</td>\n",
       "    </tr>\n",
       "    <tr>\n",
       "      <th>30151</th>\n",
       "      <td>NO</td>\n",
       "      <td>NO</td>\n",
       "      <td>NO</td>\n",
       "      <td>FAIR</td>\n",
       "      <td>Average</td>\n",
       "      <td>7 Average</td>\n",
       "      <td>Gas</td>\n",
       "      <td>PUBLIC</td>\n",
       "      <td>3</td>\n",
       "      <td>2.0</td>\n",
       "      <td>2.0</td>\n",
       "      <td>1313000.0</td>\n",
       "      <td>7</td>\n",
       "    </tr>\n",
       "    <tr>\n",
       "      <th>30152</th>\n",
       "      <td>NO</td>\n",
       "      <td>NO</td>\n",
       "      <td>YES</td>\n",
       "      <td>NONE</td>\n",
       "      <td>Average</td>\n",
       "      <td>7 Average</td>\n",
       "      <td>Gas</td>\n",
       "      <td>PUBLIC</td>\n",
       "      <td>3</td>\n",
       "      <td>2.0</td>\n",
       "      <td>1.0</td>\n",
       "      <td>800000.0</td>\n",
       "      <td>7</td>\n",
       "    </tr>\n",
       "    <tr>\n",
       "      <th>30153</th>\n",
       "      <td>NO</td>\n",
       "      <td>NO</td>\n",
       "      <td>NO</td>\n",
       "      <td>NONE</td>\n",
       "      <td>Average</td>\n",
       "      <td>8 Good</td>\n",
       "      <td>Gas</td>\n",
       "      <td>PUBLIC</td>\n",
       "      <td>3</td>\n",
       "      <td>2.5</td>\n",
       "      <td>2.0</td>\n",
       "      <td>775000.0</td>\n",
       "      <td>8</td>\n",
       "    </tr>\n",
       "    <tr>\n",
       "      <th>30154</th>\n",
       "      <td>NO</td>\n",
       "      <td>NO</td>\n",
       "      <td>NO</td>\n",
       "      <td>NONE</td>\n",
       "      <td>Average</td>\n",
       "      <td>7 Average</td>\n",
       "      <td>Oil</td>\n",
       "      <td>PUBLIC</td>\n",
       "      <td>3</td>\n",
       "      <td>1.5</td>\n",
       "      <td>1.0</td>\n",
       "      <td>500000.0</td>\n",
       "      <td>7</td>\n",
       "    </tr>\n",
       "  </tbody>\n",
       "</table>\n",
       "<p>30111 rows × 13 columns</p>\n",
       "</div>"
      ],
      "text/plain": [
       "      waterfront greenbelt nuisance     view condition      grade  \\\n",
       "0             NO        NO       NO     NONE      Good  7 Average   \n",
       "1             NO        NO      YES  AVERAGE   Average  7 Average   \n",
       "2             NO        NO       NO  AVERAGE   Average  7 Average   \n",
       "3             NO        NO       NO  AVERAGE   Average   9 Better   \n",
       "4             NO        NO      YES     NONE   Average  7 Average   \n",
       "...          ...       ...      ...      ...       ...        ...   \n",
       "30150         NO        NO       NO     NONE      Good     8 Good   \n",
       "30151         NO        NO       NO     FAIR   Average  7 Average   \n",
       "30152         NO        NO      YES     NONE   Average  7 Average   \n",
       "30153         NO        NO       NO     NONE   Average     8 Good   \n",
       "30154         NO        NO       NO     NONE   Average  7 Average   \n",
       "\n",
       "       heat_source sewer_system  bedrooms  bathrooms  floors      price rating  \n",
       "0              Gas       PUBLIC         4        1.0     1.0   675000.0      7  \n",
       "1              Oil       PUBLIC         5        2.5     1.0   920000.0      7  \n",
       "2              Gas       PUBLIC         6        2.0     1.0   311000.0      7  \n",
       "3              Gas       PUBLIC         3        3.0     2.0   775000.0      9  \n",
       "4      Electricity       PUBLIC         2        2.0     2.0   592500.0      7  \n",
       "...            ...          ...       ...        ...     ...        ...    ...  \n",
       "30150          Oil       PUBLIC         5        2.0     1.5  1555000.0      8  \n",
       "30151          Gas       PUBLIC         3        2.0     2.0  1313000.0      7  \n",
       "30152          Gas       PUBLIC         3        2.0     1.0   800000.0      7  \n",
       "30153          Gas       PUBLIC         3        2.5     2.0   775000.0      8  \n",
       "30154          Oil       PUBLIC         3        1.5     1.0   500000.0      7  \n",
       "\n",
       "[30111 rows x 13 columns]"
      ]
     },
     "execution_count": 16,
     "metadata": {},
     "output_type": "execute_result"
    }
   ],
   "source": [
    "# creating a new column with just the number from grade\n",
    "cat_data_edited['rating'] = cat_data_edited['grade'].str.split().apply(lambda x: x[0])\n",
    "cat_data_edited"
   ]
  },
  {
   "cell_type": "code",
   "execution_count": 17,
   "metadata": {},
   "outputs": [
    {
     "name": "stdout",
     "output_type": "stream",
     "text": [
      "<class 'pandas.core.frame.DataFrame'>\n",
      "Int64Index: 30111 entries, 0 to 30154\n",
      "Data columns (total 13 columns):\n",
      " #   Column        Non-Null Count  Dtype  \n",
      "---  ------        --------------  -----  \n",
      " 0   waterfront    30111 non-null  object \n",
      " 1   greenbelt     30111 non-null  object \n",
      " 2   nuisance      30111 non-null  object \n",
      " 3   view          30111 non-null  object \n",
      " 4   condition     30111 non-null  object \n",
      " 5   grade         30111 non-null  object \n",
      " 6   heat_source   30111 non-null  object \n",
      " 7   sewer_system  30111 non-null  object \n",
      " 8   bedrooms      30111 non-null  int64  \n",
      " 9   bathrooms     30111 non-null  float64\n",
      " 10  floors        30111 non-null  float64\n",
      " 11  price         30111 non-null  float64\n",
      " 12  rating        30111 non-null  object \n",
      "dtypes: float64(3), int64(1), object(9)\n",
      "memory usage: 3.2+ MB\n"
     ]
    }
   ],
   "source": [
    "# checking dtype of new column, 'rating'\n",
    "cat_data_edited.info()"
   ]
  },
  {
   "cell_type": "markdown",
   "metadata": {},
   "source": [
    "Let's convert rating from an object dtype to an integer so its relationship with price can be graphed."
   ]
  },
  {
   "cell_type": "code",
   "execution_count": 18,
   "metadata": {},
   "outputs": [
    {
     "name": "stderr",
     "output_type": "stream",
     "text": [
      "<ipython-input-18-aef727951dc1>:2: SettingWithCopyWarning: \n",
      "A value is trying to be set on a copy of a slice from a DataFrame.\n",
      "Try using .loc[row_indexer,col_indexer] = value instead\n",
      "\n",
      "See the caveats in the documentation: https://pandas.pydata.org/pandas-docs/stable/user_guide/indexing.html#returning-a-view-versus-a-copy\n",
      "  cat_data_edited['rating'] = cat_data_edited['rating'].astype('int64')\n"
     ]
    }
   ],
   "source": [
    "# convert rating to int dtype\n",
    "cat_data_edited['rating'] = cat_data_edited['rating'].astype('int64')"
   ]
  },
  {
   "cell_type": "code",
   "execution_count": 19,
   "metadata": {},
   "outputs": [
    {
     "name": "stdout",
     "output_type": "stream",
     "text": [
      "<class 'pandas.core.frame.DataFrame'>\n",
      "Int64Index: 30111 entries, 0 to 30154\n",
      "Data columns (total 13 columns):\n",
      " #   Column        Non-Null Count  Dtype  \n",
      "---  ------        --------------  -----  \n",
      " 0   waterfront    30111 non-null  object \n",
      " 1   greenbelt     30111 non-null  object \n",
      " 2   nuisance      30111 non-null  object \n",
      " 3   view          30111 non-null  object \n",
      " 4   condition     30111 non-null  object \n",
      " 5   grade         30111 non-null  object \n",
      " 6   heat_source   30111 non-null  object \n",
      " 7   sewer_system  30111 non-null  object \n",
      " 8   bedrooms      30111 non-null  int64  \n",
      " 9   bathrooms     30111 non-null  float64\n",
      " 10  floors        30111 non-null  float64\n",
      " 11  price         30111 non-null  float64\n",
      " 12  rating        30111 non-null  int64  \n",
      "dtypes: float64(3), int64(2), object(8)\n",
      "memory usage: 3.2+ MB\n"
     ]
    }
   ],
   "source": [
    "# checking if dtype of rating was converted successfully\n",
    "cat_data_edited.info()"
   ]
  },
  {
   "cell_type": "markdown",
   "metadata": {},
   "source": [
    "Now that <b>rating</b> is of int dtype, let's create a scatterplot to visualize its relationship with <b>price</b>. "
   ]
  },
  {
   "cell_type": "code",
   "execution_count": 20,
   "metadata": {},
   "outputs": [
    {
     "data": {
      "image/png": "[encoded data removed]",
      "text/plain": [
       "<Figure size 1080x576 with 1 Axes>"
      ]
     },
     "metadata": {
      "needs_background": "light"
     },
     "output_type": "display_data"
    }
   ],
   "source": [
    "# creating scatterplot to visualize relationship between rating and price\n",
    "fig, ax = plt.subplots(figsize=(15,8))\n",
    "\n",
    "ax.scatter(cat_data_edited['rating'], cat_data_edited['price'], alpha=0.3, color=\"green\")\n",
    "ax.set_title(\"Rating vs. Price\")\n",
    "ax.set_xlabel(\"Rating\")\n",
    "ax.set_ylabel(\"Price in Ten Millions ($)\");"
   ]
  },
  {
   "cell_type": "code",
   "execution_count": 21,
   "metadata": {},
   "outputs": [
    {
     "data": {
      "text/plain": [
       "bedrooms     0.288954\n",
       "bathrooms    0.480337\n",
       "floors       0.180589\n",
       "price        1.000000\n",
       "rating       0.566534\n",
       "Name: price, dtype: float64"
      ]
     },
     "execution_count": 21,
     "metadata": {},
     "output_type": "execute_result"
    }
   ],
   "source": [
    "# checking correlation between rating and price\n",
    "cat_data_edited.corr()['price']"
   ]
  },
  {
   "cell_type": "markdown",
   "metadata": {},
   "source": [
    "Using <b>.corr()</b>, we see that the correlation coefficient between <b>rating</b> and <b>price</b> is about 0.57. Let's create a linear regression model with <b>rating</b> as the only independent variable."
   ]
  },
  {
   "cell_type": "code",
   "execution_count": 22,
   "metadata": {},
   "outputs": [
    {
     "name": "stdout",
     "output_type": "stream",
     "text": [
      "                            OLS Regression Results                            \n",
      "==============================================================================\n",
      "Dep. Variable:                  price   R-squared:                       0.321\n",
      "Model:                            OLS   Adj. R-squared:                  0.321\n",
      "Method:                 Least Squares   F-statistic:                 1.423e+04\n",
      "Date:                Mon, 29 May 2023   Prob (F-statistic):               0.00\n",
      "Time:                        22:55:10   Log-Likelihood:            -4.4961e+05\n",
      "No. Observations:               30111   AIC:                         8.992e+05\n",
      "Df Residuals:                   30109   BIC:                         8.992e+05\n",
      "Df Model:                           1                                         \n",
      "Covariance Type:            nonrobust                                         \n",
      "==============================================================================\n",
      "                 coef    std err          t      P>|t|      [0.025      0.975]\n",
      "------------------------------------------------------------------------------\n",
      "const      -2.288e+06   2.88e+04    -79.463      0.000   -2.34e+06   -2.23e+06\n",
      "rating      4.438e+05   3719.830    119.296      0.000    4.36e+05    4.51e+05\n",
      "==============================================================================\n",
      "Omnibus:                    42122.893   Durbin-Watson:                   1.881\n",
      "Prob(Omnibus):                  0.000   Jarque-Bera (JB):         33151536.031\n",
      "Skew:                           7.836   Prob(JB):                         0.00\n",
      "Kurtosis:                     164.796   Cond. No.                         53.2\n",
      "==============================================================================\n",
      "\n",
      "Notes:\n",
      "[1] Standard Errors assume that the covariance matrix of the errors is correctly specified.\n"
     ]
    }
   ],
   "source": [
    "y = cat_data_edited[\"price\"]\n",
    "X_rating = cat_data_edited[[\"rating\"]]\n",
    "\n",
    "rating_model = sm.OLS(y, sm.add_constant(X_rating))\n",
    "rating_results = rating_model.fit()\n",
    "\n",
    "print(rating_results.summary())"
   ]
  },
  {
   "cell_type": "markdown",
   "metadata": {},
   "source": [
    "The linear regression model with <b>rating</b> as the only independent variable is significant, with an F-statistic p-value of 0. Both the constant and the rating coefficient are significant and have a t-test p-value of 0. The coefficient for rating indicates that with one unit increase in rating, about a $440,000 increase in price is expected. The model is weak, having an R-squared value of about 0.32. This model is actually worse at predicting the variance in price than the baseline model created earlier because it only accounts for about <b>32% of the variation</b>, whereas the baseline detected about <b>37% of the variation</b> in price."
   ]
  },
  {
   "cell_type": "markdown",
   "metadata": {},
   "source": [
    "Let's take a look at some of the other categorical variables to see what could be useful."
   ]
  },
  {
   "cell_type": "code",
   "execution_count": 23,
   "metadata": {},
   "outputs": [
    {
     "data": {
      "text/plain": [
       "NO     29600\n",
       "YES      511\n",
       "Name: waterfront, dtype: int64"
      ]
     },
     "execution_count": 23,
     "metadata": {},
     "output_type": "execute_result"
    }
   ],
   "source": [
    "cat_data_edited['waterfront'].value_counts()"
   ]
  },
  {
   "cell_type": "code",
   "execution_count": 24,
   "metadata": {},
   "outputs": [
    {
     "data": {
      "text/plain": [
       "NO     29339\n",
       "YES      772\n",
       "Name: greenbelt, dtype: int64"
      ]
     },
     "execution_count": 24,
     "metadata": {},
     "output_type": "execute_result"
    }
   ],
   "source": [
    "cat_data_edited['greenbelt'].value_counts()"
   ]
  },
  {
   "cell_type": "code",
   "execution_count": 25,
   "metadata": {},
   "outputs": [
    {
     "data": {
      "text/plain": [
       "NO     24862\n",
       "YES     5249\n",
       "Name: nuisance, dtype: int64"
      ]
     },
     "execution_count": 25,
     "metadata": {},
     "output_type": "execute_result"
    }
   ],
   "source": [
    "cat_data_edited['nuisance'].value_counts()"
   ]
  },
  {
   "cell_type": "code",
   "execution_count": 26,
   "metadata": {},
   "outputs": [
    {
     "data": {
      "text/plain": [
       "NONE         26555\n",
       "AVERAGE       1910\n",
       "GOOD           877\n",
       "EXCELLENT      549\n",
       "FAIR           220\n",
       "Name: view, dtype: int64"
      ]
     },
     "execution_count": 26,
     "metadata": {},
     "output_type": "execute_result"
    }
   ],
   "source": [
    "cat_data_edited['view'].value_counts()"
   ]
  },
  {
   "cell_type": "code",
   "execution_count": 27,
   "metadata": {},
   "outputs": [
    {
     "data": {
      "text/plain": [
       "Average      18515\n",
       "Good          8052\n",
       "Very Good     3258\n",
       "Fair           225\n",
       "Poor            61\n",
       "Name: condition, dtype: int64"
      ]
     },
     "execution_count": 27,
     "metadata": {},
     "output_type": "execute_result"
    }
   ],
   "source": [
    "cat_data_edited['condition'].value_counts()"
   ]
  },
  {
   "cell_type": "code",
   "execution_count": 28,
   "metadata": {},
   "outputs": [
    {
     "data": {
      "text/plain": [
       "Gas                  20576\n",
       "Electricity           6460\n",
       "Oil                   2899\n",
       "Gas/Solar               93\n",
       "Electricity/Solar       59\n",
       "Other                   20\n",
       "Oil/Solar                4\n",
       "Name: heat_source, dtype: int64"
      ]
     },
     "execution_count": 28,
     "metadata": {},
     "output_type": "execute_result"
    }
   ],
   "source": [
    "cat_data_edited['heat_source'].value_counts()"
   ]
  },
  {
   "cell_type": "code",
   "execution_count": 29,
   "metadata": {},
   "outputs": [
    {
     "data": {
      "text/plain": [
       "PUBLIC                25767\n",
       "PRIVATE                4336\n",
       "PRIVATE RESTRICTED        5\n",
       "PUBLIC RESTRICTED         3\n",
       "Name: sewer_system, dtype: int64"
      ]
     },
     "execution_count": 29,
     "metadata": {},
     "output_type": "execute_result"
    }
   ],
   "source": [
    "cat_data_edited['sewer_system'].value_counts()"
   ]
  },
  {
   "cell_type": "code",
   "execution_count": 30,
   "metadata": {},
   "outputs": [
    {
     "data": {
      "text/plain": [
       "3     12746\n",
       "4      9591\n",
       "2      3925\n",
       "5      2794\n",
       "6       498\n",
       "1       381\n",
       "7        80\n",
       "0        39\n",
       "8        38\n",
       "9        14\n",
       "10        3\n",
       "13        1\n",
       "11        1\n",
       "Name: bedrooms, dtype: int64"
      ]
     },
     "execution_count": 30,
     "metadata": {},
     "output_type": "execute_result"
    }
   ],
   "source": [
    "cat_data_edited['bedrooms'].value_counts()"
   ]
  },
  {
   "cell_type": "code",
   "execution_count": 31,
   "metadata": {},
   "outputs": [
    {
     "data": {
      "text/plain": [
       "2.5     8471\n",
       "2.0     7343\n",
       "1.0     4556\n",
       "3.0     4116\n",
       "3.5     2264\n",
       "1.5     1807\n",
       "4.0      645\n",
       "4.5      531\n",
       "5.0      145\n",
       "5.5      102\n",
       "6.0       45\n",
       "0.0       25\n",
       "6.5       25\n",
       "7.5       12\n",
       "7.0       12\n",
       "0.5        5\n",
       "9.5        2\n",
       "8.0        2\n",
       "8.5        1\n",
       "10.0       1\n",
       "10.5       1\n",
       "Name: bathrooms, dtype: int64"
      ]
     },
     "execution_count": 31,
     "metadata": {},
     "output_type": "execute_result"
    }
   ],
   "source": [
    "cat_data_edited['bathrooms'].value_counts()"
   ]
  },
  {
   "cell_type": "code",
   "execution_count": 32,
   "metadata": {},
   "outputs": [
    {
     "data": {
      "text/plain": [
       "1.0    13943\n",
       "2.0    12246\n",
       "1.5     2434\n",
       "3.0     1221\n",
       "2.5      222\n",
       "4.0       30\n",
       "3.5       15\n",
       "Name: floors, dtype: int64"
      ]
     },
     "execution_count": 32,
     "metadata": {},
     "output_type": "execute_result"
    }
   ],
   "source": [
    "cat_data_edited['floors'].value_counts()"
   ]
  },
  {
   "cell_type": "markdown",
   "metadata": {},
   "source": [
    "Looking at the <b>.value_counts()</b> for the other categorical variables, it appears that <b>waterfront</b>, <b>greenbelt</b>, and <b>nuisance</b> are binary, having two categories ('NO' and 'YES'). Meanwhile, <b>view</b> and <b>condition</b> have five categories. For <b>heat_source</b> and <b>sewer_system</b>, the categories have a lot of overlap (i.e. electricity/solar, private/restricted). The number of <b>bedrooms</b> range from 0-13, the number of <b>bathrooms</b> range from 1.0-10.5, and the number of <b>floors</b> range from 1.0-4.0. I will drop the <b>heat_source</b> and <b>sewer_system</b> columns from the dataframe since their categories are not clearly defined. "
   ]
  },
  {
   "cell_type": "code",
   "execution_count": 33,
   "metadata": {},
   "outputs": [
    {
     "data": {
      "text/html": [
       "<div>\n",
       "<style scoped>\n",
       "    .dataframe tbody tr th:only-of-type {\n",
       "        vertical-align: middle;\n",
       "    }\n",
       "\n",
       "    .dataframe tbody tr th {\n",
       "        vertical-align: top;\n",
       "    }\n",
       "\n",
       "    .dataframe thead th {\n",
       "        text-align: right;\n",
       "    }\n",
       "</style>\n",
       "<table border=\"1\" class=\"dataframe\">\n",
       "  <thead>\n",
       "    <tr style=\"text-align: right;\">\n",
       "      <th></th>\n",
       "      <th>waterfront</th>\n",
       "      <th>greenbelt</th>\n",
       "      <th>nuisance</th>\n",
       "      <th>view</th>\n",
       "      <th>condition</th>\n",
       "      <th>grade</th>\n",
       "      <th>bedrooms</th>\n",
       "      <th>bathrooms</th>\n",
       "      <th>floors</th>\n",
       "      <th>price</th>\n",
       "      <th>rating</th>\n",
       "    </tr>\n",
       "  </thead>\n",
       "  <tbody>\n",
       "    <tr>\n",
       "      <th>0</th>\n",
       "      <td>NO</td>\n",
       "      <td>NO</td>\n",
       "      <td>NO</td>\n",
       "      <td>NONE</td>\n",
       "      <td>Good</td>\n",
       "      <td>7 Average</td>\n",
       "      <td>4</td>\n",
       "      <td>1.0</td>\n",
       "      <td>1.0</td>\n",
       "      <td>675000.0</td>\n",
       "      <td>7</td>\n",
       "    </tr>\n",
       "    <tr>\n",
       "      <th>1</th>\n",
       "      <td>NO</td>\n",
       "      <td>NO</td>\n",
       "      <td>YES</td>\n",
       "      <td>AVERAGE</td>\n",
       "      <td>Average</td>\n",
       "      <td>7 Average</td>\n",
       "      <td>5</td>\n",
       "      <td>2.5</td>\n",
       "      <td>1.0</td>\n",
       "      <td>920000.0</td>\n",
       "      <td>7</td>\n",
       "    </tr>\n",
       "    <tr>\n",
       "      <th>2</th>\n",
       "      <td>NO</td>\n",
       "      <td>NO</td>\n",
       "      <td>NO</td>\n",
       "      <td>AVERAGE</td>\n",
       "      <td>Average</td>\n",
       "      <td>7 Average</td>\n",
       "      <td>6</td>\n",
       "      <td>2.0</td>\n",
       "      <td>1.0</td>\n",
       "      <td>311000.0</td>\n",
       "      <td>7</td>\n",
       "    </tr>\n",
       "    <tr>\n",
       "      <th>3</th>\n",
       "      <td>NO</td>\n",
       "      <td>NO</td>\n",
       "      <td>NO</td>\n",
       "      <td>AVERAGE</td>\n",
       "      <td>Average</td>\n",
       "      <td>9 Better</td>\n",
       "      <td>3</td>\n",
       "      <td>3.0</td>\n",
       "      <td>2.0</td>\n",
       "      <td>775000.0</td>\n",
       "      <td>9</td>\n",
       "    </tr>\n",
       "    <tr>\n",
       "      <th>4</th>\n",
       "      <td>NO</td>\n",
       "      <td>NO</td>\n",
       "      <td>YES</td>\n",
       "      <td>NONE</td>\n",
       "      <td>Average</td>\n",
       "      <td>7 Average</td>\n",
       "      <td>2</td>\n",
       "      <td>2.0</td>\n",
       "      <td>2.0</td>\n",
       "      <td>592500.0</td>\n",
       "      <td>7</td>\n",
       "    </tr>\n",
       "    <tr>\n",
       "      <th>...</th>\n",
       "      <td>...</td>\n",
       "      <td>...</td>\n",
       "      <td>...</td>\n",
       "      <td>...</td>\n",
       "      <td>...</td>\n",
       "      <td>...</td>\n",
       "      <td>...</td>\n",
       "      <td>...</td>\n",
       "      <td>...</td>\n",
       "      <td>...</td>\n",
       "      <td>...</td>\n",
       "    </tr>\n",
       "    <tr>\n",
       "      <th>30150</th>\n",
       "      <td>NO</td>\n",
       "      <td>NO</td>\n",
       "      <td>NO</td>\n",
       "      <td>NONE</td>\n",
       "      <td>Good</td>\n",
       "      <td>8 Good</td>\n",
       "      <td>5</td>\n",
       "      <td>2.0</td>\n",
       "      <td>1.5</td>\n",
       "      <td>1555000.0</td>\n",
       "      <td>8</td>\n",
       "    </tr>\n",
       "    <tr>\n",
       "      <th>30151</th>\n",
       "      <td>NO</td>\n",
       "      <td>NO</td>\n",
       "      <td>NO</td>\n",
       "      <td>FAIR</td>\n",
       "      <td>Average</td>\n",
       "      <td>7 Average</td>\n",
       "      <td>3</td>\n",
       "      <td>2.0</td>\n",
       "      <td>2.0</td>\n",
       "      <td>1313000.0</td>\n",
       "      <td>7</td>\n",
       "    </tr>\n",
       "    <tr>\n",
       "      <th>30152</th>\n",
       "      <td>NO</td>\n",
       "      <td>NO</td>\n",
       "      <td>YES</td>\n",
       "      <td>NONE</td>\n",
       "      <td>Average</td>\n",
       "      <td>7 Average</td>\n",
       "      <td>3</td>\n",
       "      <td>2.0</td>\n",
       "      <td>1.0</td>\n",
       "      <td>800000.0</td>\n",
       "      <td>7</td>\n",
       "    </tr>\n",
       "    <tr>\n",
       "      <th>30153</th>\n",
       "      <td>NO</td>\n",
       "      <td>NO</td>\n",
       "      <td>NO</td>\n",
       "      <td>NONE</td>\n",
       "      <td>Average</td>\n",
       "      <td>8 Good</td>\n",
       "      <td>3</td>\n",
       "      <td>2.5</td>\n",
       "      <td>2.0</td>\n",
       "      <td>775000.0</td>\n",
       "      <td>8</td>\n",
       "    </tr>\n",
       "    <tr>\n",
       "      <th>30154</th>\n",
       "      <td>NO</td>\n",
       "      <td>NO</td>\n",
       "      <td>NO</td>\n",
       "      <td>NONE</td>\n",
       "      <td>Average</td>\n",
       "      <td>7 Average</td>\n",
       "      <td>3</td>\n",
       "      <td>1.5</td>\n",
       "      <td>1.0</td>\n",
       "      <td>500000.0</td>\n",
       "      <td>7</td>\n",
       "    </tr>\n",
       "  </tbody>\n",
       "</table>\n",
       "<p>30111 rows × 11 columns</p>\n",
       "</div>"
      ],
      "text/plain": [
       "      waterfront greenbelt nuisance     view condition      grade  bedrooms  \\\n",
       "0             NO        NO       NO     NONE      Good  7 Average         4   \n",
       "1             NO        NO      YES  AVERAGE   Average  7 Average         5   \n",
       "2             NO        NO       NO  AVERAGE   Average  7 Average         6   \n",
       "3             NO        NO       NO  AVERAGE   Average   9 Better         3   \n",
       "4             NO        NO      YES     NONE   Average  7 Average         2   \n",
       "...          ...       ...      ...      ...       ...        ...       ...   \n",
       "30150         NO        NO       NO     NONE      Good     8 Good         5   \n",
       "30151         NO        NO       NO     FAIR   Average  7 Average         3   \n",
       "30152         NO        NO      YES     NONE   Average  7 Average         3   \n",
       "30153         NO        NO       NO     NONE   Average     8 Good         3   \n",
       "30154         NO        NO       NO     NONE   Average  7 Average         3   \n",
       "\n",
       "       bathrooms  floors      price  rating  \n",
       "0            1.0     1.0   675000.0       7  \n",
       "1            2.5     1.0   920000.0       7  \n",
       "2            2.0     1.0   311000.0       7  \n",
       "3            3.0     2.0   775000.0       9  \n",
       "4            2.0     2.0   592500.0       7  \n",
       "...          ...     ...        ...     ...  \n",
       "30150        2.0     1.5  1555000.0       8  \n",
       "30151        2.0     2.0  1313000.0       7  \n",
       "30152        2.0     1.0   800000.0       7  \n",
       "30153        2.5     2.0   775000.0       8  \n",
       "30154        1.5     1.0   500000.0       7  \n",
       "\n",
       "[30111 rows x 11 columns]"
      ]
     },
     "execution_count": 33,
     "metadata": {},
     "output_type": "execute_result"
    }
   ],
   "source": [
    "# dropping heat_source and sewer_system\n",
    "cat_data_edited = cat_data_edited.drop('heat_source', axis=1)\n",
    "cat_data_edited = cat_data_edited.drop('sewer_system', axis=1)\n",
    "cat_data_edited"
   ]
  },
  {
   "cell_type": "markdown",
   "metadata": {},
   "source": [
    "For the remaining columns, let's create some bar graphs to visualize average price in relation to each variable. I will also employ the <b>.grouby()</b> method to see the mean differences of each category."
   ]
  },
  {
   "cell_type": "code",
   "execution_count": 34,
   "metadata": {},
   "outputs": [
    {
     "data": {
      "image/png": "[encoded data removed]",
      "text/plain": [
       "<Figure size 864x360 with 1 Axes>"
      ]
     },
     "metadata": {
      "needs_background": "light"
     },
     "output_type": "display_data"
    }
   ],
   "source": [
    "# waterfront vs price\n",
    "fig, ax = plt.subplots(figsize=(12,5))\n",
    "cat_data_edited.groupby(\"waterfront\").mean().plot.bar(y=\"price\", ax=ax);"
   ]
  },
  {
   "cell_type": "code",
   "execution_count": 35,
   "metadata": {},
   "outputs": [
    {
     "data": {
      "image/png": "[encoded data removed]",
      "text/plain": [
       "<Figure size 864x360 with 1 Axes>"
      ]
     },
     "metadata": {
      "needs_background": "light"
     },
     "output_type": "display_data"
    }
   ],
   "source": [
    "# greenbelt vs price\n",
    "fig, ax = plt.subplots(figsize=(12,5))\n",
    "cat_data_edited.groupby(\"greenbelt\").mean().plot.bar(y=\"price\", ax=ax);"
   ]
  },
  {
   "cell_type": "code",
   "execution_count": 36,
   "metadata": {},
   "outputs": [
    {
     "data": {
      "image/png": "[encoded data removed]",
      "text/plain": [
       "<Figure size 864x360 with 1 Axes>"
      ]
     },
     "metadata": {
      "needs_background": "light"
     },
     "output_type": "display_data"
    }
   ],
   "source": [
    "# nuisance vs price\n",
    "fig, ax = plt.subplots(figsize=(12,5))\n",
    "cat_data_edited.groupby(\"nuisance\").mean().plot.bar(y=\"price\", ax=ax);"
   ]
  },
  {
   "cell_type": "code",
   "execution_count": 37,
   "metadata": {},
   "outputs": [
    {
     "data": {
      "image/png": "[encoded data removed]",
      "text/plain": [
       "<Figure size 864x360 with 1 Axes>"
      ]
     },
     "metadata": {
      "needs_background": "light"
     },
     "output_type": "display_data"
    }
   ],
   "source": [
    "# view vs price\n",
    "fig, ax = plt.subplots(figsize=(12,5))\n",
    "cat_data_edited.groupby(\"view\").mean().plot.bar(y=\"price\", ax=ax);"
   ]
  },
  {
   "cell_type": "code",
   "execution_count": 38,
   "metadata": {},
   "outputs": [
    {
     "data": {
      "image/png": "[encoded data removed]",
      "text/plain": [
       "<Figure size 864x360 with 1 Axes>"
      ]
     },
     "metadata": {
      "needs_background": "light"
     },
     "output_type": "display_data"
    }
   ],
   "source": [
    "# condition vs price\n",
    "fig, ax = plt.subplots(figsize=(12,5))\n",
    "cat_data_edited.groupby(\"condition\").mean().plot.bar(y=\"price\", ax=ax);"
   ]
  },
  {
   "cell_type": "code",
   "execution_count": 39,
   "metadata": {},
   "outputs": [
    {
     "data": {
      "image/png": "[encoded data removed]",
      "text/plain": [
       "<Figure size 864x360 with 1 Axes>"
      ]
     },
     "metadata": {
      "needs_background": "light"
     },
     "output_type": "display_data"
    }
   ],
   "source": [
    "# bedrooms vs price\n",
    "fig, ax = plt.subplots(figsize=(12,5))\n",
    "cat_data_edited.groupby(\"bedrooms\").mean().plot.bar(y=\"price\", ax=ax);"
   ]
  },
  {
   "cell_type": "code",
   "execution_count": 40,
   "metadata": {},
   "outputs": [
    {
     "data": {
      "image/png": "[encoded data removed]",
      "text/plain": [
       "<Figure size 864x360 with 1 Axes>"
      ]
     },
     "metadata": {
      "needs_background": "light"
     },
     "output_type": "display_data"
    }
   ],
   "source": [
    "# bathrooms vs price\n",
    "fig, ax = plt.subplots(figsize=(12,5))\n",
    "cat_data_edited.groupby(\"bathrooms\").mean().plot.bar(y=\"price\", ax=ax);"
   ]
  },
  {
   "cell_type": "code",
   "execution_count": 41,
   "metadata": {},
   "outputs": [
    {
     "data": {
      "image/png": "[encoded data removed]",
      "text/plain": [
       "<Figure size 864x360 with 1 Axes>"
      ]
     },
     "metadata": {
      "needs_background": "light"
     },
     "output_type": "display_data"
    }
   ],
   "source": [
    "# floors vs price\n",
    "fig, ax = plt.subplots(figsize=(12,5))\n",
    "cat_data_edited.groupby(\"floors\").mean().plot.bar(y=\"price\", ax=ax);"
   ]
  },
  {
   "cell_type": "markdown",
   "metadata": {},
   "source": [
    "Looking at the three binary variables (<b>waterfront</b>, <b>greenbelt</b>, and <b>nuisance</b>), it appears that having a waterfront versus not having one makes a difference in mean price, having a greenbelt versus not having one makes a slight difference in mean price, and nuisance does not make much of a difference in mean price. Specifically, the presence of a waterfront and greenbelt generally increases the price of a home, simply based on the bar graph visualizations of the raw data. \n",
    "\n",
    "For <b>view</b>, houses rated 'excellent' had a higher mean price than those rated 'none'. For <b>condition</b>, houses with 'average', 'very good', and 'good' ratings had a greater mean price than those rated 'poor', with 'average' having the highest mean price overall, which was surprising. \n",
    "\n",
    "For the <b>bedrooms</b> bar graph, we see a relatively normal distribution; however, there is an outlier of 13 bedrooms that has a really high mean price. The <b>bathrooms</b> bar graph shows a negative skew, while the bar graph for <b>floors</b> is normal.\n",
    "\n",
    "Let's create a linear regression model incorporating these categorical variables plus rating. However, before the model can be made, the strings in the <b>waterfront</b>, <b>greenbelt</b>, <b>nuisance</b>, <b>view</b>, and <b>condition</b> columns need to be converted into stand-in integers. "
   ]
  },
  {
   "cell_type": "code",
   "execution_count": 42,
   "metadata": {},
   "outputs": [],
   "source": [
    "# Adapted from Morgan Jones' code \n",
    "# https://github.com/mojo-flat/Linear-Regression-GP-2/blob/main/lin_reg_gp_2_solution.ipynb\n",
    "\n",
    "from sklearn.preprocessing import LabelEncoder\n",
    "\n",
    "# instantiate a label encoder\n",
    "le = LabelEncoder()\n",
    "\n",
    "# fit the label encoder to the waterfront variable, while dropping any duplicates\n",
    "le.fit(cat_data_edited['waterfront'].drop_duplicates()) \n",
    "# create new waterfront variable with label encoded values\n",
    "cat_data_edited['waterfront'] = le.transform(cat_data_edited['waterfront'])\n",
    "\n",
    "# fit the label encoder to the greenbelt variable, while dropping any duplicates\n",
    "le.fit(cat_data_edited['greenbelt'].drop_duplicates()) \n",
    "# create new greenbelt variable with label encoded values\n",
    "cat_data_edited['greenbelt'] = le.transform(cat_data_edited['greenbelt'])\n",
    "\n",
    "# fit the label encoder to the nuisance variable, while dropping any duplicates\n",
    "le.fit(cat_data_edited['nuisance'].drop_duplicates()) \n",
    "# create new view variable with label encoded values\n",
    "cat_data_edited['nuisance'] = le.transform(cat_data_edited['nuisance'])\n",
    "\n",
    "# fit the label encoder to the view variable, while dropping any duplicates\n",
    "le.fit(cat_data_edited['view'].drop_duplicates()) \n",
    "# create new view variable with label encoded values\n",
    "cat_data_edited['view'] = le.transform(cat_data_edited['view'])\n",
    "\n",
    "# fit the label encoder to the condition variable, while dropping any duplicates\n",
    "le.fit(cat_data_edited['condition'].drop_duplicates()) \n",
    "# create new view variable with label encoded values\n",
    "cat_data_edited['condition'] = le.transform(cat_data_edited['condition'])"
   ]
  },
  {
   "cell_type": "markdown",
   "metadata": {},
   "source": [
    "We can see that the data in the waterfront, greenbelt, nuisance, view, and condition columns were successfully transformed. "
   ]
  },
  {
   "cell_type": "code",
   "execution_count": 43,
   "metadata": {},
   "outputs": [
    {
     "data": {
      "text/html": [
       "<div>\n",
       "<style scoped>\n",
       "    .dataframe tbody tr th:only-of-type {\n",
       "        vertical-align: middle;\n",
       "    }\n",
       "\n",
       "    .dataframe tbody tr th {\n",
       "        vertical-align: top;\n",
       "    }\n",
       "\n",
       "    .dataframe thead th {\n",
       "        text-align: right;\n",
       "    }\n",
       "</style>\n",
       "<table border=\"1\" class=\"dataframe\">\n",
       "  <thead>\n",
       "    <tr style=\"text-align: right;\">\n",
       "      <th></th>\n",
       "      <th>waterfront</th>\n",
       "      <th>greenbelt</th>\n",
       "      <th>nuisance</th>\n",
       "      <th>view</th>\n",
       "      <th>condition</th>\n",
       "      <th>grade</th>\n",
       "      <th>bedrooms</th>\n",
       "      <th>bathrooms</th>\n",
       "      <th>floors</th>\n",
       "      <th>price</th>\n",
       "      <th>rating</th>\n",
       "    </tr>\n",
       "  </thead>\n",
       "  <tbody>\n",
       "    <tr>\n",
       "      <th>0</th>\n",
       "      <td>0</td>\n",
       "      <td>0</td>\n",
       "      <td>0</td>\n",
       "      <td>4</td>\n",
       "      <td>2</td>\n",
       "      <td>7 Average</td>\n",
       "      <td>4</td>\n",
       "      <td>1.0</td>\n",
       "      <td>1.0</td>\n",
       "      <td>675000.0</td>\n",
       "      <td>7</td>\n",
       "    </tr>\n",
       "    <tr>\n",
       "      <th>1</th>\n",
       "      <td>0</td>\n",
       "      <td>0</td>\n",
       "      <td>1</td>\n",
       "      <td>0</td>\n",
       "      <td>0</td>\n",
       "      <td>7 Average</td>\n",
       "      <td>5</td>\n",
       "      <td>2.5</td>\n",
       "      <td>1.0</td>\n",
       "      <td>920000.0</td>\n",
       "      <td>7</td>\n",
       "    </tr>\n",
       "    <tr>\n",
       "      <th>2</th>\n",
       "      <td>0</td>\n",
       "      <td>0</td>\n",
       "      <td>0</td>\n",
       "      <td>0</td>\n",
       "      <td>0</td>\n",
       "      <td>7 Average</td>\n",
       "      <td>6</td>\n",
       "      <td>2.0</td>\n",
       "      <td>1.0</td>\n",
       "      <td>311000.0</td>\n",
       "      <td>7</td>\n",
       "    </tr>\n",
       "    <tr>\n",
       "      <th>3</th>\n",
       "      <td>0</td>\n",
       "      <td>0</td>\n",
       "      <td>0</td>\n",
       "      <td>0</td>\n",
       "      <td>0</td>\n",
       "      <td>9 Better</td>\n",
       "      <td>3</td>\n",
       "      <td>3.0</td>\n",
       "      <td>2.0</td>\n",
       "      <td>775000.0</td>\n",
       "      <td>9</td>\n",
       "    </tr>\n",
       "    <tr>\n",
       "      <th>4</th>\n",
       "      <td>0</td>\n",
       "      <td>0</td>\n",
       "      <td>1</td>\n",
       "      <td>4</td>\n",
       "      <td>0</td>\n",
       "      <td>7 Average</td>\n",
       "      <td>2</td>\n",
       "      <td>2.0</td>\n",
       "      <td>2.0</td>\n",
       "      <td>592500.0</td>\n",
       "      <td>7</td>\n",
       "    </tr>\n",
       "  </tbody>\n",
       "</table>\n",
       "</div>"
      ],
      "text/plain": [
       "   waterfront  greenbelt  nuisance  view  condition      grade  bedrooms  \\\n",
       "0           0          0         0     4          2  7 Average         4   \n",
       "1           0          0         1     0          0  7 Average         5   \n",
       "2           0          0         0     0          0  7 Average         6   \n",
       "3           0          0         0     0          0   9 Better         3   \n",
       "4           0          0         1     4          0  7 Average         2   \n",
       "\n",
       "   bathrooms  floors     price  rating  \n",
       "0        1.0     1.0  675000.0       7  \n",
       "1        2.5     1.0  920000.0       7  \n",
       "2        2.0     1.0  311000.0       7  \n",
       "3        3.0     2.0  775000.0       9  \n",
       "4        2.0     2.0  592500.0       7  "
      ]
     },
     "execution_count": 43,
     "metadata": {},
     "output_type": "execute_result"
    }
   ],
   "source": [
    "cat_data_edited.head()"
   ]
  },
  {
   "cell_type": "markdown",
   "metadata": {},
   "source": [
    "Now that everything has been converted to integer stand-ins, we can use the <b>pd.get_dummies</b> function to create dummy variables. To avoid the dummy variable trap (perfect multicolinearity), we will use <b>.drop()</b> and specify a reference column. Then, we can create our linear regression model."
   ]
  },
  {
   "cell_type": "code",
   "execution_count": 44,
   "metadata": {},
   "outputs": [
    {
     "name": "stdout",
     "output_type": "stream",
     "text": [
      "                            OLS Regression Results                            \n",
      "==============================================================================\n",
      "Dep. Variable:                  price   R-squared:                       0.476\n",
      "Model:                            OLS   Adj. R-squared:                  0.475\n",
      "Method:                 Least Squares   F-statistic:                     1436.\n",
      "Date:                Mon, 29 May 2023   Prob (F-statistic):               0.00\n",
      "Time:                        22:55:12   Log-Likelihood:            -4.4572e+05\n",
      "No. Observations:               30111   AIC:                         8.915e+05\n",
      "Df Residuals:                   30091   BIC:                         8.916e+05\n",
      "Df Model:                          19                                         \n",
      "Covariance Type:            nonrobust                                         \n",
      "==============================================================================\n",
      "                 coef    std err          t      P>|t|      [0.025      0.975]\n",
      "------------------------------------------------------------------------------\n",
      "const       6.221e+06   1.38e+05     45.138      0.000    5.95e+06    6.49e+06\n",
      "waterfront  1.075e+06   3.04e+04     35.348      0.000    1.02e+06    1.13e+06\n",
      "greenbelt   -2.12e+04   2.39e+04     -0.886      0.376   -6.81e+04    2.57e+04\n",
      "nuisance    8.688e+04   9918.652      8.759      0.000    6.74e+04    1.06e+05\n",
      "view       -5.995e+04   3765.408    -15.922      0.000   -6.73e+04   -5.26e+04\n",
      "condition   3.134e+04   2907.652     10.779      0.000    2.56e+04     3.7e+04\n",
      "bedrooms    4.051e+04   4828.739      8.389      0.000     3.1e+04       5e+04\n",
      "bathrooms   1.744e+05   6548.520     26.637      0.000    1.62e+05    1.87e+05\n",
      "floors     -8.618e+04   8083.370    -10.661      0.000   -1.02e+05   -7.03e+04\n",
      "rating_2   -5.718e+06   6.64e+05     -8.617      0.000   -7.02e+06   -4.42e+06\n",
      "rating_3   -5.969e+06   2.55e+05    -23.370      0.000   -6.47e+06   -5.47e+06\n",
      "rating_4   -5.795e+06   1.66e+05    -34.930      0.000   -6.12e+06   -5.47e+06\n",
      "rating_5   -5.709e+06   1.39e+05    -40.953      0.000   -5.98e+06   -5.44e+06\n",
      "rating_6   -5.678e+06   1.36e+05    -41.810      0.000   -5.94e+06   -5.41e+06\n",
      "rating_7   -5.614e+06   1.35e+05    -41.662      0.000   -5.88e+06   -5.35e+06\n",
      "rating_8   -5.408e+06   1.34e+05    -40.276      0.000   -5.67e+06   -5.15e+06\n",
      "rating_9   -4.972e+06   1.34e+05    -37.029      0.000   -5.24e+06   -4.71e+06\n",
      "rating_10  -4.358e+06   1.35e+05    -32.366      0.000   -4.62e+06   -4.09e+06\n",
      "rating_11   -3.35e+06   1.37e+05    -24.455      0.000   -3.62e+06   -3.08e+06\n",
      "rating_12   -2.02e+06   1.45e+05    -13.909      0.000    -2.3e+06   -1.74e+06\n",
      "==============================================================================\n",
      "Omnibus:                    40356.975   Durbin-Watson:                   1.833\n",
      "Prob(Omnibus):                  0.000   Jarque-Bera (JB):         35763478.562\n",
      "Skew:                           7.122   Prob(JB):                         0.00\n",
      "Kurtosis:                     171.233   Cond. No.                     1.08e+03\n",
      "==============================================================================\n",
      "\n",
      "Notes:\n",
      "[1] Standard Errors assume that the covariance matrix of the errors is correctly specified.\n",
      "[2] The condition number is large, 1.08e+03. This might indicate that there are\n",
      "strong multicollinearity or other numerical problems.\n"
     ]
    }
   ],
   "source": [
    "y = cat_data_edited['price']\n",
    "X = cat_data_edited[[\"waterfront\", \"greenbelt\", \"nuisance\", \"view\", \"condition\", \"bedrooms\", \"bathrooms\",\n",
    "                     \"floors\", \"rating\"]]\n",
    "\n",
    "# get dummy variables\n",
    "X = pd.get_dummies(X, columns=[\"rating\"])\n",
    "X = X.drop(\"rating_13\", axis=1) # rating_13 is the reference col to drop\n",
    "\n",
    "# create linear regression model\n",
    "model = sm.OLS(y, sm.add_constant(X))\n",
    "results = model.fit()\n",
    "\n",
    "print(results.summary())"
   ]
  },
  {
   "cell_type": "markdown",
   "metadata": {},
   "source": [
    "This linear regression model incorporating all the categorical variables of interest shows an R-squared value of 0.475. This is an improvement from the baseline model. However, the R-squared value is still quite low, indicating that this model only predicts about <b>48% of the variation</b> in price. Therefore, further improvements need to be made. Let's see what happens when we combine our <b>baseline model</b> (which only had <b>sqft_living</b> as an independent variable) with this model. "
   ]
  },
  {
   "cell_type": "markdown",
   "metadata": {},
   "source": [
    "# Numeric and Categorical Variables\n",
    "\n",
    "We looked at linear regression models with numeric and categorical variables separately. Let's create a model that incorporates both of these types. First, the transformations that were performed on the <b>cat_data_edited</b> dataframe copy need to be performed on the original dataframe, <b>house_data</b>. "
   ]
  },
  {
   "cell_type": "code",
   "execution_count": 45,
   "metadata": {},
   "outputs": [],
   "source": [
    "# Adapted from Morgan Jones' code \n",
    "# https://github.com/mojo-flat/Linear-Regression-GP-2/blob/main/lin_reg_gp_2_solution.ipynb\n",
    "\n",
    "from sklearn.preprocessing import LabelEncoder\n",
    "\n",
    "# instantiate a label encoder\n",
    "le = LabelEncoder()\n",
    "\n",
    "# fit the label encoder to the waterfront variable, while dropping any duplicates\n",
    "le.fit(house_data['waterfront'].drop_duplicates()) \n",
    "# create new waterfront variable with label encoded values\n",
    "house_data['waterfront'] = le.transform(house_data['waterfront'])\n",
    "\n",
    "# fit the label encoder to the greenbelt variable, while dropping any duplicates\n",
    "le.fit(house_data['greenbelt'].drop_duplicates()) \n",
    "# create new greenbelt variable with label encoded values\n",
    "house_data['greenbelt'] = le.transform(house_data['greenbelt'])\n",
    "\n",
    "# fit the label encoder to the nuisance variable, while dropping any duplicates\n",
    "le.fit(house_data['nuisance'].drop_duplicates()) \n",
    "# create new view variable with label encoded values\n",
    "house_data['nuisance'] = le.transform(house_data['nuisance'])\n",
    "\n",
    "# fit the label encoder to the view variable, while dropping any duplicates\n",
    "le.fit(house_data['view'].drop_duplicates()) \n",
    "# create new view variable with label encoded values\n",
    "house_data['view'] = le.transform(house_data['view'])\n",
    "\n",
    "# fit the label encoder to the condition variable, while dropping any duplicates\n",
    "le.fit(house_data['condition'].drop_duplicates()) \n",
    "# create new view variable with label encoded values\n",
    "house_data['condition'] = le.transform(house_data['condition'])"
   ]
  },
  {
   "cell_type": "code",
   "execution_count": 46,
   "metadata": {},
   "outputs": [
    {
     "data": {
      "text/html": [
       "<div>\n",
       "<style scoped>\n",
       "    .dataframe tbody tr th:only-of-type {\n",
       "        vertical-align: middle;\n",
       "    }\n",
       "\n",
       "    .dataframe tbody tr th {\n",
       "        vertical-align: top;\n",
       "    }\n",
       "\n",
       "    .dataframe thead th {\n",
       "        text-align: right;\n",
       "    }\n",
       "</style>\n",
       "<table border=\"1\" class=\"dataframe\">\n",
       "  <thead>\n",
       "    <tr style=\"text-align: right;\">\n",
       "      <th></th>\n",
       "      <th>id</th>\n",
       "      <th>date</th>\n",
       "      <th>price</th>\n",
       "      <th>bedrooms</th>\n",
       "      <th>bathrooms</th>\n",
       "      <th>sqft_living</th>\n",
       "      <th>sqft_lot</th>\n",
       "      <th>floors</th>\n",
       "      <th>waterfront</th>\n",
       "      <th>greenbelt</th>\n",
       "      <th>...</th>\n",
       "      <th>sqft_above</th>\n",
       "      <th>sqft_basement</th>\n",
       "      <th>sqft_garage</th>\n",
       "      <th>sqft_patio</th>\n",
       "      <th>yr_built</th>\n",
       "      <th>yr_renovated</th>\n",
       "      <th>address</th>\n",
       "      <th>lat</th>\n",
       "      <th>long</th>\n",
       "      <th>rating</th>\n",
       "    </tr>\n",
       "  </thead>\n",
       "  <tbody>\n",
       "    <tr>\n",
       "      <th>0</th>\n",
       "      <td>7399300360</td>\n",
       "      <td>5/24/2022</td>\n",
       "      <td>675000.0</td>\n",
       "      <td>4</td>\n",
       "      <td>1.0</td>\n",
       "      <td>1180</td>\n",
       "      <td>7140</td>\n",
       "      <td>1.0</td>\n",
       "      <td>0</td>\n",
       "      <td>0</td>\n",
       "      <td>...</td>\n",
       "      <td>1180</td>\n",
       "      <td>0</td>\n",
       "      <td>0</td>\n",
       "      <td>40</td>\n",
       "      <td>1969</td>\n",
       "      <td>0</td>\n",
       "      <td>2102 Southeast 21st Court, Renton, Washington ...</td>\n",
       "      <td>47.461975</td>\n",
       "      <td>-122.19052</td>\n",
       "      <td>7</td>\n",
       "    </tr>\n",
       "    <tr>\n",
       "      <th>1</th>\n",
       "      <td>8910500230</td>\n",
       "      <td>12/13/2021</td>\n",
       "      <td>920000.0</td>\n",
       "      <td>5</td>\n",
       "      <td>2.5</td>\n",
       "      <td>2770</td>\n",
       "      <td>6703</td>\n",
       "      <td>1.0</td>\n",
       "      <td>0</td>\n",
       "      <td>0</td>\n",
       "      <td>...</td>\n",
       "      <td>1570</td>\n",
       "      <td>1570</td>\n",
       "      <td>0</td>\n",
       "      <td>240</td>\n",
       "      <td>1950</td>\n",
       "      <td>0</td>\n",
       "      <td>11231 Greenwood Avenue North, Seattle, Washing...</td>\n",
       "      <td>47.711525</td>\n",
       "      <td>-122.35591</td>\n",
       "      <td>7</td>\n",
       "    </tr>\n",
       "    <tr>\n",
       "      <th>2</th>\n",
       "      <td>1180000275</td>\n",
       "      <td>9/29/2021</td>\n",
       "      <td>311000.0</td>\n",
       "      <td>6</td>\n",
       "      <td>2.0</td>\n",
       "      <td>2880</td>\n",
       "      <td>6156</td>\n",
       "      <td>1.0</td>\n",
       "      <td>0</td>\n",
       "      <td>0</td>\n",
       "      <td>...</td>\n",
       "      <td>1580</td>\n",
       "      <td>1580</td>\n",
       "      <td>0</td>\n",
       "      <td>0</td>\n",
       "      <td>1956</td>\n",
       "      <td>0</td>\n",
       "      <td>8504 South 113th Street, Seattle, Washington 9...</td>\n",
       "      <td>47.502045</td>\n",
       "      <td>-122.22520</td>\n",
       "      <td>7</td>\n",
       "    </tr>\n",
       "    <tr>\n",
       "      <th>3</th>\n",
       "      <td>1604601802</td>\n",
       "      <td>12/14/2021</td>\n",
       "      <td>775000.0</td>\n",
       "      <td>3</td>\n",
       "      <td>3.0</td>\n",
       "      <td>2160</td>\n",
       "      <td>1400</td>\n",
       "      <td>2.0</td>\n",
       "      <td>0</td>\n",
       "      <td>0</td>\n",
       "      <td>...</td>\n",
       "      <td>1090</td>\n",
       "      <td>1070</td>\n",
       "      <td>200</td>\n",
       "      <td>270</td>\n",
       "      <td>2010</td>\n",
       "      <td>0</td>\n",
       "      <td>4079 Letitia Avenue South, Seattle, Washington...</td>\n",
       "      <td>47.566110</td>\n",
       "      <td>-122.29020</td>\n",
       "      <td>9</td>\n",
       "    </tr>\n",
       "    <tr>\n",
       "      <th>4</th>\n",
       "      <td>8562780790</td>\n",
       "      <td>8/24/2021</td>\n",
       "      <td>592500.0</td>\n",
       "      <td>2</td>\n",
       "      <td>2.0</td>\n",
       "      <td>1120</td>\n",
       "      <td>758</td>\n",
       "      <td>2.0</td>\n",
       "      <td>0</td>\n",
       "      <td>0</td>\n",
       "      <td>...</td>\n",
       "      <td>1120</td>\n",
       "      <td>550</td>\n",
       "      <td>550</td>\n",
       "      <td>30</td>\n",
       "      <td>2012</td>\n",
       "      <td>0</td>\n",
       "      <td>2193 Northwest Talus Drive, Issaquah, Washingt...</td>\n",
       "      <td>47.532470</td>\n",
       "      <td>-122.07188</td>\n",
       "      <td>7</td>\n",
       "    </tr>\n",
       "  </tbody>\n",
       "</table>\n",
       "<p>5 rows × 26 columns</p>\n",
       "</div>"
      ],
      "text/plain": [
       "           id        date     price  bedrooms  bathrooms  sqft_living  \\\n",
       "0  7399300360   5/24/2022  675000.0         4        1.0         1180   \n",
       "1  8910500230  12/13/2021  920000.0         5        2.5         2770   \n",
       "2  1180000275   9/29/2021  311000.0         6        2.0         2880   \n",
       "3  1604601802  12/14/2021  775000.0         3        3.0         2160   \n",
       "4  8562780790   8/24/2021  592500.0         2        2.0         1120   \n",
       "\n",
       "   sqft_lot  floors  waterfront  greenbelt  ...  sqft_above  sqft_basement  \\\n",
       "0      7140     1.0           0          0  ...        1180              0   \n",
       "1      6703     1.0           0          0  ...        1570           1570   \n",
       "2      6156     1.0           0          0  ...        1580           1580   \n",
       "3      1400     2.0           0          0  ...        1090           1070   \n",
       "4       758     2.0           0          0  ...        1120            550   \n",
       "\n",
       "   sqft_garage sqft_patio yr_built yr_renovated  \\\n",
       "0            0         40     1969            0   \n",
       "1            0        240     1950            0   \n",
       "2            0          0     1956            0   \n",
       "3          200        270     2010            0   \n",
       "4          550         30     2012            0   \n",
       "\n",
       "                                             address        lat       long  \\\n",
       "0  2102 Southeast 21st Court, Renton, Washington ...  47.461975 -122.19052   \n",
       "1  11231 Greenwood Avenue North, Seattle, Washing...  47.711525 -122.35591   \n",
       "2  8504 South 113th Street, Seattle, Washington 9...  47.502045 -122.22520   \n",
       "3  4079 Letitia Avenue South, Seattle, Washington...  47.566110 -122.29020   \n",
       "4  2193 Northwest Talus Drive, Issaquah, Washingt...  47.532470 -122.07188   \n",
       "\n",
       "   rating  \n",
       "0       7  \n",
       "1       7  \n",
       "2       7  \n",
       "3       9  \n",
       "4       7  \n",
       "\n",
       "[5 rows x 26 columns]"
      ]
     },
     "execution_count": 46,
     "metadata": {},
     "output_type": "execute_result"
    }
   ],
   "source": [
    "house_data['rating'] = house_data['grade'].str.split().apply(lambda x: x[0])\n",
    "house_data['rating'] = house_data['rating'].astype('int64')\n",
    "house_data.head()"
   ]
  },
  {
   "cell_type": "code",
   "execution_count": 47,
   "metadata": {},
   "outputs": [
    {
     "name": "stdout",
     "output_type": "stream",
     "text": [
      "<class 'pandas.core.frame.DataFrame'>\n",
      "Int64Index: 30111 entries, 0 to 30154\n",
      "Data columns (total 26 columns):\n",
      " #   Column         Non-Null Count  Dtype  \n",
      "---  ------         --------------  -----  \n",
      " 0   id             30111 non-null  int64  \n",
      " 1   date           30111 non-null  object \n",
      " 2   price          30111 non-null  float64\n",
      " 3   bedrooms       30111 non-null  int64  \n",
      " 4   bathrooms      30111 non-null  float64\n",
      " 5   sqft_living    30111 non-null  int64  \n",
      " 6   sqft_lot       30111 non-null  int64  \n",
      " 7   floors         30111 non-null  float64\n",
      " 8   waterfront     30111 non-null  int32  \n",
      " 9   greenbelt      30111 non-null  int32  \n",
      " 10  nuisance       30111 non-null  int32  \n",
      " 11  view           30111 non-null  int32  \n",
      " 12  condition      30111 non-null  int32  \n",
      " 13  grade          30111 non-null  object \n",
      " 14  heat_source    30111 non-null  object \n",
      " 15  sewer_system   30111 non-null  object \n",
      " 16  sqft_above     30111 non-null  int64  \n",
      " 17  sqft_basement  30111 non-null  int64  \n",
      " 18  sqft_garage    30111 non-null  int64  \n",
      " 19  sqft_patio     30111 non-null  int64  \n",
      " 20  yr_built       30111 non-null  int64  \n",
      " 21  yr_renovated   30111 non-null  int64  \n",
      " 22  address        30111 non-null  object \n",
      " 23  lat            30111 non-null  float64\n",
      " 24  long           30111 non-null  float64\n",
      " 25  rating         30111 non-null  int64  \n",
      "dtypes: float64(5), int32(5), int64(11), object(5)\n",
      "memory usage: 5.6+ MB\n"
     ]
    }
   ],
   "source": [
    "house_data.info()"
   ]
  },
  {
   "cell_type": "markdown",
   "metadata": {},
   "source": [
    "Now that everything's been transformed successfully, we can create our linear regression model. "
   ]
  },
  {
   "cell_type": "code",
   "execution_count": 48,
   "metadata": {},
   "outputs": [
    {
     "name": "stdout",
     "output_type": "stream",
     "text": [
      "                            OLS Regression Results                            \n",
      "==============================================================================\n",
      "Dep. Variable:                  price   R-squared:                       0.499\n",
      "Model:                            OLS   Adj. R-squared:                  0.499\n",
      "Method:                 Least Squares   F-statistic:                     1498.\n",
      "Date:                Mon, 29 May 2023   Prob (F-statistic):               0.00\n",
      "Time:                        22:55:13   Log-Likelihood:            -4.4503e+05\n",
      "No. Observations:               30111   AIC:                         8.901e+05\n",
      "Df Residuals:                   30090   BIC:                         8.903e+05\n",
      "Df Model:                          20                                         \n",
      "Covariance Type:            nonrobust                                         \n",
      "===============================================================================\n",
      "                  coef    std err          t      P>|t|      [0.025      0.975]\n",
      "-------------------------------------------------------------------------------\n",
      "const        4.869e+06   1.39e+05     34.909      0.000     4.6e+06    5.14e+06\n",
      "sqft_living   294.3170      7.862     37.437      0.000     278.908     309.726\n",
      "bedrooms    -4.657e+04   5262.121     -8.850      0.000   -5.69e+04   -3.63e+04\n",
      "bathrooms    5.993e+04   7094.343      8.448      0.000     4.6e+04    7.38e+04\n",
      "floors      -6.374e+04   7924.265     -8.044      0.000   -7.93e+04   -4.82e+04\n",
      "waterfront   1.025e+06   2.98e+04     34.458      0.000    9.67e+05    1.08e+06\n",
      "view        -4.623e+04   3698.936    -12.498      0.000   -5.35e+04    -3.9e+04\n",
      "condition    3.024e+04   2842.412     10.639      0.000    2.47e+04    3.58e+04\n",
      "greenbelt    -4.74e+04   2.34e+04     -2.025      0.043   -9.33e+04   -1520.510\n",
      "nuisance     9.495e+04   9697.977      9.790      0.000    7.59e+04    1.14e+05\n",
      "rating_2    -4.484e+06   6.49e+05     -6.905      0.000   -5.76e+06   -3.21e+06\n",
      "rating_3    -4.649e+06   2.52e+05    -18.438      0.000   -5.14e+06   -4.15e+06\n",
      "rating_4     -4.45e+06   1.66e+05    -26.787      0.000   -4.78e+06   -4.12e+06\n",
      "rating_5    -4.385e+06   1.41e+05    -31.144      0.000   -4.66e+06   -4.11e+06\n",
      "rating_6    -4.368e+06   1.37e+05    -31.817      0.000   -4.64e+06    -4.1e+06\n",
      "rating_7    -4.332e+06   1.36e+05    -31.825      0.000    -4.6e+06   -4.06e+06\n",
      "rating_8    -4.196e+06   1.35e+05    -31.039      0.000   -4.46e+06   -3.93e+06\n",
      "rating_9    -3.885e+06   1.34e+05    -28.903      0.000   -4.15e+06   -3.62e+06\n",
      "rating_10   -3.437e+06   1.34e+05    -25.665      0.000    -3.7e+06   -3.17e+06\n",
      "rating_11   -2.601e+06   1.35e+05    -19.208      0.000   -2.87e+06   -2.34e+06\n",
      "rating_12   -1.499e+06   1.43e+05    -10.511      0.000   -1.78e+06   -1.22e+06\n",
      "==============================================================================\n",
      "Omnibus:                    41663.117   Durbin-Watson:                   1.825\n",
      "Prob(Omnibus):                  0.000   Jarque-Bera (JB):         45266748.148\n",
      "Skew:                           7.526   Prob(JB):                         0.00\n",
      "Kurtosis:                     192.350   Cond. No.                     4.21e+05\n",
      "==============================================================================\n",
      "\n",
      "Notes:\n",
      "[1] Standard Errors assume that the covariance matrix of the errors is correctly specified.\n",
      "[2] The condition number is large, 4.21e+05. This might indicate that there are\n",
      "strong multicollinearity or other numerical problems.\n"
     ]
    }
   ],
   "source": [
    "# creating linear regression model with all categorical variables plus highest-correlated numeric variable (sqft_living)\n",
    "y = house_data['price']\n",
    "X = house_data[[\"sqft_living\", \"rating\", \"bedrooms\", \"bathrooms\", \"floors\", \"waterfront\", \"view\", \"condition\",\n",
    "               \"greenbelt\", \"nuisance\"]]\n",
    "X = pd.get_dummies(X, columns=['rating'])\n",
    "X = X.drop('rating_13', axis=1) \n",
    "\n",
    "model = sm.OLS(y, sm.add_constant(X))\n",
    "results = model.fit()\n",
    "\n",
    "print(results.summary())"
   ]
  },
  {
   "cell_type": "markdown",
   "metadata": {},
   "source": [
    "This model incorporating the categorical variables of interest plus <b>sqft_living</b> has an R-squared value of 0.499 and has a significant F-statistic. In other words, about <b>50% of the variation</b> in price is accounted for, making this the best model so far at predicting price's variance. All the coefficients for each independent variable are significant at an alpha of 0.05. "
   ]
  },
  {
   "cell_type": "markdown",
   "metadata": {},
   "source": [
    "# Multiple Linear Regression Assumptions\n",
    "\n",
    "Before finalizing the model, let's make sure all assumptions of linear regression have been met. They are as follows:\n",
    "\n",
    "1. <b>Linear relationship</b> between dependent and independent variables\n",
    "\n",
    "2. <b>No multicollinearity</b>\n",
    "\n",
    "3. <b>Homoscedasticity</b>\n",
    "\n",
    "4. Residuals have a <b>normal distribution</b>\n",
    "\n",
    "If any of these assumptions are violated, edits to the model will be made accordingly."
   ]
  },
  {
   "cell_type": "markdown",
   "metadata": {},
   "source": [
    "# Linear Relationship and Multicollinearity\n",
    "\n",
    "For these two assumptions, a heatmap can be created using Seaborn. This will show not only <b>price's</b> relationship with each variable, but also each variable's relationship with each other. Instead of using the entire <b>house_data</b> dataframe, I'm using a subset (called <b>house_data_subset</b>) that only includes variables from the most recent regression model."
   ]
  },
  {
   "cell_type": "code",
   "execution_count": 49,
   "metadata": {},
   "outputs": [
    {
     "data": {
      "image/png": "[encoded data removed]",
      "text/plain": [
       "<Figure size 1440x1440 with 2 Axes>"
      ]
     },
     "metadata": {
      "needs_background": "light"
     },
     "output_type": "display_data"
    }
   ],
   "source": [
    "# creating heatmap to visualize correlations between variables\n",
    "import seaborn as sns\n",
    "\n",
    "house_data_subset = house_data[[\"sqft_living\", \"rating\", \"bedrooms\", \"bathrooms\", \"floors\", \"waterfront\", \"view\", \"condition\",\n",
    "               \"greenbelt\", \"nuisance\", \"price\"]]\n",
    "fig, ax = plt.subplots(figsize=(20,20))\n",
    "sns.heatmap(house_data_subset.corr(), center=0, annot=True);"
   ]
  },
  {
   "cell_type": "markdown",
   "metadata": {},
   "source": [
    "From the heatmap, we see multicollinearity with regards to <b>sqft_living</b>, <b>rating</b>, <b>bedrooms</b>, and <b>bathrooms</b>. We can get rid of <b>bedrooms</b> and <b>bathrooms</b> since they have the lowest correlations to <b>price</b>. Because their correlation coefficients are close, to decide between <b>sqft_living</b> and <b>rating</b>, we will create and compare two models where each one is eliminated with <b>bedrooms</b> and <b>bathrooms</b>."
   ]
  },
  {
   "cell_type": "code",
   "execution_count": 60,
   "metadata": {},
   "outputs": [
    {
     "name": "stdout",
     "output_type": "stream",
     "text": [
      "                            OLS Regression Results                            \n",
      "==============================================================================\n",
      "Dep. Variable:                  price   R-squared:                       0.413\n",
      "Model:                            OLS   Adj. R-squared:                  0.413\n",
      "Method:                 Least Squares   F-statistic:                     2117.\n",
      "Date:                Mon, 29 May 2023   Prob (F-statistic):               0.00\n",
      "Time:                        23:06:00   Log-Likelihood:            -4.4741e+05\n",
      "No. Observations:               30111   AIC:                         8.949e+05\n",
      "Df Residuals:                   30100   BIC:                         8.949e+05\n",
      "Df Model:                          10                                         \n",
      "Covariance Type:            nonrobust                                         \n",
      "===============================================================================\n",
      "                  coef    std err          t      P>|t|      [0.025      0.975]\n",
      "-------------------------------------------------------------------------------\n",
      "const        1.362e+05   2.17e+04      6.280      0.000    9.37e+04    1.79e+05\n",
      "sqft_living   534.0840      4.400    121.377      0.000     525.459     542.709\n",
      "floors       1.801e+04   7733.828      2.329      0.020    2851.980    3.32e+04\n",
      "waterfront    1.16e+06    3.2e+04     36.295      0.000     1.1e+06    1.22e+06\n",
      "view        -6.367e+04   3981.584    -15.991      0.000   -7.15e+04   -5.59e+04\n",
      "greenbelt     3.76e+04   2.53e+04      1.487      0.137   -1.19e+04    8.71e+04\n",
      "nuisance     1.029e+05   1.05e+04      9.815      0.000    8.24e+04    1.23e+05\n",
      "condition_1  -5.15e+04   4.63e+04     -1.112      0.266   -1.42e+05    3.92e+04\n",
      "condition_2  8461.7438   9564.334      0.885      0.376   -1.03e+04    2.72e+04\n",
      "condition_3  -1.08e+05   8.83e+04     -1.223      0.221   -2.81e+05    6.51e+04\n",
      "condition_4   7.63e+04   1.34e+04      5.687      0.000       5e+04    1.03e+05\n",
      "==============================================================================\n",
      "Omnibus:                    41435.344   Durbin-Watson:                   1.850\n",
      "Prob(Omnibus):                  0.000   Jarque-Bera (JB):         40369297.666\n",
      "Skew:                           7.484   Prob(JB):                         0.00\n",
      "Kurtosis:                     181.752   Cond. No.                     5.19e+04\n",
      "==============================================================================\n",
      "\n",
      "Notes:\n",
      "[1] Standard Errors assume that the covariance matrix of the errors is correctly specified.\n",
      "[2] The condition number is large, 5.19e+04. This might indicate that there are\n",
      "strong multicollinearity or other numerical problems.\n"
     ]
    }
   ],
   "source": [
    "# editing linear regression model\n",
    "# dropping rating, bedrooms, and bathrooms to avoid multicollinearity\n",
    "y = house_data['price']\n",
    "X = house_data[[\"sqft_living\", \"floors\", \"waterfront\", \"view\", \"condition\", \"greenbelt\", \"nuisance\"]]\n",
    "X = pd.get_dummies(X, columns=['condition'], drop_first=True) # now using drop_first=True to avoid dummy variable trap\n",
    "\n",
    "model = sm.OLS(y, sm.add_constant(X))\n",
    "results = model.fit()\n",
    "\n",
    "print(results.summary())"
   ]
  },
  {
   "cell_type": "code",
   "execution_count": 63,
   "metadata": {},
   "outputs": [
    {
     "name": "stdout",
     "output_type": "stream",
     "text": [
      "                            OLS Regression Results                            \n",
      "==============================================================================\n",
      "Dep. Variable:                  price   R-squared:                       0.452\n",
      "Model:                            OLS   Adj. R-squared:                  0.452\n",
      "Method:                 Least Squares   F-statistic:                     1461.\n",
      "Date:                Mon, 29 May 2023   Prob (F-statistic):               0.00\n",
      "Time:                        23:10:34   Log-Likelihood:            -4.4638e+05\n",
      "No. Observations:               30111   AIC:                         8.928e+05\n",
      "Df Residuals:                   30093   BIC:                         8.929e+05\n",
      "Df Model:                          17                                         \n",
      "Covariance Type:            nonrobust                                         \n",
      "==============================================================================\n",
      "                 coef    std err          t      P>|t|      [0.025      0.975]\n",
      "------------------------------------------------------------------------------\n",
      "const        7.39e+06   1.37e+05     53.925      0.000    7.12e+06    7.66e+06\n",
      "floors     -4.394e+04   8093.974     -5.429      0.000   -5.98e+04   -2.81e+04\n",
      "waterfront  1.067e+06    3.1e+04     34.392      0.000    1.01e+06    1.13e+06\n",
      "view       -6.506e+04   3844.349    -16.923      0.000   -7.26e+04   -5.75e+04\n",
      "condition   4.138e+04   2956.221     13.998      0.000    3.56e+04    4.72e+04\n",
      "greenbelt    469.5722   2.45e+04      0.019      0.985   -4.75e+04    4.84e+04\n",
      "nuisance    7.986e+04   1.01e+04      7.879      0.000       6e+04    9.97e+04\n",
      "rating_2   -6.766e+06   6.78e+05     -9.986      0.000   -8.09e+06   -5.44e+06\n",
      "rating_3   -6.945e+06    2.6e+05    -26.756      0.000   -7.45e+06   -6.44e+06\n",
      "rating_4    -6.76e+06   1.67e+05    -40.395      0.000   -7.09e+06   -6.43e+06\n",
      "rating_5   -6.634e+06    1.4e+05    -47.409      0.000   -6.91e+06   -6.36e+06\n",
      "rating_6   -6.541e+06   1.36e+05    -47.957      0.000   -6.81e+06   -6.27e+06\n",
      "rating_7   -6.344e+06   1.36e+05    -46.674      0.000   -6.61e+06   -6.08e+06\n",
      "rating_8    -6.05e+06   1.36e+05    -44.536      0.000   -6.32e+06   -5.78e+06\n",
      "rating_9   -5.544e+06   1.36e+05    -40.748      0.000   -5.81e+06   -5.28e+06\n",
      "rating_10  -4.835e+06   1.37e+05    -35.352      0.000    -5.1e+06   -4.57e+06\n",
      "rating_11  -3.724e+06   1.39e+05    -26.695      0.000      -4e+06   -3.45e+06\n",
      "rating_12  -2.255e+06   1.48e+05    -15.212      0.000   -2.55e+06   -1.96e+06\n",
      "==============================================================================\n",
      "Omnibus:                    39283.539   Durbin-Watson:                   1.846\n",
      "Prob(Omnibus):                  0.000   Jarque-Bera (JB):         30120899.776\n",
      "Skew:                           6.795   Prob(JB):                         0.00\n",
      "Kurtosis:                     157.348   Cond. No.                         781.\n",
      "==============================================================================\n",
      "\n",
      "Notes:\n",
      "[1] Standard Errors assume that the covariance matrix of the errors is correctly specified.\n"
     ]
    }
   ],
   "source": [
    "# editing linear regression model\n",
    "# dropping sqft_living, bedrooms, and bathrooms to avoid multicollinearity\n",
    "y = house_data['price']\n",
    "X = house_data[[\"rating\", \"floors\", \"waterfront\", \"view\", \"condition\", \"greenbelt\", \"nuisance\"]]\n",
    "X = pd.get_dummies(X, columns=['rating'])\n",
    "X = X.drop('rating_13', axis=1)\n",
    "\n",
    "model = sm.OLS(y, sm.add_constant(X))\n",
    "results = model.fit()\n",
    "\n",
    "print(results.summary())"
   ]
  },
  {
   "cell_type": "markdown",
   "metadata": {},
   "source": [
    "Between the two models, the linear regression with <b>sqft_living</b>, <b>bedrooms</b>, and <b>bathrooms</b> dropped had the higher R-squared value (0.452 versus 0.413). In addition, it has a smaller condition number and indicates less multicollinearity. Therefore, we will proceed with this one. Since <b>greenbelt</b> is the only variable with an insignificant t-test p-value, let's drop it from our model."
   ]
  },
  {
   "cell_type": "code",
   "execution_count": 64,
   "metadata": {},
   "outputs": [
    {
     "name": "stdout",
     "output_type": "stream",
     "text": [
      "                            OLS Regression Results                            \n",
      "==============================================================================\n",
      "Dep. Variable:                  price   R-squared:                       0.452\n",
      "Model:                            OLS   Adj. R-squared:                  0.452\n",
      "Method:                 Least Squares   F-statistic:                     1552.\n",
      "Date:                Mon, 29 May 2023   Prob (F-statistic):               0.00\n",
      "Time:                        23:14:10   Log-Likelihood:            -4.4638e+05\n",
      "No. Observations:               30111   AIC:                         8.928e+05\n",
      "Df Residuals:                   30094   BIC:                         8.929e+05\n",
      "Df Model:                          16                                         \n",
      "Covariance Type:            nonrobust                                         \n",
      "==============================================================================\n",
      "                 coef    std err          t      P>|t|      [0.025      0.975]\n",
      "------------------------------------------------------------------------------\n",
      "const        7.39e+06   1.37e+05     53.927      0.000    7.12e+06    7.66e+06\n",
      "floors     -4.394e+04   8093.125     -5.429      0.000   -5.98e+04   -2.81e+04\n",
      "waterfront  1.067e+06    3.1e+04     34.402      0.000    1.01e+06    1.13e+06\n",
      "view       -6.506e+04   3843.554    -16.926      0.000   -7.26e+04   -5.75e+04\n",
      "condition   4.138e+04   2956.047     13.999      0.000    3.56e+04    4.72e+04\n",
      "nuisance    7.985e+04   1.01e+04      7.887      0.000       6e+04    9.97e+04\n",
      "rating_2   -6.766e+06   6.78e+05     -9.986      0.000   -8.09e+06   -5.44e+06\n",
      "rating_3   -6.945e+06    2.6e+05    -26.757      0.000   -7.45e+06   -6.44e+06\n",
      "rating_4    -6.76e+06   1.67e+05    -40.396      0.000   -7.09e+06   -6.43e+06\n",
      "rating_5   -6.634e+06    1.4e+05    -47.411      0.000   -6.91e+06   -6.36e+06\n",
      "rating_6   -6.541e+06   1.36e+05    -47.959      0.000   -6.81e+06   -6.27e+06\n",
      "rating_7   -6.344e+06   1.36e+05    -46.676      0.000   -6.61e+06   -6.08e+06\n",
      "rating_8    -6.05e+06   1.36e+05    -44.537      0.000   -6.32e+06   -5.78e+06\n",
      "rating_9   -5.544e+06   1.36e+05    -40.749      0.000   -5.81e+06   -5.28e+06\n",
      "rating_10  -4.835e+06   1.37e+05    -35.353      0.000    -5.1e+06   -4.57e+06\n",
      "rating_11  -3.724e+06   1.39e+05    -26.697      0.000      -4e+06   -3.45e+06\n",
      "rating_12  -2.255e+06   1.48e+05    -15.214      0.000   -2.55e+06   -1.96e+06\n",
      "==============================================================================\n",
      "Omnibus:                    39283.367   Durbin-Watson:                   1.846\n",
      "Prob(Omnibus):                  0.000   Jarque-Bera (JB):         30120423.539\n",
      "Skew:                           6.795   Prob(JB):                         0.00\n",
      "Kurtosis:                     157.346   Cond. No.                         781.\n",
      "==============================================================================\n",
      "\n",
      "Notes:\n",
      "[1] Standard Errors assume that the covariance matrix of the errors is correctly specified.\n"
     ]
    }
   ],
   "source": [
    "# dropping greenbelt\n",
    "y = house_data['price']\n",
    "X = house_data[[\"rating\", \"floors\", \"waterfront\", \"view\", \"condition\", \"nuisance\"]]\n",
    "X = pd.get_dummies(X, columns=['rating'])\n",
    "X = X.drop('rating_13', axis=1)\n",
    "\n",
    "model = sm.OLS(y, sm.add_constant(X))\n",
    "results = model.fit()\n",
    "\n",
    "print(results.summary())"
   ]
  },
  {
   "cell_type": "markdown",
   "metadata": {},
   "source": [
    "# Homoscedascity "
   ]
  },
  {
   "cell_type": "markdown",
   "metadata": {},
   "source": [
    "# Normality"
   ]
  },
  {
   "cell_type": "markdown",
   "metadata": {},
   "source": [
    "# MAE and RMSE"
   ]
  },
  {
   "cell_type": "markdown",
   "metadata": {},
   "source": [
    "## Conclusions\n",
    "\n",
    "Three concrete suggestions based on final model"
   ]
  },
  {
   "cell_type": "markdown",
   "metadata": {},
   "source": [
    "## Limitations and Future Improvements\n",
    "\n",
    "In terms of limitations, it should be noted that there were very few variables in the dataset that had a high correlation with sale price. The highest correlation was <b>sqft_living</b>, but even this column's correlation coefficient was only about 0.6. Furthermore, <b>sqft_living</b> correlated with many other variables"
   ]
  }
 ],
 "metadata": {
  "kernelspec": {
   "display_name": "Python 3",
   "language": "python",
   "name": "python3"
  },
  "language_info": {
   "codemirror_mode": {
    "name": "ipython",
    "version": 3
   },
   "file_extension": ".py",
   "mimetype": "text/x-python",
   "name": "python",
   "nbconvert_exporter": "python",
   "pygments_lexer": "ipython3",
   "version": "3.8.5"
  }
 },
 "nbformat": 4,
 "nbformat_minor": 2
}
